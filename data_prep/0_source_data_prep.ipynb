{
 "cells": [
  {
   "cell_type": "markdown",
   "id": "11471ea1-de38-4810-a1e8-506017df5f61",
   "metadata": {},
   "source": [
    "## Homeless Encampments in LA\n",
    "\n",
    "##### Spring 2025\n",
    "##### Amanda Alonzo\n",
    "##### I513 Usable AI\n",
    "##### Indiana University, Bloomington"
   ]
  },
  {
   "cell_type": "markdown",
   "id": "5ce6b43c-1d72-4a2a-9c42-7ad4ed14b50b",
   "metadata": {},
   "source": [
    "## Below is for reference only \n",
    "<li>Preliminary work done to get files from source website and produce the yearly files provided by git</li>\n",
    "\n",
    "<li>Do not need to run this due to the year files are provided</li>"
   ]
  },
  {
   "cell_type": "markdown",
   "id": "953f927b-cea4-438e-9222-8172c8a8f364",
   "metadata": {},
   "source": [
    "<li>Source data downloaded for each year 2019-2024 from links below</li>\n",
    "<li>Update variable \"raw_data_path\" with the path of the source files</li>\n",
    "<li>Raw files are too large to put on Github (100 MB max)</li>\n",
    "<li>Included the filtered files on Github that need to be combined with next notebook due to combined is also too large to put on Github</li>\n",
    "<li> Filter data files from source to include only service requests for homeless encampments that were closed\n",
    "\n",
    "\n",
    "<hr>\n",
    "https://data.lacity.org/browse?q=myla311%20service%20request%20data&sortBy=relevance\n",
    "\n",
    "Sample file name: MyLA311_Service_Request_Data_2019_20250211.csv\n",
    "\n",
    "2019: https://data.lacity.org/City-Infrastructure-Service-Requests/MyLA311-Service-Request-Data-2019/pvft-t768/about_data\n",
    "\n",
    "2020: https://data.lacity.org/City-Infrastructure-Service-Requests/MyLA311-Service-Request-Data-2020/rq3b-xjk8/about_data\n",
    "\n",
    "2021: https://data.lacity.org/City-Infrastructure-Service-Requests/MyLA311-Service-Request-Data-2021/97z7-y5bt/about_data\n",
    "\n",
    "2022: https://data.lacity.org/City-Infrastructure-Service-Requests/MyLA311-Service-Request-Data-2022/i5ke-k6by/about_data\n",
    "\n",
    "2023: https://data.lacity.org/City-Infrastructure-Service-Requests/MyLA311-Service-Request-Data-2023/4a4x-mna2/about_data\n",
    "\n",
    "2024: https://data.lacity.org/City-Infrastructure-Service-Requests/MyLA311-Service-Request-Data-2024/b7dx-7gc3/about_data\n",
    "\n"
   ]
  },
  {
   "cell_type": "code",
   "execution_count": 1,
   "id": "3ff73da4-0d41-4f92-8a48-428864e2f5ed",
   "metadata": {},
   "outputs": [],
   "source": [
    "import pandas as pd\n",
    "import matplotlib as plt"
   ]
  },
  {
   "cell_type": "code",
   "execution_count": 2,
   "id": "e53831bb-3fea-4ac4-8f83-0b75722774e8",
   "metadata": {},
   "outputs": [],
   "source": [
    "raw_data_path = \"../Dataraw/\"\n",
    "annual_data_path = \"../Datafiles/\"\n",
    "generated_data_path = \"../Datagen/\"\n"
   ]
  },
  {
   "cell_type": "markdown",
   "id": "1776ec00-14ca-49b4-858e-88693619ccae",
   "metadata": {},
   "source": [
    "#### Filter each year's file by type and status\n",
    "##### Process 2024"
   ]
  },
  {
   "cell_type": "code",
   "execution_count": 3,
   "id": "da4504c1-949a-4458-81cf-585191ffb98d",
   "metadata": {},
   "outputs": [],
   "source": [
    "df = pd.read_csv(raw_data_path+\"MyLA311_Service_Request_Data_2024_20250211.csv\", low_memory=False)      # from CSV\n"
   ]
  },
  {
   "cell_type": "code",
   "execution_count": 4,
   "id": "75508b7d-95cc-4ec3-b753-366fb390a73d",
   "metadata": {},
   "outputs": [
    {
     "data": {
      "text/plain": [
       "(1442067, 34)"
      ]
     },
     "execution_count": 4,
     "metadata": {},
     "output_type": "execute_result"
    }
   ],
   "source": [
    "df.shape"
   ]
  },
  {
   "cell_type": "code",
   "execution_count": 6,
   "id": "86e8fdff-506c-4899-af33-e7b9a7df9a9e",
   "metadata": {},
   "outputs": [],
   "source": [
    "homeless_camp_closed_df = df[(df[\"RequestType\"] == 'Homeless Encampment') & (df[\"Status\"]=='Closed')]\n"
   ]
  },
  {
   "cell_type": "code",
   "execution_count": 7,
   "id": "22a58588-1a3b-4f16-8da8-28b284c89c41",
   "metadata": {},
   "outputs": [
    {
     "data": {
      "text/plain": [
       "(47356, 34)"
      ]
     },
     "execution_count": 7,
     "metadata": {},
     "output_type": "execute_result"
    }
   ],
   "source": [
    "homeless_camp_closed_df.shape"
   ]
  },
  {
   "cell_type": "code",
   "execution_count": 8,
   "id": "054ac94d-2754-45f2-9608-f64a694c781e",
   "metadata": {},
   "outputs": [],
   "source": [
    "# Write DataFrame to CSV\n",
    "homeless_camp_closed_df.to_csv(annual_data_path+'homeless_camp_closed_2024.csv', index=False)"
   ]
  },
  {
   "cell_type": "markdown",
   "id": "214b0993-b2e4-48c2-b23d-1ddd1174184e",
   "metadata": {},
   "source": [
    "<hr>"
   ]
  },
  {
   "cell_type": "markdown",
   "id": "d989eebb-1fed-463b-846e-99883e4ac842",
   "metadata": {},
   "source": [
    "> Process 2023"
   ]
  },
  {
   "cell_type": "code",
   "execution_count": 9,
   "id": "53e37387-5c63-4b6e-989b-b9c5dd877ca1",
   "metadata": {},
   "outputs": [],
   "source": [
    "df = pd.read_csv(raw_data_path+\"MyLA311_Service_Request_Data_2023_20250211.csv\", low_memory=False)      # from CSV\n"
   ]
  },
  {
   "cell_type": "code",
   "execution_count": 10,
   "id": "4d9127e0-64f1-4862-866a-f980e96c5467",
   "metadata": {},
   "outputs": [
    {
     "data": {
      "text/plain": [
       "(1345291, 34)"
      ]
     },
     "execution_count": 10,
     "metadata": {},
     "output_type": "execute_result"
    }
   ],
   "source": [
    "df.shape"
   ]
  },
  {
   "cell_type": "code",
   "execution_count": 11,
   "id": "253f1f74-da84-4fe7-a361-53399f043b54",
   "metadata": {},
   "outputs": [],
   "source": [
    "homeless_camp_closed_df = df[(df[\"RequestType\"] == 'Homeless Encampment') & (df[\"Status\"]=='Closed')]\n"
   ]
  },
  {
   "cell_type": "code",
   "execution_count": 12,
   "id": "46a910ff-5015-4540-835a-e4dc84b8e3ef",
   "metadata": {},
   "outputs": [
    {
     "data": {
      "text/plain": [
       "(62558, 34)"
      ]
     },
     "execution_count": 12,
     "metadata": {},
     "output_type": "execute_result"
    }
   ],
   "source": [
    "homeless_camp_closed_df.shape"
   ]
  },
  {
   "cell_type": "code",
   "execution_count": 13,
   "id": "5b5ee7ca-4fdb-4590-b4c5-ed91d617f8b8",
   "metadata": {},
   "outputs": [],
   "source": [
    "# Write DataFrame to CSV\n",
    "homeless_camp_closed_df.to_csv(annual_data_path+'homeless_camp_closed_2023.csv', index=False)"
   ]
  },
  {
   "cell_type": "markdown",
   "id": "f69d88fc-1635-423a-8ebd-2295d7dde2e9",
   "metadata": {},
   "source": [
    "<hr>"
   ]
  },
  {
   "cell_type": "markdown",
   "id": "2d243a53-773f-4557-9a93-b3cf261639ee",
   "metadata": {},
   "source": [
    "> Process 2022"
   ]
  },
  {
   "cell_type": "code",
   "execution_count": 14,
   "id": "d54c1957-c9d2-4d43-bc5b-f75ef56638e7",
   "metadata": {},
   "outputs": [],
   "source": [
    "df = pd.read_csv(raw_data_path+\"MyLA311_Service_Request_Data_2022_20250211.csv\", low_memory=False)      # from CSV\n"
   ]
  },
  {
   "cell_type": "code",
   "execution_count": 15,
   "id": "cb09faad-3ebc-4745-b409-172bf37c8e9c",
   "metadata": {},
   "outputs": [
    {
     "data": {
      "text/plain": [
       "(1327883, 34)"
      ]
     },
     "execution_count": 15,
     "metadata": {},
     "output_type": "execute_result"
    }
   ],
   "source": [
    "df.shape"
   ]
  },
  {
   "cell_type": "code",
   "execution_count": 16,
   "id": "ea4c70db-e889-4025-9aad-baacf3ec8513",
   "metadata": {},
   "outputs": [],
   "source": [
    "homeless_camp_closed_df = df[(df[\"RequestType\"] == 'Homeless Encampment') & (df[\"Status\"]=='Closed')]\n"
   ]
  },
  {
   "cell_type": "code",
   "execution_count": 17,
   "id": "b0935d3d-8312-480f-8e2e-09a404da3635",
   "metadata": {},
   "outputs": [
    {
     "data": {
      "text/plain": [
       "(58679, 34)"
      ]
     },
     "execution_count": 17,
     "metadata": {},
     "output_type": "execute_result"
    }
   ],
   "source": [
    "homeless_camp_closed_df.shape"
   ]
  },
  {
   "cell_type": "code",
   "execution_count": 18,
   "id": "ceb241a2-616b-4abb-895b-3550714cfa37",
   "metadata": {},
   "outputs": [],
   "source": [
    "# Write DataFrame to CSV\n",
    "homeless_camp_closed_df.to_csv(annual_data_path+'homeless_camp_closed_2022.csv', index=False)"
   ]
  },
  {
   "cell_type": "markdown",
   "id": "8a5e07eb-4950-45d9-828c-0a7a758de0c1",
   "metadata": {},
   "source": [
    "<hr>"
   ]
  },
  {
   "cell_type": "markdown",
   "id": "e385405c-7672-4727-87c3-a63c42c1534b",
   "metadata": {},
   "source": [
    "> Process 2021"
   ]
  },
  {
   "cell_type": "code",
   "execution_count": 19,
   "id": "0edd14ec-a930-4cd5-8703-46b7544bc8ce",
   "metadata": {},
   "outputs": [],
   "source": [
    "df = pd.read_csv(raw_data_path+\"MyLA311_Service_Request_Data_2021_20250211.csv\", low_memory=False)      # from CSV\n"
   ]
  },
  {
   "cell_type": "code",
   "execution_count": 20,
   "id": "3b692a2d-e7d7-4b69-bd34-edfb6ffae5ae",
   "metadata": {},
   "outputs": [
    {
     "data": {
      "text/plain": [
       "(1451557, 33)"
      ]
     },
     "execution_count": 20,
     "metadata": {},
     "output_type": "execute_result"
    }
   ],
   "source": [
    "df.shape"
   ]
  },
  {
   "cell_type": "code",
   "execution_count": 21,
   "id": "936af660-3f58-4300-8c75-fc18e0796328",
   "metadata": {},
   "outputs": [],
   "source": [
    "homeless_camp_closed_df = df[(df[\"RequestType\"] == 'Homeless Encampment') & (df[\"Status\"]=='Closed')]\n"
   ]
  },
  {
   "cell_type": "code",
   "execution_count": 22,
   "id": "885c44e9-0a7d-4b2a-981e-7309c3c4d706",
   "metadata": {},
   "outputs": [
    {
     "data": {
      "text/plain": [
       "(48150, 33)"
      ]
     },
     "execution_count": 22,
     "metadata": {},
     "output_type": "execute_result"
    }
   ],
   "source": [
    "homeless_camp_closed_df.shape"
   ]
  },
  {
   "cell_type": "code",
   "execution_count": 23,
   "id": "f903ac06-add6-471f-9a59-30f735d3fcb7",
   "metadata": {},
   "outputs": [],
   "source": [
    "# Write DataFrame to CSV\n",
    "homeless_camp_closed_df.to_csv(annual_data_path+'homeless_camp_closed_2021.csv', index=False)"
   ]
  },
  {
   "cell_type": "markdown",
   "id": "d3ad8a6c-d91a-4f5f-a880-f41b3731d039",
   "metadata": {},
   "source": [
    "<hr>"
   ]
  },
  {
   "cell_type": "markdown",
   "id": "5a0185d4-f67b-4b60-a771-5aaf0907a4f9",
   "metadata": {},
   "source": [
    "> Process 2020"
   ]
  },
  {
   "cell_type": "code",
   "execution_count": 24,
   "id": "e7201576-fa92-45ca-82e3-f3e7036d4f2f",
   "metadata": {},
   "outputs": [],
   "source": [
    "df = pd.read_csv(raw_data_path+\"MyLA311_Service_Request_Data_2020_20250211.csv\", low_memory=False)      # from CSV\n"
   ]
  },
  {
   "cell_type": "code",
   "execution_count": 25,
   "id": "9beec4b1-0a62-4f1b-bba9-c657f9ad8b55",
   "metadata": {},
   "outputs": [
    {
     "data": {
      "text/plain": [
       "(1491774, 34)"
      ]
     },
     "execution_count": 25,
     "metadata": {},
     "output_type": "execute_result"
    }
   ],
   "source": [
    "df.shape"
   ]
  },
  {
   "cell_type": "code",
   "execution_count": 26,
   "id": "32656c8d-98bd-42a5-9e3b-ca67909be04b",
   "metadata": {},
   "outputs": [],
   "source": [
    "homeless_camp_closed_df = df[(df[\"RequestType\"] == 'Homeless Encampment') & (df[\"Status\"]=='Closed')]\n"
   ]
  },
  {
   "cell_type": "code",
   "execution_count": 27,
   "id": "e4654c87-6cbd-4893-9460-35a2d0ab64f3",
   "metadata": {},
   "outputs": [
    {
     "data": {
      "text/plain": [
       "(49962, 34)"
      ]
     },
     "execution_count": 27,
     "metadata": {},
     "output_type": "execute_result"
    }
   ],
   "source": [
    "homeless_camp_closed_df.shape"
   ]
  },
  {
   "cell_type": "code",
   "execution_count": 28,
   "id": "baa04619-0255-4f63-8963-ddcba7a95ba6",
   "metadata": {},
   "outputs": [],
   "source": [
    "# Write DataFrame to CSV\n",
    "homeless_camp_closed_df.to_csv(annual_data_path+'homeless_camp_closed_2020.csv', index=False)"
   ]
  },
  {
   "cell_type": "markdown",
   "id": "d56babaa-e465-4c2d-aade-0f3e3269f1af",
   "metadata": {},
   "source": [
    "<hr>"
   ]
  },
  {
   "cell_type": "markdown",
   "id": "b37af6b0-2b71-428e-8c80-087bb2e4eff5",
   "metadata": {},
   "source": [
    "> Process 2019"
   ]
  },
  {
   "cell_type": "code",
   "execution_count": 29,
   "id": "e85a1ea1-afea-43a1-98f1-e7cbaae5f105",
   "metadata": {},
   "outputs": [],
   "source": [
    "df = pd.read_csv(raw_data_path+\"MyLA311_Service_Request_Data_2019_20250211.csv\", low_memory=False)      # from CSV\n"
   ]
  },
  {
   "cell_type": "code",
   "execution_count": 30,
   "id": "215e8f2d-5d2f-490e-9a92-c95226e09a46",
   "metadata": {},
   "outputs": [
    {
     "data": {
      "text/plain": [
       "(1308093, 34)"
      ]
     },
     "execution_count": 30,
     "metadata": {},
     "output_type": "execute_result"
    }
   ],
   "source": [
    "df.shape"
   ]
  },
  {
   "cell_type": "code",
   "execution_count": 31,
   "id": "26f20c45-5335-42c4-9555-818530d7f62d",
   "metadata": {},
   "outputs": [],
   "source": [
    "homeless_camp_closed_df = df[(df[\"RequestType\"] == 'Homeless Encampment') & (df[\"Status\"]=='Closed')]\n"
   ]
  },
  {
   "cell_type": "code",
   "execution_count": 32,
   "id": "ec9bb39b-fa2c-4365-8dfd-c1f1c1cebb68",
   "metadata": {},
   "outputs": [
    {
     "data": {
      "text/plain": [
       "(55481, 34)"
      ]
     },
     "execution_count": 32,
     "metadata": {},
     "output_type": "execute_result"
    }
   ],
   "source": [
    "homeless_camp_closed_df.shape"
   ]
  },
  {
   "cell_type": "code",
   "execution_count": 33,
   "id": "146b6dc8-bfc4-4479-b9fa-e0b5b0987380",
   "metadata": {},
   "outputs": [],
   "source": [
    "# Write DataFrame to CSV\n",
    "homeless_camp_closed_df.to_csv(annual_data_path+'homeless_camp_closed_2019.csv', index=False)"
   ]
  },
  {
   "cell_type": "markdown",
   "id": "6b37c62a-5a86-4a33-96fb-15d961584ab2",
   "metadata": {},
   "source": [
    "<hr>"
   ]
  },
  {
   "cell_type": "code",
   "execution_count": 37,
   "id": "bf2755b2-812d-409e-9e18-1bbd526d666d",
   "metadata": {},
   "outputs": [
    {
     "data": {
      "text/plain": [
       "(322186, 34)"
      ]
     },
     "execution_count": 37,
     "metadata": {},
     "output_type": "execute_result"
    }
   ],
   "source": [
    "combined_df.shape"
   ]
  },
  {
   "cell_type": "markdown",
   "id": "35405a01-778c-4487-b1c8-2831a8e16688",
   "metadata": {},
   "source": [
    "## Done pre-processing data into annual csv files\n",
    "## Next: eda.ipynb"
   ]
  },
  {
   "cell_type": "code",
   "execution_count": null,
   "id": "cdae4f50-162f-4769-b6fa-55b0786836ea",
   "metadata": {},
   "outputs": [],
   "source": []
  }
 ],
 "metadata": {
  "kernelspec": {
   "display_name": "Python 3 (ipykernel)",
   "language": "python",
   "name": "python3"
  },
  "language_info": {
   "codemirror_mode": {
    "name": "ipython",
    "version": 3
   },
   "file_extension": ".py",
   "mimetype": "text/x-python",
   "name": "python",
   "nbconvert_exporter": "python",
   "pygments_lexer": "ipython3",
   "version": "3.9.21"
  }
 },
 "nbformat": 4,
 "nbformat_minor": 5
}
