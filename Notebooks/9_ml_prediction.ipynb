{
 "cells": [
  {
   "cell_type": "markdown",
   "id": "4877b24c-e39d-43d3-b5ad-4da1b6fbc862",
   "metadata": {
    "jp-MarkdownHeadingCollapsed": true
   },
   "source": [
    "## Homeless Encampments in LA\n",
    "\n",
    "##### Spring 2025\n",
    "##### Amanda Alonzo\n",
    "##### I513 Usable AI\n",
    "##### Indiana University, Bloomington\n",
    " \n"
   ]
  },
  {
   "cell_type": "markdown",
   "id": "dd598b13-5173-4cd7-b43e-e46bbadd488e",
   "metadata": {},
   "source": [
    "## Machine Learning Predictions\n",
    "\n",
    "### In this notebook, we will simplify the columns for machine learning tasks by:\n",
    "- using OneHotEncoding (OHE) for location neighborhood area\n",
    "- scaling\n",
    "\n",
    "### We will make predictions for:\n",
    "- ticket close time \n",
    "##### <i> Prerequisite: 8_food_sites_visualization.ipynb </i>\n",
    " "
   ]
  },
  {
   "cell_type": "code",
   "execution_count": 1,
   "id": "c25f6f7c-c299-4861-8bbd-79f4a2c75155",
   "metadata": {},
   "outputs": [],
   "source": [
    "import pandas as pd\n",
    "import matplotlib.pyplot as plt\n",
    "from datetime import datetime\n",
    "import re\n",
    "import numpy as np\n",
    "import seaborn as sns\n",
    "from scipy import stats\n",
    "from sklearn.linear_model import LogisticRegression\n",
    "from sklearn.preprocessing import normalize\n",
    "from sklearn.metrics import r2_score\n",
    "from sklearn.metrics import accuracy_score\n",
    "from sklearn.svm import SVC, SVR\n",
    "from sklearn.preprocessing import StandardScaler\n",
    "\n",
    "from sklearn.metrics import confusion_matrix, classification_report, accuracy_score\n",
    "from sklearn.model_selection import cross_val_score, GridSearchCV, train_test_split\n",
    "from sklearn.feature_selection import SelectFromModel\n",
    "from sklearn.tree import DecisionTreeClassifier\n",
    "from sklearn.ensemble import RandomForestClassifier\n"
   ]
  },
  {
   "cell_type": "code",
   "execution_count": 2,
   "id": "b814cc65-4fbe-48d3-b8ba-b8b4f8a2c860",
   "metadata": {},
   "outputs": [],
   "source": [
    "raw_data_path = \"../Dataraw/\"\n",
    "annual_data_path = \"../Datafiles/\"\n",
    "generated_data_path = \"../Datagen/\""
   ]
  },
  {
   "cell_type": "code",
   "execution_count": 45,
   "id": "17c19a88-6604-4374-ad99-1c429c620df6",
   "metadata": {
    "scrolled": true
   },
   "outputs": [
    {
     "data": {
      "text/html": [
       "<div>\n",
       "<style scoped>\n",
       "    .dataframe tbody tr th:only-of-type {\n",
       "        vertical-align: middle;\n",
       "    }\n",
       "\n",
       "    .dataframe tbody tr th {\n",
       "        vertical-align: top;\n",
       "    }\n",
       "\n",
       "    .dataframe thead th {\n",
       "        text-align: right;\n",
       "    }\n",
       "</style>\n",
       "<table border=\"1\" class=\"dataframe\">\n",
       "  <thead>\n",
       "    <tr style=\"text-align: right;\">\n",
       "      <th></th>\n",
       "      <th>SRNumber</th>\n",
       "      <th>CreatedDate</th>\n",
       "      <th>UpdatedDate</th>\n",
       "      <th>ActionTaken</th>\n",
       "      <th>Owner</th>\n",
       "      <th>RequestType</th>\n",
       "      <th>Status</th>\n",
       "      <th>RequestSource</th>\n",
       "      <th>CreatedByUserOrganization</th>\n",
       "      <th>MobileOS</th>\n",
       "      <th>...</th>\n",
       "      <th>Shape__Length_y</th>\n",
       "      <th>close_time_bins</th>\n",
       "      <th>is_county_ind</th>\n",
       "      <th>park_distance_bins</th>\n",
       "      <th>closed_days_scaled</th>\n",
       "      <th>park_distance_scaled</th>\n",
       "      <th>ZIP Code</th>\n",
       "      <th>JENI Need Tier</th>\n",
       "      <th>JENI_TIER</th>\n",
       "      <th>food_center_count</th>\n",
       "    </tr>\n",
       "  </thead>\n",
       "  <tbody>\n",
       "    <tr>\n",
       "      <th>0</th>\n",
       "      <td>1-3202726931</td>\n",
       "      <td>01/01/2023 08:26:17 AM</td>\n",
       "      <td>01/31/2023 01:44:42 PM</td>\n",
       "      <td>SR Created</td>\n",
       "      <td>LASAN</td>\n",
       "      <td>Homeless Encampment</td>\n",
       "      <td>Closed</td>\n",
       "      <td>Self Service</td>\n",
       "      <td>Self Service_SAN</td>\n",
       "      <td>NaN</td>\n",
       "      <td>...</td>\n",
       "      <td>2824.807047</td>\n",
       "      <td>1.0</td>\n",
       "      <td>0</td>\n",
       "      <td>2</td>\n",
       "      <td>0.039295</td>\n",
       "      <td>0.054729</td>\n",
       "      <td>90063.0</td>\n",
       "      <td>High</td>\n",
       "      <td>4.0</td>\n",
       "      <td>2.0</td>\n",
       "    </tr>\n",
       "  </tbody>\n",
       "</table>\n",
       "<p>1 rows × 155 columns</p>\n",
       "</div>"
      ],
      "text/plain": [
       "       SRNumber             CreatedDate             UpdatedDate ActionTaken  \\\n",
       "0  1-3202726931  01/01/2023 08:26:17 AM  01/31/2023 01:44:42 PM  SR Created   \n",
       "\n",
       "   Owner          RequestType  Status RequestSource CreatedByUserOrganization  \\\n",
       "0  LASAN  Homeless Encampment  Closed  Self Service          Self Service_SAN   \n",
       "\n",
       "  MobileOS  ... Shape__Length_y close_time_bins is_county_ind  \\\n",
       "0      NaN  ...     2824.807047             1.0             0   \n",
       "\n",
       "  park_distance_bins closed_days_scaled park_distance_scaled ZIP Code  \\\n",
       "0                  2           0.039295             0.054729  90063.0   \n",
       "\n",
       "   JENI Need Tier JENI_TIER food_center_count  \n",
       "0            High       4.0               2.0  \n",
       "\n",
       "[1 rows x 155 columns]"
      ]
     },
     "execution_count": 45,
     "metadata": {},
     "output_type": "execute_result"
    }
   ],
   "source": [
    "#laod  our data frame from past steps \n",
    "df_source = pd.read_csv(generated_data_path+'homeless_camp_closed_2023_parks_zip_food_ftr_eng_1.csv', low_memory=False)\n",
    "df_source.head(1)"
   ]
  },
  {
   "cell_type": "markdown",
   "id": "5d35635e-06fc-4b93-be65-e147fd130317",
   "metadata": {},
   "source": [
    "## Preparare Data with Transformations for ML Tasks"
   ]
  },
  {
   "cell_type": "code",
   "execution_count": 46,
   "id": "dd292bcd-ad6c-43fe-a429-5d2f528b8095",
   "metadata": {},
   "outputs": [
    {
     "data": {
      "text/plain": [
       "(63104, 155)"
      ]
     },
     "execution_count": 46,
     "metadata": {},
     "output_type": "execute_result"
    }
   ],
   "source": [
    "df_source.shape"
   ]
  },
  {
   "cell_type": "code",
   "execution_count": 47,
   "id": "d9552fc7-3496-4689-9396-03b0e2a10156",
   "metadata": {},
   "outputs": [
    {
     "data": {
      "text/plain": [
       "(close_time_bins\n",
       " 3.0    12628\n",
       " 2.0    12415\n",
       " 1.0    12229\n",
       " 4.0     4856\n",
       " 5.0     2621\n",
       " Name: count, dtype: int64,\n",
       " close_time_bins\n",
       " 1.0     11.0\n",
       " 2.0     51.0\n",
       " 3.0    101.0\n",
       " 4.0    201.0\n",
       " 5.0    301.0\n",
       " Name: close_time_days_x, dtype: float64)"
      ]
     },
     "execution_count": 47,
     "metadata": {},
     "output_type": "execute_result"
    }
   ],
   "source": [
    "df_source.close_time_bins.value_counts(), df_source.groupby('close_time_bins').close_time_days_x.min()"
   ]
  },
  {
   "cell_type": "code",
   "execution_count": 48,
   "id": "40ec962b-cce2-437b-ad09-0e54bcf3a9ab",
   "metadata": {},
   "outputs": [],
   "source": [
    "#Clean up our data frame - simplify columns\n",
    "df = df_source[['RequestSource','ZipCodeFmt','Anonymous','AssignTo','park_distance_bins','close_time_bins','is_county_ind','NDS_AN_TYP','COGP_TYP','ACCESS_TYP','JENI_TIER','food_center_count']].copy()\n"
   ]
  },
  {
   "cell_type": "code",
   "execution_count": 49,
   "id": "776be590-7b51-4f9f-9570-30c6b75d7969",
   "metadata": {},
   "outputs": [
    {
     "data": {
      "text/html": [
       "<div>\n",
       "<style scoped>\n",
       "    .dataframe tbody tr th:only-of-type {\n",
       "        vertical-align: middle;\n",
       "    }\n",
       "\n",
       "    .dataframe tbody tr th {\n",
       "        vertical-align: top;\n",
       "    }\n",
       "\n",
       "    .dataframe thead th {\n",
       "        text-align: right;\n",
       "    }\n",
       "</style>\n",
       "<table border=\"1\" class=\"dataframe\">\n",
       "  <thead>\n",
       "    <tr style=\"text-align: right;\">\n",
       "      <th></th>\n",
       "      <th>zipcodefmt</th>\n",
       "      <th>park_distance_bins</th>\n",
       "      <th>close_time_bins</th>\n",
       "      <th>is_county_ind</th>\n",
       "      <th>jeni_tier</th>\n",
       "      <th>food_center_count</th>\n",
       "    </tr>\n",
       "  </thead>\n",
       "  <tbody>\n",
       "    <tr>\n",
       "      <th>count</th>\n",
       "      <td>63090.000000</td>\n",
       "      <td>63104.000000</td>\n",
       "      <td>44749.000000</td>\n",
       "      <td>63104.000000</td>\n",
       "      <td>63076.000000</td>\n",
       "      <td>63104.000000</td>\n",
       "    </tr>\n",
       "    <tr>\n",
       "      <th>mean</th>\n",
       "      <td>90465.801886</td>\n",
       "      <td>0.967989</td>\n",
       "      <td>2.401663</td>\n",
       "      <td>0.980619</td>\n",
       "      <td>3.844679</td>\n",
       "      <td>1.262503</td>\n",
       "    </tr>\n",
       "    <tr>\n",
       "      <th>std</th>\n",
       "      <td>634.715178</td>\n",
       "      <td>0.955762</td>\n",
       "      <td>1.164208</td>\n",
       "      <td>0.137860</td>\n",
       "      <td>1.164308</td>\n",
       "      <td>1.202377</td>\n",
       "    </tr>\n",
       "    <tr>\n",
       "      <th>min</th>\n",
       "      <td>90001.000000</td>\n",
       "      <td>0.000000</td>\n",
       "      <td>1.000000</td>\n",
       "      <td>0.000000</td>\n",
       "      <td>1.000000</td>\n",
       "      <td>0.000000</td>\n",
       "    </tr>\n",
       "    <tr>\n",
       "      <th>25%</th>\n",
       "      <td>90025.000000</td>\n",
       "      <td>0.000000</td>\n",
       "      <td>1.000000</td>\n",
       "      <td>1.000000</td>\n",
       "      <td>3.000000</td>\n",
       "      <td>0.000000</td>\n",
       "    </tr>\n",
       "    <tr>\n",
       "      <th>50%</th>\n",
       "      <td>90048.000000</td>\n",
       "      <td>1.000000</td>\n",
       "      <td>2.000000</td>\n",
       "      <td>1.000000</td>\n",
       "      <td>4.000000</td>\n",
       "      <td>1.000000</td>\n",
       "    </tr>\n",
       "    <tr>\n",
       "      <th>75%</th>\n",
       "      <td>91311.000000</td>\n",
       "      <td>2.000000</td>\n",
       "      <td>3.000000</td>\n",
       "      <td>1.000000</td>\n",
       "      <td>5.000000</td>\n",
       "      <td>2.000000</td>\n",
       "    </tr>\n",
       "    <tr>\n",
       "      <th>max</th>\n",
       "      <td>91607.000000</td>\n",
       "      <td>4.000000</td>\n",
       "      <td>5.000000</td>\n",
       "      <td>1.000000</td>\n",
       "      <td>5.000000</td>\n",
       "      <td>5.000000</td>\n",
       "    </tr>\n",
       "  </tbody>\n",
       "</table>\n",
       "</div>"
      ],
      "text/plain": [
       "         zipcodefmt  park_distance_bins  close_time_bins  is_county_ind  \\\n",
       "count  63090.000000        63104.000000     44749.000000   63104.000000   \n",
       "mean   90465.801886            0.967989         2.401663       0.980619   \n",
       "std      634.715178            0.955762         1.164208       0.137860   \n",
       "min    90001.000000            0.000000         1.000000       0.000000   \n",
       "25%    90025.000000            0.000000         1.000000       1.000000   \n",
       "50%    90048.000000            1.000000         2.000000       1.000000   \n",
       "75%    91311.000000            2.000000         3.000000       1.000000   \n",
       "max    91607.000000            4.000000         5.000000       1.000000   \n",
       "\n",
       "          jeni_tier  food_center_count  \n",
       "count  63076.000000       63104.000000  \n",
       "mean       3.844679           1.262503  \n",
       "std        1.164308           1.202377  \n",
       "min        1.000000           0.000000  \n",
       "25%        3.000000           0.000000  \n",
       "50%        4.000000           1.000000  \n",
       "75%        5.000000           2.000000  \n",
       "max        5.000000           5.000000  "
      ]
     },
     "execution_count": 49,
     "metadata": {},
     "output_type": "execute_result"
    }
   ],
   "source": [
    "df.columns = df.columns.str.lower()\n",
    "df.describe()"
   ]
  },
  {
   "cell_type": "code",
   "execution_count": 50,
   "id": "dab686e3-780d-44e7-8d88-54fd6171d9fe",
   "metadata": {},
   "outputs": [
    {
     "data": {
      "text/plain": [
       "Index(['requestsource', 'zipcodefmt', 'anonymous', 'assignto',\n",
       "       'park_distance_bins', 'close_time_bins', 'is_county_ind', 'nds_an_typ',\n",
       "       'cogp_typ', 'access_typ', 'jeni_tier', 'food_center_count'],\n",
       "      dtype='object')"
      ]
     },
     "execution_count": 50,
     "metadata": {},
     "output_type": "execute_result"
    }
   ],
   "source": [
    "df.columns"
   ]
  },
  {
   "cell_type": "code",
   "execution_count": 51,
   "id": "bc92d7c5-5d19-4a87-850f-86a6f2676502",
   "metadata": {},
   "outputs": [
    {
     "data": {
      "text/plain": [
       "assignto\n",
       "NC     22585\n",
       "EV     12061\n",
       "WLA    10768\n",
       "SLA     9317\n",
       "WV      6791\n",
       "HB      1190\n",
       "LSD      391\n",
       "Name: count, dtype: int64"
      ]
     },
     "execution_count": 51,
     "metadata": {},
     "output_type": "execute_result"
    }
   ],
   "source": [
    "df.assignto.value_counts()"
   ]
  },
  {
   "cell_type": "code",
   "execution_count": 52,
   "id": "b352ff7b-6dab-4535-9063-16d7beffe093",
   "metadata": {},
   "outputs": [
    {
     "data": {
      "text/html": [
       "<div>\n",
       "<style scoped>\n",
       "    .dataframe tbody tr th:only-of-type {\n",
       "        vertical-align: middle;\n",
       "    }\n",
       "\n",
       "    .dataframe tbody tr th {\n",
       "        vertical-align: top;\n",
       "    }\n",
       "\n",
       "    .dataframe thead tr th {\n",
       "        text-align: left;\n",
       "    }\n",
       "\n",
       "    .dataframe thead tr:last-of-type th {\n",
       "        text-align: right;\n",
       "    }\n",
       "</style>\n",
       "<table border=\"1\" class=\"dataframe\">\n",
       "  <thead>\n",
       "    <tr>\n",
       "      <th></th>\n",
       "      <th colspan=\"2\" halign=\"left\">zipcodefmt</th>\n",
       "    </tr>\n",
       "    <tr>\n",
       "      <th></th>\n",
       "      <th>min</th>\n",
       "      <th>max</th>\n",
       "    </tr>\n",
       "    <tr>\n",
       "      <th>assignto</th>\n",
       "      <th></th>\n",
       "      <th></th>\n",
       "    </tr>\n",
       "  </thead>\n",
       "  <tbody>\n",
       "    <tr>\n",
       "      <th>EV</th>\n",
       "      <td>90068.0</td>\n",
       "      <td>91607.0</td>\n",
       "    </tr>\n",
       "    <tr>\n",
       "      <th>HB</th>\n",
       "      <td>90044.0</td>\n",
       "      <td>90744.0</td>\n",
       "    </tr>\n",
       "    <tr>\n",
       "      <th>LSD</th>\n",
       "      <td>90007.0</td>\n",
       "      <td>90021.0</td>\n",
       "    </tr>\n",
       "    <tr>\n",
       "      <th>NC</th>\n",
       "      <td>90004.0</td>\n",
       "      <td>90732.0</td>\n",
       "    </tr>\n",
       "    <tr>\n",
       "      <th>SLA</th>\n",
       "      <td>90001.0</td>\n",
       "      <td>90062.0</td>\n",
       "    </tr>\n",
       "    <tr>\n",
       "      <th>WLA</th>\n",
       "      <td>90008.0</td>\n",
       "      <td>90404.0</td>\n",
       "    </tr>\n",
       "    <tr>\n",
       "      <th>WV</th>\n",
       "      <td>90049.0</td>\n",
       "      <td>91436.0</td>\n",
       "    </tr>\n",
       "  </tbody>\n",
       "</table>\n",
       "</div>"
      ],
      "text/plain": [
       "         zipcodefmt         \n",
       "                min      max\n",
       "assignto                    \n",
       "EV          90068.0  91607.0\n",
       "HB          90044.0  90744.0\n",
       "LSD         90007.0  90021.0\n",
       "NC          90004.0  90732.0\n",
       "SLA         90001.0  90062.0\n",
       "WLA         90008.0  90404.0\n",
       "WV          90049.0  91436.0"
      ]
     },
     "execution_count": 52,
     "metadata": {},
     "output_type": "execute_result"
    }
   ],
   "source": [
    "df.groupby('assignto').agg({'zipcodefmt': ['min', 'max']}   )"
   ]
  },
  {
   "cell_type": "code",
   "execution_count": 53,
   "id": "cb2a0b8d-595d-4022-b619-c6f0f910bc5c",
   "metadata": {},
   "outputs": [
    {
     "data": {
      "text/plain": [
       "zipcodefmt  assignto\n",
       "90001.0     SLA          206\n",
       "90002.0     SLA          286\n",
       "90003.0     SLA         1416\n",
       "90004.0     NC          1216\n",
       "90005.0     NC          1434\n",
       "                        ... \n",
       "91602.0     EV           947\n",
       "91604.0     EV           365\n",
       "91605.0     EV           903\n",
       "91606.0     EV          1568\n",
       "91607.0     EV           219\n",
       "Name: count, Length: 147, dtype: int64"
      ]
     },
     "execution_count": 53,
     "metadata": {},
     "output_type": "execute_result"
    }
   ],
   "source": [
    "df.groupby('zipcodefmt').assignto.value_counts()"
   ]
  },
  {
   "cell_type": "code",
   "execution_count": 54,
   "id": "b3a1e355-322e-463e-a378-5e5dc0790200",
   "metadata": {},
   "outputs": [
    {
     "data": {
      "text/plain": [
       "(63104, 12)"
      ]
     },
     "execution_count": 54,
     "metadata": {},
     "output_type": "execute_result"
    }
   ],
   "source": [
    "df.shape"
   ]
  },
  {
   "cell_type": "code",
   "execution_count": 55,
   "id": "fde8e5b6-b16a-44b2-b72f-85a0dfd21531",
   "metadata": {},
   "outputs": [],
   "source": [
    "df = df.dropna()"
   ]
  },
  {
   "cell_type": "code",
   "execution_count": 56,
   "id": "5a34ddd6-ef45-4f56-84ba-627a7a924047",
   "metadata": {},
   "outputs": [
    {
     "data": {
      "text/plain": [
       "(44736, 12)"
      ]
     },
     "execution_count": 56,
     "metadata": {},
     "output_type": "execute_result"
    }
   ],
   "source": [
    "df.shape"
   ]
  },
  {
   "cell_type": "code",
   "execution_count": 58,
   "id": "76c818b5-8a47-4067-a575-7527b2fe03ec",
   "metadata": {},
   "outputs": [
    {
     "data": {
      "text/html": [
       "<div>\n",
       "<style scoped>\n",
       "    .dataframe tbody tr th:only-of-type {\n",
       "        vertical-align: middle;\n",
       "    }\n",
       "\n",
       "    .dataframe tbody tr th {\n",
       "        vertical-align: top;\n",
       "    }\n",
       "\n",
       "    .dataframe thead th {\n",
       "        text-align: right;\n",
       "    }\n",
       "</style>\n",
       "<table border=\"1\" class=\"dataframe\">\n",
       "  <thead>\n",
       "    <tr style=\"text-align: right;\">\n",
       "      <th></th>\n",
       "      <th>requestsource</th>\n",
       "      <th>zipcodefmt</th>\n",
       "      <th>anonymous</th>\n",
       "      <th>assignto</th>\n",
       "      <th>park_distance_bins</th>\n",
       "      <th>close_time_bins</th>\n",
       "      <th>is_county_ind</th>\n",
       "      <th>nds_an_typ</th>\n",
       "      <th>cogp_typ</th>\n",
       "      <th>access_typ</th>\n",
       "      <th>jeni_tier</th>\n",
       "      <th>food_center_count</th>\n",
       "    </tr>\n",
       "  </thead>\n",
       "  <tbody>\n",
       "    <tr>\n",
       "      <th>0</th>\n",
       "      <td>Self Service</td>\n",
       "      <td>90063.0</td>\n",
       "      <td>Y</td>\n",
       "      <td>NC</td>\n",
       "      <td>2</td>\n",
       "      <td>1.0</td>\n",
       "      <td>0</td>\n",
       "      <td>Park 5 to 100 Acres</td>\n",
       "      <td>Neighborhood</td>\n",
       "      <td>Open Access</td>\n",
       "      <td>4.0</td>\n",
       "      <td>2.0</td>\n",
       "    </tr>\n",
       "  </tbody>\n",
       "</table>\n",
       "</div>"
      ],
      "text/plain": [
       "  requestsource  zipcodefmt anonymous assignto  park_distance_bins  \\\n",
       "0  Self Service     90063.0         Y       NC                   2   \n",
       "\n",
       "   close_time_bins  is_county_ind           nds_an_typ      cogp_typ  \\\n",
       "0              1.0              0  Park 5 to 100 Acres  Neighborhood   \n",
       "\n",
       "    access_typ  jeni_tier  food_center_count  \n",
       "0  Open Access        4.0                2.0  "
      ]
     },
     "execution_count": 58,
     "metadata": {},
     "output_type": "execute_result"
    }
   ],
   "source": [
    "df = df.rename(columns={'close_time_days_x': 'close_time_days' })\n",
    "df.head(1)"
   ]
  },
  {
   "cell_type": "code",
   "execution_count": 59,
   "id": "93338d71-d1b3-48c5-92da-f10f1155b661",
   "metadata": {},
   "outputs": [],
   "source": [
    "#ohe the zip code and neighborhood\n",
    "# add this later depending on svc performance: 'zipcodefmt',\n",
    "\n",
    "# too many columns making SVC slow\n",
    "df = pd.get_dummies(df, columns=['assignto'], dtype=int)\n",
    "#df = pd.get_dummies(df, columns=['zipcodefmt'], dtype=int)\n"
   ]
  },
  {
   "cell_type": "code",
   "execution_count": 60,
   "id": "df967bbf-27d8-43ae-ad12-c5fe7d9d6980",
   "metadata": {},
   "outputs": [
    {
     "data": {
      "text/html": [
       "<div>\n",
       "<style scoped>\n",
       "    .dataframe tbody tr th:only-of-type {\n",
       "        vertical-align: middle;\n",
       "    }\n",
       "\n",
       "    .dataframe tbody tr th {\n",
       "        vertical-align: top;\n",
       "    }\n",
       "\n",
       "    .dataframe thead th {\n",
       "        text-align: right;\n",
       "    }\n",
       "</style>\n",
       "<table border=\"1\" class=\"dataframe\">\n",
       "  <thead>\n",
       "    <tr style=\"text-align: right;\">\n",
       "      <th></th>\n",
       "      <th>requestsource</th>\n",
       "      <th>zipcodefmt</th>\n",
       "      <th>anonymous</th>\n",
       "      <th>park_distance_bins</th>\n",
       "      <th>close_time_bins</th>\n",
       "      <th>is_county_ind</th>\n",
       "      <th>nds_an_typ</th>\n",
       "      <th>cogp_typ</th>\n",
       "      <th>access_typ</th>\n",
       "      <th>jeni_tier</th>\n",
       "      <th>food_center_count</th>\n",
       "      <th>assignto_EV</th>\n",
       "      <th>assignto_HB</th>\n",
       "      <th>assignto_LSD</th>\n",
       "      <th>assignto_NC</th>\n",
       "      <th>assignto_SLA</th>\n",
       "      <th>assignto_WLA</th>\n",
       "      <th>assignto_WV</th>\n",
       "    </tr>\n",
       "  </thead>\n",
       "  <tbody>\n",
       "    <tr>\n",
       "      <th>0</th>\n",
       "      <td>Self Service</td>\n",
       "      <td>90063.0</td>\n",
       "      <td>Y</td>\n",
       "      <td>2</td>\n",
       "      <td>1.0</td>\n",
       "      <td>0</td>\n",
       "      <td>Park 5 to 100 Acres</td>\n",
       "      <td>Neighborhood</td>\n",
       "      <td>Open Access</td>\n",
       "      <td>4.0</td>\n",
       "      <td>2.0</td>\n",
       "      <td>0</td>\n",
       "      <td>0</td>\n",
       "      <td>0</td>\n",
       "      <td>1</td>\n",
       "      <td>0</td>\n",
       "      <td>0</td>\n",
       "      <td>0</td>\n",
       "    </tr>\n",
       "    <tr>\n",
       "      <th>1</th>\n",
       "      <td>Self Service</td>\n",
       "      <td>90063.0</td>\n",
       "      <td>Y</td>\n",
       "      <td>2</td>\n",
       "      <td>1.0</td>\n",
       "      <td>0</td>\n",
       "      <td>Park 5 to 100 Acres</td>\n",
       "      <td>Neighborhood</td>\n",
       "      <td>Open Access</td>\n",
       "      <td>4.0</td>\n",
       "      <td>2.0</td>\n",
       "      <td>0</td>\n",
       "      <td>0</td>\n",
       "      <td>0</td>\n",
       "      <td>1</td>\n",
       "      <td>0</td>\n",
       "      <td>0</td>\n",
       "      <td>0</td>\n",
       "    </tr>\n",
       "  </tbody>\n",
       "</table>\n",
       "</div>"
      ],
      "text/plain": [
       "  requestsource  zipcodefmt anonymous  park_distance_bins  close_time_bins  \\\n",
       "0  Self Service     90063.0         Y                   2              1.0   \n",
       "1  Self Service     90063.0         Y                   2              1.0   \n",
       "\n",
       "   is_county_ind           nds_an_typ      cogp_typ   access_typ  jeni_tier  \\\n",
       "0              0  Park 5 to 100 Acres  Neighborhood  Open Access        4.0   \n",
       "1              0  Park 5 to 100 Acres  Neighborhood  Open Access        4.0   \n",
       "\n",
       "   food_center_count  assignto_EV  assignto_HB  assignto_LSD  assignto_NC  \\\n",
       "0                2.0            0            0             0            1   \n",
       "1                2.0            0            0             0            1   \n",
       "\n",
       "   assignto_SLA  assignto_WLA  assignto_WV  \n",
       "0             0             0            0  \n",
       "1             0             0            0  "
      ]
     },
     "execution_count": 60,
     "metadata": {},
     "output_type": "execute_result"
    }
   ],
   "source": [
    "df.head(2)\n",
    "#assignto abbreviations for values\n"
   ]
  },
  {
   "cell_type": "code",
   "execution_count": 61,
   "id": "0df64aa4-9db6-465c-ad23-035da4ed9aef",
   "metadata": {},
   "outputs": [
    {
     "data": {
      "text/html": [
       "<div>\n",
       "<style scoped>\n",
       "    .dataframe tbody tr th:only-of-type {\n",
       "        vertical-align: middle;\n",
       "    }\n",
       "\n",
       "    .dataframe tbody tr th {\n",
       "        vertical-align: top;\n",
       "    }\n",
       "\n",
       "    .dataframe thead th {\n",
       "        text-align: right;\n",
       "    }\n",
       "</style>\n",
       "<table border=\"1\" class=\"dataframe\">\n",
       "  <thead>\n",
       "    <tr style=\"text-align: right;\">\n",
       "      <th></th>\n",
       "      <th>zipcodefmt</th>\n",
       "      <th>park_distance_bins</th>\n",
       "      <th>close_time_bins</th>\n",
       "      <th>is_county_ind</th>\n",
       "      <th>jeni_tier</th>\n",
       "      <th>food_center_count</th>\n",
       "      <th>assignto_EV</th>\n",
       "      <th>assignto_HB</th>\n",
       "      <th>assignto_LSD</th>\n",
       "      <th>assignto_NC</th>\n",
       "      <th>assignto_SLA</th>\n",
       "      <th>assignto_WLA</th>\n",
       "      <th>assignto_WV</th>\n",
       "    </tr>\n",
       "  </thead>\n",
       "  <tbody>\n",
       "    <tr>\n",
       "      <th>count</th>\n",
       "      <td>44736.000000</td>\n",
       "      <td>44736.000000</td>\n",
       "      <td>44736.000000</td>\n",
       "      <td>44736.000000</td>\n",
       "      <td>44736.000000</td>\n",
       "      <td>44736.000000</td>\n",
       "      <td>44736.000000</td>\n",
       "      <td>44736.000000</td>\n",
       "      <td>44736.000000</td>\n",
       "      <td>44736.000000</td>\n",
       "      <td>44736.000000</td>\n",
       "      <td>44736.000000</td>\n",
       "      <td>44736.000000</td>\n",
       "    </tr>\n",
       "    <tr>\n",
       "      <th>mean</th>\n",
       "      <td>90450.025326</td>\n",
       "      <td>0.987281</td>\n",
       "      <td>2.401556</td>\n",
       "      <td>0.980776</td>\n",
       "      <td>3.858123</td>\n",
       "      <td>1.267838</td>\n",
       "      <td>0.175094</td>\n",
       "      <td>0.013524</td>\n",
       "      <td>0.006818</td>\n",
       "      <td>0.357587</td>\n",
       "      <td>0.151220</td>\n",
       "      <td>0.181509</td>\n",
       "      <td>0.114248</td>\n",
       "    </tr>\n",
       "    <tr>\n",
       "      <th>std</th>\n",
       "      <td>628.118172</td>\n",
       "      <td>0.972493</td>\n",
       "      <td>1.164146</td>\n",
       "      <td>0.137313</td>\n",
       "      <td>1.149946</td>\n",
       "      <td>1.186911</td>\n",
       "      <td>0.380052</td>\n",
       "      <td>0.115504</td>\n",
       "      <td>0.082289</td>\n",
       "      <td>0.479295</td>\n",
       "      <td>0.358268</td>\n",
       "      <td>0.385444</td>\n",
       "      <td>0.318116</td>\n",
       "    </tr>\n",
       "    <tr>\n",
       "      <th>min</th>\n",
       "      <td>90001.000000</td>\n",
       "      <td>0.000000</td>\n",
       "      <td>1.000000</td>\n",
       "      <td>0.000000</td>\n",
       "      <td>1.000000</td>\n",
       "      <td>0.000000</td>\n",
       "      <td>0.000000</td>\n",
       "      <td>0.000000</td>\n",
       "      <td>0.000000</td>\n",
       "      <td>0.000000</td>\n",
       "      <td>0.000000</td>\n",
       "      <td>0.000000</td>\n",
       "      <td>0.000000</td>\n",
       "    </tr>\n",
       "    <tr>\n",
       "      <th>25%</th>\n",
       "      <td>90025.000000</td>\n",
       "      <td>0.000000</td>\n",
       "      <td>1.000000</td>\n",
       "      <td>1.000000</td>\n",
       "      <td>3.000000</td>\n",
       "      <td>0.000000</td>\n",
       "      <td>0.000000</td>\n",
       "      <td>0.000000</td>\n",
       "      <td>0.000000</td>\n",
       "      <td>0.000000</td>\n",
       "      <td>0.000000</td>\n",
       "      <td>0.000000</td>\n",
       "      <td>0.000000</td>\n",
       "    </tr>\n",
       "    <tr>\n",
       "      <th>50%</th>\n",
       "      <td>90046.000000</td>\n",
       "      <td>1.000000</td>\n",
       "      <td>2.000000</td>\n",
       "      <td>1.000000</td>\n",
       "      <td>4.000000</td>\n",
       "      <td>1.000000</td>\n",
       "      <td>0.000000</td>\n",
       "      <td>0.000000</td>\n",
       "      <td>0.000000</td>\n",
       "      <td>0.000000</td>\n",
       "      <td>0.000000</td>\n",
       "      <td>0.000000</td>\n",
       "      <td>0.000000</td>\n",
       "    </tr>\n",
       "    <tr>\n",
       "      <th>75%</th>\n",
       "      <td>91311.000000</td>\n",
       "      <td>2.000000</td>\n",
       "      <td>3.000000</td>\n",
       "      <td>1.000000</td>\n",
       "      <td>5.000000</td>\n",
       "      <td>2.000000</td>\n",
       "      <td>0.000000</td>\n",
       "      <td>0.000000</td>\n",
       "      <td>0.000000</td>\n",
       "      <td>1.000000</td>\n",
       "      <td>0.000000</td>\n",
       "      <td>0.000000</td>\n",
       "      <td>0.000000</td>\n",
       "    </tr>\n",
       "    <tr>\n",
       "      <th>max</th>\n",
       "      <td>91607.000000</td>\n",
       "      <td>4.000000</td>\n",
       "      <td>5.000000</td>\n",
       "      <td>1.000000</td>\n",
       "      <td>5.000000</td>\n",
       "      <td>5.000000</td>\n",
       "      <td>1.000000</td>\n",
       "      <td>1.000000</td>\n",
       "      <td>1.000000</td>\n",
       "      <td>1.000000</td>\n",
       "      <td>1.000000</td>\n",
       "      <td>1.000000</td>\n",
       "      <td>1.000000</td>\n",
       "    </tr>\n",
       "  </tbody>\n",
       "</table>\n",
       "</div>"
      ],
      "text/plain": [
       "         zipcodefmt  park_distance_bins  close_time_bins  is_county_ind  \\\n",
       "count  44736.000000        44736.000000     44736.000000   44736.000000   \n",
       "mean   90450.025326            0.987281         2.401556       0.980776   \n",
       "std      628.118172            0.972493         1.164146       0.137313   \n",
       "min    90001.000000            0.000000         1.000000       0.000000   \n",
       "25%    90025.000000            0.000000         1.000000       1.000000   \n",
       "50%    90046.000000            1.000000         2.000000       1.000000   \n",
       "75%    91311.000000            2.000000         3.000000       1.000000   \n",
       "max    91607.000000            4.000000         5.000000       1.000000   \n",
       "\n",
       "          jeni_tier  food_center_count   assignto_EV   assignto_HB  \\\n",
       "count  44736.000000       44736.000000  44736.000000  44736.000000   \n",
       "mean       3.858123           1.267838      0.175094      0.013524   \n",
       "std        1.149946           1.186911      0.380052      0.115504   \n",
       "min        1.000000           0.000000      0.000000      0.000000   \n",
       "25%        3.000000           0.000000      0.000000      0.000000   \n",
       "50%        4.000000           1.000000      0.000000      0.000000   \n",
       "75%        5.000000           2.000000      0.000000      0.000000   \n",
       "max        5.000000           5.000000      1.000000      1.000000   \n",
       "\n",
       "       assignto_LSD   assignto_NC  assignto_SLA  assignto_WLA   assignto_WV  \n",
       "count  44736.000000  44736.000000  44736.000000  44736.000000  44736.000000  \n",
       "mean       0.006818      0.357587      0.151220      0.181509      0.114248  \n",
       "std        0.082289      0.479295      0.358268      0.385444      0.318116  \n",
       "min        0.000000      0.000000      0.000000      0.000000      0.000000  \n",
       "25%        0.000000      0.000000      0.000000      0.000000      0.000000  \n",
       "50%        0.000000      0.000000      0.000000      0.000000      0.000000  \n",
       "75%        0.000000      1.000000      0.000000      0.000000      0.000000  \n",
       "max        1.000000      1.000000      1.000000      1.000000      1.000000  "
      ]
     },
     "execution_count": 61,
     "metadata": {},
     "output_type": "execute_result"
    }
   ],
   "source": [
    "df.describe()"
   ]
  },
  {
   "cell_type": "code",
   "execution_count": 62,
   "id": "c2453520-d063-437f-bce7-500c340fa4ab",
   "metadata": {},
   "outputs": [],
   "source": [
    "numeric_variables = df.select_dtypes(include=np.number)"
   ]
  },
  {
   "cell_type": "code",
   "execution_count": 63,
   "id": "d87e41aa-e526-4cbe-923c-fe3d94e41025",
   "metadata": {},
   "outputs": [
    {
     "data": {
      "text/html": [
       "<div>\n",
       "<style scoped>\n",
       "    .dataframe tbody tr th:only-of-type {\n",
       "        vertical-align: middle;\n",
       "    }\n",
       "\n",
       "    .dataframe tbody tr th {\n",
       "        vertical-align: top;\n",
       "    }\n",
       "\n",
       "    .dataframe thead th {\n",
       "        text-align: right;\n",
       "    }\n",
       "</style>\n",
       "<table border=\"1\" class=\"dataframe\">\n",
       "  <thead>\n",
       "    <tr style=\"text-align: right;\">\n",
       "      <th></th>\n",
       "      <th>zipcodefmt</th>\n",
       "      <th>park_distance_bins</th>\n",
       "      <th>close_time_bins</th>\n",
       "      <th>is_county_ind</th>\n",
       "      <th>jeni_tier</th>\n",
       "      <th>food_center_count</th>\n",
       "      <th>assignto_EV</th>\n",
       "      <th>assignto_HB</th>\n",
       "      <th>assignto_LSD</th>\n",
       "      <th>assignto_NC</th>\n",
       "      <th>assignto_SLA</th>\n",
       "      <th>assignto_WLA</th>\n",
       "      <th>assignto_WV</th>\n",
       "    </tr>\n",
       "  </thead>\n",
       "  <tbody>\n",
       "    <tr>\n",
       "      <th>0</th>\n",
       "      <td>90063.0</td>\n",
       "      <td>2</td>\n",
       "      <td>1.0</td>\n",
       "      <td>0</td>\n",
       "      <td>4.0</td>\n",
       "      <td>2.0</td>\n",
       "      <td>0</td>\n",
       "      <td>0</td>\n",
       "      <td>0</td>\n",
       "      <td>1</td>\n",
       "      <td>0</td>\n",
       "      <td>0</td>\n",
       "      <td>0</td>\n",
       "    </tr>\n",
       "  </tbody>\n",
       "</table>\n",
       "</div>"
      ],
      "text/plain": [
       "   zipcodefmt  park_distance_bins  close_time_bins  is_county_ind  jeni_tier  \\\n",
       "0     90063.0                   2              1.0              0        4.0   \n",
       "\n",
       "   food_center_count  assignto_EV  assignto_HB  assignto_LSD  assignto_NC  \\\n",
       "0                2.0            0            0             0            1   \n",
       "\n",
       "   assignto_SLA  assignto_WLA  assignto_WV  \n",
       "0             0             0            0  "
      ]
     },
     "execution_count": 63,
     "metadata": {},
     "output_type": "execute_result"
    }
   ],
   "source": [
    "numeric_variables.head(1)"
   ]
  },
  {
   "cell_type": "markdown",
   "id": "169fe080-e53c-4c9c-aa79-9af82fb6c917",
   "metadata": {},
   "source": [
    "## Predict Service Ticket Close Time\n",
    "### Prepare X and Y"
   ]
  },
  {
   "cell_type": "code",
   "execution_count": 64,
   "id": "e7a7052a-6f7d-40cc-9c52-82dd069da616",
   "metadata": {},
   "outputs": [],
   "source": [
    "#drop outliers\n",
    "df_original = df.copy()\n",
    "df = df[ df['close_time_bins']<4].copy()"
   ]
  },
  {
   "cell_type": "code",
   "execution_count": 65,
   "id": "9fb78bb8-1171-40b0-8c0f-1db16fb94738",
   "metadata": {},
   "outputs": [
    {
     "data": {
      "text/plain": [
       "((37264, 18), (44736, 18))"
      ]
     },
     "execution_count": 65,
     "metadata": {},
     "output_type": "execute_result"
    }
   ],
   "source": [
    "df.shape , df_original.shape"
   ]
  },
  {
   "cell_type": "code",
   "execution_count": 66,
   "id": "97348375-8d02-4cd0-857b-939b4d474900",
   "metadata": {},
   "outputs": [],
   "source": [
    "x = df[list(numeric_variables.columns)]"
   ]
  },
  {
   "cell_type": "code",
   "execution_count": 67,
   "id": "fee21055-6945-46d7-8882-494bb8401916",
   "metadata": {},
   "outputs": [
    {
     "data": {
      "text/html": [
       "<div>\n",
       "<style scoped>\n",
       "    .dataframe tbody tr th:only-of-type {\n",
       "        vertical-align: middle;\n",
       "    }\n",
       "\n",
       "    .dataframe tbody tr th {\n",
       "        vertical-align: top;\n",
       "    }\n",
       "\n",
       "    .dataframe thead th {\n",
       "        text-align: right;\n",
       "    }\n",
       "</style>\n",
       "<table border=\"1\" class=\"dataframe\">\n",
       "  <thead>\n",
       "    <tr style=\"text-align: right;\">\n",
       "      <th></th>\n",
       "      <th>park_distance_bins</th>\n",
       "      <th>is_county_ind</th>\n",
       "      <th>jeni_tier</th>\n",
       "      <th>food_center_count</th>\n",
       "      <th>assignto_EV</th>\n",
       "      <th>assignto_HB</th>\n",
       "      <th>assignto_LSD</th>\n",
       "      <th>assignto_NC</th>\n",
       "      <th>assignto_SLA</th>\n",
       "      <th>assignto_WLA</th>\n",
       "      <th>assignto_WV</th>\n",
       "    </tr>\n",
       "  </thead>\n",
       "  <tbody>\n",
       "    <tr>\n",
       "      <th>0</th>\n",
       "      <td>2</td>\n",
       "      <td>0</td>\n",
       "      <td>4.0</td>\n",
       "      <td>2.0</td>\n",
       "      <td>0</td>\n",
       "      <td>0</td>\n",
       "      <td>0</td>\n",
       "      <td>1</td>\n",
       "      <td>0</td>\n",
       "      <td>0</td>\n",
       "      <td>0</td>\n",
       "    </tr>\n",
       "  </tbody>\n",
       "</table>\n",
       "</div>"
      ],
      "text/plain": [
       "   park_distance_bins  is_county_ind  jeni_tier  food_center_count  \\\n",
       "0                   2              0        4.0                2.0   \n",
       "\n",
       "   assignto_EV  assignto_HB  assignto_LSD  assignto_NC  assignto_SLA  \\\n",
       "0            0            0             0            1             0   \n",
       "\n",
       "   assignto_WLA  assignto_WV  \n",
       "0             0            0  "
      ]
     },
     "execution_count": 67,
     "metadata": {},
     "output_type": "execute_result"
    }
   ],
   "source": [
    "#x = x.drop(['close_time_days'], axis =1)\n",
    "x = x.drop(['zipcodefmt'], axis =1)\n",
    "x = x.drop(['close_time_bins'], axis=1)\n",
    "x.head(1)"
   ]
  },
  {
   "cell_type": "code",
   "execution_count": 68,
   "id": "8fb35320-0ed8-4529-b0d4-14cf49107b44",
   "metadata": {},
   "outputs": [],
   "source": [
    "y = df['close_time_bins']"
   ]
  },
  {
   "cell_type": "code",
   "execution_count": 69,
   "id": "734d01ae-520f-414b-889b-43c9fc1eb455",
   "metadata": {},
   "outputs": [
    {
     "data": {
      "text/plain": [
       "0    1.0\n",
       "1    1.0\n",
       "2    1.0\n",
       "3    1.0\n",
       "6    1.0\n",
       "Name: close_time_bins, dtype: float64"
      ]
     },
     "execution_count": 69,
     "metadata": {},
     "output_type": "execute_result"
    }
   ],
   "source": [
    "y.head()"
   ]
  },
  {
   "cell_type": "code",
   "execution_count": 70,
   "id": "d4c5823e-b4b3-4f30-bb6c-ef818a45967e",
   "metadata": {},
   "outputs": [],
   "source": [
    "sc= StandardScaler()\n",
    "sc.fit(x)\n",
    "x_scaled = sc.transform(x)    \n"
   ]
  },
  {
   "cell_type": "code",
   "execution_count": 71,
   "id": "23aff748-6a3a-4ac4-bcb2-a06e0aca497b",
   "metadata": {},
   "outputs": [],
   "source": [
    "X_train, X_test, Y_train, Y_test = train_test_split(x_scaled, y, test_size=.2, stratify = y) \n"
   ]
  },
  {
   "cell_type": "code",
   "execution_count": 88,
   "id": "6cf4f89e-316d-4465-a5fc-4786751c5f6f",
   "metadata": {},
   "outputs": [
    {
     "data": {
      "text/html": [
       "<div>\n",
       "<style scoped>\n",
       "    .dataframe tbody tr th:only-of-type {\n",
       "        vertical-align: middle;\n",
       "    }\n",
       "\n",
       "    .dataframe tbody tr th {\n",
       "        vertical-align: top;\n",
       "    }\n",
       "\n",
       "    .dataframe thead th {\n",
       "        text-align: right;\n",
       "    }\n",
       "</style>\n",
       "<table border=\"1\" class=\"dataframe\">\n",
       "  <thead>\n",
       "    <tr style=\"text-align: right;\">\n",
       "      <th></th>\n",
       "      <th>park_distance_bins</th>\n",
       "      <th>is_county_ind</th>\n",
       "      <th>jeni_tier</th>\n",
       "      <th>food_center_count</th>\n",
       "      <th>assignto_EV</th>\n",
       "      <th>assignto_HB</th>\n",
       "      <th>assignto_LSD</th>\n",
       "      <th>assignto_NC</th>\n",
       "      <th>assignto_SLA</th>\n",
       "      <th>assignto_WLA</th>\n",
       "      <th>assignto_WV</th>\n",
       "    </tr>\n",
       "  </thead>\n",
       "  <tbody>\n",
       "    <tr>\n",
       "      <th>0</th>\n",
       "      <td>2</td>\n",
       "      <td>0</td>\n",
       "      <td>4.0</td>\n",
       "      <td>2.0</td>\n",
       "      <td>0</td>\n",
       "      <td>0</td>\n",
       "      <td>0</td>\n",
       "      <td>1</td>\n",
       "      <td>0</td>\n",
       "      <td>0</td>\n",
       "      <td>0</td>\n",
       "    </tr>\n",
       "  </tbody>\n",
       "</table>\n",
       "</div>"
      ],
      "text/plain": [
       "   park_distance_bins  is_county_ind  jeni_tier  food_center_count  \\\n",
       "0                   2              0        4.0                2.0   \n",
       "\n",
       "   assignto_EV  assignto_HB  assignto_LSD  assignto_NC  assignto_SLA  \\\n",
       "0            0            0             0            1             0   \n",
       "\n",
       "   assignto_WLA  assignto_WV  \n",
       "0             0            0  "
      ]
     },
     "execution_count": 88,
     "metadata": {},
     "output_type": "execute_result"
    }
   ],
   "source": [
    "x.head(1)"
   ]
  },
  {
   "cell_type": "markdown",
   "id": "aa22ad95-42e3-4812-b1a6-db9bd9eecdae",
   "metadata": {},
   "source": [
    "### Logistic Regression"
   ]
  },
  {
   "cell_type": "code",
   "execution_count": 72,
   "id": "2aeed513-a720-4cb0-8642-c0eb93b00222",
   "metadata": {},
   "outputs": [
    {
     "data": {
      "text/html": [
       "<style>#sk-container-id-2 {\n",
       "  /* Definition of color scheme common for light and dark mode */\n",
       "  --sklearn-color-text: #000;\n",
       "  --sklearn-color-text-muted: #666;\n",
       "  --sklearn-color-line: gray;\n",
       "  /* Definition of color scheme for unfitted estimators */\n",
       "  --sklearn-color-unfitted-level-0: #fff5e6;\n",
       "  --sklearn-color-unfitted-level-1: #f6e4d2;\n",
       "  --sklearn-color-unfitted-level-2: #ffe0b3;\n",
       "  --sklearn-color-unfitted-level-3: chocolate;\n",
       "  /* Definition of color scheme for fitted estimators */\n",
       "  --sklearn-color-fitted-level-0: #f0f8ff;\n",
       "  --sklearn-color-fitted-level-1: #d4ebff;\n",
       "  --sklearn-color-fitted-level-2: #b3dbfd;\n",
       "  --sklearn-color-fitted-level-3: cornflowerblue;\n",
       "\n",
       "  /* Specific color for light theme */\n",
       "  --sklearn-color-text-on-default-background: var(--sg-text-color, var(--theme-code-foreground, var(--jp-content-font-color1, black)));\n",
       "  --sklearn-color-background: var(--sg-background-color, var(--theme-background, var(--jp-layout-color0, white)));\n",
       "  --sklearn-color-border-box: var(--sg-text-color, var(--theme-code-foreground, var(--jp-content-font-color1, black)));\n",
       "  --sklearn-color-icon: #696969;\n",
       "\n",
       "  @media (prefers-color-scheme: dark) {\n",
       "    /* Redefinition of color scheme for dark theme */\n",
       "    --sklearn-color-text-on-default-background: var(--sg-text-color, var(--theme-code-foreground, var(--jp-content-font-color1, white)));\n",
       "    --sklearn-color-background: var(--sg-background-color, var(--theme-background, var(--jp-layout-color0, #111)));\n",
       "    --sklearn-color-border-box: var(--sg-text-color, var(--theme-code-foreground, var(--jp-content-font-color1, white)));\n",
       "    --sklearn-color-icon: #878787;\n",
       "  }\n",
       "}\n",
       "\n",
       "#sk-container-id-2 {\n",
       "  color: var(--sklearn-color-text);\n",
       "}\n",
       "\n",
       "#sk-container-id-2 pre {\n",
       "  padding: 0;\n",
       "}\n",
       "\n",
       "#sk-container-id-2 input.sk-hidden--visually {\n",
       "  border: 0;\n",
       "  clip: rect(1px 1px 1px 1px);\n",
       "  clip: rect(1px, 1px, 1px, 1px);\n",
       "  height: 1px;\n",
       "  margin: -1px;\n",
       "  overflow: hidden;\n",
       "  padding: 0;\n",
       "  position: absolute;\n",
       "  width: 1px;\n",
       "}\n",
       "\n",
       "#sk-container-id-2 div.sk-dashed-wrapped {\n",
       "  border: 1px dashed var(--sklearn-color-line);\n",
       "  margin: 0 0.4em 0.5em 0.4em;\n",
       "  box-sizing: border-box;\n",
       "  padding-bottom: 0.4em;\n",
       "  background-color: var(--sklearn-color-background);\n",
       "}\n",
       "\n",
       "#sk-container-id-2 div.sk-container {\n",
       "  /* jupyter's `normalize.less` sets `[hidden] { display: none; }`\n",
       "     but bootstrap.min.css set `[hidden] { display: none !important; }`\n",
       "     so we also need the `!important` here to be able to override the\n",
       "     default hidden behavior on the sphinx rendered scikit-learn.org.\n",
       "     See: https://github.com/scikit-learn/scikit-learn/issues/21755 */\n",
       "  display: inline-block !important;\n",
       "  position: relative;\n",
       "}\n",
       "\n",
       "#sk-container-id-2 div.sk-text-repr-fallback {\n",
       "  display: none;\n",
       "}\n",
       "\n",
       "div.sk-parallel-item,\n",
       "div.sk-serial,\n",
       "div.sk-item {\n",
       "  /* draw centered vertical line to link estimators */\n",
       "  background-image: linear-gradient(var(--sklearn-color-text-on-default-background), var(--sklearn-color-text-on-default-background));\n",
       "  background-size: 2px 100%;\n",
       "  background-repeat: no-repeat;\n",
       "  background-position: center center;\n",
       "}\n",
       "\n",
       "/* Parallel-specific style estimator block */\n",
       "\n",
       "#sk-container-id-2 div.sk-parallel-item::after {\n",
       "  content: \"\";\n",
       "  width: 100%;\n",
       "  border-bottom: 2px solid var(--sklearn-color-text-on-default-background);\n",
       "  flex-grow: 1;\n",
       "}\n",
       "\n",
       "#sk-container-id-2 div.sk-parallel {\n",
       "  display: flex;\n",
       "  align-items: stretch;\n",
       "  justify-content: center;\n",
       "  background-color: var(--sklearn-color-background);\n",
       "  position: relative;\n",
       "}\n",
       "\n",
       "#sk-container-id-2 div.sk-parallel-item {\n",
       "  display: flex;\n",
       "  flex-direction: column;\n",
       "}\n",
       "\n",
       "#sk-container-id-2 div.sk-parallel-item:first-child::after {\n",
       "  align-self: flex-end;\n",
       "  width: 50%;\n",
       "}\n",
       "\n",
       "#sk-container-id-2 div.sk-parallel-item:last-child::after {\n",
       "  align-self: flex-start;\n",
       "  width: 50%;\n",
       "}\n",
       "\n",
       "#sk-container-id-2 div.sk-parallel-item:only-child::after {\n",
       "  width: 0;\n",
       "}\n",
       "\n",
       "/* Serial-specific style estimator block */\n",
       "\n",
       "#sk-container-id-2 div.sk-serial {\n",
       "  display: flex;\n",
       "  flex-direction: column;\n",
       "  align-items: center;\n",
       "  background-color: var(--sklearn-color-background);\n",
       "  padding-right: 1em;\n",
       "  padding-left: 1em;\n",
       "}\n",
       "\n",
       "\n",
       "/* Toggleable style: style used for estimator/Pipeline/ColumnTransformer box that is\n",
       "clickable and can be expanded/collapsed.\n",
       "- Pipeline and ColumnTransformer use this feature and define the default style\n",
       "- Estimators will overwrite some part of the style using the `sk-estimator` class\n",
       "*/\n",
       "\n",
       "/* Pipeline and ColumnTransformer style (default) */\n",
       "\n",
       "#sk-container-id-2 div.sk-toggleable {\n",
       "  /* Default theme specific background. It is overwritten whether we have a\n",
       "  specific estimator or a Pipeline/ColumnTransformer */\n",
       "  background-color: var(--sklearn-color-background);\n",
       "}\n",
       "\n",
       "/* Toggleable label */\n",
       "#sk-container-id-2 label.sk-toggleable__label {\n",
       "  cursor: pointer;\n",
       "  display: flex;\n",
       "  width: 100%;\n",
       "  margin-bottom: 0;\n",
       "  padding: 0.5em;\n",
       "  box-sizing: border-box;\n",
       "  text-align: center;\n",
       "  align-items: start;\n",
       "  justify-content: space-between;\n",
       "  gap: 0.5em;\n",
       "}\n",
       "\n",
       "#sk-container-id-2 label.sk-toggleable__label .caption {\n",
       "  font-size: 0.6rem;\n",
       "  font-weight: lighter;\n",
       "  color: var(--sklearn-color-text-muted);\n",
       "}\n",
       "\n",
       "#sk-container-id-2 label.sk-toggleable__label-arrow:before {\n",
       "  /* Arrow on the left of the label */\n",
       "  content: \"▸\";\n",
       "  float: left;\n",
       "  margin-right: 0.25em;\n",
       "  color: var(--sklearn-color-icon);\n",
       "}\n",
       "\n",
       "#sk-container-id-2 label.sk-toggleable__label-arrow:hover:before {\n",
       "  color: var(--sklearn-color-text);\n",
       "}\n",
       "\n",
       "/* Toggleable content - dropdown */\n",
       "\n",
       "#sk-container-id-2 div.sk-toggleable__content {\n",
       "  max-height: 0;\n",
       "  max-width: 0;\n",
       "  overflow: hidden;\n",
       "  text-align: left;\n",
       "  /* unfitted */\n",
       "  background-color: var(--sklearn-color-unfitted-level-0);\n",
       "}\n",
       "\n",
       "#sk-container-id-2 div.sk-toggleable__content.fitted {\n",
       "  /* fitted */\n",
       "  background-color: var(--sklearn-color-fitted-level-0);\n",
       "}\n",
       "\n",
       "#sk-container-id-2 div.sk-toggleable__content pre {\n",
       "  margin: 0.2em;\n",
       "  border-radius: 0.25em;\n",
       "  color: var(--sklearn-color-text);\n",
       "  /* unfitted */\n",
       "  background-color: var(--sklearn-color-unfitted-level-0);\n",
       "}\n",
       "\n",
       "#sk-container-id-2 div.sk-toggleable__content.fitted pre {\n",
       "  /* unfitted */\n",
       "  background-color: var(--sklearn-color-fitted-level-0);\n",
       "}\n",
       "\n",
       "#sk-container-id-2 input.sk-toggleable__control:checked~div.sk-toggleable__content {\n",
       "  /* Expand drop-down */\n",
       "  max-height: 200px;\n",
       "  max-width: 100%;\n",
       "  overflow: auto;\n",
       "}\n",
       "\n",
       "#sk-container-id-2 input.sk-toggleable__control:checked~label.sk-toggleable__label-arrow:before {\n",
       "  content: \"▾\";\n",
       "}\n",
       "\n",
       "/* Pipeline/ColumnTransformer-specific style */\n",
       "\n",
       "#sk-container-id-2 div.sk-label input.sk-toggleable__control:checked~label.sk-toggleable__label {\n",
       "  color: var(--sklearn-color-text);\n",
       "  background-color: var(--sklearn-color-unfitted-level-2);\n",
       "}\n",
       "\n",
       "#sk-container-id-2 div.sk-label.fitted input.sk-toggleable__control:checked~label.sk-toggleable__label {\n",
       "  background-color: var(--sklearn-color-fitted-level-2);\n",
       "}\n",
       "\n",
       "/* Estimator-specific style */\n",
       "\n",
       "/* Colorize estimator box */\n",
       "#sk-container-id-2 div.sk-estimator input.sk-toggleable__control:checked~label.sk-toggleable__label {\n",
       "  /* unfitted */\n",
       "  background-color: var(--sklearn-color-unfitted-level-2);\n",
       "}\n",
       "\n",
       "#sk-container-id-2 div.sk-estimator.fitted input.sk-toggleable__control:checked~label.sk-toggleable__label {\n",
       "  /* fitted */\n",
       "  background-color: var(--sklearn-color-fitted-level-2);\n",
       "}\n",
       "\n",
       "#sk-container-id-2 div.sk-label label.sk-toggleable__label,\n",
       "#sk-container-id-2 div.sk-label label {\n",
       "  /* The background is the default theme color */\n",
       "  color: var(--sklearn-color-text-on-default-background);\n",
       "}\n",
       "\n",
       "/* On hover, darken the color of the background */\n",
       "#sk-container-id-2 div.sk-label:hover label.sk-toggleable__label {\n",
       "  color: var(--sklearn-color-text);\n",
       "  background-color: var(--sklearn-color-unfitted-level-2);\n",
       "}\n",
       "\n",
       "/* Label box, darken color on hover, fitted */\n",
       "#sk-container-id-2 div.sk-label.fitted:hover label.sk-toggleable__label.fitted {\n",
       "  color: var(--sklearn-color-text);\n",
       "  background-color: var(--sklearn-color-fitted-level-2);\n",
       "}\n",
       "\n",
       "/* Estimator label */\n",
       "\n",
       "#sk-container-id-2 div.sk-label label {\n",
       "  font-family: monospace;\n",
       "  font-weight: bold;\n",
       "  display: inline-block;\n",
       "  line-height: 1.2em;\n",
       "}\n",
       "\n",
       "#sk-container-id-2 div.sk-label-container {\n",
       "  text-align: center;\n",
       "}\n",
       "\n",
       "/* Estimator-specific */\n",
       "#sk-container-id-2 div.sk-estimator {\n",
       "  font-family: monospace;\n",
       "  border: 1px dotted var(--sklearn-color-border-box);\n",
       "  border-radius: 0.25em;\n",
       "  box-sizing: border-box;\n",
       "  margin-bottom: 0.5em;\n",
       "  /* unfitted */\n",
       "  background-color: var(--sklearn-color-unfitted-level-0);\n",
       "}\n",
       "\n",
       "#sk-container-id-2 div.sk-estimator.fitted {\n",
       "  /* fitted */\n",
       "  background-color: var(--sklearn-color-fitted-level-0);\n",
       "}\n",
       "\n",
       "/* on hover */\n",
       "#sk-container-id-2 div.sk-estimator:hover {\n",
       "  /* unfitted */\n",
       "  background-color: var(--sklearn-color-unfitted-level-2);\n",
       "}\n",
       "\n",
       "#sk-container-id-2 div.sk-estimator.fitted:hover {\n",
       "  /* fitted */\n",
       "  background-color: var(--sklearn-color-fitted-level-2);\n",
       "}\n",
       "\n",
       "/* Specification for estimator info (e.g. \"i\" and \"?\") */\n",
       "\n",
       "/* Common style for \"i\" and \"?\" */\n",
       "\n",
       ".sk-estimator-doc-link,\n",
       "a:link.sk-estimator-doc-link,\n",
       "a:visited.sk-estimator-doc-link {\n",
       "  float: right;\n",
       "  font-size: smaller;\n",
       "  line-height: 1em;\n",
       "  font-family: monospace;\n",
       "  background-color: var(--sklearn-color-background);\n",
       "  border-radius: 1em;\n",
       "  height: 1em;\n",
       "  width: 1em;\n",
       "  text-decoration: none !important;\n",
       "  margin-left: 0.5em;\n",
       "  text-align: center;\n",
       "  /* unfitted */\n",
       "  border: var(--sklearn-color-unfitted-level-1) 1pt solid;\n",
       "  color: var(--sklearn-color-unfitted-level-1);\n",
       "}\n",
       "\n",
       ".sk-estimator-doc-link.fitted,\n",
       "a:link.sk-estimator-doc-link.fitted,\n",
       "a:visited.sk-estimator-doc-link.fitted {\n",
       "  /* fitted */\n",
       "  border: var(--sklearn-color-fitted-level-1) 1pt solid;\n",
       "  color: var(--sklearn-color-fitted-level-1);\n",
       "}\n",
       "\n",
       "/* On hover */\n",
       "div.sk-estimator:hover .sk-estimator-doc-link:hover,\n",
       ".sk-estimator-doc-link:hover,\n",
       "div.sk-label-container:hover .sk-estimator-doc-link:hover,\n",
       ".sk-estimator-doc-link:hover {\n",
       "  /* unfitted */\n",
       "  background-color: var(--sklearn-color-unfitted-level-3);\n",
       "  color: var(--sklearn-color-background);\n",
       "  text-decoration: none;\n",
       "}\n",
       "\n",
       "div.sk-estimator.fitted:hover .sk-estimator-doc-link.fitted:hover,\n",
       ".sk-estimator-doc-link.fitted:hover,\n",
       "div.sk-label-container:hover .sk-estimator-doc-link.fitted:hover,\n",
       ".sk-estimator-doc-link.fitted:hover {\n",
       "  /* fitted */\n",
       "  background-color: var(--sklearn-color-fitted-level-3);\n",
       "  color: var(--sklearn-color-background);\n",
       "  text-decoration: none;\n",
       "}\n",
       "\n",
       "/* Span, style for the box shown on hovering the info icon */\n",
       ".sk-estimator-doc-link span {\n",
       "  display: none;\n",
       "  z-index: 9999;\n",
       "  position: relative;\n",
       "  font-weight: normal;\n",
       "  right: .2ex;\n",
       "  padding: .5ex;\n",
       "  margin: .5ex;\n",
       "  width: min-content;\n",
       "  min-width: 20ex;\n",
       "  max-width: 50ex;\n",
       "  color: var(--sklearn-color-text);\n",
       "  box-shadow: 2pt 2pt 4pt #999;\n",
       "  /* unfitted */\n",
       "  background: var(--sklearn-color-unfitted-level-0);\n",
       "  border: .5pt solid var(--sklearn-color-unfitted-level-3);\n",
       "}\n",
       "\n",
       ".sk-estimator-doc-link.fitted span {\n",
       "  /* fitted */\n",
       "  background: var(--sklearn-color-fitted-level-0);\n",
       "  border: var(--sklearn-color-fitted-level-3);\n",
       "}\n",
       "\n",
       ".sk-estimator-doc-link:hover span {\n",
       "  display: block;\n",
       "}\n",
       "\n",
       "/* \"?\"-specific style due to the `<a>` HTML tag */\n",
       "\n",
       "#sk-container-id-2 a.estimator_doc_link {\n",
       "  float: right;\n",
       "  font-size: 1rem;\n",
       "  line-height: 1em;\n",
       "  font-family: monospace;\n",
       "  background-color: var(--sklearn-color-background);\n",
       "  border-radius: 1rem;\n",
       "  height: 1rem;\n",
       "  width: 1rem;\n",
       "  text-decoration: none;\n",
       "  /* unfitted */\n",
       "  color: var(--sklearn-color-unfitted-level-1);\n",
       "  border: var(--sklearn-color-unfitted-level-1) 1pt solid;\n",
       "}\n",
       "\n",
       "#sk-container-id-2 a.estimator_doc_link.fitted {\n",
       "  /* fitted */\n",
       "  border: var(--sklearn-color-fitted-level-1) 1pt solid;\n",
       "  color: var(--sklearn-color-fitted-level-1);\n",
       "}\n",
       "\n",
       "/* On hover */\n",
       "#sk-container-id-2 a.estimator_doc_link:hover {\n",
       "  /* unfitted */\n",
       "  background-color: var(--sklearn-color-unfitted-level-3);\n",
       "  color: var(--sklearn-color-background);\n",
       "  text-decoration: none;\n",
       "}\n",
       "\n",
       "#sk-container-id-2 a.estimator_doc_link.fitted:hover {\n",
       "  /* fitted */\n",
       "  background-color: var(--sklearn-color-fitted-level-3);\n",
       "}\n",
       "</style><div id=\"sk-container-id-2\" class=\"sk-top-container\"><div class=\"sk-text-repr-fallback\"><pre>LogisticRegression(C=1000.0, max_iter=1000, random_state=0)</pre><b>In a Jupyter environment, please rerun this cell to show the HTML representation or trust the notebook. <br />On GitHub, the HTML representation is unable to render, please try loading this page with nbviewer.org.</b></div><div class=\"sk-container\" hidden><div class=\"sk-item\"><div class=\"sk-estimator fitted sk-toggleable\"><input class=\"sk-toggleable__control sk-hidden--visually\" id=\"sk-estimator-id-2\" type=\"checkbox\" checked><label for=\"sk-estimator-id-2\" class=\"sk-toggleable__label fitted sk-toggleable__label-arrow\"><div><div>LogisticRegression</div></div><div><a class=\"sk-estimator-doc-link fitted\" rel=\"noreferrer\" target=\"_blank\" href=\"https://scikit-learn.org/1.6/modules/generated/sklearn.linear_model.LogisticRegression.html\">?<span>Documentation for LogisticRegression</span></a><span class=\"sk-estimator-doc-link fitted\">i<span>Fitted</span></span></div></label><div class=\"sk-toggleable__content fitted\"><pre>LogisticRegression(C=1000.0, max_iter=1000, random_state=0)</pre></div> </div></div></div></div>"
      ],
      "text/plain": [
       "LogisticRegression(C=1000.0, max_iter=1000, random_state=0)"
      ]
     },
     "execution_count": 72,
     "metadata": {},
     "output_type": "execute_result"
    }
   ],
   "source": [
    "lr = LogisticRegression(C=1000.0, random_state = 0, max_iter  = 1000) \n",
    "\n",
    "# train data\n",
    "lr.fit(X_train, Y_train)"
   ]
  },
  {
   "cell_type": "code",
   "execution_count": 73,
   "id": "7150abad-0c4e-4794-8359-d15f0f64cbcc",
   "metadata": {},
   "outputs": [],
   "source": [
    "Y_predicted = lr.predict(X_test)\n",
    "\n"
   ]
  },
  {
   "cell_type": "code",
   "execution_count": 74,
   "id": "03818096-27b7-411e-8666-b7e8e654cf52",
   "metadata": {},
   "outputs": [],
   "source": [
    "# correlation\n",
    "corr_lr = pd.Series(Y_predicted).corr(pd.Series(Y_test), method='spearman')\n",
    "\n",
    "# r2_score\n",
    "rsquared_lr = r2_score(Y_test, Y_predicted)"
   ]
  },
  {
   "cell_type": "code",
   "execution_count": 75,
   "id": "d79108f9-9f4b-44bd-830f-0e40ebf6cd0d",
   "metadata": {},
   "outputs": [
    {
     "data": {
      "text/plain": [
       "(-0.8333147473161207, np.float64(0.06831018306311394))"
      ]
     },
     "execution_count": 75,
     "metadata": {},
     "output_type": "execute_result"
    }
   ],
   "source": [
    "rsquared_lr, corr_lr"
   ]
  },
  {
   "cell_type": "code",
   "execution_count": 76,
   "id": "a1ae8598-e533-4180-8c45-c3ce5b7aa95c",
   "metadata": {},
   "outputs": [
    {
     "name": "stdout",
     "output_type": "stream",
     "text": [
      "[[ 0.0344372  -0.04627922 -0.00885701 -0.01192564 -0.06455315  0.03855903\n",
      "  -0.0454939   0.00559553 -0.04279613  0.08796151  0.00612043]\n",
      " [-0.04292592  0.03469758  0.02539211 -0.04895831  0.07033419  0.00127432\n",
      "   0.01134025  0.00584919 -0.01543108 -0.04079428 -0.03022253]\n",
      " [ 0.00848872  0.01158164 -0.0165351   0.06088396 -0.00578104 -0.03983336\n",
      "   0.03415365 -0.01144472  0.05822721 -0.04716724  0.0241021 ]]\n"
     ]
    }
   ],
   "source": [
    "# Check the coefficients of the models of 10 features by checking the linear coefficients\n",
    "print(lr.coef_)"
   ]
  },
  {
   "cell_type": "code",
   "execution_count": 77,
   "id": "ba28603f-d4df-4db0-ab49-61cec5cfad1d",
   "metadata": {},
   "outputs": [
    {
     "data": {
      "text/plain": [
       "(np.float64(3.0), np.float64(3.0), np.float64(1.0), np.float64(1.0))"
      ]
     },
     "execution_count": 77,
     "metadata": {},
     "output_type": "execute_result"
    }
   ],
   "source": [
    "Y_predicted.max(), Y_test.max(), Y_predicted.min(), Y_test.min()"
   ]
  },
  {
   "cell_type": "code",
   "execution_count": 78,
   "id": "fd40344e-ed78-4536-b9a1-e3584b2316d1",
   "metadata": {},
   "outputs": [
    {
     "data": {
      "text/plain": [
       "array([3., 2., 3., ..., 2., 1., 3.])"
      ]
     },
     "execution_count": 78,
     "metadata": {},
     "output_type": "execute_result"
    }
   ],
   "source": [
    "Y_predicted"
   ]
  },
  {
   "cell_type": "code",
   "execution_count": 79,
   "id": "4773b54b-3705-4952-9b64-eff4f56a271c",
   "metadata": {},
   "outputs": [
    {
     "name": "stdout",
     "output_type": "stream",
     "text": [
      " Logistic Regression Initial Classifier:\n",
      "              precision    recall  f1-score   support\n",
      "\n",
      "         1.0       0.41      0.29      0.34      2445\n",
      "         2.0       0.37      0.41      0.39      2483\n",
      "         3.0       0.36      0.42      0.39      2525\n",
      "\n",
      "    accuracy                           0.38      7453\n",
      "   macro avg       0.38      0.38      0.37      7453\n",
      "weighted avg       0.38      0.38      0.37      7453\n",
      "\n"
     ]
    }
   ],
   "source": [
    "print(\" Logistic Regression Initial Classifier:\")\n",
    "print(classification_report(  Y_test, Y_predicted , zero_division=0))  \n"
   ]
  },
  {
   "cell_type": "code",
   "execution_count": 80,
   "id": "0c23389f-0232-4f9c-8d97-cc0d8de0fbee",
   "metadata": {},
   "outputs": [
    {
     "data": {
      "image/png": "[encoded data removed]",
      "text/plain": [
       "<Figure size 1000x1000 with 2 Axes>"
      ]
     },
     "metadata": {},
     "output_type": "display_data"
    }
   ],
   "source": [
    "#plot confusion matrix\n",
    "conf_matrix = confusion_matrix(Y_test, Y_predicted)  \n",
    "\n",
    "plt.figure(figsize=(10, 10))\n",
    "sns.heatmap(conf_matrix, annot=True, fmt='d', cmap='Blues', xticklabels=lr.classes_, yticklabels=lr.classes_)\n",
    "plt.title('Confusion Matrix - Classifier')\n",
    "plt.xlabel('Predicted')\n",
    "plt.ylabel('Actual')\n",
    "plt.show()"
   ]
  },
  {
   "cell_type": "code",
   "execution_count": 81,
   "id": "0238330b-858e-4b67-8fba-0adf72ff2757",
   "metadata": {},
   "outputs": [
    {
     "name": "stdout",
     "output_type": "stream",
     "text": [
      "Fitting 10 folds for each of 3 candidates, totalling 30 fits\n",
      "  best grid score in cv: 0.37457907770510485\n",
      "  grid test score: 0.3737819199378436\n"
     ]
    }
   ],
   "source": [
    "# Parameter space for Classifier\n",
    "# Grid search will evaluate all combinations of these parameters\n",
    "class_params_grid = {\n",
    "    'penalty': [  'l2' ],#None\n",
    "    'max_iter': [2000   ],\n",
    "    'C': [1.0,2,5]\n",
    "}\n",
    "\n",
    "# Perform grid search with cross-validation for Decision Tree Classifier\n",
    "grid_search_classifier = GridSearchCV(\n",
    "    LogisticRegression(),\n",
    "    class_params_grid,\n",
    "    cv=10, # 10-fold cross-validation\n",
    "    scoring='f1_macro', # Use F1 score for multiclass classification\n",
    "    verbose=1\n",
    "    )\n",
    "\n",
    "grid_search_classifier.fit(X_train , Y_train)\n",
    "\n",
    "print(\"  best grid score in cv: \" + str(grid_search_classifier.best_score_))\n",
    "print(\"  grid test score: \" + str(grid_search_classifier.score(X_test , Y_test)))"
   ]
  },
  {
   "cell_type": "code",
   "execution_count": 82,
   "id": "21eaa762-fa74-4246-b127-123e2b08150a",
   "metadata": {},
   "outputs": [
    {
     "name": "stdout",
     "output_type": "stream",
     "text": [
      " best params: {'C': 1.0, 'max_iter': 2000, 'penalty': 'l2'}\n"
     ]
    }
   ],
   "source": [
    "class_best_params = grid_search_classifier.best_params_\n",
    "print(\" best params: \" + str(class_best_params))"
   ]
  },
  {
   "cell_type": "code",
   "execution_count": 83,
   "id": "ef897a53-8cb7-4a30-a779-0692e7df54ff",
   "metadata": {},
   "outputs": [],
   "source": [
    "y_pred = grid_search_classifier.predict(X_test )"
   ]
  },
  {
   "cell_type": "code",
   "execution_count": 84,
   "id": "d00ab6a9-741c-4f6a-b73c-5f3d0476f7f5",
   "metadata": {},
   "outputs": [
    {
     "name": "stdout",
     "output_type": "stream",
     "text": [
      " Classification report with whole data\n",
      "              precision    recall  f1-score   support\n",
      "\n",
      "         1.0       0.41      0.29      0.34      2445\n",
      "         2.0       0.37      0.41      0.39      2483\n",
      "         3.0       0.36      0.42      0.39      2525\n",
      "\n",
      "    accuracy                           0.38      7453\n",
      "   macro avg       0.38      0.38      0.37      7453\n",
      "weighted avg       0.38      0.38      0.37      7453\n",
      "\n"
     ]
    }
   ],
   "source": [
    "grid_search_classification_report = classification_report(Y_test, y_pred,  zero_division=0)\n",
    "print(\" Classification report with whole data\")\n",
    "print(grid_search_classification_report)"
   ]
  },
  {
   "cell_type": "code",
   "execution_count": 85,
   "id": "e854b25d-6ab3-4552-8dff-9c04dc4ffd13",
   "metadata": {},
   "outputs": [
    {
     "data": {
      "text/plain": [
       "<matplotlib.legend.Legend at 0x29516c319d0>"
      ]
     },
     "execution_count": 85,
     "metadata": {},
     "output_type": "execute_result"
    },
    {
     "data": {
      "image/png": "[encoded data removed]",
      "text/plain": [
       "<Figure size 640x480 with 1 Axes>"
      ]
     },
     "metadata": {},
     "output_type": "display_data"
    }
   ],
   "source": [
    "# ROC\n",
    "from sklearn.metrics import roc_curve, auc\n",
    "y_score = grid_search_classifier.predict_proba(X_test )\n",
    "chosenClass = 3.0\n",
    "chosenClassIndex = grid_search_classifier.classes_.tolist().index(chosenClass)\n",
    "fpr, tpr, thresholds = roc_curve(Y_test == chosenClass, y_score[:, chosenClassIndex])\n",
    "roc_auc = auc(fpr, tpr)\n",
    "\n",
    "\n",
    "# Plot ROC curves: tpr vs fpr (x-axis is fpr, y-axis is tpr)\n",
    "# Don't forget to draw the random guess line (y=x) use dash line \n",
    "\n",
    "# YOUR CODE HERE\n",
    "plt.plot(fpr, fpr, '--', label='Random Guess Line')\n",
    "plt.plot(fpr, tpr, label=\"DT ROC\")\n",
    "plt.xlabel(\"FPR\")\n",
    "plt.ylabel(\"TPR (Recall)\")\n",
    "plt.legend(loc=4)"
   ]
  },
  {
   "cell_type": "markdown",
   "id": "96e60f11-c226-4858-b3ef-364471b43d36",
   "metadata": {},
   "source": [
    "### SVC\n"
   ]
  },
  {
   "cell_type": "code",
   "execution_count": 60,
   "id": "4e293d5e-faf1-4283-a67b-56beb1d5b0d5",
   "metadata": {},
   "outputs": [
    {
     "data": {
      "text/plain": [
       "(29811, 10)"
      ]
     },
     "execution_count": 60,
     "metadata": {},
     "output_type": "execute_result"
    }
   ],
   "source": [
    "X_train.shape"
   ]
  },
  {
   "cell_type": "code",
   "execution_count": 61,
   "id": "410a1e63-a4c5-4d3d-959c-8802e057d781",
   "metadata": {},
   "outputs": [
    {
     "data": {
      "text/plain": [
       "(29811,)"
      ]
     },
     "execution_count": 61,
     "metadata": {},
     "output_type": "execute_result"
    }
   ],
   "source": [
    "Y_train.shape"
   ]
  },
  {
   "cell_type": "code",
   "execution_count": null,
   "id": "ff495a0b-fcfa-47b1-b757-793a82d67102",
   "metadata": {},
   "outputs": [],
   "source": [
    "# poly takes a long time\n",
    "# other types : ‘linear’, ‘poly’, ‘rbf’, ‘sigmoid’, ‘precomputed’\n",
    "# adding , probability=False to try to improve performance\n",
    "svc = SVC(kernel='rbf', C=1000.0,   cache_size=7000, )  \n",
    "svc.fit(X_train , Y_train )\n",
    " "
   ]
  },
  {
   "cell_type": "code",
   "execution_count": null,
   "id": "697aca52-44a8-4b2b-986b-3e5ac4084a9d",
   "metadata": {},
   "outputs": [],
   "source": [
    "\n",
    "y_pred = svc.predict(X_test ) \n",
    "\n",
    " "
   ]
  },
  {
   "cell_type": "code",
   "execution_count": null,
   "id": "73bf75a3-90ef-42f0-9361-07d3a3b599cb",
   "metadata": {},
   "outputs": [],
   "source": [
    "y_pred.size"
   ]
  },
  {
   "cell_type": "code",
   "execution_count": null,
   "id": "5e59612a-0812-4903-9578-705a7a6dcfb4",
   "metadata": {},
   "outputs": [],
   "source": [
    "# correlation\n",
    "corr_svc = pd.Series(y_pred).corr(pd.Series(Y_test), method='spearman')\n",
    "\n",
    "# r2_score\n",
    "rsquared_svc = r2_score(Y_test, y_pred)"
   ]
  },
  {
   "cell_type": "code",
   "execution_count": null,
   "id": "8ee0f8cb-6ae1-4cb5-8407-e0c039623287",
   "metadata": {},
   "outputs": [],
   "source": [
    "rsquared_svc, corr_svc"
   ]
  },
  {
   "cell_type": "code",
   "execution_count": null,
   "id": "a25d5604-c1a1-4602-9f75-c7421e116a5d",
   "metadata": {},
   "outputs": [],
   "source": [
    "# Parameter space for Classifier 'poly', , 'sigmoid', 'rgb'\n",
    "# Grid search will evaluate all combinations of these parameters\n",
    "class_params_grid = {\n",
    "    'C': [ 7000, 10000  ],\n",
    "    'kernel': ['linear'   ] #precomputed gives error \n",
    "}\n",
    "\n",
    "# Perform grid search with cross-validation for Decision Tree Classifier\n",
    "grid_search_classifier = GridSearchCV(\n",
    "    SVC(),\n",
    "    class_params_grid,\n",
    "    cv=10, # 10-fold cross-validation\n",
    "    scoring='f1_macro', # Use F1 score for multiclass classification\n",
    "    verbose=1\n",
    "    )\n",
    "\n",
    "grid_search_classifier.fit(X_train_scaled, y_train)\n",
    "\n",
    "print(\"  best grid score in cv: \" + str(grid_search_classifier.best_score_))\n",
    "print(\"  grid test score: \" + str(grid_search_classifier.score(X_test , Y_test)))"
   ]
  },
  {
   "cell_type": "code",
   "execution_count": null,
   "id": "9dc54871-30fb-4410-b785-7b47b6f52edd",
   "metadata": {},
   "outputs": [],
   "source": [
    "best_classifier = SVC(**class_best_params)"
   ]
  },
  {
   "cell_type": "code",
   "execution_count": null,
   "id": "517aa498-9af3-4ced-b40e-968d1e0fb1b1",
   "metadata": {},
   "outputs": [],
   "source": [
    "best_classifier.fit(X_train , y_train) # COMPLETE\n",
    "y_pred_selected = best_classifier.predict(X_test ) # COMPLETE"
   ]
  },
  {
   "cell_type": "code",
   "execution_count": null,
   "id": "66981b3a-a2d4-40af-85e9-9abf8dd1ab4f",
   "metadata": {},
   "outputs": [],
   "source": [
    "\n",
    "# Lastly, rerun the `classification_report()` and print out what your results are.\n",
    "best_classification_report_selected = classification_report(Y_test, y_pred_selected, zero_division = 0) # COMPLETE\n",
    "print(\"Best Classification report \")\n",
    "print(best_classification_report_selected)\n",
    "\n"
   ]
  },
  {
   "cell_type": "markdown",
   "id": "22561e43-707a-4f1d-a763-a2a61fda2742",
   "metadata": {},
   "source": [
    "## Random Forest"
   ]
  },
  {
   "cell_type": "code",
   "execution_count": 89,
   "id": "d9677612-5add-415d-a684-c9f80e8931a9",
   "metadata": {},
   "outputs": [],
   "source": [
    "X_train, X_test, Y_train, Y_test = train_test_split(x , y, test_size=.2, stratify = y) \n"
   ]
  },
  {
   "cell_type": "code",
   "execution_count": 112,
   "id": "9dac2059-e1bb-4591-9d8c-b7cc11da9804",
   "metadata": {},
   "outputs": [],
   "source": [
    "X_test_selected = X_test[['jeni_tier','park_distance_bins','food_center_count']]\n",
    "X_train_selected = X_train[['jeni_tier','park_distance_bins','food_center_count']]\n",
    "   "
   ]
  },
  {
   "cell_type": "code",
   "execution_count": 113,
   "id": "bf5d7fcc-890d-4ad6-9f7d-57bc97b2b081",
   "metadata": {},
   "outputs": [
    {
     "data": {
      "text/html": [
       "<div>\n",
       "<style scoped>\n",
       "    .dataframe tbody tr th:only-of-type {\n",
       "        vertical-align: middle;\n",
       "    }\n",
       "\n",
       "    .dataframe tbody tr th {\n",
       "        vertical-align: top;\n",
       "    }\n",
       "\n",
       "    .dataframe thead th {\n",
       "        text-align: right;\n",
       "    }\n",
       "</style>\n",
       "<table border=\"1\" class=\"dataframe\">\n",
       "  <thead>\n",
       "    <tr style=\"text-align: right;\">\n",
       "      <th></th>\n",
       "      <th>jeni_tier</th>\n",
       "      <th>park_distance_bins</th>\n",
       "      <th>food_center_count</th>\n",
       "    </tr>\n",
       "  </thead>\n",
       "  <tbody>\n",
       "    <tr>\n",
       "      <th>33652</th>\n",
       "      <td>2.0</td>\n",
       "      <td>0</td>\n",
       "      <td>0.0</td>\n",
       "    </tr>\n",
       "  </tbody>\n",
       "</table>\n",
       "</div>"
      ],
      "text/plain": [
       "       jeni_tier  park_distance_bins  food_center_count\n",
       "33652        2.0                   0                0.0"
      ]
     },
     "execution_count": 113,
     "metadata": {},
     "output_type": "execute_result"
    }
   ],
   "source": [
    "X_test_selected.head(1)"
   ]
  },
  {
   "cell_type": "code",
   "execution_count": 92,
   "id": "bed83163-551c-4599-809f-194598098a86",
   "metadata": {},
   "outputs": [
    {
     "data": {
      "text/html": [
       "<div>\n",
       "<style scoped>\n",
       "    .dataframe tbody tr th:only-of-type {\n",
       "        vertical-align: middle;\n",
       "    }\n",
       "\n",
       "    .dataframe tbody tr th {\n",
       "        vertical-align: top;\n",
       "    }\n",
       "\n",
       "    .dataframe thead th {\n",
       "        text-align: right;\n",
       "    }\n",
       "</style>\n",
       "<table border=\"1\" class=\"dataframe\">\n",
       "  <thead>\n",
       "    <tr style=\"text-align: right;\">\n",
       "      <th></th>\n",
       "      <th>park_distance_bins</th>\n",
       "      <th>is_county_ind</th>\n",
       "      <th>jeni_tier</th>\n",
       "      <th>food_center_count</th>\n",
       "      <th>assignto_EV</th>\n",
       "      <th>assignto_HB</th>\n",
       "      <th>assignto_LSD</th>\n",
       "      <th>assignto_NC</th>\n",
       "      <th>assignto_SLA</th>\n",
       "      <th>assignto_WLA</th>\n",
       "      <th>assignto_WV</th>\n",
       "    </tr>\n",
       "  </thead>\n",
       "  <tbody>\n",
       "    <tr>\n",
       "      <th>13044</th>\n",
       "      <td>1</td>\n",
       "      <td>1</td>\n",
       "      <td>5.0</td>\n",
       "      <td>0.0</td>\n",
       "      <td>1</td>\n",
       "      <td>0</td>\n",
       "      <td>0</td>\n",
       "      <td>0</td>\n",
       "      <td>0</td>\n",
       "      <td>0</td>\n",
       "      <td>0</td>\n",
       "    </tr>\n",
       "  </tbody>\n",
       "</table>\n",
       "</div>"
      ],
      "text/plain": [
       "       park_distance_bins  is_county_ind  jeni_tier  food_center_count  \\\n",
       "13044                   1              1        5.0                0.0   \n",
       "\n",
       "       assignto_EV  assignto_HB  assignto_LSD  assignto_NC  assignto_SLA  \\\n",
       "13044            1            0             0            0             0   \n",
       "\n",
       "       assignto_WLA  assignto_WV  \n",
       "13044             0            0  "
      ]
     },
     "execution_count": 92,
     "metadata": {},
     "output_type": "execute_result"
    }
   ],
   "source": [
    "X_train.head(1)"
   ]
  },
  {
   "cell_type": "code",
   "execution_count": 93,
   "id": "47a58910-5221-4707-a554-5f19460072c7",
   "metadata": {},
   "outputs": [
    {
     "data": {
      "text/html": [
       "<style>#sk-container-id-3 {\n",
       "  /* Definition of color scheme common for light and dark mode */\n",
       "  --sklearn-color-text: #000;\n",
       "  --sklearn-color-text-muted: #666;\n",
       "  --sklearn-color-line: gray;\n",
       "  /* Definition of color scheme for unfitted estimators */\n",
       "  --sklearn-color-unfitted-level-0: #fff5e6;\n",
       "  --sklearn-color-unfitted-level-1: #f6e4d2;\n",
       "  --sklearn-color-unfitted-level-2: #ffe0b3;\n",
       "  --sklearn-color-unfitted-level-3: chocolate;\n",
       "  /* Definition of color scheme for fitted estimators */\n",
       "  --sklearn-color-fitted-level-0: #f0f8ff;\n",
       "  --sklearn-color-fitted-level-1: #d4ebff;\n",
       "  --sklearn-color-fitted-level-2: #b3dbfd;\n",
       "  --sklearn-color-fitted-level-3: cornflowerblue;\n",
       "\n",
       "  /* Specific color for light theme */\n",
       "  --sklearn-color-text-on-default-background: var(--sg-text-color, var(--theme-code-foreground, var(--jp-content-font-color1, black)));\n",
       "  --sklearn-color-background: var(--sg-background-color, var(--theme-background, var(--jp-layout-color0, white)));\n",
       "  --sklearn-color-border-box: var(--sg-text-color, var(--theme-code-foreground, var(--jp-content-font-color1, black)));\n",
       "  --sklearn-color-icon: #696969;\n",
       "\n",
       "  @media (prefers-color-scheme: dark) {\n",
       "    /* Redefinition of color scheme for dark theme */\n",
       "    --sklearn-color-text-on-default-background: var(--sg-text-color, var(--theme-code-foreground, var(--jp-content-font-color1, white)));\n",
       "    --sklearn-color-background: var(--sg-background-color, var(--theme-background, var(--jp-layout-color0, #111)));\n",
       "    --sklearn-color-border-box: var(--sg-text-color, var(--theme-code-foreground, var(--jp-content-font-color1, white)));\n",
       "    --sklearn-color-icon: #878787;\n",
       "  }\n",
       "}\n",
       "\n",
       "#sk-container-id-3 {\n",
       "  color: var(--sklearn-color-text);\n",
       "}\n",
       "\n",
       "#sk-container-id-3 pre {\n",
       "  padding: 0;\n",
       "}\n",
       "\n",
       "#sk-container-id-3 input.sk-hidden--visually {\n",
       "  border: 0;\n",
       "  clip: rect(1px 1px 1px 1px);\n",
       "  clip: rect(1px, 1px, 1px, 1px);\n",
       "  height: 1px;\n",
       "  margin: -1px;\n",
       "  overflow: hidden;\n",
       "  padding: 0;\n",
       "  position: absolute;\n",
       "  width: 1px;\n",
       "}\n",
       "\n",
       "#sk-container-id-3 div.sk-dashed-wrapped {\n",
       "  border: 1px dashed var(--sklearn-color-line);\n",
       "  margin: 0 0.4em 0.5em 0.4em;\n",
       "  box-sizing: border-box;\n",
       "  padding-bottom: 0.4em;\n",
       "  background-color: var(--sklearn-color-background);\n",
       "}\n",
       "\n",
       "#sk-container-id-3 div.sk-container {\n",
       "  /* jupyter's `normalize.less` sets `[hidden] { display: none; }`\n",
       "     but bootstrap.min.css set `[hidden] { display: none !important; }`\n",
       "     so we also need the `!important` here to be able to override the\n",
       "     default hidden behavior on the sphinx rendered scikit-learn.org.\n",
       "     See: https://github.com/scikit-learn/scikit-learn/issues/21755 */\n",
       "  display: inline-block !important;\n",
       "  position: relative;\n",
       "}\n",
       "\n",
       "#sk-container-id-3 div.sk-text-repr-fallback {\n",
       "  display: none;\n",
       "}\n",
       "\n",
       "div.sk-parallel-item,\n",
       "div.sk-serial,\n",
       "div.sk-item {\n",
       "  /* draw centered vertical line to link estimators */\n",
       "  background-image: linear-gradient(var(--sklearn-color-text-on-default-background), var(--sklearn-color-text-on-default-background));\n",
       "  background-size: 2px 100%;\n",
       "  background-repeat: no-repeat;\n",
       "  background-position: center center;\n",
       "}\n",
       "\n",
       "/* Parallel-specific style estimator block */\n",
       "\n",
       "#sk-container-id-3 div.sk-parallel-item::after {\n",
       "  content: \"\";\n",
       "  width: 100%;\n",
       "  border-bottom: 2px solid var(--sklearn-color-text-on-default-background);\n",
       "  flex-grow: 1;\n",
       "}\n",
       "\n",
       "#sk-container-id-3 div.sk-parallel {\n",
       "  display: flex;\n",
       "  align-items: stretch;\n",
       "  justify-content: center;\n",
       "  background-color: var(--sklearn-color-background);\n",
       "  position: relative;\n",
       "}\n",
       "\n",
       "#sk-container-id-3 div.sk-parallel-item {\n",
       "  display: flex;\n",
       "  flex-direction: column;\n",
       "}\n",
       "\n",
       "#sk-container-id-3 div.sk-parallel-item:first-child::after {\n",
       "  align-self: flex-end;\n",
       "  width: 50%;\n",
       "}\n",
       "\n",
       "#sk-container-id-3 div.sk-parallel-item:last-child::after {\n",
       "  align-self: flex-start;\n",
       "  width: 50%;\n",
       "}\n",
       "\n",
       "#sk-container-id-3 div.sk-parallel-item:only-child::after {\n",
       "  width: 0;\n",
       "}\n",
       "\n",
       "/* Serial-specific style estimator block */\n",
       "\n",
       "#sk-container-id-3 div.sk-serial {\n",
       "  display: flex;\n",
       "  flex-direction: column;\n",
       "  align-items: center;\n",
       "  background-color: var(--sklearn-color-background);\n",
       "  padding-right: 1em;\n",
       "  padding-left: 1em;\n",
       "}\n",
       "\n",
       "\n",
       "/* Toggleable style: style used for estimator/Pipeline/ColumnTransformer box that is\n",
       "clickable and can be expanded/collapsed.\n",
       "- Pipeline and ColumnTransformer use this feature and define the default style\n",
       "- Estimators will overwrite some part of the style using the `sk-estimator` class\n",
       "*/\n",
       "\n",
       "/* Pipeline and ColumnTransformer style (default) */\n",
       "\n",
       "#sk-container-id-3 div.sk-toggleable {\n",
       "  /* Default theme specific background. It is overwritten whether we have a\n",
       "  specific estimator or a Pipeline/ColumnTransformer */\n",
       "  background-color: var(--sklearn-color-background);\n",
       "}\n",
       "\n",
       "/* Toggleable label */\n",
       "#sk-container-id-3 label.sk-toggleable__label {\n",
       "  cursor: pointer;\n",
       "  display: flex;\n",
       "  width: 100%;\n",
       "  margin-bottom: 0;\n",
       "  padding: 0.5em;\n",
       "  box-sizing: border-box;\n",
       "  text-align: center;\n",
       "  align-items: start;\n",
       "  justify-content: space-between;\n",
       "  gap: 0.5em;\n",
       "}\n",
       "\n",
       "#sk-container-id-3 label.sk-toggleable__label .caption {\n",
       "  font-size: 0.6rem;\n",
       "  font-weight: lighter;\n",
       "  color: var(--sklearn-color-text-muted);\n",
       "}\n",
       "\n",
       "#sk-container-id-3 label.sk-toggleable__label-arrow:before {\n",
       "  /* Arrow on the left of the label */\n",
       "  content: \"▸\";\n",
       "  float: left;\n",
       "  margin-right: 0.25em;\n",
       "  color: var(--sklearn-color-icon);\n",
       "}\n",
       "\n",
       "#sk-container-id-3 label.sk-toggleable__label-arrow:hover:before {\n",
       "  color: var(--sklearn-color-text);\n",
       "}\n",
       "\n",
       "/* Toggleable content - dropdown */\n",
       "\n",
       "#sk-container-id-3 div.sk-toggleable__content {\n",
       "  max-height: 0;\n",
       "  max-width: 0;\n",
       "  overflow: hidden;\n",
       "  text-align: left;\n",
       "  /* unfitted */\n",
       "  background-color: var(--sklearn-color-unfitted-level-0);\n",
       "}\n",
       "\n",
       "#sk-container-id-3 div.sk-toggleable__content.fitted {\n",
       "  /* fitted */\n",
       "  background-color: var(--sklearn-color-fitted-level-0);\n",
       "}\n",
       "\n",
       "#sk-container-id-3 div.sk-toggleable__content pre {\n",
       "  margin: 0.2em;\n",
       "  border-radius: 0.25em;\n",
       "  color: var(--sklearn-color-text);\n",
       "  /* unfitted */\n",
       "  background-color: var(--sklearn-color-unfitted-level-0);\n",
       "}\n",
       "\n",
       "#sk-container-id-3 div.sk-toggleable__content.fitted pre {\n",
       "  /* unfitted */\n",
       "  background-color: var(--sklearn-color-fitted-level-0);\n",
       "}\n",
       "\n",
       "#sk-container-id-3 input.sk-toggleable__control:checked~div.sk-toggleable__content {\n",
       "  /* Expand drop-down */\n",
       "  max-height: 200px;\n",
       "  max-width: 100%;\n",
       "  overflow: auto;\n",
       "}\n",
       "\n",
       "#sk-container-id-3 input.sk-toggleable__control:checked~label.sk-toggleable__label-arrow:before {\n",
       "  content: \"▾\";\n",
       "}\n",
       "\n",
       "/* Pipeline/ColumnTransformer-specific style */\n",
       "\n",
       "#sk-container-id-3 div.sk-label input.sk-toggleable__control:checked~label.sk-toggleable__label {\n",
       "  color: var(--sklearn-color-text);\n",
       "  background-color: var(--sklearn-color-unfitted-level-2);\n",
       "}\n",
       "\n",
       "#sk-container-id-3 div.sk-label.fitted input.sk-toggleable__control:checked~label.sk-toggleable__label {\n",
       "  background-color: var(--sklearn-color-fitted-level-2);\n",
       "}\n",
       "\n",
       "/* Estimator-specific style */\n",
       "\n",
       "/* Colorize estimator box */\n",
       "#sk-container-id-3 div.sk-estimator input.sk-toggleable__control:checked~label.sk-toggleable__label {\n",
       "  /* unfitted */\n",
       "  background-color: var(--sklearn-color-unfitted-level-2);\n",
       "}\n",
       "\n",
       "#sk-container-id-3 div.sk-estimator.fitted input.sk-toggleable__control:checked~label.sk-toggleable__label {\n",
       "  /* fitted */\n",
       "  background-color: var(--sklearn-color-fitted-level-2);\n",
       "}\n",
       "\n",
       "#sk-container-id-3 div.sk-label label.sk-toggleable__label,\n",
       "#sk-container-id-3 div.sk-label label {\n",
       "  /* The background is the default theme color */\n",
       "  color: var(--sklearn-color-text-on-default-background);\n",
       "}\n",
       "\n",
       "/* On hover, darken the color of the background */\n",
       "#sk-container-id-3 div.sk-label:hover label.sk-toggleable__label {\n",
       "  color: var(--sklearn-color-text);\n",
       "  background-color: var(--sklearn-color-unfitted-level-2);\n",
       "}\n",
       "\n",
       "/* Label box, darken color on hover, fitted */\n",
       "#sk-container-id-3 div.sk-label.fitted:hover label.sk-toggleable__label.fitted {\n",
       "  color: var(--sklearn-color-text);\n",
       "  background-color: var(--sklearn-color-fitted-level-2);\n",
       "}\n",
       "\n",
       "/* Estimator label */\n",
       "\n",
       "#sk-container-id-3 div.sk-label label {\n",
       "  font-family: monospace;\n",
       "  font-weight: bold;\n",
       "  display: inline-block;\n",
       "  line-height: 1.2em;\n",
       "}\n",
       "\n",
       "#sk-container-id-3 div.sk-label-container {\n",
       "  text-align: center;\n",
       "}\n",
       "\n",
       "/* Estimator-specific */\n",
       "#sk-container-id-3 div.sk-estimator {\n",
       "  font-family: monospace;\n",
       "  border: 1px dotted var(--sklearn-color-border-box);\n",
       "  border-radius: 0.25em;\n",
       "  box-sizing: border-box;\n",
       "  margin-bottom: 0.5em;\n",
       "  /* unfitted */\n",
       "  background-color: var(--sklearn-color-unfitted-level-0);\n",
       "}\n",
       "\n",
       "#sk-container-id-3 div.sk-estimator.fitted {\n",
       "  /* fitted */\n",
       "  background-color: var(--sklearn-color-fitted-level-0);\n",
       "}\n",
       "\n",
       "/* on hover */\n",
       "#sk-container-id-3 div.sk-estimator:hover {\n",
       "  /* unfitted */\n",
       "  background-color: var(--sklearn-color-unfitted-level-2);\n",
       "}\n",
       "\n",
       "#sk-container-id-3 div.sk-estimator.fitted:hover {\n",
       "  /* fitted */\n",
       "  background-color: var(--sklearn-color-fitted-level-2);\n",
       "}\n",
       "\n",
       "/* Specification for estimator info (e.g. \"i\" and \"?\") */\n",
       "\n",
       "/* Common style for \"i\" and \"?\" */\n",
       "\n",
       ".sk-estimator-doc-link,\n",
       "a:link.sk-estimator-doc-link,\n",
       "a:visited.sk-estimator-doc-link {\n",
       "  float: right;\n",
       "  font-size: smaller;\n",
       "  line-height: 1em;\n",
       "  font-family: monospace;\n",
       "  background-color: var(--sklearn-color-background);\n",
       "  border-radius: 1em;\n",
       "  height: 1em;\n",
       "  width: 1em;\n",
       "  text-decoration: none !important;\n",
       "  margin-left: 0.5em;\n",
       "  text-align: center;\n",
       "  /* unfitted */\n",
       "  border: var(--sklearn-color-unfitted-level-1) 1pt solid;\n",
       "  color: var(--sklearn-color-unfitted-level-1);\n",
       "}\n",
       "\n",
       ".sk-estimator-doc-link.fitted,\n",
       "a:link.sk-estimator-doc-link.fitted,\n",
       "a:visited.sk-estimator-doc-link.fitted {\n",
       "  /* fitted */\n",
       "  border: var(--sklearn-color-fitted-level-1) 1pt solid;\n",
       "  color: var(--sklearn-color-fitted-level-1);\n",
       "}\n",
       "\n",
       "/* On hover */\n",
       "div.sk-estimator:hover .sk-estimator-doc-link:hover,\n",
       ".sk-estimator-doc-link:hover,\n",
       "div.sk-label-container:hover .sk-estimator-doc-link:hover,\n",
       ".sk-estimator-doc-link:hover {\n",
       "  /* unfitted */\n",
       "  background-color: var(--sklearn-color-unfitted-level-3);\n",
       "  color: var(--sklearn-color-background);\n",
       "  text-decoration: none;\n",
       "}\n",
       "\n",
       "div.sk-estimator.fitted:hover .sk-estimator-doc-link.fitted:hover,\n",
       ".sk-estimator-doc-link.fitted:hover,\n",
       "div.sk-label-container:hover .sk-estimator-doc-link.fitted:hover,\n",
       ".sk-estimator-doc-link.fitted:hover {\n",
       "  /* fitted */\n",
       "  background-color: var(--sklearn-color-fitted-level-3);\n",
       "  color: var(--sklearn-color-background);\n",
       "  text-decoration: none;\n",
       "}\n",
       "\n",
       "/* Span, style for the box shown on hovering the info icon */\n",
       ".sk-estimator-doc-link span {\n",
       "  display: none;\n",
       "  z-index: 9999;\n",
       "  position: relative;\n",
       "  font-weight: normal;\n",
       "  right: .2ex;\n",
       "  padding: .5ex;\n",
       "  margin: .5ex;\n",
       "  width: min-content;\n",
       "  min-width: 20ex;\n",
       "  max-width: 50ex;\n",
       "  color: var(--sklearn-color-text);\n",
       "  box-shadow: 2pt 2pt 4pt #999;\n",
       "  /* unfitted */\n",
       "  background: var(--sklearn-color-unfitted-level-0);\n",
       "  border: .5pt solid var(--sklearn-color-unfitted-level-3);\n",
       "}\n",
       "\n",
       ".sk-estimator-doc-link.fitted span {\n",
       "  /* fitted */\n",
       "  background: var(--sklearn-color-fitted-level-0);\n",
       "  border: var(--sklearn-color-fitted-level-3);\n",
       "}\n",
       "\n",
       ".sk-estimator-doc-link:hover span {\n",
       "  display: block;\n",
       "}\n",
       "\n",
       "/* \"?\"-specific style due to the `<a>` HTML tag */\n",
       "\n",
       "#sk-container-id-3 a.estimator_doc_link {\n",
       "  float: right;\n",
       "  font-size: 1rem;\n",
       "  line-height: 1em;\n",
       "  font-family: monospace;\n",
       "  background-color: var(--sklearn-color-background);\n",
       "  border-radius: 1rem;\n",
       "  height: 1rem;\n",
       "  width: 1rem;\n",
       "  text-decoration: none;\n",
       "  /* unfitted */\n",
       "  color: var(--sklearn-color-unfitted-level-1);\n",
       "  border: var(--sklearn-color-unfitted-level-1) 1pt solid;\n",
       "}\n",
       "\n",
       "#sk-container-id-3 a.estimator_doc_link.fitted {\n",
       "  /* fitted */\n",
       "  border: var(--sklearn-color-fitted-level-1) 1pt solid;\n",
       "  color: var(--sklearn-color-fitted-level-1);\n",
       "}\n",
       "\n",
       "/* On hover */\n",
       "#sk-container-id-3 a.estimator_doc_link:hover {\n",
       "  /* unfitted */\n",
       "  background-color: var(--sklearn-color-unfitted-level-3);\n",
       "  color: var(--sklearn-color-background);\n",
       "  text-decoration: none;\n",
       "}\n",
       "\n",
       "#sk-container-id-3 a.estimator_doc_link.fitted:hover {\n",
       "  /* fitted */\n",
       "  background-color: var(--sklearn-color-fitted-level-3);\n",
       "}\n",
       "</style><div id=\"sk-container-id-3\" class=\"sk-top-container\"><div class=\"sk-text-repr-fallback\"><pre>RandomForestClassifier()</pre><b>In a Jupyter environment, please rerun this cell to show the HTML representation or trust the notebook. <br />On GitHub, the HTML representation is unable to render, please try loading this page with nbviewer.org.</b></div><div class=\"sk-container\" hidden><div class=\"sk-item\"><div class=\"sk-estimator fitted sk-toggleable\"><input class=\"sk-toggleable__control sk-hidden--visually\" id=\"sk-estimator-id-3\" type=\"checkbox\" checked><label for=\"sk-estimator-id-3\" class=\"sk-toggleable__label fitted sk-toggleable__label-arrow\"><div><div>RandomForestClassifier</div></div><div><a class=\"sk-estimator-doc-link fitted\" rel=\"noreferrer\" target=\"_blank\" href=\"https://scikit-learn.org/1.6/modules/generated/sklearn.ensemble.RandomForestClassifier.html\">?<span>Documentation for RandomForestClassifier</span></a><span class=\"sk-estimator-doc-link fitted\">i<span>Fitted</span></span></div></label><div class=\"sk-toggleable__content fitted\"><pre>RandomForestClassifier()</pre></div> </div></div></div></div>"
      ],
      "text/plain": [
       "RandomForestClassifier()"
      ]
     },
     "execution_count": 93,
     "metadata": {},
     "output_type": "execute_result"
    }
   ],
   "source": [
    "\n",
    "# Initialize classifiers \n",
    "classifier = RandomForestClassifier(n_estimators  = 100)   \n",
    "# Fit the model\n",
    "classifier.fit(X_train, Y_train) # COMPLETE\n",
    "\n"
   ]
  },
  {
   "cell_type": "code",
   "execution_count": 94,
   "id": "1bb8e528-d12d-47f6-9dfb-d9c8dbe4c392",
   "metadata": {},
   "outputs": [
    {
     "name": "stdout",
     "output_type": "stream",
     "text": [
      "Random Forest Classifier:\n",
      "              precision    recall  f1-score   support\n",
      "\n",
      "         1.0       0.44      0.50      0.47      2445\n",
      "         2.0       0.44      0.34      0.38      2483\n",
      "         3.0       0.42      0.46      0.44      2525\n",
      "\n",
      "    accuracy                           0.43      7453\n",
      "   macro avg       0.43      0.43      0.43      7453\n",
      "weighted avg       0.43      0.43      0.43      7453\n",
      "\n"
     ]
    }
   ],
   "source": [
    "# Predict on the test set\n",
    "y_pred =  classifier.predict(X_test) # COMPLETE\n",
    "# Evaluate the  model\n",
    "print(\"Random Forest Classifier:\")\n",
    "print(classification_report(  Y_test, y_pred , zero_division=0)) # COMPLETE\n"
   ]
  },
  {
   "cell_type": "code",
   "execution_count": 95,
   "id": "e1180589-e393-48fb-9186-51dc59e6d969",
   "metadata": {},
   "outputs": [
    {
     "data": {
      "image/png": "[encoded data removed]",
      "text/plain": [
       "<Figure size 1000x1000 with 2 Axes>"
      ]
     },
     "metadata": {},
     "output_type": "display_data"
    }
   ],
   "source": [
    "#plot confusion matrix\n",
    "conf_matrix = confusion_matrix(Y_test, y_pred)  \n",
    "\n",
    "plt.figure(figsize=(10, 10))\n",
    "sns.heatmap(conf_matrix, annot=True, fmt='d', cmap='Blues', xticklabels= classifier.classes_, yticklabels= classifier.classes_)\n",
    "plt.title('Random Forest Confusion Matrix - Classifier')\n",
    "plt.xlabel('Predicted')\n",
    "plt.ylabel('Actual')\n",
    "plt.show()"
   ]
  },
  {
   "cell_type": "code",
   "execution_count": 97,
   "id": "cdda01f5-5128-450b-90f5-93ff9725d11d",
   "metadata": {},
   "outputs": [
    {
     "name": "stdout",
     "output_type": "stream",
     "text": [
      "Fitting 10 folds for each of 1 candidates, totalling 10 fits\n",
      "  best grid score in cv: 0.42233829442983106\n",
      "  grid test score: 0.4292567712118162\n"
     ]
    },
    {
     "data": {
      "text/plain": [
       "'\\nFitting 10 folds for each of 9 candidates, totalling 90 fits\\n  best grid score in cv: 0.41342602764917996\\n  grid test score: 0.4037563986746506\\n'"
      ]
     },
     "execution_count": 97,
     "metadata": {},
     "output_type": "execute_result"
    }
   ],
   "source": [
    "# Parameter space for Classifier\n",
    "# Grid search will evaluate all combinations of these parameters\n",
    "class_params_grid = {\n",
    "    'n_estimators': [100], #, 200, 500],  \n",
    "    'criterion': ['gini']#, 'entropy', 'log_loss' ] \n",
    "}\n",
    "\n",
    "# Perform grid search with cross-validation for Decision Tree Classifier\n",
    "grid_search_classifier = GridSearchCV(\n",
    "    RandomForestClassifier(),\n",
    "    class_params_grid,\n",
    "    cv=10, # 10-fold cross-validation\n",
    "    scoring='f1_macro', # Use F1 score for multiclass classification\n",
    "    verbose=1\n",
    "    )\n",
    "\n",
    "grid_search_classifier.fit(X_train, Y_train)\n",
    "\n",
    "print(\"  best grid score in cv: \" + str(grid_search_classifier.best_score_))\n",
    "print(\"  grid test score: \" + str(grid_search_classifier.score(X_test, Y_test)))\n",
    "\n",
    "\"\"\"\n",
    "Fitting 10 folds for each of 9 candidates, totalling 90 fits\n",
    "  best grid score in cv: 0.41342602764917996\n",
    "  grid test score: 0.4037563986746506\n",
    "\"\"\""
   ]
  },
  {
   "cell_type": "code",
   "execution_count": 98,
   "id": "3e21b125-b709-4632-9040-f68a89a6079d",
   "metadata": {},
   "outputs": [
    {
     "name": "stdout",
     "output_type": "stream",
     "text": [
      "random forest best params: {'criterion': 'gini', 'n_estimators': 100}\n"
     ]
    }
   ],
   "source": [
    "class_best_params = grid_search_classifier.best_params_\n",
    "print(\"random forest best params: \" + str(class_best_params))\n",
    "# random forest best params: {'criterion': 'gini', 'n_estimators': 100}"
   ]
  },
  {
   "cell_type": "code",
   "execution_count": 99,
   "id": "79257b24-4147-4d0c-a652-2f39d06af987",
   "metadata": {},
   "outputs": [],
   "source": [
    "y_pred = grid_search_classifier.predict(X_test)"
   ]
  },
  {
   "cell_type": "code",
   "execution_count": 100,
   "id": "b4f610b8-9927-4eb0-82eb-58e50cd7a6e0",
   "metadata": {},
   "outputs": [
    {
     "name": "stdout",
     "output_type": "stream",
     "text": [
      " Classification report with whole data\n",
      "              precision    recall  f1-score   support\n",
      "\n",
      "         1.0       0.44      0.51      0.47      2445\n",
      "         2.0       0.44      0.33      0.38      2483\n",
      "         3.0       0.42      0.46      0.44      2525\n",
      "\n",
      "    accuracy                           0.43      7453\n",
      "   macro avg       0.43      0.43      0.43      7453\n",
      "weighted avg       0.43      0.43      0.43      7453\n",
      "\n"
     ]
    }
   ],
   "source": [
    "grid_search_classification_report = classification_report(Y_test, y_pred)\n",
    "print(\" Classification report with whole data\")\n",
    "print(grid_search_classification_report)"
   ]
  },
  {
   "cell_type": "code",
   "execution_count": 101,
   "id": "659dfed1-89e1-49fa-9b8b-1c6de8cbb348",
   "metadata": {},
   "outputs": [],
   "source": [
    "best_classifier = RandomForestClassifier(**class_best_params)"
   ]
  },
  {
   "cell_type": "code",
   "execution_count": 102,
   "id": "3386d4a8-218f-453e-98c1-e3ff3a403369",
   "metadata": {},
   "outputs": [],
   "source": [
    "best_classifier.fit(X_train  , Y_train)  \n",
    "y_pred_selected = best_classifier.predict(X_test  ) "
   ]
  },
  {
   "cell_type": "code",
   "execution_count": 103,
   "id": "b43f3feb-a71b-442e-bb41-846ab2d7ec03",
   "metadata": {},
   "outputs": [
    {
     "name": "stdout",
     "output_type": "stream",
     "text": [
      "Best Classification report with all features\n",
      "              precision    recall  f1-score   support\n",
      "\n",
      "         1.0       0.44      0.51      0.47      2445\n",
      "         2.0       0.44      0.32      0.37      2483\n",
      "         3.0       0.42      0.46      0.44      2525\n",
      "\n",
      "    accuracy                           0.43      7453\n",
      "   macro avg       0.43      0.43      0.43      7453\n",
      "weighted avg       0.43      0.43      0.43      7453\n",
      "\n"
     ]
    }
   ],
   "source": [
    "# Lastly, rerun the `classification_report()` and print out what your results are.\n",
    "best_classification_report_selected = classification_report(Y_test, y_pred_selected, zero_division = 0) # COMPLETE\n",
    "print(\"Best Classification report with all features\")\n",
    "print(best_classification_report_selected)\n"
   ]
  },
  {
   "cell_type": "code",
   "execution_count": 111,
   "id": "19ae486f-818b-4005-a5a3-1150ba365a22",
   "metadata": {},
   "outputs": [
    {
     "data": {
      "image/png": "[encoded data removed]",
      "text/plain": [
       "<Figure size 1000x600 with 1 Axes>"
      ]
     },
     "metadata": {},
     "output_type": "display_data"
    }
   ],
   "source": [
    "# Feature importance\n",
    "x_features = x.columns\n",
    "feature_importances_dt = best_classifier.feature_importances_  \n",
    "df_feature_importance = pd.DataFrame(feature_importances_dt)\n",
    "df_features = pd.DataFrame(x_features)\n",
    "df_feature_importances = pd.concat([df_features, df_feature_importance], axis=1 )\n",
    "df_feature_importances.columns = [ 'feature_name',  'importance' ]  \n",
    "df_feature_importances = df_feature_importances.sort_values(by='importance', ascending=False)[0:7] \n",
    "# Plot feature importances (you can use matplotlib or seaborn)\n",
    "plt.figure(figsize=(10, 6))\n",
    "#df_feature_importances.plot(kind='bar', title=f\"Importance\")\n",
    "plt.plot(df_feature_importances['feature_name'], df_feature_importances['importance'], 'bo-' )\n",
    "#show horizontal line for 20 \n",
    "#plt.axhline(y=20, color='r', linestyle='--')\n",
    "plt.xlabel(\"Feature\")\n",
    "plt.ylabel('Importance')\n",
    "plt.show()"
   ]
  },
  {
   "cell_type": "code",
   "execution_count": 110,
   "id": "d56067ab-ef6c-456b-bb4b-0fc0bba2fdbb",
   "metadata": {},
   "outputs": [
    {
     "data": {
      "text/html": [
       "<div>\n",
       "<style scoped>\n",
       "    .dataframe tbody tr th:only-of-type {\n",
       "        vertical-align: middle;\n",
       "    }\n",
       "\n",
       "    .dataframe tbody tr th {\n",
       "        vertical-align: top;\n",
       "    }\n",
       "\n",
       "    .dataframe thead th {\n",
       "        text-align: right;\n",
       "    }\n",
       "</style>\n",
       "<table border=\"1\" class=\"dataframe\">\n",
       "  <thead>\n",
       "    <tr style=\"text-align: right;\">\n",
       "      <th></th>\n",
       "      <th>feature_name</th>\n",
       "      <th>importance</th>\n",
       "    </tr>\n",
       "  </thead>\n",
       "  <tbody>\n",
       "    <tr>\n",
       "      <th>0</th>\n",
       "      <td>park_distance_bins</td>\n",
       "      <td>0.281043</td>\n",
       "    </tr>\n",
       "    <tr>\n",
       "      <th>2</th>\n",
       "      <td>jeni_tier</td>\n",
       "      <td>0.263017</td>\n",
       "    </tr>\n",
       "    <tr>\n",
       "      <th>3</th>\n",
       "      <td>food_center_count</td>\n",
       "      <td>0.219522</td>\n",
       "    </tr>\n",
       "    <tr>\n",
       "      <th>9</th>\n",
       "      <td>assignto_WLA</td>\n",
       "      <td>0.052206</td>\n",
       "    </tr>\n",
       "    <tr>\n",
       "      <th>4</th>\n",
       "      <td>assignto_EV</td>\n",
       "      <td>0.052185</td>\n",
       "    </tr>\n",
       "    <tr>\n",
       "      <th>1</th>\n",
       "      <td>is_county_ind</td>\n",
       "      <td>0.034987</td>\n",
       "    </tr>\n",
       "    <tr>\n",
       "      <th>7</th>\n",
       "      <td>assignto_NC</td>\n",
       "      <td>0.030464</td>\n",
       "    </tr>\n",
       "    <tr>\n",
       "      <th>10</th>\n",
       "      <td>assignto_WV</td>\n",
       "      <td>0.021792</td>\n",
       "    </tr>\n",
       "    <tr>\n",
       "      <th>8</th>\n",
       "      <td>assignto_SLA</td>\n",
       "      <td>0.021296</td>\n",
       "    </tr>\n",
       "    <tr>\n",
       "      <th>5</th>\n",
       "      <td>assignto_HB</td>\n",
       "      <td>0.015229</td>\n",
       "    </tr>\n",
       "  </tbody>\n",
       "</table>\n",
       "</div>"
      ],
      "text/plain": [
       "          feature_name  importance\n",
       "0   park_distance_bins    0.281043\n",
       "2            jeni_tier    0.263017\n",
       "3    food_center_count    0.219522\n",
       "9         assignto_WLA    0.052206\n",
       "4          assignto_EV    0.052185\n",
       "1        is_county_ind    0.034987\n",
       "7          assignto_NC    0.030464\n",
       "10         assignto_WV    0.021792\n",
       "8         assignto_SLA    0.021296\n",
       "5          assignto_HB    0.015229"
      ]
     },
     "execution_count": 110,
     "metadata": {},
     "output_type": "execute_result"
    }
   ],
   "source": [
    "df_feature_importances.sort_values(by='importance', ascending=False)[0:10] "
   ]
  },
  {
   "cell_type": "code",
   "execution_count": 114,
   "id": "adee0a69-ecfd-498d-825b-1c2df411940a",
   "metadata": {},
   "outputs": [],
   "source": [
    "best_classifier.fit(X_train_selected  , Y_train)  \n",
    "y_pred_selected = best_classifier.predict(X_test_selected  )  "
   ]
  },
  {
   "cell_type": "code",
   "execution_count": 115,
   "id": "27c03ecb-e9a9-41f1-a0cd-92f8ae4487f5",
   "metadata": {},
   "outputs": [
    {
     "name": "stdout",
     "output_type": "stream",
     "text": [
      "Best Classification report with selected features\n",
      "              precision    recall  f1-score   support\n",
      "\n",
      "         1.0       0.41      0.39      0.40      2445\n",
      "         2.0       0.39      0.41      0.40      2483\n",
      "         3.0       0.40      0.39      0.39      2525\n",
      "\n",
      "    accuracy                           0.40      7453\n",
      "   macro avg       0.40      0.40      0.40      7453\n",
      "weighted avg       0.40      0.40      0.40      7453\n",
      "\n"
     ]
    }
   ],
   "source": [
    "# Lastly, rerun the `classification_report()` and print out what your results are.\n",
    "best_classification_report_selected = classification_report(Y_test, y_pred_selected, zero_division = 0) # COMPLETE\n",
    "print(\"Best Classification report with selected features\")\n",
    "print(best_classification_report_selected)\n"
   ]
  },
  {
   "cell_type": "code",
   "execution_count": 116,
   "id": "b94462df-9308-45b1-8984-ac0a06c5264e",
   "metadata": {},
   "outputs": [],
   "source": [
    "# Save to file for next step ML\n",
    "df.to_csv(generated_data_path +'homeless_camp_closed_2023_parks_jeni_food_simplified_2.csv', index=False)"
   ]
  },
  {
   "cell_type": "markdown",
   "id": "89a74c8c-d8ad-4f9e-81f6-d68f5590d2b1",
   "metadata": {},
   "source": [
    "## Next: Try clustering - 10_ml_cluster.ipynb"
   ]
  },
  {
   "cell_type": "code",
   "execution_count": null,
   "id": "0f238206-215b-4aba-ab8c-da18d9c66b15",
   "metadata": {},
   "outputs": [],
   "source": []
  }
 ],
 "metadata": {
  "kernelspec": {
   "display_name": "Python 3 (ipykernel)",
   "language": "python",
   "name": "python3"
  },
  "language_info": {
   "codemirror_mode": {
    "name": "ipython",
    "version": 3
   },
   "file_extension": ".py",
   "mimetype": "text/x-python",
   "name": "python",
   "nbconvert_exporter": "python",
   "pygments_lexer": "ipython3",
   "version": "3.9.21"
  }
 },
 "nbformat": 4,
 "nbformat_minor": 5
}
