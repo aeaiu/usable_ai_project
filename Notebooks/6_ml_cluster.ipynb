{
 "cells": [
  {
   "cell_type": "markdown",
   "id": "4877b24c-e39d-43d3-b5ad-4da1b6fbc862",
   "metadata": {
    "jp-MarkdownHeadingCollapsed": true
   },
   "source": [
    "## Homeless Encampments in LA\n",
    "\n",
    "##### Spring 2025\n",
    "##### Amanda Alonzo\n",
    "##### I513 Usable AI\n",
    "##### Indiana University, Bloomington\n",
    " \n"
   ]
  },
  {
   "cell_type": "markdown",
   "id": "dd598b13-5173-4cd7-b43e-e46bbadd488e",
   "metadata": {},
   "source": [
    "## Machine Learning Clusters\n",
    "\n",
    "#### Prerequisite: 5_ml_prediction.ipynb"
   ]
  },
  {
   "cell_type": "code",
   "execution_count": 2,
   "id": "c25f6f7c-c299-4861-8bbd-79f4a2c75155",
   "metadata": {},
   "outputs": [],
   "source": [
    "import pandas as pd\n",
    "import matplotlib.pyplot as plt\n",
    "from datetime import datetime\n",
    "import re\n",
    "import numpy as np\n",
    "import seaborn as sns\n",
    "from scipy import stats\n"
   ]
  },
  {
   "cell_type": "code",
   "execution_count": 3,
   "id": "b814cc65-4fbe-48d3-b8ba-b8b4f8a2c860",
   "metadata": {},
   "outputs": [],
   "source": [
    "raw_data_path = \"../Dataraw/\"\n",
    "annual_data_path = \"../Datafiles/\"\n",
    "generated_data_path = \"../Datagen/\""
   ]
  },
  {
   "cell_type": "code",
   "execution_count": null,
   "id": "2906b549-1498-4953-85ce-2ac6caf4f476",
   "metadata": {},
   "outputs": [],
   "source": []
  },
  {
   "cell_type": "code",
   "execution_count": 4,
   "id": "17c19a88-6604-4374-ad99-1c429c620df6",
   "metadata": {
    "scrolled": true
   },
   "outputs": [
    {
     "data": {
      "text/html": [
       "<div>\n",
       "<style scoped>\n",
       "    .dataframe tbody tr th:only-of-type {\n",
       "        vertical-align: middle;\n",
       "    }\n",
       "\n",
       "    .dataframe tbody tr th {\n",
       "        vertical-align: top;\n",
       "    }\n",
       "\n",
       "    .dataframe thead th {\n",
       "        text-align: right;\n",
       "    }\n",
       "</style>\n",
       "<table border=\"1\" class=\"dataframe\">\n",
       "  <thead>\n",
       "    <tr style=\"text-align: right;\">\n",
       "      <th></th>\n",
       "      <th>requestsource</th>\n",
       "      <th>zipcodefmt</th>\n",
       "      <th>anonymous</th>\n",
       "      <th>assignto</th>\n",
       "      <th>park_distance</th>\n",
       "      <th>close_time_days</th>\n",
       "      <th>closed_days_scaled</th>\n",
       "      <th>park_distance_scaled</th>\n",
       "      <th>is_county_ind</th>\n",
       "      <th>nds_an_typ</th>\n",
       "      <th>cogp_typ</th>\n",
       "      <th>access_typ</th>\n",
       "    </tr>\n",
       "  </thead>\n",
       "  <tbody>\n",
       "    <tr>\n",
       "      <th>0</th>\n",
       "      <td>Self Service</td>\n",
       "      <td>90063.0</td>\n",
       "      <td>Y</td>\n",
       "      <td>NC</td>\n",
       "      <td>1.902999</td>\n",
       "      <td>29.0</td>\n",
       "      <td>0.039295</td>\n",
       "      <td>0.054729</td>\n",
       "      <td>0</td>\n",
       "      <td>Park 5 to 100 Acres</td>\n",
       "      <td>Neighborhood</td>\n",
       "      <td>Open Access</td>\n",
       "    </tr>\n",
       "  </tbody>\n",
       "</table>\n",
       "</div>"
      ],
      "text/plain": [
       "  requestsource  zipcodefmt anonymous assignto  park_distance  \\\n",
       "0  Self Service     90063.0         Y       NC       1.902999   \n",
       "\n",
       "   close_time_days  closed_days_scaled  park_distance_scaled  is_county_ind  \\\n",
       "0             29.0            0.039295              0.054729              0   \n",
       "\n",
       "            nds_an_typ      cogp_typ   access_typ  \n",
       "0  Park 5 to 100 Acres  Neighborhood  Open Access  "
      ]
     },
     "execution_count": 4,
     "metadata": {},
     "output_type": "execute_result"
    }
   ],
   "source": [
    "#laod  our data frame from past steps \n",
    "df = pd.read_csv(generated_data_path+'homeless_camp_closed_2023_parks_simplified.csv', low_memory=False)\n",
    "df.head(1)"
   ]
  },
  {
   "cell_type": "code",
   "execution_count": 5,
   "id": "dd292bcd-ad6c-43fe-a429-5d2f528b8095",
   "metadata": {},
   "outputs": [
    {
     "data": {
      "text/plain": [
       "(63064, 12)"
      ]
     },
     "execution_count": 5,
     "metadata": {},
     "output_type": "execute_result"
    }
   ],
   "source": [
    "df.shape"
   ]
  },
  {
   "cell_type": "code",
   "execution_count": 44,
   "id": "0df64aa4-9db6-465c-ad23-035da4ed9aef",
   "metadata": {},
   "outputs": [
    {
     "data": {
      "text/html": [
       "<div>\n",
       "<style scoped>\n",
       "    .dataframe tbody tr th:only-of-type {\n",
       "        vertical-align: middle;\n",
       "    }\n",
       "\n",
       "    .dataframe tbody tr th {\n",
       "        vertical-align: top;\n",
       "    }\n",
       "\n",
       "    .dataframe thead th {\n",
       "        text-align: right;\n",
       "    }\n",
       "</style>\n",
       "<table border=\"1\" class=\"dataframe\">\n",
       "  <thead>\n",
       "    <tr style=\"text-align: right;\">\n",
       "      <th></th>\n",
       "      <th>zipcodefmt</th>\n",
       "      <th>park_distance</th>\n",
       "      <th>close_time_days</th>\n",
       "      <th>closed_days_scaled</th>\n",
       "      <th>park_distance_scaled</th>\n",
       "      <th>is_county_ind</th>\n",
       "    </tr>\n",
       "  </thead>\n",
       "  <tbody>\n",
       "    <tr>\n",
       "      <th>count</th>\n",
       "      <td>63064.000000</td>\n",
       "      <td>63064.000000</td>\n",
       "      <td>63064.000000</td>\n",
       "      <td>63064.000000</td>\n",
       "      <td>63064.000000</td>\n",
       "      <td>63064.000000</td>\n",
       "    </tr>\n",
       "    <tr>\n",
       "      <th>mean</th>\n",
       "      <td>90465.838545</td>\n",
       "      <td>0.811804</td>\n",
       "      <td>84.468540</td>\n",
       "      <td>0.114456</td>\n",
       "      <td>0.023276</td>\n",
       "      <td>0.980623</td>\n",
       "    </tr>\n",
       "    <tr>\n",
       "      <th>std</th>\n",
       "      <td>634.749417</td>\n",
       "      <td>0.686861</td>\n",
       "      <td>95.155571</td>\n",
       "      <td>0.128937</td>\n",
       "      <td>0.019799</td>\n",
       "      <td>0.137848</td>\n",
       "    </tr>\n",
       "    <tr>\n",
       "      <th>min</th>\n",
       "      <td>90001.000000</td>\n",
       "      <td>0.004306</td>\n",
       "      <td>0.000000</td>\n",
       "      <td>0.000000</td>\n",
       "      <td>0.000000</td>\n",
       "      <td>0.000000</td>\n",
       "    </tr>\n",
       "    <tr>\n",
       "      <th>25%</th>\n",
       "      <td>90025.000000</td>\n",
       "      <td>0.354433</td>\n",
       "      <td>7.000000</td>\n",
       "      <td>0.009485</td>\n",
       "      <td>0.010092</td>\n",
       "      <td>1.000000</td>\n",
       "    </tr>\n",
       "    <tr>\n",
       "      <th>50%</th>\n",
       "      <td>90048.000000</td>\n",
       "      <td>0.635838</td>\n",
       "      <td>54.000000</td>\n",
       "      <td>0.073171</td>\n",
       "      <td>0.018204</td>\n",
       "      <td>1.000000</td>\n",
       "    </tr>\n",
       "    <tr>\n",
       "      <th>75%</th>\n",
       "      <td>91311.000000</td>\n",
       "      <td>1.055639</td>\n",
       "      <td>125.000000</td>\n",
       "      <td>0.169377</td>\n",
       "      <td>0.030304</td>\n",
       "      <td>1.000000</td>\n",
       "    </tr>\n",
       "    <tr>\n",
       "      <th>max</th>\n",
       "      <td>91607.000000</td>\n",
       "      <td>34.696842</td>\n",
       "      <td>738.000000</td>\n",
       "      <td>1.000000</td>\n",
       "      <td>1.000000</td>\n",
       "      <td>1.000000</td>\n",
       "    </tr>\n",
       "  </tbody>\n",
       "</table>\n",
       "</div>"
      ],
      "text/plain": [
       "         zipcodefmt  park_distance  close_time_days  closed_days_scaled  \\\n",
       "count  63064.000000   63064.000000     63064.000000        63064.000000   \n",
       "mean   90465.838545       0.811804        84.468540            0.114456   \n",
       "std      634.749417       0.686861        95.155571            0.128937   \n",
       "min    90001.000000       0.004306         0.000000            0.000000   \n",
       "25%    90025.000000       0.354433         7.000000            0.009485   \n",
       "50%    90048.000000       0.635838        54.000000            0.073171   \n",
       "75%    91311.000000       1.055639       125.000000            0.169377   \n",
       "max    91607.000000      34.696842       738.000000            1.000000   \n",
       "\n",
       "       park_distance_scaled  is_county_ind  \n",
       "count          63064.000000   63064.000000  \n",
       "mean               0.023276       0.980623  \n",
       "std                0.019799       0.137848  \n",
       "min                0.000000       0.000000  \n",
       "25%                0.010092       1.000000  \n",
       "50%                0.018204       1.000000  \n",
       "75%                0.030304       1.000000  \n",
       "max                1.000000       1.000000  "
      ]
     },
     "execution_count": 44,
     "metadata": {},
     "output_type": "execute_result"
    }
   ],
   "source": [
    "df.describe()"
   ]
  },
  {
   "cell_type": "markdown",
   "id": "169fe080-e53c-4c9c-aa79-9af82fb6c917",
   "metadata": {},
   "source": [
    "## Cluster tickets\n",
    "### Logistic Regression"
   ]
  },
  {
   "cell_type": "code",
   "execution_count": null,
   "id": "a82689e5-5c03-4d32-b6e6-646437e35d66",
   "metadata": {},
   "outputs": [],
   "source": []
  },
  {
   "cell_type": "code",
   "execution_count": 50,
   "id": "fe75ffc7-9a18-478f-80c7-40f920978666",
   "metadata": {},
   "outputs": [],
   "source": [
    "import numpy as np\n",
    "from sklearn.model_selection import train_test_split\n",
    "from sklearn.linear_model import LinearRegression\n",
    "from sklearn.preprocessing import normalize\n",
    "from sklearn.metrics import r2_score"
   ]
  },
  {
   "cell_type": "code",
   "execution_count": 45,
   "id": "d4c5823e-b4b3-4f30-bb6c-ef818a45967e",
   "metadata": {},
   "outputs": [],
   "source": [
    "\n",
    "x = df[['zipcodefmt','park_distance','is_county_ind']]\n",
    "y = df['close_time_days']"
   ]
  },
  {
   "cell_type": "code",
   "execution_count": 52,
   "id": "fe16d774-304b-494b-93b0-ecc48ec93946",
   "metadata": {},
   "outputs": [],
   "source": [
    "\n",
    " X_train, X_test, Y_train, Y_test = train_test_split(x, y, test_size=.2) \n"
   ]
  },
  {
   "cell_type": "code",
   "execution_count": null,
   "id": "47bff8ea-a8be-444c-8f44-d5250ad4130e",
   "metadata": {},
   "outputs": [],
   "source": []
  }
 ],
 "metadata": {
  "kernelspec": {
   "display_name": "Python 3 (ipykernel)",
   "language": "python",
   "name": "python3"
  },
  "language_info": {
   "codemirror_mode": {
    "name": "ipython",
    "version": 3
   },
   "file_extension": ".py",
   "mimetype": "text/x-python",
   "name": "python",
   "nbconvert_exporter": "python",
   "pygments_lexer": "ipython3",
   "version": "3.9.21"
  }
 },
 "nbformat": 4,
 "nbformat_minor": 5
}
