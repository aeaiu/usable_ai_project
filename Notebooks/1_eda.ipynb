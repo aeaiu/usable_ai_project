{
 "cells": [
  {
   "cell_type": "markdown",
   "id": "da9033f4-a78e-48d2-9b75-9fc503a75d10",
   "metadata": {},
   "source": [
    "## Homeless Encampments in LA\n",
    "\n",
    "##### Spring 2025\n",
    "##### Amanda Alonzo\n",
    "##### I513 Usable AI\n",
    "##### Indiana University, Bloomington\n",
    "\n",
    "<i>Optional: Refer to 0_source_data.ipynb to see how files were obtained from source and prepared</i>\n"
   ]
  },
  {
   "cell_type": "markdown",
   "id": "a04f55b6-f0a3-471a-9e31-191099939923",
   "metadata": {},
   "source": [
    "### Notebook \"1_eda\" Purpose: \n",
    "<ol>\n",
    "    <li><b>Combines the annual files</b> with tickets by year provided on Git into one central file to be loaded and used for analysis </li>\n",
    "    <li>Performs initial <b>EDA</b> to discover fields, values, and preliminary analysis </li> \n",
    "    <li><b>Feature engineering</b> for data types, days to close ticket</li>\n",
    "</ol> "
   ]
  },
  {
   "cell_type": "markdown",
   "id": "28debd01-4253-4cb4-a4ef-2719759a34da",
   "metadata": {},
   "source": [
    "### Data Source Notes:\n",
    "\n",
    "<b>MyLA 311 System Source (for Context): </b>\n",
    "\n",
    "https://myla311.lacity.org/\n",
    "\n",
    "<b>Data Files: </b>\n",
    "\n",
    "https://data.lacity.org/browse?q=myla311+service+request+data\n",
    "\n",
    "<b>Field Descriptions</b> ( “Columns” section located near bottom of page): \n",
    "\n",
    "https://data.lacity.org/City-Infrastructure-Service-Requests/MyLA311-Service-Request-Data-2020/rq3b-xjk8/about_data\n"
   ]
  },
  {
   "cell_type": "code",
   "execution_count": 53,
   "id": "91a8fb78-2bdd-4563-9dd2-522d86c65eb7",
   "metadata": {},
   "outputs": [],
   "source": [
    "import pandas as pd\n",
    "import matplotlib.pyplot as plt\n",
    "from datetime import datetime\n",
    "import re\n",
    "import numpy as np"
   ]
  },
  {
   "cell_type": "code",
   "execution_count": 54,
   "id": "48aae6c6-bf7e-45e9-a1c7-eb0391f43a53",
   "metadata": {},
   "outputs": [],
   "source": [
    "raw_data_path = \"../Dataraw/\"\n",
    "annual_data_path = \"../Datafiles/\"\n",
    "generated_data_path = \"../Datagen/\""
   ]
  },
  {
   "cell_type": "markdown",
   "id": "a5a39d65-88a1-4737-a50b-294d0a5df31f",
   "metadata": {},
   "source": [
    "#### Combine years into one file"
   ]
  },
  {
   "cell_type": "code",
   "execution_count": 55,
   "id": "605d3298-78ec-43d4-800c-0fa610d27c8a",
   "metadata": {},
   "outputs": [],
   "source": [
    "df_2019 = pd.read_csv(annual_data_path+'homeless_camp_closed_2019.csv', low_memory=False)\n",
    "df_2020 = pd.read_csv(annual_data_path+'homeless_camp_closed_2020.csv', low_memory=False)\n",
    "df_2021 = pd.read_csv(annual_data_path+'homeless_camp_closed_2021.csv', low_memory=False)\n",
    "df_2022 = pd.read_csv(annual_data_path+'homeless_camp_closed_2022.csv', low_memory=False)\n",
    "df_2023 = pd.read_csv(annual_data_path+'homeless_camp_closed_2023.csv', low_memory=False)\n",
    "df_2024 = pd.read_csv(annual_data_path+'homeless_camp_closed_2024.csv', low_memory=False)\n",
    "\n"
   ]
  },
  {
   "cell_type": "code",
   "execution_count": 5,
   "id": "77516e77-1ba1-4496-af6e-78aabe6ba2d6",
   "metadata": {},
   "outputs": [],
   "source": [
    "combined_df = pd.concat([df_2019, df_2020, df_2021, df_2022, df_2023, df_2024])"
   ]
  },
  {
   "cell_type": "code",
   "execution_count": 6,
   "id": "02b30e7e-0972-4d92-969a-1e0737b917c4",
   "metadata": {},
   "outputs": [],
   "source": [
    "combined_df.to_csv(generated_data_path+'homeless_camp_closed_all.csv', index=False)"
   ]
  },
  {
   "cell_type": "markdown",
   "id": "9f65e7c3-aa4c-42a2-b9ca-a4725c009f64",
   "metadata": {},
   "source": [
    "## EDA - Familiarity\n",
    "#### Important Prequisite: Must have file ready from steps above before proceeding\n",
    "<li>Optionally, use notebook \"0_source_data_prep.ipynb\" to process source data files</li>\n",
    "<li> Generate one central location for data used below </li>\n",
    "<li>File needed: \"/Datasets/homeless_camp_closed_all.csv\" </li>"
   ]
  },
  {
   "cell_type": "code",
   "execution_count": 56,
   "id": "4a3029cd-4bee-4bc5-a087-e0b924e45071",
   "metadata": {},
   "outputs": [],
   "source": [
    "df  = pd.read_csv(generated_data_path  + \"homeless_camp_closed_all.csv\", low_memory=False)      \n",
    "# load from CSV generated above\n"
   ]
  },
  {
   "cell_type": "code",
   "execution_count": 9,
   "id": "bc8ecb85-c630-41f1-adbc-d78312834875",
   "metadata": {},
   "outputs": [
    {
     "name": "stdout",
     "output_type": "stream",
     "text": [
      "(322186, 34)\n"
     ]
    }
   ],
   "source": [
    "print(df.shape)        # (rows, columns)\n",
    "#print(df.tail())       # Last 5 rows\n",
    "#print(df.columns)      # List of column names\n"
   ]
  },
  {
   "cell_type": "code",
   "execution_count": 10,
   "id": "1e67e0b7-e27f-4f23-bcdb-150ab0fda290",
   "metadata": {},
   "outputs": [
    {
     "name": "stdout",
     "output_type": "stream",
     "text": [
      "<class 'pandas.core.frame.DataFrame'>\n",
      "RangeIndex: 322186 entries, 0 to 322185\n",
      "Data columns (total 34 columns):\n",
      " #   Column                     Non-Null Count   Dtype  \n",
      "---  ------                     --------------   -----  \n",
      " 0   SRNumber                   322186 non-null  object \n",
      " 1   CreatedDate                322186 non-null  object \n",
      " 2   UpdatedDate                322186 non-null  object \n",
      " 3   ActionTaken                322186 non-null  object \n",
      " 4   Owner                      322186 non-null  object \n",
      " 5   RequestType                322186 non-null  object \n",
      " 6   Status                     322186 non-null  object \n",
      " 7   RequestSource              322186 non-null  object \n",
      " 8   CreatedByUserOrganization  274036 non-null  object \n",
      " 9   MobileOS                   166337 non-null  object \n",
      " 10  Anonymous                  322186 non-null  object \n",
      " 11  AssignTo                   322119 non-null  object \n",
      " 12  ServiceDate                316993 non-null  object \n",
      " 13  ClosedDate                 322099 non-null  object \n",
      " 14  AddressVerified            322186 non-null  object \n",
      " 15  ApproximateAddress         159742 non-null  object \n",
      " 16  Address                    322186 non-null  object \n",
      " 17  HouseNumber                247144 non-null  float64\n",
      " 18  Direction                  245344 non-null  object \n",
      " 19  StreetName                 247144 non-null  object \n",
      " 20  Suffix                     242493 non-null  object \n",
      " 21  ZipCode                    321822 non-null  object \n",
      " 22  Latitude                   321906 non-null  float64\n",
      " 23  Longitude                  321906 non-null  float64\n",
      " 24  Location                   321906 non-null  object \n",
      " 25  TBMPage                    321905 non-null  float64\n",
      " 26  TBMColumn                  321905 non-null  object \n",
      " 27  TBMRow                     321905 non-null  float64\n",
      " 28  APC                        321905 non-null  object \n",
      " 29  CD                         321904 non-null  float64\n",
      " 30  CDMember                   321904 non-null  object \n",
      " 31  NC                         320089 non-null  float64\n",
      " 32  NCName                     320089 non-null  object \n",
      " 33  PolicePrecinct             321905 non-null  object \n",
      "dtypes: float64(7), object(27)\n",
      "memory usage: 83.6+ MB\n",
      "None\n"
     ]
    }
   ],
   "source": [
    "print(df.info())       # Summary of the DataFrame (types, non-null counts)\n"
   ]
  },
  {
   "cell_type": "code",
   "execution_count": 11,
   "id": "41aa6d2a-0ea5-45a8-b696-5c84d7ea5ce9",
   "metadata": {},
   "outputs": [
    {
     "name": "stdout",
     "output_type": "stream",
     "text": [
      "                count         mean          std         min          25%  \\\n",
      "HouseNumber  247144.0  6017.303661  5645.398214    1.000000  1250.000000   \n",
      "Latitude     321906.0    34.094475     0.098568   33.706047    34.031198   \n",
      "Longitude    321906.0  -118.368657     0.105433 -118.666666  -118.444255   \n",
      "TBMPage      321905.0   604.201507    70.822852  480.000000   560.000000   \n",
      "TBMRow       321905.0     4.072543     1.946344    1.000000     2.000000   \n",
      "CD           321904.0     7.844469     4.319769    1.000000     4.000000   \n",
      "NC           320089.0    54.856746    33.170282    0.000000    25.000000   \n",
      "\n",
      "                     50%          75%           max  \n",
      "HouseNumber  4506.000000  9361.000000  56010.000000  \n",
      "Latitude       34.075570    34.173099     34.334335  \n",
      "Longitude    -118.356736  -118.282547   -118.157825  \n",
      "TBMPage       631.000000   634.000000   4724.000000  \n",
      "TBMRow          4.000000     6.000000      7.000000  \n",
      "CD              8.000000    12.000000     15.000000  \n",
      "NC             53.000000    77.000000    128.000000  \n"
     ]
    }
   ],
   "source": [
    "# Basic statistics for numeric columns\n",
    "print(df.describe().transpose())   \n"
   ]
  },
  {
   "cell_type": "code",
   "execution_count": 12,
   "id": "d7581477-b466-46dc-8a87-7bc730a7479a",
   "metadata": {},
   "outputs": [
    {
     "name": "stdout",
     "output_type": "stream",
     "text": [
      "RequestType\n",
      "Homeless Encampment    322186\n",
      "Name: count, dtype: int64\n"
     ]
    }
   ],
   "source": [
    "#Validate we only have homeless encampment types\n",
    "status_counts = df[\"RequestType\"].value_counts()\n",
    "print(status_counts)"
   ]
  },
  {
   "cell_type": "code",
   "execution_count": 13,
   "id": "c68b237e-76b8-4a34-a0fe-91a90d674ef9",
   "metadata": {},
   "outputs": [
    {
     "name": "stdout",
     "output_type": "stream",
     "text": [
      "Status\n",
      "Closed    322186\n",
      "Name: count, dtype: int64\n"
     ]
    }
   ],
   "source": [
    "#Validate we only have closed tickets\n",
    "status_counts = df[\"Status\"].value_counts()\n",
    "print(status_counts)"
   ]
  },
  {
   "cell_type": "code",
   "execution_count": 16,
   "id": "fa66e3b9-2621-471c-81e2-6f493ba6f036",
   "metadata": {},
   "outputs": [
    {
     "name": "stdout",
     "output_type": "stream",
     "text": [
      "ActionTaken\n",
      "SR Created                321927\n",
      "SR Updated                   215\n",
      "Escalate to Supervisor        23\n",
      "Transferred                   15\n",
      "Information Provided           5\n",
      "Status Provided                1\n",
      "Name: count, dtype: int64\n"
     ]
    }
   ],
   "source": [
    "#Explore other values\n",
    "action_counts = df[\"ActionTaken\"].value_counts()\n",
    "print (action_counts)"
   ]
  },
  {
   "cell_type": "code",
   "execution_count": 17,
   "id": "f7db3533-7d93-4469-84a0-2dedbeec0659",
   "metadata": {},
   "outputs": [
    {
     "data": {
      "text/plain": [
       "PolicePrecinct\n",
       "PACIFIC             26461\n",
       "NORTH HOLLYWOOD     24248\n",
       "OLYMPIC             22868\n",
       "RAMPART             21972\n",
       "NEWTON              19822\n",
       "HOLLYWOOD           18825\n",
       "TOPANGA             18573\n",
       "WILSHIRE            17944\n",
       "FOOTHILL            16169\n",
       "WEST LOS ANGELES    15085\n",
       "VAN NUYS            14263\n",
       "NORTHEAST           13846\n",
       "DEVONSHIRE          13428\n",
       "MISSION             13339\n",
       "WEST VALLEY         11935\n",
       "HOLLENBECK          10894\n",
       "77TH STREET         10667\n",
       "CENTRAL              9620\n",
       "SOUTHWEST            8348\n",
       "SOUTHEAST            7489\n",
       "HARBOR               6109\n",
       "Name: count, dtype: int64"
      ]
     },
     "execution_count": 17,
     "metadata": {},
     "output_type": "execute_result"
    }
   ],
   "source": [
    "df[\"PolicePrecinct\"].value_counts()             "
   ]
  },
  {
   "cell_type": "code",
   "execution_count": 27,
   "id": "343cef56-042b-4d07-9443-14cedc09c9cc",
   "metadata": {},
   "outputs": [
    {
     "data": {
      "text/plain": [
       "<Axes: xlabel='PolicePrecinct'>"
      ]
     },
     "execution_count": 27,
     "metadata": {},
     "output_type": "execute_result"
    },
    {
     "data": {
      "image/png": "[encoded data removed]",
      "text/plain": [
       "<Figure size 640x480 with 1 Axes>"
      ]
     },
     "metadata": {},
     "output_type": "display_data"
    }
   ],
   "source": [
    "df[\"PolicePrecinct\"].value_counts().plot.bar()  "
   ]
  },
  {
   "cell_type": "code",
   "execution_count": 6,
   "id": "65737414-0326-4bbc-98bb-8f57c0eeb45f",
   "metadata": {},
   "outputs": [
    {
     "name": "stdout",
     "output_type": "stream",
     "text": [
      "CDMember\n",
      "Bob Blumenfield            24431\n",
      "Paul Krekorian             24040\n",
      "Mitch O'Farrell            22154\n",
      "Curren D. Price Jr.        21420\n",
      "Mike Bonin                 19887\n",
      "Nury Martinez              16166\n",
      "Paul Koretz                15518\n",
      "Kevin de León              15368\n",
      "Monica Rodriguez           14449\n",
      "John Lee                   12873\n",
      "Marqueece Harris-Dawson    12678\n",
      "Gilbert Cedillo            12007\n",
      "Hugo Soto-Martinez         11983\n",
      "Nithya Raman               11417\n",
      "Eunisses Hernandez         10818\n",
      "Heather Hutt                9321\n",
      "Traci Park                  9317\n",
      "Jose Huizar                 8840\n",
      "Katy Yaroslavsky            8614\n",
      "David Ryu                   8578\n",
      "Herb J. Wesson Jr.          7391\n",
      "Imelda Padilla              5875\n",
      "Joe Buscaino                5727\n",
      "Mark Ridley-Thomas          3577\n",
      "Office of District 10       3217\n",
      "Tim McOsker                 3103\n",
      "Vacant                      1513\n",
      "Greig Smith                 1185\n",
      "Adrin Nazarian               198\n",
      "Ysabel J. Jurado             125\n",
      "Mitchell Englander           114\n",
      "Name: count, dtype: int64\n",
      "\n",
      "NCName\n",
      "NoHo                            8347\n",
      "Downtown Los Angeles            8037\n",
      "Woodland Hills-Warner Center    6164\n",
      "Venice                          6084\n",
      "Wilshire Center-Koreatown       5854\n",
      "                                ... \n",
      "PORTER RANCH NC                   39\n",
      "PACIFIC PALISADES NC              18\n",
      "HERMON NC                         10\n",
      "HISTORIC FILIPINOTOWN NC           3\n",
      "OLD NORTHRIDGE CC                  2\n",
      "Name: count, Length: 211, dtype: int64\n"
     ]
    }
   ],
   "source": [
    "\n",
    "#print( df[\"CD\"].value_counts()    )\n",
    "print( df[\"CDMember\"].value_counts()    )\n",
    "#print( df[\"NC\"].value_counts()    )\n",
    "print()\n",
    "print( df[\"NCName\"].value_counts()    )\n",
    " "
   ]
  },
  {
   "cell_type": "code",
   "execution_count": 28,
   "id": "bca94cd2-dcf2-4138-924e-1298eafca23c",
   "metadata": {},
   "outputs": [
    {
     "name": "stdout",
     "output_type": "stream",
     "text": [
      "APC\n",
      "Central APC              92140\n",
      "South Valley APC         66115\n",
      "South Los Angeles APC    47439\n",
      "North Valley APC         45805\n",
      "West Los Angeles APC     39794\n",
      "East Los Angeles APC     23753\n",
      "Harbor APC                6859\n",
      "Name: count, dtype: int64\n"
     ]
    },
    {
     "data": {
      "text/plain": [
       "<Axes: xlabel='APC'>"
      ]
     },
     "execution_count": 28,
     "metadata": {},
     "output_type": "execute_result"
    },
    {
     "data": {
      "image/png": "[encoded data removed]",
      "text/plain": [
       "<Figure size 640x480 with 1 Axes>"
      ]
     },
     "metadata": {},
     "output_type": "display_data"
    }
   ],
   "source": [
    "print( df[\"APC\"].value_counts()    )\n",
    "df[\"APC\"].value_counts().plot.bar()  "
   ]
  },
  {
   "cell_type": "code",
   "execution_count": 22,
   "id": "ce2c57aa-f2a2-4220-9eef-42f270d432a3",
   "metadata": {},
   "outputs": [
    {
     "data": {
      "text/plain": [
       "0    01/14/2020 07:51:00 AM\n",
       "1    01/08/2020 01:42:00 PM\n",
       "2    01/21/2020 08:49:00 AM\n",
       "3    01/21/2020 09:05:00 AM\n",
       "4    01/21/2020 09:10:00 AM\n",
       "Name: ClosedDate, dtype: object"
      ]
     },
     "execution_count": 22,
     "metadata": {},
     "output_type": "execute_result"
    }
   ],
   "source": [
    "df[\"ClosedDate\"].head()"
   ]
  },
  {
   "cell_type": "markdown",
   "id": "83e12904-a289-4b8b-a089-975a681c84c6",
   "metadata": {},
   "source": [
    "### Feature Engineering\n",
    "<li>Convert Create and Closed Dates from String to Datetime</li>\n",
    "<li>Add Create Year</li>\n",
    "<li>Add Days to Close Ticket (Closed Date - Create Date</li>"
   ]
  },
  {
   "cell_type": "code",
   "execution_count": 57,
   "id": "be201622-48fa-44b0-8124-716ae64e2a66",
   "metadata": {},
   "outputs": [],
   "source": [
    "#Feature engineering Create date to date type (not string)\n",
    "# Convert string to datetime using strptime\n",
    "\n",
    "df[\"ClosedDate_DT\"] = pd.to_datetime(df[\"ClosedDate\"], format=\"%m/%d/%Y %H:%M:%S %p\")\n"
   ]
  },
  {
   "cell_type": "code",
   "execution_count": 58,
   "id": "718e5215-574d-40bc-bcaf-06f19e8c2945",
   "metadata": {},
   "outputs": [
    {
     "name": "stdout",
     "output_type": "stream",
     "text": [
      "2019-01-03 01:51:00\n",
      "2025-01-25 10:15:05\n"
     ]
    }
   ],
   "source": [
    "print ( min(df[\"ClosedDate_DT\"]) )\n",
    "print ( max(df[\"ClosedDate_DT\"]) )"
   ]
  },
  {
   "cell_type": "code",
   "execution_count": 59,
   "id": "b74fc6fc-0149-499c-80e7-54ff723c70fb",
   "metadata": {},
   "outputs": [],
   "source": [
    "#Feature engineering Create date to date type (not string)\n",
    "df[\"CreatedDate_DT\"] = pd.to_datetime(df[\"CreatedDate\"], format=\"%m/%d/%Y %H:%M:%S %p\")\n"
   ]
  },
  {
   "cell_type": "code",
   "execution_count": 60,
   "id": "a54f55e6-ceec-469b-9507-ca08da5d046e",
   "metadata": {},
   "outputs": [
    {
     "name": "stdout",
     "output_type": "stream",
     "text": [
      "2019-01-01 01:05:00\n",
      "2024-12-31 12:59:16\n"
     ]
    }
   ],
   "source": [
    "print ( min(df[\"CreatedDate_DT\"]) )\n",
    "print ( max(df[\"CreatedDate_DT\"]) )"
   ]
  },
  {
   "cell_type": "code",
   "execution_count": 61,
   "id": "3ae07de9-81bd-496b-88a2-714555b9273a",
   "metadata": {},
   "outputs": [
    {
     "data": {
      "text/plain": [
       "<Axes: xlabel='CreatedDate_DT'>"
      ]
     },
     "execution_count": 61,
     "metadata": {},
     "output_type": "execute_result"
    },
    {
     "data": {
      "image/png": "[encoded data removed]",
      "text/plain": [
       "<Figure size 640x480 with 1 Axes>"
      ]
     },
     "metadata": {},
     "output_type": "display_data"
    }
   ],
   "source": [
    "df['CreatedDate_DT'].dt.year.value_counts().sort_index().plot.line()"
   ]
  },
  {
   "cell_type": "code",
   "execution_count": 48,
   "id": "f0e2b523-84d7-4598-9311-4759c86f42c7",
   "metadata": {},
   "outputs": [
    {
     "data": {
      "text/plain": [
       "<Axes: xlabel='CreatedDate_DT'>"
      ]
     },
     "execution_count": 48,
     "metadata": {},
     "output_type": "execute_result"
    },
    {
     "data": {
      "image/png": "[encoded data removed]",
      "text/plain": [
       "<Figure size 640x480 with 1 Axes>"
      ]
     },
     "metadata": {},
     "output_type": "display_data"
    }
   ],
   "source": [
    "df['CreatedDate_DT'].dt.year.value_counts().sort_index().plot.bar()"
   ]
  },
  {
   "cell_type": "code",
   "execution_count": 62,
   "id": "83507946-ed14-4882-9a2d-61f8f16e76fb",
   "metadata": {},
   "outputs": [],
   "source": [
    "#time to close ticket\n",
    "df[\"close_time\"] =  df[\"ClosedDate_DT\"] - df[\"CreatedDate_DT\"] "
   ]
  },
  {
   "cell_type": "code",
   "execution_count": 63,
   "id": "26a62b53-e72f-4068-93d2-ab4366e86fe1",
   "metadata": {},
   "outputs": [
    {
     "data": {
      "text/html": [
       "<div>\n",
       "<style scoped>\n",
       "    .dataframe tbody tr th:only-of-type {\n",
       "        vertical-align: middle;\n",
       "    }\n",
       "\n",
       "    .dataframe tbody tr th {\n",
       "        vertical-align: top;\n",
       "    }\n",
       "\n",
       "    .dataframe thead th {\n",
       "        text-align: right;\n",
       "    }\n",
       "</style>\n",
       "<table border=\"1\" class=\"dataframe\">\n",
       "  <thead>\n",
       "    <tr style=\"text-align: right;\">\n",
       "      <th></th>\n",
       "      <th>SRNumber</th>\n",
       "      <th>CreatedDate</th>\n",
       "      <th>UpdatedDate</th>\n",
       "      <th>ActionTaken</th>\n",
       "      <th>Owner</th>\n",
       "      <th>RequestType</th>\n",
       "      <th>Status</th>\n",
       "      <th>RequestSource</th>\n",
       "      <th>CreatedByUserOrganization</th>\n",
       "      <th>MobileOS</th>\n",
       "      <th>...</th>\n",
       "      <th>TBMRow</th>\n",
       "      <th>APC</th>\n",
       "      <th>CD</th>\n",
       "      <th>CDMember</th>\n",
       "      <th>NC</th>\n",
       "      <th>NCName</th>\n",
       "      <th>PolicePrecinct</th>\n",
       "      <th>ClosedDate_DT</th>\n",
       "      <th>CreatedDate_DT</th>\n",
       "      <th>close_time</th>\n",
       "    </tr>\n",
       "  </thead>\n",
       "  <tbody>\n",
       "    <tr>\n",
       "      <th>0</th>\n",
       "      <td>1-1523590871</td>\n",
       "      <td>12/31/2019 11:26:00 PM</td>\n",
       "      <td>01/14/2020 07:52:00 AM</td>\n",
       "      <td>SR Created</td>\n",
       "      <td>BOS</td>\n",
       "      <td>Homeless Encampment</td>\n",
       "      <td>Closed</td>\n",
       "      <td>Mobile App</td>\n",
       "      <td>Self Service</td>\n",
       "      <td>iOS</td>\n",
       "      <td>...</td>\n",
       "      <td>6.0</td>\n",
       "      <td>South Valley APC</td>\n",
       "      <td>3.0</td>\n",
       "      <td>Bob Blumenfield</td>\n",
       "      <td>13.0</td>\n",
       "      <td>CANOGA PARK NC</td>\n",
       "      <td>TOPANGA</td>\n",
       "      <td>2020-01-14 07:51:00</td>\n",
       "      <td>2019-12-31 11:26:00</td>\n",
       "      <td>13 days 20:25:00</td>\n",
       "    </tr>\n",
       "    <tr>\n",
       "      <th>1</th>\n",
       "      <td>1-1523576655</td>\n",
       "      <td>12/31/2019 09:27:00 PM</td>\n",
       "      <td>01/08/2020 01:42:00 PM</td>\n",
       "      <td>SR Created</td>\n",
       "      <td>BOS</td>\n",
       "      <td>Homeless Encampment</td>\n",
       "      <td>Closed</td>\n",
       "      <td>Mobile App</td>\n",
       "      <td>Self Service</td>\n",
       "      <td>Android</td>\n",
       "      <td>...</td>\n",
       "      <td>6.0</td>\n",
       "      <td>South Valley APC</td>\n",
       "      <td>12.0</td>\n",
       "      <td>John Lee</td>\n",
       "      <td>11.0</td>\n",
       "      <td>WEST HILLS NC</td>\n",
       "      <td>TOPANGA</td>\n",
       "      <td>2020-01-08 01:42:00</td>\n",
       "      <td>2019-12-31 09:27:00</td>\n",
       "      <td>7 days 16:15:00</td>\n",
       "    </tr>\n",
       "    <tr>\n",
       "      <th>2</th>\n",
       "      <td>1-1523574987</td>\n",
       "      <td>12/31/2019 09:17:00 PM</td>\n",
       "      <td>01/21/2020 03:26:00 PM</td>\n",
       "      <td>SR Created</td>\n",
       "      <td>BOS</td>\n",
       "      <td>Homeless Encampment</td>\n",
       "      <td>Closed</td>\n",
       "      <td>Mobile App</td>\n",
       "      <td>Self Service</td>\n",
       "      <td>iOS</td>\n",
       "      <td>...</td>\n",
       "      <td>2.0</td>\n",
       "      <td>South Valley APC</td>\n",
       "      <td>3.0</td>\n",
       "      <td>Bob Blumenfield</td>\n",
       "      <td>16.0</td>\n",
       "      <td>WOODLAND HILLS-WARNER CENTER NC</td>\n",
       "      <td>TOPANGA</td>\n",
       "      <td>2020-01-21 08:49:00</td>\n",
       "      <td>2019-12-31 09:17:00</td>\n",
       "      <td>20 days 23:32:00</td>\n",
       "    </tr>\n",
       "    <tr>\n",
       "      <th>3</th>\n",
       "      <td>1-1523570862</td>\n",
       "      <td>12/31/2019 08:35:00 PM</td>\n",
       "      <td>01/21/2020 01:30:00 PM</td>\n",
       "      <td>SR Created</td>\n",
       "      <td>BOS</td>\n",
       "      <td>Homeless Encampment</td>\n",
       "      <td>Closed</td>\n",
       "      <td>Mobile App</td>\n",
       "      <td>Self Service</td>\n",
       "      <td>iOS</td>\n",
       "      <td>...</td>\n",
       "      <td>2.0</td>\n",
       "      <td>South Valley APC</td>\n",
       "      <td>3.0</td>\n",
       "      <td>Bob Blumenfield</td>\n",
       "      <td>16.0</td>\n",
       "      <td>WOODLAND HILLS-WARNER CENTER NC</td>\n",
       "      <td>TOPANGA</td>\n",
       "      <td>2020-01-21 09:05:00</td>\n",
       "      <td>2019-12-31 08:35:00</td>\n",
       "      <td>21 days 00:30:00</td>\n",
       "    </tr>\n",
       "    <tr>\n",
       "      <th>4</th>\n",
       "      <td>1-1523570821</td>\n",
       "      <td>12/31/2019 08:33:00 PM</td>\n",
       "      <td>01/21/2020 09:41:00 AM</td>\n",
       "      <td>SR Created</td>\n",
       "      <td>BOS</td>\n",
       "      <td>Homeless Encampment</td>\n",
       "      <td>Closed</td>\n",
       "      <td>Mobile App</td>\n",
       "      <td>Self Service</td>\n",
       "      <td>iOS</td>\n",
       "      <td>...</td>\n",
       "      <td>2.0</td>\n",
       "      <td>South Valley APC</td>\n",
       "      <td>3.0</td>\n",
       "      <td>Bob Blumenfield</td>\n",
       "      <td>16.0</td>\n",
       "      <td>WOODLAND HILLS-WARNER CENTER NC</td>\n",
       "      <td>TOPANGA</td>\n",
       "      <td>2020-01-21 09:10:00</td>\n",
       "      <td>2019-12-31 08:33:00</td>\n",
       "      <td>21 days 00:37:00</td>\n",
       "    </tr>\n",
       "  </tbody>\n",
       "</table>\n",
       "<p>5 rows × 37 columns</p>\n",
       "</div>"
      ],
      "text/plain": [
       "       SRNumber             CreatedDate             UpdatedDate ActionTaken  \\\n",
       "0  1-1523590871  12/31/2019 11:26:00 PM  01/14/2020 07:52:00 AM  SR Created   \n",
       "1  1-1523576655  12/31/2019 09:27:00 PM  01/08/2020 01:42:00 PM  SR Created   \n",
       "2  1-1523574987  12/31/2019 09:17:00 PM  01/21/2020 03:26:00 PM  SR Created   \n",
       "3  1-1523570862  12/31/2019 08:35:00 PM  01/21/2020 01:30:00 PM  SR Created   \n",
       "4  1-1523570821  12/31/2019 08:33:00 PM  01/21/2020 09:41:00 AM  SR Created   \n",
       "\n",
       "  Owner          RequestType  Status RequestSource CreatedByUserOrganization  \\\n",
       "0   BOS  Homeless Encampment  Closed    Mobile App              Self Service   \n",
       "1   BOS  Homeless Encampment  Closed    Mobile App              Self Service   \n",
       "2   BOS  Homeless Encampment  Closed    Mobile App              Self Service   \n",
       "3   BOS  Homeless Encampment  Closed    Mobile App              Self Service   \n",
       "4   BOS  Homeless Encampment  Closed    Mobile App              Self Service   \n",
       "\n",
       "  MobileOS  ... TBMRow               APC    CD         CDMember    NC  \\\n",
       "0      iOS  ...    6.0  South Valley APC   3.0  Bob Blumenfield  13.0   \n",
       "1  Android  ...    6.0  South Valley APC  12.0         John Lee  11.0   \n",
       "2      iOS  ...    2.0  South Valley APC   3.0  Bob Blumenfield  16.0   \n",
       "3      iOS  ...    2.0  South Valley APC   3.0  Bob Blumenfield  16.0   \n",
       "4      iOS  ...    2.0  South Valley APC   3.0  Bob Blumenfield  16.0   \n",
       "\n",
       "                            NCName PolicePrecinct       ClosedDate_DT  \\\n",
       "0                   CANOGA PARK NC        TOPANGA 2020-01-14 07:51:00   \n",
       "1                    WEST HILLS NC        TOPANGA 2020-01-08 01:42:00   \n",
       "2  WOODLAND HILLS-WARNER CENTER NC        TOPANGA 2020-01-21 08:49:00   \n",
       "3  WOODLAND HILLS-WARNER CENTER NC        TOPANGA 2020-01-21 09:05:00   \n",
       "4  WOODLAND HILLS-WARNER CENTER NC        TOPANGA 2020-01-21 09:10:00   \n",
       "\n",
       "       CreatedDate_DT       close_time  \n",
       "0 2019-12-31 11:26:00 13 days 20:25:00  \n",
       "1 2019-12-31 09:27:00  7 days 16:15:00  \n",
       "2 2019-12-31 09:17:00 20 days 23:32:00  \n",
       "3 2019-12-31 08:35:00 21 days 00:30:00  \n",
       "4 2019-12-31 08:33:00 21 days 00:37:00  \n",
       "\n",
       "[5 rows x 37 columns]"
      ]
     },
     "execution_count": 63,
     "metadata": {},
     "output_type": "execute_result"
    }
   ],
   "source": [
    "df.head()"
   ]
  },
  {
   "cell_type": "code",
   "execution_count": 24,
   "id": "3d8424a6-172b-4afe-98ac-46647315ca25",
   "metadata": {},
   "outputs": [
    {
     "data": {
      "text/plain": [
       "pandas._libs.tslibs.timedeltas.Timedelta"
      ]
     },
     "execution_count": 24,
     "metadata": {},
     "output_type": "execute_result"
    }
   ],
   "source": [
    "type(df[\"close_time\"][0] )"
   ]
  },
  {
   "cell_type": "code",
   "execution_count": 25,
   "id": "00d8bc91-e015-46e9-abbf-bae62a0f0e15",
   "metadata": {},
   "outputs": [
    {
     "data": {
      "text/plain": [
       "(Timedelta('-1 days +12:02:00'), Timedelta('1205 days 06:40:16'))"
      ]
     },
     "execution_count": 25,
     "metadata": {},
     "output_type": "execute_result"
    }
   ],
   "source": [
    "df[\"close_time\"].min(), df[\"close_time\"].max()"
   ]
  },
  {
   "cell_type": "code",
   "execution_count": 26,
   "id": "8bc84c3b-a12f-41cd-b0f2-b6fe258458f2",
   "metadata": {},
   "outputs": [
    {
     "data": {
      "text/plain": [
       "'1205 days 06:40:16'"
      ]
     },
     "execution_count": 26,
     "metadata": {},
     "output_type": "execute_result"
    }
   ],
   "source": [
    "str(df[\"close_time\"].max())"
   ]
  },
  {
   "cell_type": "code",
   "execution_count": 64,
   "id": "da1570d1-ea90-4f87-951a-7e54f3e63c1a",
   "metadata": {},
   "outputs": [],
   "source": [
    "# Regular expression pattern to find a number of days\n",
    "pattern = r'(\\d+)\\s+days'\n",
    "\n",
    "# Search for the pattern in the text\n",
    "match = re.search(pattern, '1205 days 06:40:16')\n",
    "\n",
    "#print(match.group(1))\n",
    "\n",
    "df[\"close_time_days\"] = df[\"close_time\"].apply( lambda x: int( re.search(pattern, str(x) ).group(1)) if re.search(pattern, str(x) ) else np.nan )\n"
   ]
  },
  {
   "cell_type": "code",
   "execution_count": 44,
   "id": "48d36e57-503b-4b91-802a-2b745639e638",
   "metadata": {},
   "outputs": [
    {
     "data": {
      "text/plain": [
       "(0.0, 1205.0)"
      ]
     },
     "execution_count": 44,
     "metadata": {},
     "output_type": "execute_result"
    }
   ],
   "source": [
    "min(df.close_time_days), max(df.close_time_days)"
   ]
  },
  {
   "cell_type": "code",
   "execution_count": 45,
   "id": "7046c616-ac23-43b9-a7e5-cdbd0c4940e3",
   "metadata": {},
   "outputs": [
    {
     "data": {
      "text/html": [
       "<div>\n",
       "<style scoped>\n",
       "    .dataframe tbody tr th:only-of-type {\n",
       "        vertical-align: middle;\n",
       "    }\n",
       "\n",
       "    .dataframe tbody tr th {\n",
       "        vertical-align: top;\n",
       "    }\n",
       "\n",
       "    .dataframe thead th {\n",
       "        text-align: right;\n",
       "    }\n",
       "</style>\n",
       "<table border=\"1\" class=\"dataframe\">\n",
       "  <thead>\n",
       "    <tr style=\"text-align: right;\">\n",
       "      <th></th>\n",
       "      <th>SRNumber</th>\n",
       "      <th>CreatedDate</th>\n",
       "      <th>UpdatedDate</th>\n",
       "      <th>ActionTaken</th>\n",
       "      <th>Owner</th>\n",
       "      <th>RequestType</th>\n",
       "      <th>Status</th>\n",
       "      <th>RequestSource</th>\n",
       "      <th>CreatedByUserOrganization</th>\n",
       "      <th>MobileOS</th>\n",
       "      <th>...</th>\n",
       "      <th>APC</th>\n",
       "      <th>CD</th>\n",
       "      <th>CDMember</th>\n",
       "      <th>NC</th>\n",
       "      <th>NCName</th>\n",
       "      <th>PolicePrecinct</th>\n",
       "      <th>ClosedDate_DT</th>\n",
       "      <th>CreatedDate_DT</th>\n",
       "      <th>close_time</th>\n",
       "      <th>close_time_days</th>\n",
       "    </tr>\n",
       "  </thead>\n",
       "  <tbody>\n",
       "    <tr>\n",
       "      <th>158719</th>\n",
       "      <td>1-2189956241</td>\n",
       "      <td>02/02/2022 09:09:36 AM</td>\n",
       "      <td>02/02/2022 12:07:17 PM</td>\n",
       "      <td>SR Created</td>\n",
       "      <td>LASAN</td>\n",
       "      <td>Homeless Encampment</td>\n",
       "      <td>Closed</td>\n",
       "      <td>Call</td>\n",
       "      <td>ITA</td>\n",
       "      <td>NaN</td>\n",
       "      <td>...</td>\n",
       "      <td>Central APC</td>\n",
       "      <td>13.0</td>\n",
       "      <td>Mitch O'Farrell</td>\n",
       "      <td>119.0</td>\n",
       "      <td>Greater Wilshire</td>\n",
       "      <td>WILSHIRE</td>\n",
       "      <td>NaT</td>\n",
       "      <td>2022-02-02 09:09:36</td>\n",
       "      <td>NaT</td>\n",
       "      <td>NaN</td>\n",
       "    </tr>\n",
       "    <tr>\n",
       "      <th>159226</th>\n",
       "      <td>1-2192812001</td>\n",
       "      <td>02/04/2022 06:17:19 PM</td>\n",
       "      <td>02/06/2022 12:06:46 PM</td>\n",
       "      <td>SR Created</td>\n",
       "      <td>LASAN</td>\n",
       "      <td>Homeless Encampment</td>\n",
       "      <td>Closed</td>\n",
       "      <td>Call</td>\n",
       "      <td>Council's Office</td>\n",
       "      <td>NaN</td>\n",
       "      <td>...</td>\n",
       "      <td>North Valley APC</td>\n",
       "      <td>7.0</td>\n",
       "      <td>Monica Rodriguez</td>\n",
       "      <td>5.0</td>\n",
       "      <td>Sylmar</td>\n",
       "      <td>MISSION</td>\n",
       "      <td>NaT</td>\n",
       "      <td>2022-02-04 06:17:19</td>\n",
       "      <td>NaT</td>\n",
       "      <td>NaN</td>\n",
       "    </tr>\n",
       "    <tr>\n",
       "      <th>161480</th>\n",
       "      <td>1-2204554531</td>\n",
       "      <td>02/18/2022 04:18:25 PM</td>\n",
       "      <td>03/01/2022 10:38:06 PM</td>\n",
       "      <td>SR Created</td>\n",
       "      <td>LASAN</td>\n",
       "      <td>Homeless Encampment</td>\n",
       "      <td>Closed</td>\n",
       "      <td>Call</td>\n",
       "      <td>ITA</td>\n",
       "      <td>NaN</td>\n",
       "      <td>...</td>\n",
       "      <td>North Valley APC</td>\n",
       "      <td>6.0</td>\n",
       "      <td>Nury Martinez</td>\n",
       "      <td>100.0</td>\n",
       "      <td>Panorama City</td>\n",
       "      <td>MISSION</td>\n",
       "      <td>NaT</td>\n",
       "      <td>2022-02-18 04:18:25</td>\n",
       "      <td>NaT</td>\n",
       "      <td>NaN</td>\n",
       "    </tr>\n",
       "    <tr>\n",
       "      <th>162732</th>\n",
       "      <td>1-2212887771</td>\n",
       "      <td>02/28/2022 01:59:31 PM</td>\n",
       "      <td>03/01/2022 05:37:36 AM</td>\n",
       "      <td>SR Created</td>\n",
       "      <td>LASAN</td>\n",
       "      <td>Homeless Encampment</td>\n",
       "      <td>Closed</td>\n",
       "      <td>Call</td>\n",
       "      <td>Council's Office</td>\n",
       "      <td>NaN</td>\n",
       "      <td>...</td>\n",
       "      <td>North Valley APC</td>\n",
       "      <td>7.0</td>\n",
       "      <td>Monica Rodriguez</td>\n",
       "      <td>7.0</td>\n",
       "      <td>Pacoima</td>\n",
       "      <td>FOOTHILL</td>\n",
       "      <td>NaT</td>\n",
       "      <td>2022-02-28 01:59:31</td>\n",
       "      <td>NaT</td>\n",
       "      <td>NaN</td>\n",
       "    </tr>\n",
       "    <tr>\n",
       "      <th>165059</th>\n",
       "      <td>1-2234296341</td>\n",
       "      <td>03/15/2022 02:05:57 PM</td>\n",
       "      <td>03/29/2022 04:41:09 PM</td>\n",
       "      <td>SR Created</td>\n",
       "      <td>LASAN</td>\n",
       "      <td>Homeless Encampment</td>\n",
       "      <td>Closed</td>\n",
       "      <td>Call</td>\n",
       "      <td>Council's Office</td>\n",
       "      <td>NaN</td>\n",
       "      <td>...</td>\n",
       "      <td>North Valley APC</td>\n",
       "      <td>7.0</td>\n",
       "      <td>Monica Rodriguez</td>\n",
       "      <td>7.0</td>\n",
       "      <td>Pacoima</td>\n",
       "      <td>FOOTHILL</td>\n",
       "      <td>NaT</td>\n",
       "      <td>2022-03-15 02:05:57</td>\n",
       "      <td>NaT</td>\n",
       "      <td>NaN</td>\n",
       "    </tr>\n",
       "  </tbody>\n",
       "</table>\n",
       "<p>5 rows × 38 columns</p>\n",
       "</div>"
      ],
      "text/plain": [
       "            SRNumber             CreatedDate             UpdatedDate  \\\n",
       "158719  1-2189956241  02/02/2022 09:09:36 AM  02/02/2022 12:07:17 PM   \n",
       "159226  1-2192812001  02/04/2022 06:17:19 PM  02/06/2022 12:06:46 PM   \n",
       "161480  1-2204554531  02/18/2022 04:18:25 PM  03/01/2022 10:38:06 PM   \n",
       "162732  1-2212887771  02/28/2022 01:59:31 PM  03/01/2022 05:37:36 AM   \n",
       "165059  1-2234296341  03/15/2022 02:05:57 PM  03/29/2022 04:41:09 PM   \n",
       "\n",
       "       ActionTaken  Owner          RequestType  Status RequestSource  \\\n",
       "158719  SR Created  LASAN  Homeless Encampment  Closed          Call   \n",
       "159226  SR Created  LASAN  Homeless Encampment  Closed          Call   \n",
       "161480  SR Created  LASAN  Homeless Encampment  Closed          Call   \n",
       "162732  SR Created  LASAN  Homeless Encampment  Closed          Call   \n",
       "165059  SR Created  LASAN  Homeless Encampment  Closed          Call   \n",
       "\n",
       "       CreatedByUserOrganization MobileOS  ...               APC    CD  \\\n",
       "158719                       ITA      NaN  ...       Central APC  13.0   \n",
       "159226          Council's Office      NaN  ...  North Valley APC   7.0   \n",
       "161480                       ITA      NaN  ...  North Valley APC   6.0   \n",
       "162732          Council's Office      NaN  ...  North Valley APC   7.0   \n",
       "165059          Council's Office      NaN  ...  North Valley APC   7.0   \n",
       "\n",
       "                CDMember     NC            NCName PolicePrecinct  \\\n",
       "158719   Mitch O'Farrell  119.0  Greater Wilshire       WILSHIRE   \n",
       "159226  Monica Rodriguez    5.0            Sylmar        MISSION   \n",
       "161480     Nury Martinez  100.0     Panorama City        MISSION   \n",
       "162732  Monica Rodriguez    7.0           Pacoima       FOOTHILL   \n",
       "165059  Monica Rodriguez    7.0           Pacoima       FOOTHILL   \n",
       "\n",
       "       ClosedDate_DT      CreatedDate_DT close_time close_time_days  \n",
       "158719           NaT 2022-02-02 09:09:36        NaT             NaN  \n",
       "159226           NaT 2022-02-04 06:17:19        NaT             NaN  \n",
       "161480           NaT 2022-02-18 04:18:25        NaT             NaN  \n",
       "162732           NaT 2022-02-28 01:59:31        NaT             NaN  \n",
       "165059           NaT 2022-03-15 02:05:57        NaT             NaN  \n",
       "\n",
       "[5 rows x 38 columns]"
      ]
     },
     "execution_count": 45,
     "metadata": {},
     "output_type": "execute_result"
    }
   ],
   "source": [
    "df[df['close_time_days'].isna()].head()"
   ]
  },
  {
   "cell_type": "code",
   "execution_count": 49,
   "id": "4463d780-765d-476c-a658-e6405321e542",
   "metadata": {},
   "outputs": [
    {
     "data": {
      "image/png": "[encoded data removed]",
      "text/plain": [
       "<Figure size 500x500 with 1 Axes>"
      ]
     },
     "metadata": {},
     "output_type": "display_data"
    }
   ],
   "source": [
    "\n",
    "# plot  \n",
    "plt.figure(figsize=(5, 5))\n",
    "close_days_means = df[df['close_time_days'] >= 0].groupby(\"APC\")[\"close_time_days\"].mean()\n",
    "close_days_means = close_days_means.sort_values(ascending=False)\n",
    "ax = close_days_means.plot(kind=\"barh\")\n",
    "plt.xlabel('Average Days to Close')\n",
    "plt.title('Average Days to Close Ticket by APC')\n",
    "ax.invert_yaxis()\n",
    "plt.tight_layout()\n",
    "plt.show()"
   ]
  },
  {
   "cell_type": "code",
   "execution_count": 68,
   "id": "9e3571d5-3c59-477b-933a-7c398f5d0a0f",
   "metadata": {},
   "outputs": [
    {
     "data": {
      "image/png": "[encoded data removed]",
      "text/plain": [
       "<Figure size 500x500 with 1 Axes>"
      ]
     },
     "metadata": {},
     "output_type": "display_data"
    }
   ],
   "source": [
    "df[\"CreatedDate_YR\"] = df['CreatedDate_DT'].dt.year\n",
    "\n",
    "# plot  \n",
    "plt.figure(figsize=(5, 5))\n",
    "close_days_means = df[df['close_time_days'] >= 0].groupby(\"CreatedDate_YR\")[\"close_time_days\"].mean()\n",
    "#close_days_means = close_days_means.sort_values(ascending=False)\n",
    "ax = close_days_means.plot(kind=\"barh\")\n",
    "plt.xlabel('Average Days to Close')\n",
    "plt.title('Average Days to Close Ticket by Year')\n",
    "ax.invert_yaxis()\n",
    "plt.tight_layout()\n",
    "plt.show()"
   ]
  },
  {
   "cell_type": "code",
   "execution_count": 70,
   "id": "a3e322d4-f755-42d8-a6e5-d74f43bd7697",
   "metadata": {},
   "outputs": [],
   "source": [
    "#write to file with new features added for next notebook: visualization\n",
    "df.to_csv(generated_data_path +'homeless_camp_closed_all_ftr_eng_1.csv', index=False)"
   ]
  },
  {
   "cell_type": "code",
   "execution_count": 69,
   "id": "c547836a-2986-4976-a06e-4ce119fe3b59",
   "metadata": {},
   "outputs": [
    {
     "data": {
      "text/html": [
       "<div>\n",
       "<style scoped>\n",
       "    .dataframe tbody tr th:only-of-type {\n",
       "        vertical-align: middle;\n",
       "    }\n",
       "\n",
       "    .dataframe tbody tr th {\n",
       "        vertical-align: top;\n",
       "    }\n",
       "\n",
       "    .dataframe thead th {\n",
       "        text-align: right;\n",
       "    }\n",
       "</style>\n",
       "<table border=\"1\" class=\"dataframe\">\n",
       "  <thead>\n",
       "    <tr style=\"text-align: right;\">\n",
       "      <th></th>\n",
       "      <th>SRNumber</th>\n",
       "      <th>CreatedDate</th>\n",
       "      <th>UpdatedDate</th>\n",
       "      <th>ActionTaken</th>\n",
       "      <th>Owner</th>\n",
       "      <th>RequestType</th>\n",
       "      <th>Status</th>\n",
       "      <th>RequestSource</th>\n",
       "      <th>CreatedByUserOrganization</th>\n",
       "      <th>MobileOS</th>\n",
       "      <th>...</th>\n",
       "      <th>CD</th>\n",
       "      <th>CDMember</th>\n",
       "      <th>NC</th>\n",
       "      <th>NCName</th>\n",
       "      <th>PolicePrecinct</th>\n",
       "      <th>ClosedDate_DT</th>\n",
       "      <th>CreatedDate_DT</th>\n",
       "      <th>close_time</th>\n",
       "      <th>close_time_days</th>\n",
       "      <th>CreatedDate_YR</th>\n",
       "    </tr>\n",
       "  </thead>\n",
       "  <tbody>\n",
       "    <tr>\n",
       "      <th>0</th>\n",
       "      <td>1-1523590871</td>\n",
       "      <td>12/31/2019 11:26:00 PM</td>\n",
       "      <td>01/14/2020 07:52:00 AM</td>\n",
       "      <td>SR Created</td>\n",
       "      <td>BOS</td>\n",
       "      <td>Homeless Encampment</td>\n",
       "      <td>Closed</td>\n",
       "      <td>Mobile App</td>\n",
       "      <td>Self Service</td>\n",
       "      <td>iOS</td>\n",
       "      <td>...</td>\n",
       "      <td>3.0</td>\n",
       "      <td>Bob Blumenfield</td>\n",
       "      <td>13.0</td>\n",
       "      <td>CANOGA PARK NC</td>\n",
       "      <td>TOPANGA</td>\n",
       "      <td>2020-01-14 07:51:00</td>\n",
       "      <td>2019-12-31 11:26:00</td>\n",
       "      <td>13 days 20:25:00</td>\n",
       "      <td>13.0</td>\n",
       "      <td>2019</td>\n",
       "    </tr>\n",
       "  </tbody>\n",
       "</table>\n",
       "<p>1 rows × 39 columns</p>\n",
       "</div>"
      ],
      "text/plain": [
       "       SRNumber             CreatedDate             UpdatedDate ActionTaken  \\\n",
       "0  1-1523590871  12/31/2019 11:26:00 PM  01/14/2020 07:52:00 AM  SR Created   \n",
       "\n",
       "  Owner          RequestType  Status RequestSource CreatedByUserOrganization  \\\n",
       "0   BOS  Homeless Encampment  Closed    Mobile App              Self Service   \n",
       "\n",
       "  MobileOS  ...   CD         CDMember    NC          NCName PolicePrecinct  \\\n",
       "0      iOS  ...  3.0  Bob Blumenfield  13.0  CANOGA PARK NC        TOPANGA   \n",
       "\n",
       "        ClosedDate_DT      CreatedDate_DT       close_time close_time_days  \\\n",
       "0 2020-01-14 07:51:00 2019-12-31 11:26:00 13 days 20:25:00            13.0   \n",
       "\n",
       "  CreatedDate_YR  \n",
       "0           2019  \n",
       "\n",
       "[1 rows x 39 columns]"
      ]
     },
     "execution_count": 69,
     "metadata": {},
     "output_type": "execute_result"
    }
   ],
   "source": [
    "df.head(1)"
   ]
  },
  {
   "cell_type": "markdown",
   "id": "86202952-cfe8-4ef4-886d-00e1c6249052",
   "metadata": {},
   "source": [
    "### Next: 2_visualization.ipynb"
   ]
  },
  {
   "cell_type": "code",
   "execution_count": null,
   "id": "4346f5cd-2ee6-4d60-8b4e-0a6ca11b02dc",
   "metadata": {},
   "outputs": [],
   "source": []
  }
 ],
 "metadata": {
  "kernelspec": {
   "display_name": "Python 3 (ipykernel)",
   "language": "python",
   "name": "python3"
  },
  "language_info": {
   "codemirror_mode": {
    "name": "ipython",
    "version": 3
   },
   "file_extension": ".py",
   "mimetype": "text/x-python",
   "name": "python",
   "nbconvert_exporter": "python",
   "pygments_lexer": "ipython3",
   "version": "3.9.21"
  }
 },
 "nbformat": 4,
 "nbformat_minor": 5
}
