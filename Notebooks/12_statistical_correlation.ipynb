{
 "cells": [
  {
   "cell_type": "code",
   "execution_count": null,
   "id": "17d1e470-2a1c-4e6d-bd22-a16b4bafdb2a",
   "metadata": {},
   "outputs": [],
   "source": []
  },
  {
   "cell_type": "markdown",
   "id": "be1fe9fa-799e-4bab-8936-975bd6ba0ec8",
   "metadata": {},
   "source": [
    "## Homeless Encampments in LA\n",
    "\n",
    "##### Spring 2025\n",
    "##### Amanda Alonzo\n",
    "##### I513 Usable AI\n",
    "##### Indiana University, Bloomington\n",
    " \n",
    "\n"
   ]
  },
  {
   "cell_type": "markdown",
   "id": "89639233-c4c8-40b9-a50b-1a9880d92cf5",
   "metadata": {},
   "source": [
    "## Statistical Analysis"
   ]
  },
  {
   "cell_type": "code",
   "execution_count": 1,
   "id": "61ce21f7-efac-4568-aafb-93390635b6d2",
   "metadata": {},
   "outputs": [],
   "source": [
    "import pandas as pd\n",
    "import matplotlib.pyplot as plt\n",
    "from datetime import datetime\n",
    "import re\n",
    "import numpy as np\n",
    "import seaborn as sns\n",
    "from scipy import stats\n"
   ]
  },
  {
   "cell_type": "code",
   "execution_count": 2,
   "id": "501a81ef-028d-4c06-bb95-2d902747d599",
   "metadata": {},
   "outputs": [],
   "source": [
    "raw_data_path = \"../Dataraw/\"\n",
    "annual_data_path = \"../Datafiles/\"\n",
    "generated_data_path = \"../Datagen/\""
   ]
  },
  {
   "cell_type": "code",
   "execution_count": 3,
   "id": "d126a1e2-07ff-4b05-9fa6-3dd507fcea74",
   "metadata": {},
   "outputs": [
    {
     "data": {
      "text/html": [
       "<div>\n",
       "<style scoped>\n",
       "    .dataframe tbody tr th:only-of-type {\n",
       "        vertical-align: middle;\n",
       "    }\n",
       "\n",
       "    .dataframe tbody tr th {\n",
       "        vertical-align: top;\n",
       "    }\n",
       "\n",
       "    .dataframe thead th {\n",
       "        text-align: right;\n",
       "    }\n",
       "</style>\n",
       "<table border=\"1\" class=\"dataframe\">\n",
       "  <thead>\n",
       "    <tr style=\"text-align: right;\">\n",
       "      <th></th>\n",
       "      <th>SRNumber</th>\n",
       "      <th>CreatedDate</th>\n",
       "      <th>UpdatedDate</th>\n",
       "      <th>ActionTaken</th>\n",
       "      <th>Owner</th>\n",
       "      <th>RequestType</th>\n",
       "      <th>Status</th>\n",
       "      <th>RequestSource</th>\n",
       "      <th>CreatedByUserOrganization</th>\n",
       "      <th>MobileOS</th>\n",
       "      <th>...</th>\n",
       "      <th>Shape__Length_y</th>\n",
       "      <th>close_time_bins</th>\n",
       "      <th>is_county_ind</th>\n",
       "      <th>park_distance_bins</th>\n",
       "      <th>closed_days_scaled</th>\n",
       "      <th>park_distance_scaled</th>\n",
       "      <th>ZIP Code</th>\n",
       "      <th>JENI Need Tier</th>\n",
       "      <th>JENI_TIER</th>\n",
       "      <th>food_center_count</th>\n",
       "    </tr>\n",
       "  </thead>\n",
       "  <tbody>\n",
       "    <tr>\n",
       "      <th>0</th>\n",
       "      <td>1-3202726931</td>\n",
       "      <td>01/01/2023 08:26:17 AM</td>\n",
       "      <td>01/31/2023 01:44:42 PM</td>\n",
       "      <td>SR Created</td>\n",
       "      <td>LASAN</td>\n",
       "      <td>Homeless Encampment</td>\n",
       "      <td>Closed</td>\n",
       "      <td>Self Service</td>\n",
       "      <td>Self Service_SAN</td>\n",
       "      <td>NaN</td>\n",
       "      <td>...</td>\n",
       "      <td>2824.807047</td>\n",
       "      <td>1.0</td>\n",
       "      <td>0</td>\n",
       "      <td>2</td>\n",
       "      <td>0.039295</td>\n",
       "      <td>0.054729</td>\n",
       "      <td>90063.0</td>\n",
       "      <td>High</td>\n",
       "      <td>4.0</td>\n",
       "      <td>2.0</td>\n",
       "    </tr>\n",
       "  </tbody>\n",
       "</table>\n",
       "<p>1 rows × 155 columns</p>\n",
       "</div>"
      ],
      "text/plain": [
       "       SRNumber             CreatedDate             UpdatedDate ActionTaken  \\\n",
       "0  1-3202726931  01/01/2023 08:26:17 AM  01/31/2023 01:44:42 PM  SR Created   \n",
       "\n",
       "   Owner          RequestType  Status RequestSource CreatedByUserOrganization  \\\n",
       "0  LASAN  Homeless Encampment  Closed  Self Service          Self Service_SAN   \n",
       "\n",
       "  MobileOS  ... Shape__Length_y close_time_bins is_county_ind  \\\n",
       "0      NaN  ...     2824.807047             1.0             0   \n",
       "\n",
       "  park_distance_bins closed_days_scaled park_distance_scaled ZIP Code  \\\n",
       "0                  2           0.039295             0.054729  90063.0   \n",
       "\n",
       "   JENI Need Tier JENI_TIER food_center_count  \n",
       "0            High       4.0               2.0  \n",
       "\n",
       "[1 rows x 155 columns]"
      ]
     },
     "execution_count": 3,
     "metadata": {},
     "output_type": "execute_result"
    }
   ],
   "source": [
    "#this is generated at enf of 1_eda.ipynb\n",
    "# it has some features added for dates and close time in days\n",
    "#write to file with new features added for next notebook: visualization\n",
    "df = pd.read_csv(generated_data_path+'homeless_camp_closed_2023_parks_zip_food_ftr_eng_1.csv', low_memory=False)\n",
    "df.head(1)"
   ]
  },
  {
   "cell_type": "markdown",
   "id": "5f3a54d9-caff-418f-a321-08e4677def5e",
   "metadata": {},
   "source": [
    "## Mann- Whitney U.  Correlation"
   ]
  },
  {
   "cell_type": "code",
   "execution_count": 4,
   "id": "514d060f-6b0b-44fc-8985-63254a7cf4b9",
   "metadata": {},
   "outputs": [],
   "source": [
    "# try more correlation technique as per Prof. Silva's feedback\n",
    "\"\"\"\n",
    "Mann- Whitney U. \n",
    "You can check the p-value (p). A low p-value (.e.g, <0.05) means that the two groups have different distribution for that feature, indicating a potential dependence.\n",
    "\"\"\"\n",
    "from scipy.stats import mannwhitneyu\n",
    "\n",
    "df_compare = df.copy() \n",
    "df_compare = df_compare[['JENI_TIER','closed_days_scaled']]\n",
    "df_compare = df_compare.dropna()"
   ]
  },
  {
   "cell_type": "markdown",
   "id": "04e72cb6-4857-415b-9935-679de95035ee",
   "metadata": {},
   "source": [
    "# 1. Close time correlation checks"
   ]
  },
  {
   "cell_type": "markdown",
   "id": "98f062ec-617f-4a91-a839-09dc0c051a0b",
   "metadata": {},
   "source": [
    "## JENI_TIER correlation"
   ]
  },
  {
   "cell_type": "code",
   "execution_count": 5,
   "id": "3aac8b7e-cd33-45d1-a6d8-18fd953bf3e4",
   "metadata": {},
   "outputs": [],
   "source": [
    "values_group_A = df_compare[ df_compare['JENI_TIER'] == 1 ]['closed_days_scaled']\n",
    "values_group_B = df_compare[ df_compare['JENI_TIER'] == 5 ]['closed_days_scaled']\n",
    "\n",
    "u, p = mannwhitneyu(values_group_A, values_group_B)"
   ]
  },
  {
   "cell_type": "code",
   "execution_count": 6,
   "id": "6e3f1fc7-548b-4ccc-8216-4ef12c99a0d3",
   "metadata": {},
   "outputs": [
    {
     "data": {
      "text/plain": [
       "(63104, 155)"
      ]
     },
     "execution_count": 6,
     "metadata": {},
     "output_type": "execute_result"
    }
   ],
   "source": [
    "df.shape"
   ]
  },
  {
   "cell_type": "code",
   "execution_count": 7,
   "id": "6debc8a1-f116-45a6-a9b3-b69473e1216a",
   "metadata": {},
   "outputs": [
    {
     "data": {
      "text/plain": [
       "('13426147.5000000000', '0.0000000000')"
      ]
     },
     "execution_count": 7,
     "metadata": {},
     "output_type": "execute_result"
    }
   ],
   "source": [
    "formatted_p = \"{:.10f}\".format(p)\n",
    "formatted_u = \"{:.10f}\".format(u)\n",
    "formatted_u, formatted_p"
   ]
  },
  {
   "cell_type": "markdown",
   "id": "39bfaf3f-9639-4c7b-abd7-133256e3692f",
   "metadata": {},
   "source": [
    "# Food Center correlation"
   ]
  },
  {
   "cell_type": "code",
   "execution_count": 8,
   "id": "984d5fb8-c5e5-4e4a-b404-0ba4f7b35f0f",
   "metadata": {},
   "outputs": [],
   "source": [
    "\n",
    "df_compare = df.copy() \n",
    "df_compare = df_compare[['food_center_count','closed_days_scaled']]\n",
    "df_compare = df_compare.dropna()"
   ]
  },
  {
   "cell_type": "code",
   "execution_count": 9,
   "id": "c0b887b1-5cc4-42af-a3bd-978124f02663",
   "metadata": {},
   "outputs": [],
   "source": [
    "values_group_A = df_compare[ df_compare['food_center_count'] == 1 ]['closed_days_scaled']\n",
    "values_group_B = df_compare[ df_compare['food_center_count'] == 5 ]['closed_days_scaled']\n",
    "\n",
    "u, p = mannwhitneyu(values_group_A, values_group_B)"
   ]
  },
  {
   "cell_type": "code",
   "execution_count": 10,
   "id": "e250275d-41f3-4a3e-b237-5a4f02750d02",
   "metadata": {},
   "outputs": [
    {
     "data": {
      "text/plain": [
       "('6900058.5000000000', '0.0000666333')"
      ]
     },
     "execution_count": 10,
     "metadata": {},
     "output_type": "execute_result"
    }
   ],
   "source": [
    "formatted_p = \"{:.10f}\".format(p)\n",
    "formatted_u = \"{:.10f}\".format(u)\n",
    "formatted_u, formatted_p"
   ]
  },
  {
   "cell_type": "markdown",
   "id": "0a96ca52-8230-4be3-99db-04ad924fae83",
   "metadata": {},
   "source": [
    "## Park Distance correlation"
   ]
  },
  {
   "cell_type": "code",
   "execution_count": 12,
   "id": "092fcb6b-5618-4e13-aa05-c03b8b5dc08a",
   "metadata": {},
   "outputs": [],
   "source": [
    "\n",
    "df_compare = df.copy() \n",
    "df_compare = df_compare[['park_distance_bins','closed_days_scaled','close_time_days_x','close_time_bins','park_distance_scaled']]\n",
    "df_compare = df_compare.dropna()"
   ]
  },
  {
   "cell_type": "code",
   "execution_count": 13,
   "id": "9e84cc78-7c13-4295-9af1-b72aa71e38fc",
   "metadata": {},
   "outputs": [
    {
     "data": {
      "text/plain": [
       "<Axes: title={'center': 'close_time_bins'}, xlabel='park_distance_bins'>"
      ]
     },
     "execution_count": 13,
     "metadata": {},
     "output_type": "execute_result"
    },
    {
     "data": {
      "image/png": "[encoded data removed]",
      "text/plain": [
       "<Figure size 640x480 with 1 Axes>"
      ]
     },
     "metadata": {},
     "output_type": "display_data"
    }
   ],
   "source": [
    "df[df[\"close_time_days_x\"]<200].boxplot(by = 'park_distance_bins', column =['close_time_bins'], grid = False) \n"
   ]
  },
  {
   "cell_type": "code",
   "execution_count": 15,
   "id": "850333ee-8266-4e2b-bf82-dc593c0f7fde",
   "metadata": {},
   "outputs": [],
   "source": [
    "\n",
    "values_group_A = df_compare[ df_compare['park_distance_bins'] == 0 ]['closed_days_scaled']\n",
    "values_group_B = df_compare[ df_compare['park_distance_bins'] == 4 ]['closed_days_scaled']\n",
    "\n",
    "u, p = mannwhitneyu(values_group_A, values_group_B)"
   ]
  },
  {
   "cell_type": "code",
   "execution_count": 16,
   "id": "b9f395f2-0a2c-495c-92c3-f4d7d4ff373f",
   "metadata": {},
   "outputs": [
    {
     "data": {
      "text/plain": [
       "('6457184.0000000000', '0.1630814172')"
      ]
     },
     "execution_count": 16,
     "metadata": {},
     "output_type": "execute_result"
    }
   ],
   "source": [
    "formatted_p = \"{:.10f}\".format(p)\n",
    "formatted_u = \"{:.10f}\".format(u)\n",
    "formatted_u, formatted_p"
   ]
  },
  {
   "cell_type": "markdown",
   "id": "400f09d7-56d4-40fe-8df9-90e9c5116d12",
   "metadata": {},
   "source": [
    "# Volume correlation checks\n",
    "\n",
    "## 1. Park Distance"
   ]
  },
  {
   "cell_type": "code",
   "execution_count": 76,
   "id": "62468af7-b78b-4d26-ac06-0e863471802a",
   "metadata": {},
   "outputs": [
    {
     "data": {
      "text/html": [
       "<div>\n",
       "<style scoped>\n",
       "    .dataframe tbody tr th:only-of-type {\n",
       "        vertical-align: middle;\n",
       "    }\n",
       "\n",
       "    .dataframe tbody tr th {\n",
       "        vertical-align: top;\n",
       "    }\n",
       "\n",
       "    .dataframe thead th {\n",
       "        text-align: right;\n",
       "    }\n",
       "</style>\n",
       "<table border=\"1\" class=\"dataframe\">\n",
       "  <thead>\n",
       "    <tr style=\"text-align: right;\">\n",
       "      <th></th>\n",
       "      <th>ticket_count</th>\n",
       "    </tr>\n",
       "    <tr>\n",
       "      <th>park_distance</th>\n",
       "      <th></th>\n",
       "    </tr>\n",
       "  </thead>\n",
       "  <tbody>\n",
       "    <tr>\n",
       "      <th>0.0</th>\n",
       "      <td>24119</td>\n",
       "    </tr>\n",
       "    <tr>\n",
       "      <th>1.0</th>\n",
       "      <td>31099</td>\n",
       "    </tr>\n",
       "    <tr>\n",
       "      <th>2.0</th>\n",
       "      <td>6142</td>\n",
       "    </tr>\n",
       "    <tr>\n",
       "      <th>3.0</th>\n",
       "      <td>1518</td>\n",
       "    </tr>\n",
       "    <tr>\n",
       "      <th>4.0</th>\n",
       "      <td>194</td>\n",
       "    </tr>\n",
       "    <tr>\n",
       "      <th>5.0</th>\n",
       "      <td>9</td>\n",
       "    </tr>\n",
       "    <tr>\n",
       "      <th>6.0</th>\n",
       "      <td>8</td>\n",
       "    </tr>\n",
       "    <tr>\n",
       "      <th>8.0</th>\n",
       "      <td>2</td>\n",
       "    </tr>\n",
       "    <tr>\n",
       "      <th>11.0</th>\n",
       "      <td>2</td>\n",
       "    </tr>\n",
       "    <tr>\n",
       "      <th>35.0</th>\n",
       "      <td>3</td>\n",
       "    </tr>\n",
       "  </tbody>\n",
       "</table>\n",
       "</div>"
      ],
      "text/plain": [
       "               ticket_count\n",
       "park_distance              \n",
       "0.0                   24119\n",
       "1.0                   31099\n",
       "2.0                    6142\n",
       "3.0                    1518\n",
       "4.0                     194\n",
       "5.0                       9\n",
       "6.0                       8\n",
       "8.0                       2\n",
       "11.0                      2\n",
       "35.0                      3"
      ]
     },
     "execution_count": 76,
     "metadata": {},
     "output_type": "execute_result"
    }
   ],
   "source": [
    "\n",
    "df_compare = df.copy() \n",
    "df_compare = df_compare[['park_distance' ]]\n",
    "df_compare = df_compare.dropna()\n",
    "\n",
    "df_cnts = round(df_compare['park_distance']).value_counts()\n",
    "df_cnts = pd.DataFrame(df_cnts)\n",
    "df_cnts.rename(columns={'count':'ticket_count'}, inplace=True)\n",
    "df_cnts.head(10 ).sort_index()"
   ]
  },
  {
   "cell_type": "code",
   "execution_count": 79,
   "id": "1ab3915e-7bc1-4796-8a3c-545b3c562528",
   "metadata": {},
   "outputs": [],
   "source": [
    "\n",
    "values_group_A = df_cnts.iloc[0:2,0]  \n",
    "values_group_B = df_cnts.iloc[2:,0]  \n",
    "df_cnts\n",
    "u, p = mannwhitneyu(values_group_A, values_group_B)"
   ]
  },
  {
   "cell_type": "code",
   "execution_count": 80,
   "id": "044970b7-3741-49e7-a015-bd029fe4d27b",
   "metadata": {},
   "outputs": [
    {
     "data": {
      "text/plain": [
       "('30.0000000000', '0.0267521591')"
      ]
     },
     "execution_count": 80,
     "metadata": {},
     "output_type": "execute_result"
    }
   ],
   "source": [
    "formatted_p = \"{:.10f}\".format(p)\n",
    "formatted_u = \"{:.10f}\".format(u)\n",
    "formatted_u, formatted_p"
   ]
  },
  {
   "cell_type": "markdown",
   "id": "914e4a3f-cd7e-4382-b23f-c664827f0919",
   "metadata": {},
   "source": [
    "## 2. Food center counts"
   ]
  },
  {
   "cell_type": "code",
   "execution_count": 84,
   "id": "e6dcfa1e-4624-47db-8e50-13f5755c9fab",
   "metadata": {},
   "outputs": [
    {
     "data": {
      "text/html": [
       "<div>\n",
       "<style scoped>\n",
       "    .dataframe tbody tr th:only-of-type {\n",
       "        vertical-align: middle;\n",
       "    }\n",
       "\n",
       "    .dataframe tbody tr th {\n",
       "        vertical-align: top;\n",
       "    }\n",
       "\n",
       "    .dataframe thead th {\n",
       "        text-align: right;\n",
       "    }\n",
       "</style>\n",
       "<table border=\"1\" class=\"dataframe\">\n",
       "  <thead>\n",
       "    <tr style=\"text-align: right;\">\n",
       "      <th></th>\n",
       "      <th>site_count</th>\n",
       "    </tr>\n",
       "    <tr>\n",
       "      <th>food_center_count</th>\n",
       "      <th></th>\n",
       "    </tr>\n",
       "  </thead>\n",
       "  <tbody>\n",
       "    <tr>\n",
       "      <th>0.0</th>\n",
       "      <td>20309</td>\n",
       "    </tr>\n",
       "    <tr>\n",
       "      <th>1.0</th>\n",
       "      <td>18700</td>\n",
       "    </tr>\n",
       "    <tr>\n",
       "      <th>2.0</th>\n",
       "      <td>16929</td>\n",
       "    </tr>\n",
       "    <tr>\n",
       "      <th>3.0</th>\n",
       "      <td>2358</td>\n",
       "    </tr>\n",
       "    <tr>\n",
       "      <th>4.0</th>\n",
       "      <td>4003</td>\n",
       "    </tr>\n",
       "    <tr>\n",
       "      <th>5.0</th>\n",
       "      <td>805</td>\n",
       "    </tr>\n",
       "  </tbody>\n",
       "</table>\n",
       "</div>"
      ],
      "text/plain": [
       "                   site_count\n",
       "food_center_count            \n",
       "0.0                     20309\n",
       "1.0                     18700\n",
       "2.0                     16929\n",
       "3.0                      2358\n",
       "4.0                      4003\n",
       "5.0                       805"
      ]
     },
     "execution_count": 84,
     "metadata": {},
     "output_type": "execute_result"
    }
   ],
   "source": [
    "\n",
    "df_compare = df.copy() \n",
    "df_compare = df_compare[['food_center_count' ]]\n",
    "df_compare = df_compare.dropna()\n",
    "\n",
    "df_cnts = round(df_compare['food_center_count']).value_counts()\n",
    "df_cnts = pd.DataFrame(df_cnts)\n",
    "df_cnts.rename(columns={'count':'site_count'}, inplace=True)\n",
    "df_cnts.head(10 ).sort_index()"
   ]
  },
  {
   "cell_type": "code",
   "execution_count": 88,
   "id": "85305871-c9a5-461b-b539-37f456ef04a7",
   "metadata": {},
   "outputs": [],
   "source": [
    "\n",
    "values_group_A = df_cnts.iloc[0:3,0]  \n",
    "values_group_B = df_cnts.iloc[3:,0]  \n",
    "df_cnts\n",
    "u, p = mannwhitneyu(values_group_A, values_group_B)"
   ]
  },
  {
   "cell_type": "code",
   "execution_count": 89,
   "id": "311499d9-7730-45c7-a711-c660724d8fd6",
   "metadata": {},
   "outputs": [
    {
     "data": {
      "text/plain": [
       "('9.0000000000', '0.1000000000')"
      ]
     },
     "execution_count": 89,
     "metadata": {},
     "output_type": "execute_result"
    }
   ],
   "source": [
    "formatted_p = \"{:.10f}\".format(p)\n",
    "formatted_u = \"{:.10f}\".format(u)\n",
    "formatted_u, formatted_p"
   ]
  },
  {
   "cell_type": "code",
   "execution_count": 92,
   "id": "02444082-3819-4c41-9d38-6014847b2eb9",
   "metadata": {},
   "outputs": [
    {
     "data": {
      "text/plain": [
       "food_center_count\n",
       "4.0    4003\n",
       "3.0    2358\n",
       "5.0     805\n",
       "Name: site_count, dtype: int64"
      ]
     },
     "execution_count": 92,
     "metadata": {},
     "output_type": "execute_result"
    }
   ],
   "source": [
    "values_group_B"
   ]
  },
  {
   "cell_type": "code",
   "execution_count": null,
   "id": "fb90d243-9388-4db9-9678-19ae58e27177",
   "metadata": {},
   "outputs": [],
   "source": []
  },
  {
   "cell_type": "markdown",
   "id": "3a08c2ea-c3e7-4fa9-8f46-87afedc55e6d",
   "metadata": {},
   "source": [
    "## 3. JENI tier counts"
   ]
  },
  {
   "cell_type": "code",
   "execution_count": 93,
   "id": "75315758-e9e7-442a-82ee-6436c42807b9",
   "metadata": {},
   "outputs": [
    {
     "data": {
      "text/html": [
       "<div>\n",
       "<style scoped>\n",
       "    .dataframe tbody tr th:only-of-type {\n",
       "        vertical-align: middle;\n",
       "    }\n",
       "\n",
       "    .dataframe tbody tr th {\n",
       "        vertical-align: top;\n",
       "    }\n",
       "\n",
       "    .dataframe thead th {\n",
       "        text-align: right;\n",
       "    }\n",
       "</style>\n",
       "<table border=\"1\" class=\"dataframe\">\n",
       "  <thead>\n",
       "    <tr style=\"text-align: right;\">\n",
       "      <th></th>\n",
       "      <th>tier_count</th>\n",
       "    </tr>\n",
       "    <tr>\n",
       "      <th>JENI_TIER</th>\n",
       "      <th></th>\n",
       "    </tr>\n",
       "  </thead>\n",
       "  <tbody>\n",
       "    <tr>\n",
       "      <th>1.0</th>\n",
       "      <td>1241</td>\n",
       "    </tr>\n",
       "    <tr>\n",
       "      <th>2.0</th>\n",
       "      <td>9687</td>\n",
       "    </tr>\n",
       "    <tr>\n",
       "      <th>3.0</th>\n",
       "      <td>11905</td>\n",
       "    </tr>\n",
       "    <tr>\n",
       "      <th>4.0</th>\n",
       "      <td>15038</td>\n",
       "    </tr>\n",
       "    <tr>\n",
       "      <th>5.0</th>\n",
       "      <td>25205</td>\n",
       "    </tr>\n",
       "  </tbody>\n",
       "</table>\n",
       "</div>"
      ],
      "text/plain": [
       "           tier_count\n",
       "JENI_TIER            \n",
       "1.0              1241\n",
       "2.0              9687\n",
       "3.0             11905\n",
       "4.0             15038\n",
       "5.0             25205"
      ]
     },
     "execution_count": 93,
     "metadata": {},
     "output_type": "execute_result"
    }
   ],
   "source": [
    "\n",
    "df_compare = df.copy() \n",
    "df_compare = df_compare[['JENI_TIER' ]]\n",
    "df_compare = df_compare.dropna()\n",
    "\n",
    "df_cnts = round(df_compare['JENI_TIER']).value_counts()\n",
    "df_cnts = pd.DataFrame(df_cnts)\n",
    "df_cnts.rename(columns={'count':'tier_count'}, inplace=True)\n",
    "df_cnts.head(10 ).sort_index()"
   ]
  },
  {
   "cell_type": "code",
   "execution_count": 94,
   "id": "a7552c77-3bc3-47bd-b8b0-967e3ce4fe25",
   "metadata": {},
   "outputs": [],
   "source": [
    "\n",
    "values_group_A = df_cnts.iloc[0:2,0]  \n",
    "values_group_B = df_cnts.iloc[3:,0]  \n",
    "df_cnts\n",
    "u, p = mannwhitneyu(values_group_A, values_group_B)"
   ]
  },
  {
   "cell_type": "code",
   "execution_count": 95,
   "id": "b30c0077-d9a9-4e14-be4c-143514018e78",
   "metadata": {},
   "outputs": [
    {
     "data": {
      "text/plain": [
       "('4.0000000000', '0.3333333333')"
      ]
     },
     "execution_count": 95,
     "metadata": {},
     "output_type": "execute_result"
    }
   ],
   "source": [
    "formatted_p = \"{:.10f}\".format(p)\n",
    "formatted_u = \"{:.10f}\".format(u)\n",
    "formatted_u, formatted_p"
   ]
  },
  {
   "cell_type": "code",
   "execution_count": 96,
   "id": "1e421b13-4b21-473b-b712-e2f760c3269a",
   "metadata": {},
   "outputs": [
    {
     "data": {
      "text/plain": [
       "JENI_TIER\n",
       "2.0    9687\n",
       "1.0    1241\n",
       "Name: tier_count, dtype: int64"
      ]
     },
     "execution_count": 96,
     "metadata": {},
     "output_type": "execute_result"
    }
   ],
   "source": [
    "values_group_B"
   ]
  },
  {
   "cell_type": "code",
   "execution_count": null,
   "id": "396c6343-5b78-4669-859c-00b915e1432f",
   "metadata": {},
   "outputs": [],
   "source": []
  }
 ],
 "metadata": {
  "kernelspec": {
   "display_name": "Python 3 (ipykernel)",
   "language": "python",
   "name": "python3"
  },
  "language_info": {
   "codemirror_mode": {
    "name": "ipython",
    "version": 3
   },
   "file_extension": ".py",
   "mimetype": "text/x-python",
   "name": "python",
   "nbconvert_exporter": "python",
   "pygments_lexer": "ipython3",
   "version": "3.9.21"
  }
 },
 "nbformat": 4,
 "nbformat_minor": 5
}
