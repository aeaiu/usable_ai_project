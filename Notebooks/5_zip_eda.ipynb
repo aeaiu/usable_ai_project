{
 "cells": [
  {
   "cell_type": "markdown",
   "id": "22d22a8f-b1c1-46d2-87a4-3719fae03c51",
   "metadata": {},
   "source": [
    "## Homeless Encampments in LA\n",
    "\n",
    "##### Spring 2025\n",
    "##### Amanda Alonzo\n",
    "##### I513 Usable AI\n",
    "##### Indiana University, Bloomington\n",
    " \n",
    "\n"
   ]
  },
  {
   "cell_type": "markdown",
   "id": "a4be7ac8-8364-42a0-95fc-8d2bafd0651a",
   "metadata": {},
   "source": [
    "# Zip code metadata\n",
    "\n",
    "In order to assess neighborhood socioeconomic status by zip code, utilize publicly available JENI data.\n",
    "\n",
    "#### Source: \n",
    "\n",
    "#### https://data.lacounty.gov/datasets/lacounty::justice-equity-need-index-zip-code/about\n",
    "\n",
    "\n",
    "#### About (from website above): \n",
    "\n",
    "\"Summary\n",
    "The Justice Equity Need Index (JENI) identifies ZIP Codes in greatest need of public investments in community healing, health, and prevention to help reverse historical injustices. Updated 2022.\n",
    "\n",
    "The Justice Equity Need Index (JENI), by Advancement Project California, offers a means to map out the disparate burden that criminalization and a detention-first justice model place on specific communities. The index includes the following indicators:\n",
    "\n",
    "System Involvement: The system-involved population by ZIP Code results in direct needs for justice equity, as measured by adult and youth probation.\n",
    "\n",
    "Indicators: Adult Probation (per 1,000 people); Youth Probation (per 1,000 people)\n",
    "\n",
    "Inequity Drivers: Root inequities across communities that contribute to racial and economic disparities as seen in incarceration and policing.\n",
    "\n",
    "Indicators: Black, Latinx, AIAN, and NHPI Percentages of Population (average percentile); Unemployment Rate (%); Population aged 25+ without a High School Diploma (%); Population below 200% of the Federal Poverty Level (%); Violent Crime Rate (per 1,000 people)\n",
    "\n",
    "Criminalization Risk: Conditions where the criminal justice system has historically taken a detention-first, prevention-last approach.\n",
    "\n",
    "Indicators: Mental Health Hospitalizations (per 1,000 people); Substance Use-Related Hospitalizations (per 1,000 people); Homelessness Rate (per 1,000 people)\n",
    "\n",
    "Learn more at https://www.catalystcalifornia.org/campaign-tools/maps-and-data/justice-equity-need-index.\n",
    "\""
   ]
  },
  {
   "cell_type": "markdown",
   "id": "47002d41-5bd3-4291-afc8-0accf02ac0c1",
   "metadata": {},
   "source": [
    "## Download file from above and save to: Datafiles/Justice_Equity_Need_Index.csv"
   ]
  },
  {
   "cell_type": "code",
   "execution_count": null,
   "id": "f30e85c7-d2f8-45dd-8666-6f3bdb765c6c",
   "metadata": {},
   "outputs": [],
   "source": []
  }
 ],
 "metadata": {
  "kernelspec": {
   "display_name": "Python 3 (ipykernel)",
   "language": "python",
   "name": "python3"
  },
  "language_info": {
   "codemirror_mode": {
    "name": "ipython",
    "version": 3
   },
   "file_extension": ".py",
   "mimetype": "text/x-python",
   "name": "python",
   "nbconvert_exporter": "python",
   "pygments_lexer": "ipython3",
   "version": "3.9.21"
  }
 },
 "nbformat": 4,
 "nbformat_minor": 5
}
