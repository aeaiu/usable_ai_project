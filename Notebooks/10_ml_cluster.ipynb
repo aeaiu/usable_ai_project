{
 "cells": [
  {
   "cell_type": "markdown",
   "id": "4877b24c-e39d-43d3-b5ad-4da1b6fbc862",
   "metadata": {
    "jp-MarkdownHeadingCollapsed": true
   },
   "source": [
    "## Homeless Encampments in LA\n",
    "\n",
    "##### Spring 2025\n",
    "##### Amanda Alonzo\n",
    "##### I513 Usable AI\n",
    "##### Indiana University, Bloomington\n",
    " \n"
   ]
  },
  {
   "cell_type": "markdown",
   "id": "dd598b13-5173-4cd7-b43e-e46bbadd488e",
   "metadata": {},
   "source": [
    "## Machine Learning Clusters\n",
    "\n",
    "#### Prerequisite: 5_ml_prediction.ipynb"
   ]
  },
  {
   "cell_type": "code",
   "execution_count": 1,
   "id": "c25f6f7c-c299-4861-8bbd-79f4a2c75155",
   "metadata": {},
   "outputs": [],
   "source": [
    "import pandas as pd\n",
    "import matplotlib.pyplot as plt\n",
    "from datetime import datetime\n",
    "import re\n",
    "import numpy as np\n",
    "import seaborn as sns\n",
    "from scipy import stats\n",
    "from sklearn.cluster import KMeans"
   ]
  },
  {
   "cell_type": "code",
   "execution_count": 2,
   "id": "b814cc65-4fbe-48d3-b8ba-b8b4f8a2c860",
   "metadata": {},
   "outputs": [],
   "source": [
    "raw_data_path = \"../Dataraw/\"\n",
    "annual_data_path = \"../Datafiles/\"\n",
    "generated_data_path = \"../Datagen/\""
   ]
  },
  {
   "cell_type": "code",
   "execution_count": 22,
   "id": "17c19a88-6604-4374-ad99-1c429c620df6",
   "metadata": {
    "scrolled": true
   },
   "outputs": [
    {
     "data": {
      "text/html": [
       "<div>\n",
       "<style scoped>\n",
       "    .dataframe tbody tr th:only-of-type {\n",
       "        vertical-align: middle;\n",
       "    }\n",
       "\n",
       "    .dataframe tbody tr th {\n",
       "        vertical-align: top;\n",
       "    }\n",
       "\n",
       "    .dataframe thead th {\n",
       "        text-align: right;\n",
       "    }\n",
       "</style>\n",
       "<table border=\"1\" class=\"dataframe\">\n",
       "  <thead>\n",
       "    <tr style=\"text-align: right;\">\n",
       "      <th></th>\n",
       "      <th>requestsource</th>\n",
       "      <th>zipcodefmt</th>\n",
       "      <th>anonymous</th>\n",
       "      <th>park_distance_bins</th>\n",
       "      <th>close_time_bins</th>\n",
       "      <th>is_county_ind</th>\n",
       "      <th>nds_an_typ</th>\n",
       "      <th>cogp_typ</th>\n",
       "      <th>access_typ</th>\n",
       "      <th>jeni_tier</th>\n",
       "      <th>food_center_count</th>\n",
       "      <th>assignto_EV</th>\n",
       "      <th>assignto_HB</th>\n",
       "      <th>assignto_LSD</th>\n",
       "      <th>assignto_NC</th>\n",
       "      <th>assignto_SLA</th>\n",
       "      <th>assignto_WLA</th>\n",
       "      <th>assignto_WV</th>\n",
       "    </tr>\n",
       "  </thead>\n",
       "  <tbody>\n",
       "    <tr>\n",
       "      <th>0</th>\n",
       "      <td>Self Service</td>\n",
       "      <td>90063.0</td>\n",
       "      <td>Y</td>\n",
       "      <td>2</td>\n",
       "      <td>1.0</td>\n",
       "      <td>0</td>\n",
       "      <td>Park 5 to 100 Acres</td>\n",
       "      <td>Neighborhood</td>\n",
       "      <td>Open Access</td>\n",
       "      <td>4.0</td>\n",
       "      <td>2.0</td>\n",
       "      <td>0</td>\n",
       "      <td>0</td>\n",
       "      <td>0</td>\n",
       "      <td>1</td>\n",
       "      <td>0</td>\n",
       "      <td>0</td>\n",
       "      <td>0</td>\n",
       "    </tr>\n",
       "  </tbody>\n",
       "</table>\n",
       "</div>"
      ],
      "text/plain": [
       "  requestsource  zipcodefmt anonymous  park_distance_bins  close_time_bins  \\\n",
       "0  Self Service     90063.0         Y                   2              1.0   \n",
       "\n",
       "   is_county_ind           nds_an_typ      cogp_typ   access_typ  jeni_tier  \\\n",
       "0              0  Park 5 to 100 Acres  Neighborhood  Open Access        4.0   \n",
       "\n",
       "   food_center_count  assignto_EV  assignto_HB  assignto_LSD  assignto_NC  \\\n",
       "0                2.0            0            0             0            1   \n",
       "\n",
       "   assignto_SLA  assignto_WLA  assignto_WV  \n",
       "0             0             0            0  "
      ]
     },
     "execution_count": 22,
     "metadata": {},
     "output_type": "execute_result"
    }
   ],
   "source": [
    "#laod  our data frame from past steps \n",
    "df = pd.read_csv(generated_data_path+'homeless_camp_closed_2023_parks_jeni_food_simplified_2.csv', low_memory=False)\n",
    "df.head(1)"
   ]
  },
  {
   "cell_type": "code",
   "execution_count": 23,
   "id": "dd292bcd-ad6c-43fe-a429-5d2f528b8095",
   "metadata": {},
   "outputs": [
    {
     "data": {
      "text/plain": [
       "(37264, 18)"
      ]
     },
     "execution_count": 23,
     "metadata": {},
     "output_type": "execute_result"
    }
   ],
   "source": [
    "df.shape"
   ]
  },
  {
   "cell_type": "code",
   "execution_count": 24,
   "id": "0df64aa4-9db6-465c-ad23-035da4ed9aef",
   "metadata": {},
   "outputs": [
    {
     "data": {
      "text/html": [
       "<div>\n",
       "<style scoped>\n",
       "    .dataframe tbody tr th:only-of-type {\n",
       "        vertical-align: middle;\n",
       "    }\n",
       "\n",
       "    .dataframe tbody tr th {\n",
       "        vertical-align: top;\n",
       "    }\n",
       "\n",
       "    .dataframe thead th {\n",
       "        text-align: right;\n",
       "    }\n",
       "</style>\n",
       "<table border=\"1\" class=\"dataframe\">\n",
       "  <thead>\n",
       "    <tr style=\"text-align: right;\">\n",
       "      <th></th>\n",
       "      <th>zipcodefmt</th>\n",
       "      <th>park_distance_bins</th>\n",
       "      <th>close_time_bins</th>\n",
       "      <th>is_county_ind</th>\n",
       "      <th>jeni_tier</th>\n",
       "      <th>food_center_count</th>\n",
       "      <th>assignto_EV</th>\n",
       "      <th>assignto_HB</th>\n",
       "      <th>assignto_LSD</th>\n",
       "      <th>assignto_NC</th>\n",
       "      <th>assignto_SLA</th>\n",
       "      <th>assignto_WLA</th>\n",
       "      <th>assignto_WV</th>\n",
       "    </tr>\n",
       "  </thead>\n",
       "  <tbody>\n",
       "    <tr>\n",
       "      <th>count</th>\n",
       "      <td>37264.000000</td>\n",
       "      <td>37264.000000</td>\n",
       "      <td>37264.000000</td>\n",
       "      <td>37264.000000</td>\n",
       "      <td>37264.000000</td>\n",
       "      <td>37264.000000</td>\n",
       "      <td>37264.000000</td>\n",
       "      <td>37264.000000</td>\n",
       "      <td>37264.000000</td>\n",
       "      <td>37264.000000</td>\n",
       "      <td>37264.000000</td>\n",
       "      <td>37264.000000</td>\n",
       "      <td>37264.000000</td>\n",
       "    </tr>\n",
       "    <tr>\n",
       "      <th>mean</th>\n",
       "      <td>90440.681033</td>\n",
       "      <td>0.991359</td>\n",
       "      <td>2.010734</td>\n",
       "      <td>0.980491</td>\n",
       "      <td>3.863112</td>\n",
       "      <td>1.258185</td>\n",
       "      <td>0.175075</td>\n",
       "      <td>0.013901</td>\n",
       "      <td>0.006145</td>\n",
       "      <td>0.368345</td>\n",
       "      <td>0.145744</td>\n",
       "      <td>0.184011</td>\n",
       "      <td>0.106779</td>\n",
       "    </tr>\n",
       "    <tr>\n",
       "      <th>std</th>\n",
       "      <td>625.135699</td>\n",
       "      <td>0.973514</td>\n",
       "      <td>0.816590</td>\n",
       "      <td>0.138309</td>\n",
       "      <td>1.155685</td>\n",
       "      <td>1.173546</td>\n",
       "      <td>0.380036</td>\n",
       "      <td>0.117081</td>\n",
       "      <td>0.078152</td>\n",
       "      <td>0.482362</td>\n",
       "      <td>0.352854</td>\n",
       "      <td>0.387499</td>\n",
       "      <td>0.308836</td>\n",
       "    </tr>\n",
       "    <tr>\n",
       "      <th>min</th>\n",
       "      <td>90001.000000</td>\n",
       "      <td>0.000000</td>\n",
       "      <td>1.000000</td>\n",
       "      <td>0.000000</td>\n",
       "      <td>1.000000</td>\n",
       "      <td>0.000000</td>\n",
       "      <td>0.000000</td>\n",
       "      <td>0.000000</td>\n",
       "      <td>0.000000</td>\n",
       "      <td>0.000000</td>\n",
       "      <td>0.000000</td>\n",
       "      <td>0.000000</td>\n",
       "      <td>0.000000</td>\n",
       "    </tr>\n",
       "    <tr>\n",
       "      <th>25%</th>\n",
       "      <td>90024.000000</td>\n",
       "      <td>0.000000</td>\n",
       "      <td>1.000000</td>\n",
       "      <td>1.000000</td>\n",
       "      <td>3.000000</td>\n",
       "      <td>0.000000</td>\n",
       "      <td>0.000000</td>\n",
       "      <td>0.000000</td>\n",
       "      <td>0.000000</td>\n",
       "      <td>0.000000</td>\n",
       "      <td>0.000000</td>\n",
       "      <td>0.000000</td>\n",
       "      <td>0.000000</td>\n",
       "    </tr>\n",
       "    <tr>\n",
       "      <th>50%</th>\n",
       "      <td>90046.000000</td>\n",
       "      <td>1.000000</td>\n",
       "      <td>2.000000</td>\n",
       "      <td>1.000000</td>\n",
       "      <td>4.000000</td>\n",
       "      <td>1.000000</td>\n",
       "      <td>0.000000</td>\n",
       "      <td>0.000000</td>\n",
       "      <td>0.000000</td>\n",
       "      <td>0.000000</td>\n",
       "      <td>0.000000</td>\n",
       "      <td>0.000000</td>\n",
       "      <td>0.000000</td>\n",
       "    </tr>\n",
       "    <tr>\n",
       "      <th>75%</th>\n",
       "      <td>91311.000000</td>\n",
       "      <td>2.000000</td>\n",
       "      <td>3.000000</td>\n",
       "      <td>1.000000</td>\n",
       "      <td>5.000000</td>\n",
       "      <td>2.000000</td>\n",
       "      <td>0.000000</td>\n",
       "      <td>0.000000</td>\n",
       "      <td>0.000000</td>\n",
       "      <td>1.000000</td>\n",
       "      <td>0.000000</td>\n",
       "      <td>0.000000</td>\n",
       "      <td>0.000000</td>\n",
       "    </tr>\n",
       "    <tr>\n",
       "      <th>max</th>\n",
       "      <td>91607.000000</td>\n",
       "      <td>4.000000</td>\n",
       "      <td>3.000000</td>\n",
       "      <td>1.000000</td>\n",
       "      <td>5.000000</td>\n",
       "      <td>5.000000</td>\n",
       "      <td>1.000000</td>\n",
       "      <td>1.000000</td>\n",
       "      <td>1.000000</td>\n",
       "      <td>1.000000</td>\n",
       "      <td>1.000000</td>\n",
       "      <td>1.000000</td>\n",
       "      <td>1.000000</td>\n",
       "    </tr>\n",
       "  </tbody>\n",
       "</table>\n",
       "</div>"
      ],
      "text/plain": [
       "         zipcodefmt  park_distance_bins  close_time_bins  is_county_ind  \\\n",
       "count  37264.000000        37264.000000     37264.000000   37264.000000   \n",
       "mean   90440.681033            0.991359         2.010734       0.980491   \n",
       "std      625.135699            0.973514         0.816590       0.138309   \n",
       "min    90001.000000            0.000000         1.000000       0.000000   \n",
       "25%    90024.000000            0.000000         1.000000       1.000000   \n",
       "50%    90046.000000            1.000000         2.000000       1.000000   \n",
       "75%    91311.000000            2.000000         3.000000       1.000000   \n",
       "max    91607.000000            4.000000         3.000000       1.000000   \n",
       "\n",
       "          jeni_tier  food_center_count   assignto_EV   assignto_HB  \\\n",
       "count  37264.000000       37264.000000  37264.000000  37264.000000   \n",
       "mean       3.863112           1.258185      0.175075      0.013901   \n",
       "std        1.155685           1.173546      0.380036      0.117081   \n",
       "min        1.000000           0.000000      0.000000      0.000000   \n",
       "25%        3.000000           0.000000      0.000000      0.000000   \n",
       "50%        4.000000           1.000000      0.000000      0.000000   \n",
       "75%        5.000000           2.000000      0.000000      0.000000   \n",
       "max        5.000000           5.000000      1.000000      1.000000   \n",
       "\n",
       "       assignto_LSD   assignto_NC  assignto_SLA  assignto_WLA   assignto_WV  \n",
       "count  37264.000000  37264.000000  37264.000000  37264.000000  37264.000000  \n",
       "mean       0.006145      0.368345      0.145744      0.184011      0.106779  \n",
       "std        0.078152      0.482362      0.352854      0.387499      0.308836  \n",
       "min        0.000000      0.000000      0.000000      0.000000      0.000000  \n",
       "25%        0.000000      0.000000      0.000000      0.000000      0.000000  \n",
       "50%        0.000000      0.000000      0.000000      0.000000      0.000000  \n",
       "75%        0.000000      1.000000      0.000000      0.000000      0.000000  \n",
       "max        1.000000      1.000000      1.000000      1.000000      1.000000  "
      ]
     },
     "execution_count": 24,
     "metadata": {},
     "output_type": "execute_result"
    }
   ],
   "source": [
    "df.describe()\n",
    "#todo: check zipcodefmt is replaced with jini_tier"
   ]
  },
  {
   "cell_type": "code",
   "execution_count": 25,
   "id": "11980b10-aca0-4dff-bf88-df1042b5ad8c",
   "metadata": {},
   "outputs": [],
   "source": [
    "#df['close_time_day_bins'] =    pd.cut(df['close_time_days'],bins=[10,50,100,200,300,1000],labels=[1,2,3,4,5])                                   "
   ]
  },
  {
   "cell_type": "markdown",
   "id": "169fe080-e53c-4c9c-aa79-9af82fb6c917",
   "metadata": {},
   "source": [
    "## Cluster tickets\n",
    "### Logistic Regression"
   ]
  },
  {
   "cell_type": "code",
   "execution_count": 26,
   "id": "fe75ffc7-9a18-478f-80c7-40f920978666",
   "metadata": {},
   "outputs": [],
   "source": [
    "import numpy as np\n",
    "from sklearn.model_selection import train_test_split\n",
    "from sklearn.linear_model import LinearRegression\n",
    "from sklearn.preprocessing import normalize\n",
    "from sklearn.metrics import r2_score\n",
    "\n",
    "import matplotlib.pyplot as plt"
   ]
  },
  {
   "cell_type": "code",
   "execution_count": 27,
   "id": "d4c5823e-b4b3-4f30-bb6c-ef818a45967e",
   "metadata": {},
   "outputs": [],
   "source": [
    "numeric_variables = df.select_dtypes(include=np.number)\n",
    "x = df[list(numeric_variables.columns)]\n",
    "x = x.drop('close_time_bins',axis=1)\n",
    "y = df['close_time_bins']"
   ]
  },
  {
   "cell_type": "code",
   "execution_count": 28,
   "id": "b7b3aeed-466a-4160-9646-88a4e4045b64",
   "metadata": {},
   "outputs": [],
   "source": [
    "x = x.drop('zipcodefmt',axis=1)"
   ]
  },
  {
   "cell_type": "code",
   "execution_count": 29,
   "id": "437bdc99-4203-413c-bed3-3d82d4d04ad4",
   "metadata": {},
   "outputs": [
    {
     "data": {
      "text/html": [
       "<div>\n",
       "<style scoped>\n",
       "    .dataframe tbody tr th:only-of-type {\n",
       "        vertical-align: middle;\n",
       "    }\n",
       "\n",
       "    .dataframe tbody tr th {\n",
       "        vertical-align: top;\n",
       "    }\n",
       "\n",
       "    .dataframe thead th {\n",
       "        text-align: right;\n",
       "    }\n",
       "</style>\n",
       "<table border=\"1\" class=\"dataframe\">\n",
       "  <thead>\n",
       "    <tr style=\"text-align: right;\">\n",
       "      <th></th>\n",
       "      <th>park_distance_bins</th>\n",
       "      <th>is_county_ind</th>\n",
       "      <th>jeni_tier</th>\n",
       "      <th>food_center_count</th>\n",
       "      <th>assignto_EV</th>\n",
       "      <th>assignto_HB</th>\n",
       "      <th>assignto_LSD</th>\n",
       "      <th>assignto_NC</th>\n",
       "      <th>assignto_SLA</th>\n",
       "      <th>assignto_WLA</th>\n",
       "      <th>assignto_WV</th>\n",
       "    </tr>\n",
       "  </thead>\n",
       "  <tbody>\n",
       "    <tr>\n",
       "      <th>0</th>\n",
       "      <td>2</td>\n",
       "      <td>0</td>\n",
       "      <td>4.0</td>\n",
       "      <td>2.0</td>\n",
       "      <td>0</td>\n",
       "      <td>0</td>\n",
       "      <td>0</td>\n",
       "      <td>1</td>\n",
       "      <td>0</td>\n",
       "      <td>0</td>\n",
       "      <td>0</td>\n",
       "    </tr>\n",
       "  </tbody>\n",
       "</table>\n",
       "</div>"
      ],
      "text/plain": [
       "   park_distance_bins  is_county_ind  jeni_tier  food_center_count  \\\n",
       "0                   2              0        4.0                2.0   \n",
       "\n",
       "   assignto_EV  assignto_HB  assignto_LSD  assignto_NC  assignto_SLA  \\\n",
       "0            0            0             0            1             0   \n",
       "\n",
       "   assignto_WLA  assignto_WV  \n",
       "0             0            0  "
      ]
     },
     "execution_count": 29,
     "metadata": {},
     "output_type": "execute_result"
    }
   ],
   "source": [
    "x.head(1)"
   ]
  },
  {
   "cell_type": "code",
   "execution_count": 30,
   "id": "fe16d774-304b-494b-93b0-ecc48ec93946",
   "metadata": {},
   "outputs": [],
   "source": [
    "\n",
    " X_train, X_test, Y_train, Y_test = train_test_split(x, y, test_size=.2) \n"
   ]
  },
  {
   "cell_type": "code",
   "execution_count": 12,
   "id": "47bff8ea-a8be-444c-8f44-d5250ad4130e",
   "metadata": {},
   "outputs": [
    {
     "data": {
      "image/png": "[encoded data removed]",
      "text/plain": [
       "<Figure size 640x480 with 1 Axes>"
      ]
     },
     "metadata": {},
     "output_type": "display_data"
    },
    {
     "data": {
      "image/png": "[encoded data removed]",
      "text/plain": [
       "<Figure size 640x480 with 1 Axes>"
      ]
     },
     "metadata": {},
     "output_type": "display_data"
    }
   ],
   "source": [
    "# sigmoid function definition\n",
    "def sigmoid(x):\n",
    "    return 1 / (1 + np.exp(-x))\n",
    "# step function definition\n",
    "def step(x, threshold = 0.5):\n",
    "    return x > threshold\n",
    "# input variable x\n",
    "x = np.arange(-10,10,0.1)\n",
    "# apply sigmoid function\n",
    "y_sigmoid = list(map(sigmoid, x))\n",
    "# apply step function to the output of sigmoid function\n",
    "y_step = list(map(step, y_sigmoid))\n",
    "# plot\n",
    "plt.plot(x,y_sigmoid); plt.xlabel('value for x'); plt.ylabel('value after sigmoid function'); plt.title('Sigmoid function'); plt.show()\n",
    "plt.plot(x,y_step); plt.xlabel('value for x'); plt.ylabel('value after step function'); plt.title('Step function'); plt.show()\n"
   ]
  },
  {
   "cell_type": "code",
   "execution_count": 31,
   "id": "a0261250-5b1d-4f0e-8f39-237caa43ca7a",
   "metadata": {},
   "outputs": [
    {
     "data": {
      "text/html": [
       "<div>\n",
       "<style scoped>\n",
       "    .dataframe tbody tr th:only-of-type {\n",
       "        vertical-align: middle;\n",
       "    }\n",
       "\n",
       "    .dataframe tbody tr th {\n",
       "        vertical-align: top;\n",
       "    }\n",
       "\n",
       "    .dataframe thead th {\n",
       "        text-align: right;\n",
       "    }\n",
       "</style>\n",
       "<table border=\"1\" class=\"dataframe\">\n",
       "  <thead>\n",
       "    <tr style=\"text-align: right;\">\n",
       "      <th></th>\n",
       "      <th>park_distance_bins</th>\n",
       "      <th>is_county_ind</th>\n",
       "      <th>jeni_tier</th>\n",
       "      <th>food_center_count</th>\n",
       "      <th>assignto_EV</th>\n",
       "      <th>assignto_HB</th>\n",
       "      <th>assignto_LSD</th>\n",
       "      <th>assignto_NC</th>\n",
       "      <th>assignto_SLA</th>\n",
       "      <th>assignto_WLA</th>\n",
       "      <th>assignto_WV</th>\n",
       "    </tr>\n",
       "  </thead>\n",
       "  <tbody>\n",
       "    <tr>\n",
       "      <th>16320</th>\n",
       "      <td>1</td>\n",
       "      <td>1</td>\n",
       "      <td>4.0</td>\n",
       "      <td>3.0</td>\n",
       "      <td>0</td>\n",
       "      <td>0</td>\n",
       "      <td>0</td>\n",
       "      <td>0</td>\n",
       "      <td>0</td>\n",
       "      <td>1</td>\n",
       "      <td>0</td>\n",
       "    </tr>\n",
       "  </tbody>\n",
       "</table>\n",
       "</div>"
      ],
      "text/plain": [
       "       park_distance_bins  is_county_ind  jeni_tier  food_center_count  \\\n",
       "16320                   1              1        4.0                3.0   \n",
       "\n",
       "       assignto_EV  assignto_HB  assignto_LSD  assignto_NC  assignto_SLA  \\\n",
       "16320            0            0             0            0             0   \n",
       "\n",
       "       assignto_WLA  assignto_WV  \n",
       "16320             1            0  "
      ]
     },
     "execution_count": 31,
     "metadata": {},
     "output_type": "execute_result"
    }
   ],
   "source": [
    "X_train.head(1)"
   ]
  },
  {
   "cell_type": "code",
   "execution_count": 14,
   "id": "5453580c-035a-4b23-b56b-d20260e38e90",
   "metadata": {},
   "outputs": [
    {
     "data": {
      "image/png": "[encoded data removed]",
      "text/plain": [
       "<Figure size 1200x500 with 2 Axes>"
      ]
     },
     "metadata": {},
     "output_type": "display_data"
    }
   ],
   "source": [
    "#method for choosing k\n",
    "from sklearn.metrics import silhouette_score\n",
    "x = X_train\n",
    "list_ks = [k for k in range(2,11)]\n",
    "inertia_list = []\n",
    "silhouette_list = []\n",
    "for k in list_ks:\n",
    "    # Applying KMeans clustering\n",
    "    kmeans = KMeans(n_clusters=k, # number of clusters\n",
    "                init='k-means++',\n",
    "                n_init=10, # number of times KMeans will run with different centroid seeds\n",
    "                max_iter=300, # maximum number of iterations KMean will run\n",
    "                tol=1e-04, # threshold value for convergence cutoff\n",
    "                random_state=0)\n",
    "\n",
    "    kmeans.fit(x)\n",
    "\n",
    "    # Calculating inertia for the elbow method\n",
    "    inertia_list.append(kmeans.inertia_)\n",
    "\n",
    "    # Calculating silhouette score, only if k is greater than 1\n",
    "    if k > 1:\n",
    "        silhouette_list.append(silhouette_score(x, kmeans.labels_))\n",
    "\n",
    "fig, axes = plt.subplots(1,2,figsize = (12,5))\n",
    "axes[0].plot(list_ks, silhouette_list, marker='o')\n",
    "axes[0].set_title('Choosing K with Silhouette score')\n",
    "axes[0].set_xlabel('Value for K')\n",
    "axes[0].set_ylabel('Silhouette score')\n",
    "\n",
    "axes[1].plot(list_ks, inertia_list, marker='o')\n",
    "axes[1].set_title('Choosing K with Elbow score')\n",
    "axes[1].set_xlabel('Value for K')\n",
    "axes[1].set_ylabel('Elbow (sum of square distance) score')\n",
    "plt.show()"
   ]
  },
  {
   "cell_type": "code",
   "execution_count": 32,
   "id": "c8444598-4952-4625-b054-cc0f90c9ab1a",
   "metadata": {},
   "outputs": [],
   "source": [
    "\n",
    "\n",
    "# initialize KMean algorithm\n",
    "km = KMeans(n_clusters=7, # number of clusters\n",
    "            init='random',\n",
    "            n_init=10, # number of times KMeans will run with different centroid seeds\n",
    "            max_iter=300, # maximum number of iterations KMean will run\n",
    "            tol=1e-04, # threshold value for convergence cutoff\n",
    "            random_state=0)\n",
    "\n",
    "# Train and predict\n",
    "y_km = km.fit_predict(X_train)\n"
   ]
  },
  {
   "cell_type": "code",
   "execution_count": 33,
   "id": "895a764d-d4a1-4306-9bbc-bfceabfdf148",
   "metadata": {},
   "outputs": [
    {
     "data": {
      "text/html": [
       "<div>\n",
       "<style scoped>\n",
       "    .dataframe tbody tr th:only-of-type {\n",
       "        vertical-align: middle;\n",
       "    }\n",
       "\n",
       "    .dataframe tbody tr th {\n",
       "        vertical-align: top;\n",
       "    }\n",
       "\n",
       "    .dataframe thead th {\n",
       "        text-align: right;\n",
       "    }\n",
       "</style>\n",
       "<table border=\"1\" class=\"dataframe\">\n",
       "  <thead>\n",
       "    <tr style=\"text-align: right;\">\n",
       "      <th></th>\n",
       "      <th>park_distance_bins</th>\n",
       "      <th>is_county_ind</th>\n",
       "      <th>jeni_tier</th>\n",
       "      <th>food_center_count</th>\n",
       "      <th>assignto_EV</th>\n",
       "      <th>assignto_HB</th>\n",
       "      <th>assignto_LSD</th>\n",
       "      <th>assignto_NC</th>\n",
       "      <th>assignto_SLA</th>\n",
       "      <th>assignto_WLA</th>\n",
       "      <th>assignto_WV</th>\n",
       "    </tr>\n",
       "  </thead>\n",
       "  <tbody>\n",
       "    <tr>\n",
       "      <th>16320</th>\n",
       "      <td>1</td>\n",
       "      <td>1</td>\n",
       "      <td>4.0</td>\n",
       "      <td>3.0</td>\n",
       "      <td>0</td>\n",
       "      <td>0</td>\n",
       "      <td>0</td>\n",
       "      <td>0</td>\n",
       "      <td>0</td>\n",
       "      <td>1</td>\n",
       "      <td>0</td>\n",
       "    </tr>\n",
       "  </tbody>\n",
       "</table>\n",
       "</div>"
      ],
      "text/plain": [
       "       park_distance_bins  is_county_ind  jeni_tier  food_center_count  \\\n",
       "16320                   1              1        4.0                3.0   \n",
       "\n",
       "       assignto_EV  assignto_HB  assignto_LSD  assignto_NC  assignto_SLA  \\\n",
       "16320            0            0             0            0             0   \n",
       "\n",
       "       assignto_WLA  assignto_WV  \n",
       "16320             1            0  "
      ]
     },
     "execution_count": 33,
     "metadata": {},
     "output_type": "execute_result"
    }
   ],
   "source": [
    "X_train.head(1)"
   ]
  },
  {
   "cell_type": "code",
   "execution_count": 39,
   "id": "c449cffe-9e5d-49d7-8342-5bbd6056ae18",
   "metadata": {},
   "outputs": [
    {
     "data": {
      "text/plain": [
       "Text(0, 0.5, 'JENI index')"
      ]
     },
     "execution_count": 39,
     "metadata": {},
     "output_type": "execute_result"
    },
    {
     "data": {
      "image/png": "[encoded data removed]",
      "text/plain": [
       "<Figure size 640x480 with 1 Axes>"
      ]
     },
     "metadata": {},
     "output_type": "display_data"
    }
   ],
   "source": [
    "\n",
    "# Plot the result\n",
    "#plt.scatter(X_train.loc[:, 'zipcodefmt'], X_train.loc[:, 'park_distance_bins'], c=y_km, s=50)\n",
    "centers = km.cluster_centers_\n",
    "plt.scatter(centers[:, 0], centers[:, 2], c='black', s=200, alpha=0.5);\n",
    "plt.xlabel('Park Distance Bin')\n",
    "plt.ylabel('JENI index')\n"
   ]
  },
  {
   "cell_type": "code",
   "execution_count": 41,
   "id": "d52ba062-a781-4656-9854-785916c25968",
   "metadata": {},
   "outputs": [
    {
     "data": {
      "text/plain": [
       "Text(0, 0.5, 'JENI index')"
      ]
     },
     "execution_count": 41,
     "metadata": {},
     "output_type": "execute_result"
    },
    {
     "data": {
      "image/png": "[encoded data removed]",
      "text/plain": [
       "<Figure size 640x480 with 1 Axes>"
      ]
     },
     "metadata": {},
     "output_type": "display_data"
    }
   ],
   "source": [
    "\n",
    "# Plot the result\n",
    "#plt.scatter(X_train.loc[:, 'zipcodefmt'], X_train.loc[:, 'park_distance_bins'], c=y_km, s=50)\n",
    "centers = km.cluster_centers_\n",
    "plt.scatter(centers[:, 3], centers[:, 2], c='black', s=200, alpha=0.5);\n",
    "plt.xlabel('Food Centers')\n",
    "plt.ylabel('JENI index')\n"
   ]
  },
  {
   "cell_type": "code",
   "execution_count": 36,
   "id": "83795f21-9b94-4528-8aa9-9be03d009bc6",
   "metadata": {},
   "outputs": [
    {
     "data": {
      "text/plain": [
       "array([[ 7.19726563e-01,  9.96582031e-01,  4.91821289e+00,\n",
       "         1.87988281e-02,  3.82568359e-01, -1.24900090e-16,\n",
       "         9.03320312e-03,  2.94189453e-01,  3.09326172e-01,\n",
       "         4.88281250e-03, -1.80411242e-16],\n",
       "       [ 5.41986234e-01,  9.98820059e-01,  2.45840708e+00,\n",
       "         4.85742380e-01,  1.31366765e-01,  3.93313668e-03,\n",
       "         3.12250226e-17,  2.42674533e-01,  5.55111512e-17,\n",
       "         4.24975418e-01,  1.97050147e-01],\n",
       "       [ 2.69528597e-01,  9.93343296e-01,  4.78454014e+00,\n",
       "         1.54421954e+00,  3.12457547e-02,  2.43173482e-02,\n",
       "         2.44531993e-03,  7.79513653e-01,  1.28107594e-01,\n",
       "         2.36380927e-02,  1.07322375e-02],\n",
       "       [ 2.50491113e+00,  9.99064546e-01,  2.37628625e+00,\n",
       "         4.45042095e-01,  1.04770814e-01,  3.50795136e-03,\n",
       "         4.33680869e-18,  1.16463985e-01,  2.77555756e-17,\n",
       "         4.83629560e-01,  2.91627689e-01],\n",
       "       [ 1.68797431e+00,  8.63397548e-01,  4.67834209e+00,\n",
       "         1.49328663e+00,  2.01109165e-01,  3.50262697e-02,\n",
       "         3.53181553e-02,  1.91476941e-01,  4.35493287e-01,\n",
       "         4.78692353e-02,  5.37069469e-02],\n",
       "       [ 8.32004556e-01,  1.00000000e+00,  3.73405467e+00,\n",
       "         2.25996583e+00,  1.89350797e-01,  2.24943052e-02,\n",
       "        -3.12250226e-17,  3.21184510e-01,  1.23006834e-01,\n",
       "         2.63952164e-01,  8.00113895e-02],\n",
       "       [ 1.12311436e+00,  9.75182482e-01,  3.84038929e+00,\n",
       "         4.18394161e+00,  4.57907543e-01,  3.46944695e-18,\n",
       "        -3.03576608e-17,  2.59367397e-01,  9.87834550e-02,\n",
       "         0.00000000e+00,  1.83941606e-01]])"
      ]
     },
     "execution_count": 36,
     "metadata": {},
     "output_type": "execute_result"
    }
   ],
   "source": [
    "km.cluster_centers_"
   ]
  },
  {
   "cell_type": "code",
   "execution_count": 37,
   "id": "c6839ab6-6e6b-47ab-9a48-a470bb4eeeb8",
   "metadata": {},
   "outputs": [
    {
     "data": {
      "text/html": [
       "<div>\n",
       "<style scoped>\n",
       "    .dataframe tbody tr th:only-of-type {\n",
       "        vertical-align: middle;\n",
       "    }\n",
       "\n",
       "    .dataframe tbody tr th {\n",
       "        vertical-align: top;\n",
       "    }\n",
       "\n",
       "    .dataframe thead th {\n",
       "        text-align: right;\n",
       "    }\n",
       "</style>\n",
       "<table border=\"1\" class=\"dataframe\">\n",
       "  <thead>\n",
       "    <tr style=\"text-align: right;\">\n",
       "      <th></th>\n",
       "      <th>park_distance_bins</th>\n",
       "      <th>is_county_ind</th>\n",
       "      <th>jeni_tier</th>\n",
       "      <th>food_center_count</th>\n",
       "      <th>assignto_EV</th>\n",
       "      <th>assignto_HB</th>\n",
       "      <th>assignto_LSD</th>\n",
       "      <th>assignto_NC</th>\n",
       "      <th>assignto_SLA</th>\n",
       "      <th>assignto_WLA</th>\n",
       "      <th>assignto_WV</th>\n",
       "    </tr>\n",
       "  </thead>\n",
       "  <tbody>\n",
       "    <tr>\n",
       "      <th>0</th>\n",
       "      <td>2</td>\n",
       "      <td>0</td>\n",
       "      <td>4.0</td>\n",
       "      <td>2.0</td>\n",
       "      <td>0</td>\n",
       "      <td>0</td>\n",
       "      <td>0</td>\n",
       "      <td>1</td>\n",
       "      <td>0</td>\n",
       "      <td>0</td>\n",
       "      <td>0</td>\n",
       "    </tr>\n",
       "    <tr>\n",
       "      <th>1</th>\n",
       "      <td>2</td>\n",
       "      <td>0</td>\n",
       "      <td>4.0</td>\n",
       "      <td>2.0</td>\n",
       "      <td>0</td>\n",
       "      <td>0</td>\n",
       "      <td>0</td>\n",
       "      <td>1</td>\n",
       "      <td>0</td>\n",
       "      <td>0</td>\n",
       "      <td>0</td>\n",
       "    </tr>\n",
       "    <tr>\n",
       "      <th>2</th>\n",
       "      <td>2</td>\n",
       "      <td>0</td>\n",
       "      <td>4.0</td>\n",
       "      <td>2.0</td>\n",
       "      <td>0</td>\n",
       "      <td>0</td>\n",
       "      <td>0</td>\n",
       "      <td>1</td>\n",
       "      <td>0</td>\n",
       "      <td>0</td>\n",
       "      <td>0</td>\n",
       "    </tr>\n",
       "    <tr>\n",
       "      <th>3</th>\n",
       "      <td>1</td>\n",
       "      <td>1</td>\n",
       "      <td>3.0</td>\n",
       "      <td>0.0</td>\n",
       "      <td>0</td>\n",
       "      <td>0</td>\n",
       "      <td>0</td>\n",
       "      <td>0</td>\n",
       "      <td>0</td>\n",
       "      <td>1</td>\n",
       "      <td>0</td>\n",
       "    </tr>\n",
       "    <tr>\n",
       "      <th>4</th>\n",
       "      <td>2</td>\n",
       "      <td>1</td>\n",
       "      <td>2.0</td>\n",
       "      <td>0.0</td>\n",
       "      <td>0</td>\n",
       "      <td>0</td>\n",
       "      <td>0</td>\n",
       "      <td>1</td>\n",
       "      <td>0</td>\n",
       "      <td>0</td>\n",
       "      <td>0</td>\n",
       "    </tr>\n",
       "  </tbody>\n",
       "</table>\n",
       "</div>"
      ],
      "text/plain": [
       "   park_distance_bins  is_county_ind  jeni_tier  food_center_count  \\\n",
       "0                   2              0        4.0                2.0   \n",
       "1                   2              0        4.0                2.0   \n",
       "2                   2              0        4.0                2.0   \n",
       "3                   1              1        3.0                0.0   \n",
       "4                   2              1        2.0                0.0   \n",
       "\n",
       "   assignto_EV  assignto_HB  assignto_LSD  assignto_NC  assignto_SLA  \\\n",
       "0            0            0             0            1             0   \n",
       "1            0            0             0            1             0   \n",
       "2            0            0             0            1             0   \n",
       "3            0            0             0            0             0   \n",
       "4            0            0             0            1             0   \n",
       "\n",
       "   assignto_WLA  assignto_WV  \n",
       "0             0            0  \n",
       "1             0            0  \n",
       "2             0            0  \n",
       "3             1            0  \n",
       "4             0            0  "
      ]
     },
     "execution_count": 37,
     "metadata": {},
     "output_type": "execute_result"
    }
   ],
   "source": [
    "x.head()"
   ]
  },
  {
   "cell_type": "code",
   "execution_count": null,
   "id": "115d8c24-51f1-4f95-bd46-91f870864a6c",
   "metadata": {},
   "outputs": [],
   "source": []
  }
 ],
 "metadata": {
  "kernelspec": {
   "display_name": "Python 3 (ipykernel)",
   "language": "python",
   "name": "python3"
  },
  "language_info": {
   "codemirror_mode": {
    "name": "ipython",
    "version": 3
   },
   "file_extension": ".py",
   "mimetype": "text/x-python",
   "name": "python",
   "nbconvert_exporter": "python",
   "pygments_lexer": "ipython3",
   "version": "3.9.21"
  }
 },
 "nbformat": 4,
 "nbformat_minor": 5
}
