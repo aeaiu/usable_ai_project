{
 "cells": [
  {
   "cell_type": "markdown",
   "id": "9d3b3938-b014-47bf-8306-cdd88d9fee5e",
   "metadata": {},
   "source": [
    "## Homeless Encampments in LA\n",
    "\n",
    "##### Spring 2025\n",
    "##### Amanda Alonzo\n",
    "##### I513 Usable AI\n",
    "##### Indiana University, Bloomington\n",
    " \n"
   ]
  },
  {
   "cell_type": "markdown",
   "id": "015c9f89-b4ec-4652-8d99-46041386d85c",
   "metadata": {},
   "source": [
    "## Visualizations, Correlations"
   ]
  },
  {
   "cell_type": "code",
   "execution_count": null,
   "id": "84e801f1-cc33-4266-a43b-f9fd87f87e80",
   "metadata": {},
   "outputs": [],
   "source": []
  }
 ],
 "metadata": {
  "kernelspec": {
   "display_name": "Python 3 (ipykernel)",
   "language": "python",
   "name": "python3"
  },
  "language_info": {
   "codemirror_mode": {
    "name": "ipython",
    "version": 3
   },
   "file_extension": ".py",
   "mimetype": "text/x-python",
   "name": "python",
   "nbconvert_exporter": "python",
   "pygments_lexer": "ipython3",
   "version": "3.9.21"
  }
 },
 "nbformat": 4,
 "nbformat_minor": 5
}
