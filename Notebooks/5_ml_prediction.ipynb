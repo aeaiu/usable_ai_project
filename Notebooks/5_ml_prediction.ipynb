{
 "cells": [
  {
   "cell_type": "markdown",
   "id": "4877b24c-e39d-43d3-b5ad-4da1b6fbc862",
   "metadata": {
    "jp-MarkdownHeadingCollapsed": true
   },
   "source": [
    "## Homeless Encampments in LA\n",
    "\n",
    "##### Spring 2025\n",
    "##### Amanda Alonzo\n",
    "##### I513 Usable AI\n",
    "##### Indiana University, Bloomington\n",
    " \n"
   ]
  },
  {
   "cell_type": "markdown",
   "id": "dd598b13-5173-4cd7-b43e-e46bbadd488e",
   "metadata": {},
   "source": [
    "## Machine Learning Predictions\n",
    "\n",
    "### In this notebook, we will simplify the columns for machine learning tasks by:\n",
    "- using OneHotEncoding (OHE) for location by zip code and neighborhood area\n",
    "- scaling\n",
    "\n",
    "### We will make predictions for:\n",
    "- ticket close time and\n",
    "- number of encampments\n",
    "##### <i> Prerequisite: 4_parks_visualization.ipynb </i>"
   ]
  },
  {
   "cell_type": "code",
   "execution_count": 27,
   "id": "c25f6f7c-c299-4861-8bbd-79f4a2c75155",
   "metadata": {},
   "outputs": [],
   "source": [
    "import pandas as pd\n",
    "import matplotlib.pyplot as plt\n",
    "from datetime import datetime\n",
    "import re\n",
    "import numpy as np\n",
    "import seaborn as sns\n",
    "from scipy import stats\n",
    "from sklearn.model_selection import train_test_split\n",
    "from sklearn.linear_model import LinearRegression\n",
    "from sklearn.preprocessing import normalize\n",
    "from sklearn.metrics import r2_score\n",
    "from sklearn.metrics import accuracy_score\n",
    "from sklearn.svm import SVC, SVR\n",
    "from sklearn.preprocessing import StandardScaler"
   ]
  },
  {
   "cell_type": "code",
   "execution_count": 2,
   "id": "b814cc65-4fbe-48d3-b8ba-b8b4f8a2c860",
   "metadata": {},
   "outputs": [],
   "source": [
    "raw_data_path = \"../Dataraw/\"\n",
    "annual_data_path = \"../Datafiles/\"\n",
    "generated_data_path = \"../Datagen/\""
   ]
  },
  {
   "cell_type": "code",
   "execution_count": 3,
   "id": "17c19a88-6604-4374-ad99-1c429c620df6",
   "metadata": {
    "scrolled": true
   },
   "outputs": [
    {
     "data": {
      "text/html": [
       "<div>\n",
       "<style scoped>\n",
       "    .dataframe tbody tr th:only-of-type {\n",
       "        vertical-align: middle;\n",
       "    }\n",
       "\n",
       "    .dataframe tbody tr th {\n",
       "        vertical-align: top;\n",
       "    }\n",
       "\n",
       "    .dataframe thead th {\n",
       "        text-align: right;\n",
       "    }\n",
       "</style>\n",
       "<table border=\"1\" class=\"dataframe\">\n",
       "  <thead>\n",
       "    <tr style=\"text-align: right;\">\n",
       "      <th></th>\n",
       "      <th>SRNumber</th>\n",
       "      <th>CreatedDate</th>\n",
       "      <th>UpdatedDate</th>\n",
       "      <th>ActionTaken</th>\n",
       "      <th>Owner</th>\n",
       "      <th>RequestType</th>\n",
       "      <th>Status</th>\n",
       "      <th>RequestSource</th>\n",
       "      <th>CreatedByUserOrganization</th>\n",
       "      <th>MobileOS</th>\n",
       "      <th>...</th>\n",
       "      <th>CENTER_LAT_y</th>\n",
       "      <th>CENTER_LON_y</th>\n",
       "      <th>ZIP_y</th>\n",
       "      <th>Shape__Area_y</th>\n",
       "      <th>Shape__Length_y</th>\n",
       "      <th>close_time_bins</th>\n",
       "      <th>is_county_ind</th>\n",
       "      <th>park_distance_bins</th>\n",
       "      <th>closed_days_scaled</th>\n",
       "      <th>park_distance_scaled</th>\n",
       "    </tr>\n",
       "  </thead>\n",
       "  <tbody>\n",
       "    <tr>\n",
       "      <th>0</th>\n",
       "      <td>1-3202726931</td>\n",
       "      <td>01/01/2023 08:26:17 AM</td>\n",
       "      <td>01/31/2023 01:44:42 PM</td>\n",
       "      <td>SR Created</td>\n",
       "      <td>LASAN</td>\n",
       "      <td>Homeless Encampment</td>\n",
       "      <td>Closed</td>\n",
       "      <td>Self Service</td>\n",
       "      <td>Self Service_SAN</td>\n",
       "      <td>NaN</td>\n",
       "      <td>...</td>\n",
       "      <td>34.037657</td>\n",
       "      <td>-118.178443</td>\n",
       "      <td>90063.0</td>\n",
       "      <td>476404.567383</td>\n",
       "      <td>2824.807047</td>\n",
       "      <td>1.0</td>\n",
       "      <td>0</td>\n",
       "      <td>2</td>\n",
       "      <td>0.039295</td>\n",
       "      <td>0.054729</td>\n",
       "    </tr>\n",
       "  </tbody>\n",
       "</table>\n",
       "<p>1 rows × 151 columns</p>\n",
       "</div>"
      ],
      "text/plain": [
       "       SRNumber             CreatedDate             UpdatedDate ActionTaken  \\\n",
       "0  1-3202726931  01/01/2023 08:26:17 AM  01/31/2023 01:44:42 PM  SR Created   \n",
       "\n",
       "   Owner          RequestType  Status RequestSource CreatedByUserOrganization  \\\n",
       "0  LASAN  Homeless Encampment  Closed  Self Service          Self Service_SAN   \n",
       "\n",
       "  MobileOS  ... CENTER_LAT_y CENTER_LON_y    ZIP_y  Shape__Area_y  \\\n",
       "0      NaN  ...    34.037657  -118.178443  90063.0  476404.567383   \n",
       "\n",
       "  Shape__Length_y close_time_bins is_county_ind  park_distance_bins  \\\n",
       "0     2824.807047             1.0             0                   2   \n",
       "\n",
       "  closed_days_scaled park_distance_scaled  \n",
       "0           0.039295             0.054729  \n",
       "\n",
       "[1 rows x 151 columns]"
      ]
     },
     "execution_count": 3,
     "metadata": {},
     "output_type": "execute_result"
    }
   ],
   "source": [
    "#laod  our data frame from past steps \n",
    "df_source = pd.read_csv(generated_data_path+'homeless_camp_closed_2023_parks_ftr_eng_3.csv', low_memory=False)\n",
    "df_source.head(1)"
   ]
  },
  {
   "cell_type": "markdown",
   "id": "5d35635e-06fc-4b93-be65-e147fd130317",
   "metadata": {},
   "source": [
    "## Preparare Data with Transformations for ML Tasks"
   ]
  },
  {
   "cell_type": "code",
   "execution_count": 4,
   "id": "dd292bcd-ad6c-43fe-a429-5d2f528b8095",
   "metadata": {},
   "outputs": [
    {
     "data": {
      "text/plain": [
       "(63104, 151)"
      ]
     },
     "execution_count": 4,
     "metadata": {},
     "output_type": "execute_result"
    }
   ],
   "source": [
    "df_source.shape"
   ]
  },
  {
   "cell_type": "code",
   "execution_count": 129,
   "id": "40ec962b-cce2-437b-ad09-0e54bcf3a9ab",
   "metadata": {},
   "outputs": [],
   "source": [
    "#Clean up our data frame - simplify columns\n",
    "df = df_source[['RequestSource','ZipCodeFmt','Anonymous','AssignTo','park_distance','close_time_days_x','is_county_ind','NDS_AN_TYP','COGP_TYP','ACCESS_TYP']].copy()\n"
   ]
  },
  {
   "cell_type": "code",
   "execution_count": 130,
   "id": "776be590-7b51-4f9f-9570-30c6b75d7969",
   "metadata": {},
   "outputs": [
    {
     "data": {
      "text/html": [
       "<div>\n",
       "<style scoped>\n",
       "    .dataframe tbody tr th:only-of-type {\n",
       "        vertical-align: middle;\n",
       "    }\n",
       "\n",
       "    .dataframe tbody tr th {\n",
       "        vertical-align: top;\n",
       "    }\n",
       "\n",
       "    .dataframe thead th {\n",
       "        text-align: right;\n",
       "    }\n",
       "</style>\n",
       "<table border=\"1\" class=\"dataframe\">\n",
       "  <thead>\n",
       "    <tr style=\"text-align: right;\">\n",
       "      <th></th>\n",
       "      <th>zipcodefmt</th>\n",
       "      <th>park_distance</th>\n",
       "      <th>close_time_days_x</th>\n",
       "      <th>is_county_ind</th>\n",
       "    </tr>\n",
       "  </thead>\n",
       "  <tbody>\n",
       "    <tr>\n",
       "      <th>count</th>\n",
       "      <td>63090.000000</td>\n",
       "      <td>63104.000000</td>\n",
       "      <td>63079.000000</td>\n",
       "      <td>63104.000000</td>\n",
       "    </tr>\n",
       "    <tr>\n",
       "      <th>mean</th>\n",
       "      <td>90465.801886</td>\n",
       "      <td>0.814033</td>\n",
       "      <td>84.476212</td>\n",
       "      <td>0.980619</td>\n",
       "    </tr>\n",
       "    <tr>\n",
       "      <th>std</th>\n",
       "      <td>634.715178</td>\n",
       "      <td>0.706546</td>\n",
       "      <td>95.161704</td>\n",
       "      <td>0.137860</td>\n",
       "    </tr>\n",
       "    <tr>\n",
       "      <th>min</th>\n",
       "      <td>90001.000000</td>\n",
       "      <td>0.004306</td>\n",
       "      <td>0.000000</td>\n",
       "      <td>0.000000</td>\n",
       "    </tr>\n",
       "    <tr>\n",
       "      <th>25%</th>\n",
       "      <td>90025.000000</td>\n",
       "      <td>0.354433</td>\n",
       "      <td>7.000000</td>\n",
       "      <td>1.000000</td>\n",
       "    </tr>\n",
       "    <tr>\n",
       "      <th>50%</th>\n",
       "      <td>90048.000000</td>\n",
       "      <td>0.635838</td>\n",
       "      <td>54.000000</td>\n",
       "      <td>1.000000</td>\n",
       "    </tr>\n",
       "    <tr>\n",
       "      <th>75%</th>\n",
       "      <td>91311.000000</td>\n",
       "      <td>1.055775</td>\n",
       "      <td>125.000000</td>\n",
       "      <td>1.000000</td>\n",
       "    </tr>\n",
       "    <tr>\n",
       "      <th>max</th>\n",
       "      <td>91607.000000</td>\n",
       "      <td>34.696842</td>\n",
       "      <td>738.000000</td>\n",
       "      <td>1.000000</td>\n",
       "    </tr>\n",
       "  </tbody>\n",
       "</table>\n",
       "</div>"
      ],
      "text/plain": [
       "         zipcodefmt  park_distance  close_time_days_x  is_county_ind\n",
       "count  63090.000000   63104.000000       63079.000000   63104.000000\n",
       "mean   90465.801886       0.814033          84.476212       0.980619\n",
       "std      634.715178       0.706546          95.161704       0.137860\n",
       "min    90001.000000       0.004306           0.000000       0.000000\n",
       "25%    90025.000000       0.354433           7.000000       1.000000\n",
       "50%    90048.000000       0.635838          54.000000       1.000000\n",
       "75%    91311.000000       1.055775         125.000000       1.000000\n",
       "max    91607.000000      34.696842         738.000000       1.000000"
      ]
     },
     "execution_count": 130,
     "metadata": {},
     "output_type": "execute_result"
    }
   ],
   "source": [
    "df.columns = df.columns.str.lower()\n",
    "df.describe()"
   ]
  },
  {
   "cell_type": "code",
   "execution_count": 131,
   "id": "dab686e3-780d-44e7-8d88-54fd6171d9fe",
   "metadata": {},
   "outputs": [
    {
     "data": {
      "text/plain": [
       "Index(['requestsource', 'zipcodefmt', 'anonymous', 'assignto', 'park_distance',\n",
       "       'close_time_days_x', 'is_county_ind', 'nds_an_typ', 'cogp_typ',\n",
       "       'access_typ'],\n",
       "      dtype='object')"
      ]
     },
     "execution_count": 131,
     "metadata": {},
     "output_type": "execute_result"
    }
   ],
   "source": [
    "df.columns"
   ]
  },
  {
   "cell_type": "code",
   "execution_count": 132,
   "id": "bc92d7c5-5d19-4a87-850f-86a6f2676502",
   "metadata": {},
   "outputs": [
    {
     "data": {
      "text/plain": [
       "assignto\n",
       "NC     22585\n",
       "EV     12061\n",
       "WLA    10768\n",
       "SLA     9317\n",
       "WV      6791\n",
       "HB      1190\n",
       "LSD      391\n",
       "Name: count, dtype: int64"
      ]
     },
     "execution_count": 132,
     "metadata": {},
     "output_type": "execute_result"
    }
   ],
   "source": [
    "df.assignto.value_counts()"
   ]
  },
  {
   "cell_type": "code",
   "execution_count": 133,
   "id": "b352ff7b-6dab-4535-9063-16d7beffe093",
   "metadata": {},
   "outputs": [
    {
     "data": {
      "text/html": [
       "<div>\n",
       "<style scoped>\n",
       "    .dataframe tbody tr th:only-of-type {\n",
       "        vertical-align: middle;\n",
       "    }\n",
       "\n",
       "    .dataframe tbody tr th {\n",
       "        vertical-align: top;\n",
       "    }\n",
       "\n",
       "    .dataframe thead tr th {\n",
       "        text-align: left;\n",
       "    }\n",
       "\n",
       "    .dataframe thead tr:last-of-type th {\n",
       "        text-align: right;\n",
       "    }\n",
       "</style>\n",
       "<table border=\"1\" class=\"dataframe\">\n",
       "  <thead>\n",
       "    <tr>\n",
       "      <th></th>\n",
       "      <th colspan=\"2\" halign=\"left\">zipcodefmt</th>\n",
       "    </tr>\n",
       "    <tr>\n",
       "      <th></th>\n",
       "      <th>min</th>\n",
       "      <th>max</th>\n",
       "    </tr>\n",
       "    <tr>\n",
       "      <th>assignto</th>\n",
       "      <th></th>\n",
       "      <th></th>\n",
       "    </tr>\n",
       "  </thead>\n",
       "  <tbody>\n",
       "    <tr>\n",
       "      <th>EV</th>\n",
       "      <td>90068.0</td>\n",
       "      <td>91607.0</td>\n",
       "    </tr>\n",
       "    <tr>\n",
       "      <th>HB</th>\n",
       "      <td>90044.0</td>\n",
       "      <td>90744.0</td>\n",
       "    </tr>\n",
       "    <tr>\n",
       "      <th>LSD</th>\n",
       "      <td>90007.0</td>\n",
       "      <td>90021.0</td>\n",
       "    </tr>\n",
       "    <tr>\n",
       "      <th>NC</th>\n",
       "      <td>90004.0</td>\n",
       "      <td>90732.0</td>\n",
       "    </tr>\n",
       "    <tr>\n",
       "      <th>SLA</th>\n",
       "      <td>90001.0</td>\n",
       "      <td>90062.0</td>\n",
       "    </tr>\n",
       "    <tr>\n",
       "      <th>WLA</th>\n",
       "      <td>90008.0</td>\n",
       "      <td>90404.0</td>\n",
       "    </tr>\n",
       "    <tr>\n",
       "      <th>WV</th>\n",
       "      <td>90049.0</td>\n",
       "      <td>91436.0</td>\n",
       "    </tr>\n",
       "  </tbody>\n",
       "</table>\n",
       "</div>"
      ],
      "text/plain": [
       "         zipcodefmt         \n",
       "                min      max\n",
       "assignto                    \n",
       "EV          90068.0  91607.0\n",
       "HB          90044.0  90744.0\n",
       "LSD         90007.0  90021.0\n",
       "NC          90004.0  90732.0\n",
       "SLA         90001.0  90062.0\n",
       "WLA         90008.0  90404.0\n",
       "WV          90049.0  91436.0"
      ]
     },
     "execution_count": 133,
     "metadata": {},
     "output_type": "execute_result"
    }
   ],
   "source": [
    "df.groupby('assignto').agg({'zipcodefmt': ['min', 'max']}   )"
   ]
  },
  {
   "cell_type": "code",
   "execution_count": 134,
   "id": "cb2a0b8d-595d-4022-b619-c6f0f910bc5c",
   "metadata": {},
   "outputs": [
    {
     "data": {
      "text/plain": [
       "zipcodefmt  assignto\n",
       "90001.0     SLA          206\n",
       "90002.0     SLA          286\n",
       "90003.0     SLA         1416\n",
       "90004.0     NC          1216\n",
       "90005.0     NC          1434\n",
       "                        ... \n",
       "91602.0     EV           947\n",
       "91604.0     EV           365\n",
       "91605.0     EV           903\n",
       "91606.0     EV          1568\n",
       "91607.0     EV           219\n",
       "Name: count, Length: 147, dtype: int64"
      ]
     },
     "execution_count": 134,
     "metadata": {},
     "output_type": "execute_result"
    }
   ],
   "source": [
    "df.groupby('zipcodefmt').assignto.value_counts()"
   ]
  },
  {
   "cell_type": "code",
   "execution_count": 135,
   "id": "b3a1e355-322e-463e-a378-5e5dc0790200",
   "metadata": {},
   "outputs": [
    {
     "data": {
      "text/plain": [
       "(63104, 10)"
      ]
     },
     "execution_count": 135,
     "metadata": {},
     "output_type": "execute_result"
    }
   ],
   "source": [
    "df.shape"
   ]
  },
  {
   "cell_type": "code",
   "execution_count": 136,
   "id": "fde8e5b6-b16a-44b2-b72f-85a0dfd21531",
   "metadata": {},
   "outputs": [],
   "source": [
    "df = df.dropna()"
   ]
  },
  {
   "cell_type": "code",
   "execution_count": 137,
   "id": "5a34ddd6-ef45-4f56-84ba-627a7a924047",
   "metadata": {},
   "outputs": [
    {
     "data": {
      "text/plain": [
       "(63064, 10)"
      ]
     },
     "execution_count": 137,
     "metadata": {},
     "output_type": "execute_result"
    }
   ],
   "source": [
    "df.shape"
   ]
  },
  {
   "cell_type": "code",
   "execution_count": 138,
   "id": "76c818b5-8a47-4067-a575-7527b2fe03ec",
   "metadata": {},
   "outputs": [
    {
     "data": {
      "text/html": [
       "<div>\n",
       "<style scoped>\n",
       "    .dataframe tbody tr th:only-of-type {\n",
       "        vertical-align: middle;\n",
       "    }\n",
       "\n",
       "    .dataframe tbody tr th {\n",
       "        vertical-align: top;\n",
       "    }\n",
       "\n",
       "    .dataframe thead th {\n",
       "        text-align: right;\n",
       "    }\n",
       "</style>\n",
       "<table border=\"1\" class=\"dataframe\">\n",
       "  <thead>\n",
       "    <tr style=\"text-align: right;\">\n",
       "      <th></th>\n",
       "      <th>requestsource</th>\n",
       "      <th>zipcodefmt</th>\n",
       "      <th>anonymous</th>\n",
       "      <th>assignto</th>\n",
       "      <th>park_distance</th>\n",
       "      <th>close_time_days</th>\n",
       "      <th>is_county_ind</th>\n",
       "      <th>nds_an_typ</th>\n",
       "      <th>cogp_typ</th>\n",
       "      <th>access_typ</th>\n",
       "    </tr>\n",
       "  </thead>\n",
       "  <tbody>\n",
       "    <tr>\n",
       "      <th>0</th>\n",
       "      <td>Self Service</td>\n",
       "      <td>90063.0</td>\n",
       "      <td>Y</td>\n",
       "      <td>NC</td>\n",
       "      <td>1.902999</td>\n",
       "      <td>29.0</td>\n",
       "      <td>0</td>\n",
       "      <td>Park 5 to 100 Acres</td>\n",
       "      <td>Neighborhood</td>\n",
       "      <td>Open Access</td>\n",
       "    </tr>\n",
       "  </tbody>\n",
       "</table>\n",
       "</div>"
      ],
      "text/plain": [
       "  requestsource  zipcodefmt anonymous assignto  park_distance  \\\n",
       "0  Self Service     90063.0         Y       NC       1.902999   \n",
       "\n",
       "   close_time_days  is_county_ind           nds_an_typ      cogp_typ  \\\n",
       "0             29.0              0  Park 5 to 100 Acres  Neighborhood   \n",
       "\n",
       "    access_typ  \n",
       "0  Open Access  "
      ]
     },
     "execution_count": 138,
     "metadata": {},
     "output_type": "execute_result"
    }
   ],
   "source": [
    "df = df.rename(columns={'close_time_days_x': 'close_time_days' })\n",
    "df.head(1)"
   ]
  },
  {
   "cell_type": "code",
   "execution_count": 139,
   "id": "93338d71-d1b3-48c5-92da-f10f1155b661",
   "metadata": {},
   "outputs": [],
   "source": [
    "#ohe the zip code and neighborhood\n",
    "# add this later depending on svc performance: 'zipcodefmt',\n",
    "\n",
    "# too many columns making SVC slow\n",
    "# df = pd.get_dummies(df, columns=['assignto'], dtype=int)\n",
    "df = pd.get_dummies(df, columns=['zipcodefmt'], dtype=int)\n"
   ]
  },
  {
   "cell_type": "code",
   "execution_count": 140,
   "id": "df967bbf-27d8-43ae-ad12-c5fe7d9d6980",
   "metadata": {},
   "outputs": [
    {
     "data": {
      "text/html": [
       "<div>\n",
       "<style scoped>\n",
       "    .dataframe tbody tr th:only-of-type {\n",
       "        vertical-align: middle;\n",
       "    }\n",
       "\n",
       "    .dataframe tbody tr th {\n",
       "        vertical-align: top;\n",
       "    }\n",
       "\n",
       "    .dataframe thead th {\n",
       "        text-align: right;\n",
       "    }\n",
       "</style>\n",
       "<table border=\"1\" class=\"dataframe\">\n",
       "  <thead>\n",
       "    <tr style=\"text-align: right;\">\n",
       "      <th></th>\n",
       "      <th>requestsource</th>\n",
       "      <th>anonymous</th>\n",
       "      <th>assignto</th>\n",
       "      <th>park_distance</th>\n",
       "      <th>close_time_days</th>\n",
       "      <th>is_county_ind</th>\n",
       "      <th>nds_an_typ</th>\n",
       "      <th>cogp_typ</th>\n",
       "      <th>access_typ</th>\n",
       "      <th>zipcodefmt_90001.0</th>\n",
       "      <th>...</th>\n",
       "      <th>zipcodefmt_91423.0</th>\n",
       "      <th>zipcodefmt_91436.0</th>\n",
       "      <th>zipcodefmt_91504.0</th>\n",
       "      <th>zipcodefmt_91505.0</th>\n",
       "      <th>zipcodefmt_91601.0</th>\n",
       "      <th>zipcodefmt_91602.0</th>\n",
       "      <th>zipcodefmt_91604.0</th>\n",
       "      <th>zipcodefmt_91605.0</th>\n",
       "      <th>zipcodefmt_91606.0</th>\n",
       "      <th>zipcodefmt_91607.0</th>\n",
       "    </tr>\n",
       "  </thead>\n",
       "  <tbody>\n",
       "    <tr>\n",
       "      <th>0</th>\n",
       "      <td>Self Service</td>\n",
       "      <td>Y</td>\n",
       "      <td>NC</td>\n",
       "      <td>1.902999</td>\n",
       "      <td>29.0</td>\n",
       "      <td>0</td>\n",
       "      <td>Park 5 to 100 Acres</td>\n",
       "      <td>Neighborhood</td>\n",
       "      <td>Open Access</td>\n",
       "      <td>0</td>\n",
       "      <td>...</td>\n",
       "      <td>0</td>\n",
       "      <td>0</td>\n",
       "      <td>0</td>\n",
       "      <td>0</td>\n",
       "      <td>0</td>\n",
       "      <td>0</td>\n",
       "      <td>0</td>\n",
       "      <td>0</td>\n",
       "      <td>0</td>\n",
       "      <td>0</td>\n",
       "    </tr>\n",
       "    <tr>\n",
       "      <th>1</th>\n",
       "      <td>Self Service</td>\n",
       "      <td>Y</td>\n",
       "      <td>NC</td>\n",
       "      <td>1.855133</td>\n",
       "      <td>29.0</td>\n",
       "      <td>0</td>\n",
       "      <td>Park 5 to 100 Acres</td>\n",
       "      <td>Neighborhood</td>\n",
       "      <td>Open Access</td>\n",
       "      <td>0</td>\n",
       "      <td>...</td>\n",
       "      <td>0</td>\n",
       "      <td>0</td>\n",
       "      <td>0</td>\n",
       "      <td>0</td>\n",
       "      <td>0</td>\n",
       "      <td>0</td>\n",
       "      <td>0</td>\n",
       "      <td>0</td>\n",
       "      <td>0</td>\n",
       "      <td>0</td>\n",
       "    </tr>\n",
       "  </tbody>\n",
       "</table>\n",
       "<p>2 rows × 127 columns</p>\n",
       "</div>"
      ],
      "text/plain": [
       "  requestsource anonymous assignto  park_distance  close_time_days  \\\n",
       "0  Self Service         Y       NC       1.902999             29.0   \n",
       "1  Self Service         Y       NC       1.855133             29.0   \n",
       "\n",
       "   is_county_ind           nds_an_typ      cogp_typ   access_typ  \\\n",
       "0              0  Park 5 to 100 Acres  Neighborhood  Open Access   \n",
       "1              0  Park 5 to 100 Acres  Neighborhood  Open Access   \n",
       "\n",
       "   zipcodefmt_90001.0  ...  zipcodefmt_91423.0  zipcodefmt_91436.0  \\\n",
       "0                   0  ...                   0                   0   \n",
       "1                   0  ...                   0                   0   \n",
       "\n",
       "   zipcodefmt_91504.0  zipcodefmt_91505.0  zipcodefmt_91601.0  \\\n",
       "0                   0                   0                   0   \n",
       "1                   0                   0                   0   \n",
       "\n",
       "   zipcodefmt_91602.0  zipcodefmt_91604.0  zipcodefmt_91605.0  \\\n",
       "0                   0                   0                   0   \n",
       "1                   0                   0                   0   \n",
       "\n",
       "   zipcodefmt_91606.0  zipcodefmt_91607.0  \n",
       "0                   0                   0  \n",
       "1                   0                   0  \n",
       "\n",
       "[2 rows x 127 columns]"
      ]
     },
     "execution_count": 140,
     "metadata": {},
     "output_type": "execute_result"
    }
   ],
   "source": [
    "df.head(2)\n",
    "#assignto abbreviations for values\n"
   ]
  },
  {
   "cell_type": "code",
   "execution_count": 141,
   "id": "0df64aa4-9db6-465c-ad23-035da4ed9aef",
   "metadata": {},
   "outputs": [
    {
     "data": {
      "text/html": [
       "<div>\n",
       "<style scoped>\n",
       "    .dataframe tbody tr th:only-of-type {\n",
       "        vertical-align: middle;\n",
       "    }\n",
       "\n",
       "    .dataframe tbody tr th {\n",
       "        vertical-align: top;\n",
       "    }\n",
       "\n",
       "    .dataframe thead th {\n",
       "        text-align: right;\n",
       "    }\n",
       "</style>\n",
       "<table border=\"1\" class=\"dataframe\">\n",
       "  <thead>\n",
       "    <tr style=\"text-align: right;\">\n",
       "      <th></th>\n",
       "      <th>park_distance</th>\n",
       "      <th>close_time_days</th>\n",
       "      <th>is_county_ind</th>\n",
       "      <th>zipcodefmt_90001.0</th>\n",
       "      <th>zipcodefmt_90002.0</th>\n",
       "      <th>zipcodefmt_90003.0</th>\n",
       "      <th>zipcodefmt_90004.0</th>\n",
       "      <th>zipcodefmt_90005.0</th>\n",
       "      <th>zipcodefmt_90006.0</th>\n",
       "      <th>zipcodefmt_90007.0</th>\n",
       "      <th>...</th>\n",
       "      <th>zipcodefmt_91423.0</th>\n",
       "      <th>zipcodefmt_91436.0</th>\n",
       "      <th>zipcodefmt_91504.0</th>\n",
       "      <th>zipcodefmt_91505.0</th>\n",
       "      <th>zipcodefmt_91601.0</th>\n",
       "      <th>zipcodefmt_91602.0</th>\n",
       "      <th>zipcodefmt_91604.0</th>\n",
       "      <th>zipcodefmt_91605.0</th>\n",
       "      <th>zipcodefmt_91606.0</th>\n",
       "      <th>zipcodefmt_91607.0</th>\n",
       "    </tr>\n",
       "  </thead>\n",
       "  <tbody>\n",
       "    <tr>\n",
       "      <th>count</th>\n",
       "      <td>63064.000000</td>\n",
       "      <td>63064.000000</td>\n",
       "      <td>63064.000000</td>\n",
       "      <td>63064.000000</td>\n",
       "      <td>63064.000000</td>\n",
       "      <td>63064.000000</td>\n",
       "      <td>63064.000000</td>\n",
       "      <td>63064.000000</td>\n",
       "      <td>63064.000000</td>\n",
       "      <td>63064.000000</td>\n",
       "      <td>...</td>\n",
       "      <td>63064.000000</td>\n",
       "      <td>63064.000000</td>\n",
       "      <td>63064.000000</td>\n",
       "      <td>63064.000000</td>\n",
       "      <td>63064.000000</td>\n",
       "      <td>63064.000000</td>\n",
       "      <td>63064.000000</td>\n",
       "      <td>63064.000000</td>\n",
       "      <td>63064.000000</td>\n",
       "      <td>63064.000000</td>\n",
       "    </tr>\n",
       "    <tr>\n",
       "      <th>mean</th>\n",
       "      <td>0.811804</td>\n",
       "      <td>84.468540</td>\n",
       "      <td>0.980623</td>\n",
       "      <td>0.003267</td>\n",
       "      <td>0.004535</td>\n",
       "      <td>0.022438</td>\n",
       "      <td>0.019282</td>\n",
       "      <td>0.022723</td>\n",
       "      <td>0.015096</td>\n",
       "      <td>0.013526</td>\n",
       "      <td>...</td>\n",
       "      <td>0.006961</td>\n",
       "      <td>0.001760</td>\n",
       "      <td>0.000063</td>\n",
       "      <td>0.000190</td>\n",
       "      <td>0.029256</td>\n",
       "      <td>0.015016</td>\n",
       "      <td>0.005788</td>\n",
       "      <td>0.014319</td>\n",
       "      <td>0.024864</td>\n",
       "      <td>0.003473</td>\n",
       "    </tr>\n",
       "    <tr>\n",
       "      <th>std</th>\n",
       "      <td>0.686861</td>\n",
       "      <td>95.155571</td>\n",
       "      <td>0.137848</td>\n",
       "      <td>0.057061</td>\n",
       "      <td>0.067191</td>\n",
       "      <td>0.148103</td>\n",
       "      <td>0.137515</td>\n",
       "      <td>0.149020</td>\n",
       "      <td>0.121935</td>\n",
       "      <td>0.115513</td>\n",
       "      <td>...</td>\n",
       "      <td>0.083143</td>\n",
       "      <td>0.041917</td>\n",
       "      <td>0.007964</td>\n",
       "      <td>0.013793</td>\n",
       "      <td>0.168525</td>\n",
       "      <td>0.121619</td>\n",
       "      <td>0.075858</td>\n",
       "      <td>0.118802</td>\n",
       "      <td>0.155711</td>\n",
       "      <td>0.058827</td>\n",
       "    </tr>\n",
       "    <tr>\n",
       "      <th>min</th>\n",
       "      <td>0.004306</td>\n",
       "      <td>0.000000</td>\n",
       "      <td>0.000000</td>\n",
       "      <td>0.000000</td>\n",
       "      <td>0.000000</td>\n",
       "      <td>0.000000</td>\n",
       "      <td>0.000000</td>\n",
       "      <td>0.000000</td>\n",
       "      <td>0.000000</td>\n",
       "      <td>0.000000</td>\n",
       "      <td>...</td>\n",
       "      <td>0.000000</td>\n",
       "      <td>0.000000</td>\n",
       "      <td>0.000000</td>\n",
       "      <td>0.000000</td>\n",
       "      <td>0.000000</td>\n",
       "      <td>0.000000</td>\n",
       "      <td>0.000000</td>\n",
       "      <td>0.000000</td>\n",
       "      <td>0.000000</td>\n",
       "      <td>0.000000</td>\n",
       "    </tr>\n",
       "    <tr>\n",
       "      <th>25%</th>\n",
       "      <td>0.354433</td>\n",
       "      <td>7.000000</td>\n",
       "      <td>1.000000</td>\n",
       "      <td>0.000000</td>\n",
       "      <td>0.000000</td>\n",
       "      <td>0.000000</td>\n",
       "      <td>0.000000</td>\n",
       "      <td>0.000000</td>\n",
       "      <td>0.000000</td>\n",
       "      <td>0.000000</td>\n",
       "      <td>...</td>\n",
       "      <td>0.000000</td>\n",
       "      <td>0.000000</td>\n",
       "      <td>0.000000</td>\n",
       "      <td>0.000000</td>\n",
       "      <td>0.000000</td>\n",
       "      <td>0.000000</td>\n",
       "      <td>0.000000</td>\n",
       "      <td>0.000000</td>\n",
       "      <td>0.000000</td>\n",
       "      <td>0.000000</td>\n",
       "    </tr>\n",
       "    <tr>\n",
       "      <th>50%</th>\n",
       "      <td>0.635838</td>\n",
       "      <td>54.000000</td>\n",
       "      <td>1.000000</td>\n",
       "      <td>0.000000</td>\n",
       "      <td>0.000000</td>\n",
       "      <td>0.000000</td>\n",
       "      <td>0.000000</td>\n",
       "      <td>0.000000</td>\n",
       "      <td>0.000000</td>\n",
       "      <td>0.000000</td>\n",
       "      <td>...</td>\n",
       "      <td>0.000000</td>\n",
       "      <td>0.000000</td>\n",
       "      <td>0.000000</td>\n",
       "      <td>0.000000</td>\n",
       "      <td>0.000000</td>\n",
       "      <td>0.000000</td>\n",
       "      <td>0.000000</td>\n",
       "      <td>0.000000</td>\n",
       "      <td>0.000000</td>\n",
       "      <td>0.000000</td>\n",
       "    </tr>\n",
       "    <tr>\n",
       "      <th>75%</th>\n",
       "      <td>1.055639</td>\n",
       "      <td>125.000000</td>\n",
       "      <td>1.000000</td>\n",
       "      <td>0.000000</td>\n",
       "      <td>0.000000</td>\n",
       "      <td>0.000000</td>\n",
       "      <td>0.000000</td>\n",
       "      <td>0.000000</td>\n",
       "      <td>0.000000</td>\n",
       "      <td>0.000000</td>\n",
       "      <td>...</td>\n",
       "      <td>0.000000</td>\n",
       "      <td>0.000000</td>\n",
       "      <td>0.000000</td>\n",
       "      <td>0.000000</td>\n",
       "      <td>0.000000</td>\n",
       "      <td>0.000000</td>\n",
       "      <td>0.000000</td>\n",
       "      <td>0.000000</td>\n",
       "      <td>0.000000</td>\n",
       "      <td>0.000000</td>\n",
       "    </tr>\n",
       "    <tr>\n",
       "      <th>max</th>\n",
       "      <td>34.696842</td>\n",
       "      <td>738.000000</td>\n",
       "      <td>1.000000</td>\n",
       "      <td>1.000000</td>\n",
       "      <td>1.000000</td>\n",
       "      <td>1.000000</td>\n",
       "      <td>1.000000</td>\n",
       "      <td>1.000000</td>\n",
       "      <td>1.000000</td>\n",
       "      <td>1.000000</td>\n",
       "      <td>...</td>\n",
       "      <td>1.000000</td>\n",
       "      <td>1.000000</td>\n",
       "      <td>1.000000</td>\n",
       "      <td>1.000000</td>\n",
       "      <td>1.000000</td>\n",
       "      <td>1.000000</td>\n",
       "      <td>1.000000</td>\n",
       "      <td>1.000000</td>\n",
       "      <td>1.000000</td>\n",
       "      <td>1.000000</td>\n",
       "    </tr>\n",
       "  </tbody>\n",
       "</table>\n",
       "<p>8 rows × 121 columns</p>\n",
       "</div>"
      ],
      "text/plain": [
       "       park_distance  close_time_days  is_county_ind  zipcodefmt_90001.0  \\\n",
       "count   63064.000000     63064.000000   63064.000000        63064.000000   \n",
       "mean        0.811804        84.468540       0.980623            0.003267   \n",
       "std         0.686861        95.155571       0.137848            0.057061   \n",
       "min         0.004306         0.000000       0.000000            0.000000   \n",
       "25%         0.354433         7.000000       1.000000            0.000000   \n",
       "50%         0.635838        54.000000       1.000000            0.000000   \n",
       "75%         1.055639       125.000000       1.000000            0.000000   \n",
       "max        34.696842       738.000000       1.000000            1.000000   \n",
       "\n",
       "       zipcodefmt_90002.0  zipcodefmt_90003.0  zipcodefmt_90004.0  \\\n",
       "count        63064.000000        63064.000000        63064.000000   \n",
       "mean             0.004535            0.022438            0.019282   \n",
       "std              0.067191            0.148103            0.137515   \n",
       "min              0.000000            0.000000            0.000000   \n",
       "25%              0.000000            0.000000            0.000000   \n",
       "50%              0.000000            0.000000            0.000000   \n",
       "75%              0.000000            0.000000            0.000000   \n",
       "max              1.000000            1.000000            1.000000   \n",
       "\n",
       "       zipcodefmt_90005.0  zipcodefmt_90006.0  zipcodefmt_90007.0  ...  \\\n",
       "count        63064.000000        63064.000000        63064.000000  ...   \n",
       "mean             0.022723            0.015096            0.013526  ...   \n",
       "std              0.149020            0.121935            0.115513  ...   \n",
       "min              0.000000            0.000000            0.000000  ...   \n",
       "25%              0.000000            0.000000            0.000000  ...   \n",
       "50%              0.000000            0.000000            0.000000  ...   \n",
       "75%              0.000000            0.000000            0.000000  ...   \n",
       "max              1.000000            1.000000            1.000000  ...   \n",
       "\n",
       "       zipcodefmt_91423.0  zipcodefmt_91436.0  zipcodefmt_91504.0  \\\n",
       "count        63064.000000        63064.000000        63064.000000   \n",
       "mean             0.006961            0.001760            0.000063   \n",
       "std              0.083143            0.041917            0.007964   \n",
       "min              0.000000            0.000000            0.000000   \n",
       "25%              0.000000            0.000000            0.000000   \n",
       "50%              0.000000            0.000000            0.000000   \n",
       "75%              0.000000            0.000000            0.000000   \n",
       "max              1.000000            1.000000            1.000000   \n",
       "\n",
       "       zipcodefmt_91505.0  zipcodefmt_91601.0  zipcodefmt_91602.0  \\\n",
       "count        63064.000000        63064.000000        63064.000000   \n",
       "mean             0.000190            0.029256            0.015016   \n",
       "std              0.013793            0.168525            0.121619   \n",
       "min              0.000000            0.000000            0.000000   \n",
       "25%              0.000000            0.000000            0.000000   \n",
       "50%              0.000000            0.000000            0.000000   \n",
       "75%              0.000000            0.000000            0.000000   \n",
       "max              1.000000            1.000000            1.000000   \n",
       "\n",
       "       zipcodefmt_91604.0  zipcodefmt_91605.0  zipcodefmt_91606.0  \\\n",
       "count        63064.000000        63064.000000        63064.000000   \n",
       "mean             0.005788            0.014319            0.024864   \n",
       "std              0.075858            0.118802            0.155711   \n",
       "min              0.000000            0.000000            0.000000   \n",
       "25%              0.000000            0.000000            0.000000   \n",
       "50%              0.000000            0.000000            0.000000   \n",
       "75%              0.000000            0.000000            0.000000   \n",
       "max              1.000000            1.000000            1.000000   \n",
       "\n",
       "       zipcodefmt_91607.0  \n",
       "count        63064.000000  \n",
       "mean             0.003473  \n",
       "std              0.058827  \n",
       "min              0.000000  \n",
       "25%              0.000000  \n",
       "50%              0.000000  \n",
       "75%              0.000000  \n",
       "max              1.000000  \n",
       "\n",
       "[8 rows x 121 columns]"
      ]
     },
     "execution_count": 141,
     "metadata": {},
     "output_type": "execute_result"
    }
   ],
   "source": [
    "df.describe()"
   ]
  },
  {
   "cell_type": "markdown",
   "id": "169fe080-e53c-4c9c-aa79-9af82fb6c917",
   "metadata": {},
   "source": [
    "## Predict Service Ticket Close Time\n",
    "### Prepare X and Y"
   ]
  },
  {
   "cell_type": "code",
   "execution_count": 169,
   "id": "97348375-8d02-4cd0-857b-939b4d474900",
   "metadata": {},
   "outputs": [],
   "source": [
    "numeric_variables = df.select_dtypes(include=np.number)"
   ]
  },
  {
   "cell_type": "code",
   "execution_count": 170,
   "id": "150a0f99-6a54-45ec-86dd-8809c90fb9ba",
   "metadata": {},
   "outputs": [],
   "source": [
    "x=df[list(numeric_variables.columns)]"
   ]
  },
  {
   "cell_type": "code",
   "execution_count": 171,
   "id": "fee21055-6945-46d7-8882-494bb8401916",
   "metadata": {},
   "outputs": [
    {
     "data": {
      "text/html": [
       "<div>\n",
       "<style scoped>\n",
       "    .dataframe tbody tr th:only-of-type {\n",
       "        vertical-align: middle;\n",
       "    }\n",
       "\n",
       "    .dataframe tbody tr th {\n",
       "        vertical-align: top;\n",
       "    }\n",
       "\n",
       "    .dataframe thead th {\n",
       "        text-align: right;\n",
       "    }\n",
       "</style>\n",
       "<table border=\"1\" class=\"dataframe\">\n",
       "  <thead>\n",
       "    <tr style=\"text-align: right;\">\n",
       "      <th></th>\n",
       "      <th>zipcodefmt_90001.0</th>\n",
       "      <th>zipcodefmt_90002.0</th>\n",
       "      <th>zipcodefmt_90003.0</th>\n",
       "      <th>zipcodefmt_90004.0</th>\n",
       "      <th>zipcodefmt_90005.0</th>\n",
       "      <th>zipcodefmt_90006.0</th>\n",
       "      <th>zipcodefmt_90007.0</th>\n",
       "      <th>zipcodefmt_90008.0</th>\n",
       "      <th>zipcodefmt_90010.0</th>\n",
       "      <th>zipcodefmt_90011.0</th>\n",
       "      <th>...</th>\n",
       "      <th>zipcodefmt_91423.0</th>\n",
       "      <th>zipcodefmt_91436.0</th>\n",
       "      <th>zipcodefmt_91504.0</th>\n",
       "      <th>zipcodefmt_91505.0</th>\n",
       "      <th>zipcodefmt_91601.0</th>\n",
       "      <th>zipcodefmt_91602.0</th>\n",
       "      <th>zipcodefmt_91604.0</th>\n",
       "      <th>zipcodefmt_91605.0</th>\n",
       "      <th>zipcodefmt_91606.0</th>\n",
       "      <th>zipcodefmt_91607.0</th>\n",
       "    </tr>\n",
       "  </thead>\n",
       "  <tbody>\n",
       "    <tr>\n",
       "      <th>0</th>\n",
       "      <td>0</td>\n",
       "      <td>0</td>\n",
       "      <td>0</td>\n",
       "      <td>0</td>\n",
       "      <td>0</td>\n",
       "      <td>0</td>\n",
       "      <td>0</td>\n",
       "      <td>0</td>\n",
       "      <td>0</td>\n",
       "      <td>0</td>\n",
       "      <td>...</td>\n",
       "      <td>0</td>\n",
       "      <td>0</td>\n",
       "      <td>0</td>\n",
       "      <td>0</td>\n",
       "      <td>0</td>\n",
       "      <td>0</td>\n",
       "      <td>0</td>\n",
       "      <td>0</td>\n",
       "      <td>0</td>\n",
       "      <td>0</td>\n",
       "    </tr>\n",
       "  </tbody>\n",
       "</table>\n",
       "<p>1 rows × 118 columns</p>\n",
       "</div>"
      ],
      "text/plain": [
       "   zipcodefmt_90001.0  zipcodefmt_90002.0  zipcodefmt_90003.0  \\\n",
       "0                   0                   0                   0   \n",
       "\n",
       "   zipcodefmt_90004.0  zipcodefmt_90005.0  zipcodefmt_90006.0  \\\n",
       "0                   0                   0                   0   \n",
       "\n",
       "   zipcodefmt_90007.0  zipcodefmt_90008.0  zipcodefmt_90010.0  \\\n",
       "0                   0                   0                   0   \n",
       "\n",
       "   zipcodefmt_90011.0  ...  zipcodefmt_91423.0  zipcodefmt_91436.0  \\\n",
       "0                   0  ...                   0                   0   \n",
       "\n",
       "   zipcodefmt_91504.0  zipcodefmt_91505.0  zipcodefmt_91601.0  \\\n",
       "0                   0                   0                   0   \n",
       "\n",
       "   zipcodefmt_91602.0  zipcodefmt_91604.0  zipcodefmt_91605.0  \\\n",
       "0                   0                   0                   0   \n",
       "\n",
       "   zipcodefmt_91606.0  zipcodefmt_91607.0  \n",
       "0                   0                   0  \n",
       "\n",
       "[1 rows x 118 columns]"
      ]
     },
     "execution_count": 171,
     "metadata": {},
     "output_type": "execute_result"
    }
   ],
   "source": [
    "x=x.drop(['park_distance','is_county_ind','close_time_days'], axis =1)\n",
    "x.head(1)"
   ]
  },
  {
   "cell_type": "code",
   "execution_count": 172,
   "id": "8fb35320-0ed8-4529-b0d4-14cf49107b44",
   "metadata": {},
   "outputs": [],
   "source": [
    "y = df['close_time_days']"
   ]
  },
  {
   "cell_type": "code",
   "execution_count": 173,
   "id": "d4c5823e-b4b3-4f30-bb6c-ef818a45967e",
   "metadata": {},
   "outputs": [],
   "source": [
    "sc= StandardScaler()\n",
    "sc.fit(x)\n",
    "x = sc.transform(x)    \n"
   ]
  },
  {
   "cell_type": "code",
   "execution_count": 174,
   "id": "23aff748-6a3a-4ac4-bcb2-a06e0aca497b",
   "metadata": {},
   "outputs": [],
   "source": [
    "X_train, X_test, Y_train, Y_test = train_test_split(x, y, test_size=.2) \n"
   ]
  },
  {
   "cell_type": "markdown",
   "id": "aa22ad95-42e3-4812-b1a6-db9bd9eecdae",
   "metadata": {},
   "source": [
    "### Linear Regression"
   ]
  },
  {
   "cell_type": "code",
   "execution_count": 157,
   "id": "8335a2a9-0125-4799-9842-6570d1e3e186",
   "metadata": {},
   "outputs": [
    {
     "name": "stdout",
     "output_type": "stream",
     "text": [
      "LinearRegression()\n"
     ]
    }
   ],
   "source": [
    "\n",
    "lm = LinearRegression()\n",
    "lm.fit(x, y)\n",
    "\n",
    "print(lm)"
   ]
  },
  {
   "cell_type": "code",
   "execution_count": 158,
   "id": "6dfa56b3-3663-4b11-8c90-2650e196d8d3",
   "metadata": {},
   "outputs": [
    {
     "data": {
      "text/plain": [
       "array([-0.15249843,  0.85223789,  1.02358201, -0.280838  , -1.24325185,\n",
       "       -0.35657241,  3.46743396, -1.52929009, -3.0057355 ,  2.59749932,\n",
       "        0.74403847,  1.33425263,  0.38911468, -0.05538435, -1.02118153,\n",
       "        0.56346206, -0.64721249,  0.42710579,  1.80835119, -1.08259722,\n",
       "       -2.11484034,  1.18966513, -1.26185816, -0.14018271, -0.20232472,\n",
       "       -0.73172789,  0.12518624, -1.56498482, -1.85999315, -0.18391411,\n",
       "        1.14689768, -2.09810009,  2.23693292,  0.71006834,  1.31997577,\n",
       "       -3.28838858,  1.38242869, -1.79965545, -0.38583236,  1.49359086,\n",
       "       -2.22275671,  1.39317884,  0.27566177,  2.24362176, -3.64398419,\n",
       "        0.87794495, -0.73295991,  2.29850147,  0.12291505, -0.9111533 ,\n",
       "        3.97985805, -3.438935  , -0.86626431, -1.19972994, -1.0010301 ,\n",
       "       -0.32452778, -0.76158797,  1.04605002, -0.7292047 , -0.32452778,\n",
       "        1.16029486, -0.15888904, -0.23194936, -1.68512007, -0.47139901,\n",
       "       -0.65501305,  1.04429827,  0.17617146,  1.20392637,  0.1858488 ,\n",
       "       -0.32850982,  7.72174185, -0.35847138, -1.67060957,  0.22186807,\n",
       "       -3.35689394, -0.63067388, -1.24686442, -0.70845412, -2.31257085,\n",
       "        0.16792461,  0.55189062,  4.60137256,  2.40059876,  0.7631543 ,\n",
       "        0.78448884,  1.55991033, -2.10477068,  2.02084869,  0.170773  ,\n",
       "       -0.28535964,  0.45638603,  1.88610837, -0.29725867,  0.81131301,\n",
       "        0.74588108, -0.02466829,  1.57225661,  0.28640468,  0.41527883,\n",
       "        0.25735538,  3.22591886, -1.13074332, -0.91816571, -3.00679535,\n",
       "       -0.21962109,  3.17395311, -1.86507166, -2.0171219 ,  1.214734  ,\n",
       "       -0.64505818, -0.46433429,  1.75771024, -1.89470833, -2.67841662,\n",
       "        0.75904632, -3.90908238, -1.4325359 ])"
      ]
     },
     "execution_count": 158,
     "metadata": {},
     "output_type": "execute_result"
    }
   ],
   "source": [
    "lm.coef_\n"
   ]
  },
  {
   "cell_type": "code",
   "execution_count": 159,
   "id": "38204da5-1066-4d91-9ab2-9b1066afcb2f",
   "metadata": {},
   "outputs": [
    {
     "data": {
      "text/plain": [
       "np.float64(84.4685398959787)"
      ]
     },
     "execution_count": 159,
     "metadata": {},
     "output_type": "execute_result"
    }
   ],
   "source": [
    "lm.intercept_\n"
   ]
  },
  {
   "cell_type": "code",
   "execution_count": 175,
   "id": "2aeed513-a720-4cb0-8642-c0eb93b00222",
   "metadata": {},
   "outputs": [
    {
     "data": {
      "text/html": [
       "<style>#sk-container-id-8 {\n",
       "  /* Definition of color scheme common for light and dark mode */\n",
       "  --sklearn-color-text: #000;\n",
       "  --sklearn-color-text-muted: #666;\n",
       "  --sklearn-color-line: gray;\n",
       "  /* Definition of color scheme for unfitted estimators */\n",
       "  --sklearn-color-unfitted-level-0: #fff5e6;\n",
       "  --sklearn-color-unfitted-level-1: #f6e4d2;\n",
       "  --sklearn-color-unfitted-level-2: #ffe0b3;\n",
       "  --sklearn-color-unfitted-level-3: chocolate;\n",
       "  /* Definition of color scheme for fitted estimators */\n",
       "  --sklearn-color-fitted-level-0: #f0f8ff;\n",
       "  --sklearn-color-fitted-level-1: #d4ebff;\n",
       "  --sklearn-color-fitted-level-2: #b3dbfd;\n",
       "  --sklearn-color-fitted-level-3: cornflowerblue;\n",
       "\n",
       "  /* Specific color for light theme */\n",
       "  --sklearn-color-text-on-default-background: var(--sg-text-color, var(--theme-code-foreground, var(--jp-content-font-color1, black)));\n",
       "  --sklearn-color-background: var(--sg-background-color, var(--theme-background, var(--jp-layout-color0, white)));\n",
       "  --sklearn-color-border-box: var(--sg-text-color, var(--theme-code-foreground, var(--jp-content-font-color1, black)));\n",
       "  --sklearn-color-icon: #696969;\n",
       "\n",
       "  @media (prefers-color-scheme: dark) {\n",
       "    /* Redefinition of color scheme for dark theme */\n",
       "    --sklearn-color-text-on-default-background: var(--sg-text-color, var(--theme-code-foreground, var(--jp-content-font-color1, white)));\n",
       "    --sklearn-color-background: var(--sg-background-color, var(--theme-background, var(--jp-layout-color0, #111)));\n",
       "    --sklearn-color-border-box: var(--sg-text-color, var(--theme-code-foreground, var(--jp-content-font-color1, white)));\n",
       "    --sklearn-color-icon: #878787;\n",
       "  }\n",
       "}\n",
       "\n",
       "#sk-container-id-8 {\n",
       "  color: var(--sklearn-color-text);\n",
       "}\n",
       "\n",
       "#sk-container-id-8 pre {\n",
       "  padding: 0;\n",
       "}\n",
       "\n",
       "#sk-container-id-8 input.sk-hidden--visually {\n",
       "  border: 0;\n",
       "  clip: rect(1px 1px 1px 1px);\n",
       "  clip: rect(1px, 1px, 1px, 1px);\n",
       "  height: 1px;\n",
       "  margin: -1px;\n",
       "  overflow: hidden;\n",
       "  padding: 0;\n",
       "  position: absolute;\n",
       "  width: 1px;\n",
       "}\n",
       "\n",
       "#sk-container-id-8 div.sk-dashed-wrapped {\n",
       "  border: 1px dashed var(--sklearn-color-line);\n",
       "  margin: 0 0.4em 0.5em 0.4em;\n",
       "  box-sizing: border-box;\n",
       "  padding-bottom: 0.4em;\n",
       "  background-color: var(--sklearn-color-background);\n",
       "}\n",
       "\n",
       "#sk-container-id-8 div.sk-container {\n",
       "  /* jupyter's `normalize.less` sets `[hidden] { display: none; }`\n",
       "     but bootstrap.min.css set `[hidden] { display: none !important; }`\n",
       "     so we also need the `!important` here to be able to override the\n",
       "     default hidden behavior on the sphinx rendered scikit-learn.org.\n",
       "     See: https://github.com/scikit-learn/scikit-learn/issues/21755 */\n",
       "  display: inline-block !important;\n",
       "  position: relative;\n",
       "}\n",
       "\n",
       "#sk-container-id-8 div.sk-text-repr-fallback {\n",
       "  display: none;\n",
       "}\n",
       "\n",
       "div.sk-parallel-item,\n",
       "div.sk-serial,\n",
       "div.sk-item {\n",
       "  /* draw centered vertical line to link estimators */\n",
       "  background-image: linear-gradient(var(--sklearn-color-text-on-default-background), var(--sklearn-color-text-on-default-background));\n",
       "  background-size: 2px 100%;\n",
       "  background-repeat: no-repeat;\n",
       "  background-position: center center;\n",
       "}\n",
       "\n",
       "/* Parallel-specific style estimator block */\n",
       "\n",
       "#sk-container-id-8 div.sk-parallel-item::after {\n",
       "  content: \"\";\n",
       "  width: 100%;\n",
       "  border-bottom: 2px solid var(--sklearn-color-text-on-default-background);\n",
       "  flex-grow: 1;\n",
       "}\n",
       "\n",
       "#sk-container-id-8 div.sk-parallel {\n",
       "  display: flex;\n",
       "  align-items: stretch;\n",
       "  justify-content: center;\n",
       "  background-color: var(--sklearn-color-background);\n",
       "  position: relative;\n",
       "}\n",
       "\n",
       "#sk-container-id-8 div.sk-parallel-item {\n",
       "  display: flex;\n",
       "  flex-direction: column;\n",
       "}\n",
       "\n",
       "#sk-container-id-8 div.sk-parallel-item:first-child::after {\n",
       "  align-self: flex-end;\n",
       "  width: 50%;\n",
       "}\n",
       "\n",
       "#sk-container-id-8 div.sk-parallel-item:last-child::after {\n",
       "  align-self: flex-start;\n",
       "  width: 50%;\n",
       "}\n",
       "\n",
       "#sk-container-id-8 div.sk-parallel-item:only-child::after {\n",
       "  width: 0;\n",
       "}\n",
       "\n",
       "/* Serial-specific style estimator block */\n",
       "\n",
       "#sk-container-id-8 div.sk-serial {\n",
       "  display: flex;\n",
       "  flex-direction: column;\n",
       "  align-items: center;\n",
       "  background-color: var(--sklearn-color-background);\n",
       "  padding-right: 1em;\n",
       "  padding-left: 1em;\n",
       "}\n",
       "\n",
       "\n",
       "/* Toggleable style: style used for estimator/Pipeline/ColumnTransformer box that is\n",
       "clickable and can be expanded/collapsed.\n",
       "- Pipeline and ColumnTransformer use this feature and define the default style\n",
       "- Estimators will overwrite some part of the style using the `sk-estimator` class\n",
       "*/\n",
       "\n",
       "/* Pipeline and ColumnTransformer style (default) */\n",
       "\n",
       "#sk-container-id-8 div.sk-toggleable {\n",
       "  /* Default theme specific background. It is overwritten whether we have a\n",
       "  specific estimator or a Pipeline/ColumnTransformer */\n",
       "  background-color: var(--sklearn-color-background);\n",
       "}\n",
       "\n",
       "/* Toggleable label */\n",
       "#sk-container-id-8 label.sk-toggleable__label {\n",
       "  cursor: pointer;\n",
       "  display: flex;\n",
       "  width: 100%;\n",
       "  margin-bottom: 0;\n",
       "  padding: 0.5em;\n",
       "  box-sizing: border-box;\n",
       "  text-align: center;\n",
       "  align-items: start;\n",
       "  justify-content: space-between;\n",
       "  gap: 0.5em;\n",
       "}\n",
       "\n",
       "#sk-container-id-8 label.sk-toggleable__label .caption {\n",
       "  font-size: 0.6rem;\n",
       "  font-weight: lighter;\n",
       "  color: var(--sklearn-color-text-muted);\n",
       "}\n",
       "\n",
       "#sk-container-id-8 label.sk-toggleable__label-arrow:before {\n",
       "  /* Arrow on the left of the label */\n",
       "  content: \"▸\";\n",
       "  float: left;\n",
       "  margin-right: 0.25em;\n",
       "  color: var(--sklearn-color-icon);\n",
       "}\n",
       "\n",
       "#sk-container-id-8 label.sk-toggleable__label-arrow:hover:before {\n",
       "  color: var(--sklearn-color-text);\n",
       "}\n",
       "\n",
       "/* Toggleable content - dropdown */\n",
       "\n",
       "#sk-container-id-8 div.sk-toggleable__content {\n",
       "  max-height: 0;\n",
       "  max-width: 0;\n",
       "  overflow: hidden;\n",
       "  text-align: left;\n",
       "  /* unfitted */\n",
       "  background-color: var(--sklearn-color-unfitted-level-0);\n",
       "}\n",
       "\n",
       "#sk-container-id-8 div.sk-toggleable__content.fitted {\n",
       "  /* fitted */\n",
       "  background-color: var(--sklearn-color-fitted-level-0);\n",
       "}\n",
       "\n",
       "#sk-container-id-8 div.sk-toggleable__content pre {\n",
       "  margin: 0.2em;\n",
       "  border-radius: 0.25em;\n",
       "  color: var(--sklearn-color-text);\n",
       "  /* unfitted */\n",
       "  background-color: var(--sklearn-color-unfitted-level-0);\n",
       "}\n",
       "\n",
       "#sk-container-id-8 div.sk-toggleable__content.fitted pre {\n",
       "  /* unfitted */\n",
       "  background-color: var(--sklearn-color-fitted-level-0);\n",
       "}\n",
       "\n",
       "#sk-container-id-8 input.sk-toggleable__control:checked~div.sk-toggleable__content {\n",
       "  /* Expand drop-down */\n",
       "  max-height: 200px;\n",
       "  max-width: 100%;\n",
       "  overflow: auto;\n",
       "}\n",
       "\n",
       "#sk-container-id-8 input.sk-toggleable__control:checked~label.sk-toggleable__label-arrow:before {\n",
       "  content: \"▾\";\n",
       "}\n",
       "\n",
       "/* Pipeline/ColumnTransformer-specific style */\n",
       "\n",
       "#sk-container-id-8 div.sk-label input.sk-toggleable__control:checked~label.sk-toggleable__label {\n",
       "  color: var(--sklearn-color-text);\n",
       "  background-color: var(--sklearn-color-unfitted-level-2);\n",
       "}\n",
       "\n",
       "#sk-container-id-8 div.sk-label.fitted input.sk-toggleable__control:checked~label.sk-toggleable__label {\n",
       "  background-color: var(--sklearn-color-fitted-level-2);\n",
       "}\n",
       "\n",
       "/* Estimator-specific style */\n",
       "\n",
       "/* Colorize estimator box */\n",
       "#sk-container-id-8 div.sk-estimator input.sk-toggleable__control:checked~label.sk-toggleable__label {\n",
       "  /* unfitted */\n",
       "  background-color: var(--sklearn-color-unfitted-level-2);\n",
       "}\n",
       "\n",
       "#sk-container-id-8 div.sk-estimator.fitted input.sk-toggleable__control:checked~label.sk-toggleable__label {\n",
       "  /* fitted */\n",
       "  background-color: var(--sklearn-color-fitted-level-2);\n",
       "}\n",
       "\n",
       "#sk-container-id-8 div.sk-label label.sk-toggleable__label,\n",
       "#sk-container-id-8 div.sk-label label {\n",
       "  /* The background is the default theme color */\n",
       "  color: var(--sklearn-color-text-on-default-background);\n",
       "}\n",
       "\n",
       "/* On hover, darken the color of the background */\n",
       "#sk-container-id-8 div.sk-label:hover label.sk-toggleable__label {\n",
       "  color: var(--sklearn-color-text);\n",
       "  background-color: var(--sklearn-color-unfitted-level-2);\n",
       "}\n",
       "\n",
       "/* Label box, darken color on hover, fitted */\n",
       "#sk-container-id-8 div.sk-label.fitted:hover label.sk-toggleable__label.fitted {\n",
       "  color: var(--sklearn-color-text);\n",
       "  background-color: var(--sklearn-color-fitted-level-2);\n",
       "}\n",
       "\n",
       "/* Estimator label */\n",
       "\n",
       "#sk-container-id-8 div.sk-label label {\n",
       "  font-family: monospace;\n",
       "  font-weight: bold;\n",
       "  display: inline-block;\n",
       "  line-height: 1.2em;\n",
       "}\n",
       "\n",
       "#sk-container-id-8 div.sk-label-container {\n",
       "  text-align: center;\n",
       "}\n",
       "\n",
       "/* Estimator-specific */\n",
       "#sk-container-id-8 div.sk-estimator {\n",
       "  font-family: monospace;\n",
       "  border: 1px dotted var(--sklearn-color-border-box);\n",
       "  border-radius: 0.25em;\n",
       "  box-sizing: border-box;\n",
       "  margin-bottom: 0.5em;\n",
       "  /* unfitted */\n",
       "  background-color: var(--sklearn-color-unfitted-level-0);\n",
       "}\n",
       "\n",
       "#sk-container-id-8 div.sk-estimator.fitted {\n",
       "  /* fitted */\n",
       "  background-color: var(--sklearn-color-fitted-level-0);\n",
       "}\n",
       "\n",
       "/* on hover */\n",
       "#sk-container-id-8 div.sk-estimator:hover {\n",
       "  /* unfitted */\n",
       "  background-color: var(--sklearn-color-unfitted-level-2);\n",
       "}\n",
       "\n",
       "#sk-container-id-8 div.sk-estimator.fitted:hover {\n",
       "  /* fitted */\n",
       "  background-color: var(--sklearn-color-fitted-level-2);\n",
       "}\n",
       "\n",
       "/* Specification for estimator info (e.g. \"i\" and \"?\") */\n",
       "\n",
       "/* Common style for \"i\" and \"?\" */\n",
       "\n",
       ".sk-estimator-doc-link,\n",
       "a:link.sk-estimator-doc-link,\n",
       "a:visited.sk-estimator-doc-link {\n",
       "  float: right;\n",
       "  font-size: smaller;\n",
       "  line-height: 1em;\n",
       "  font-family: monospace;\n",
       "  background-color: var(--sklearn-color-background);\n",
       "  border-radius: 1em;\n",
       "  height: 1em;\n",
       "  width: 1em;\n",
       "  text-decoration: none !important;\n",
       "  margin-left: 0.5em;\n",
       "  text-align: center;\n",
       "  /* unfitted */\n",
       "  border: var(--sklearn-color-unfitted-level-1) 1pt solid;\n",
       "  color: var(--sklearn-color-unfitted-level-1);\n",
       "}\n",
       "\n",
       ".sk-estimator-doc-link.fitted,\n",
       "a:link.sk-estimator-doc-link.fitted,\n",
       "a:visited.sk-estimator-doc-link.fitted {\n",
       "  /* fitted */\n",
       "  border: var(--sklearn-color-fitted-level-1) 1pt solid;\n",
       "  color: var(--sklearn-color-fitted-level-1);\n",
       "}\n",
       "\n",
       "/* On hover */\n",
       "div.sk-estimator:hover .sk-estimator-doc-link:hover,\n",
       ".sk-estimator-doc-link:hover,\n",
       "div.sk-label-container:hover .sk-estimator-doc-link:hover,\n",
       ".sk-estimator-doc-link:hover {\n",
       "  /* unfitted */\n",
       "  background-color: var(--sklearn-color-unfitted-level-3);\n",
       "  color: var(--sklearn-color-background);\n",
       "  text-decoration: none;\n",
       "}\n",
       "\n",
       "div.sk-estimator.fitted:hover .sk-estimator-doc-link.fitted:hover,\n",
       ".sk-estimator-doc-link.fitted:hover,\n",
       "div.sk-label-container:hover .sk-estimator-doc-link.fitted:hover,\n",
       ".sk-estimator-doc-link.fitted:hover {\n",
       "  /* fitted */\n",
       "  background-color: var(--sklearn-color-fitted-level-3);\n",
       "  color: var(--sklearn-color-background);\n",
       "  text-decoration: none;\n",
       "}\n",
       "\n",
       "/* Span, style for the box shown on hovering the info icon */\n",
       ".sk-estimator-doc-link span {\n",
       "  display: none;\n",
       "  z-index: 9999;\n",
       "  position: relative;\n",
       "  font-weight: normal;\n",
       "  right: .2ex;\n",
       "  padding: .5ex;\n",
       "  margin: .5ex;\n",
       "  width: min-content;\n",
       "  min-width: 20ex;\n",
       "  max-width: 50ex;\n",
       "  color: var(--sklearn-color-text);\n",
       "  box-shadow: 2pt 2pt 4pt #999;\n",
       "  /* unfitted */\n",
       "  background: var(--sklearn-color-unfitted-level-0);\n",
       "  border: .5pt solid var(--sklearn-color-unfitted-level-3);\n",
       "}\n",
       "\n",
       ".sk-estimator-doc-link.fitted span {\n",
       "  /* fitted */\n",
       "  background: var(--sklearn-color-fitted-level-0);\n",
       "  border: var(--sklearn-color-fitted-level-3);\n",
       "}\n",
       "\n",
       ".sk-estimator-doc-link:hover span {\n",
       "  display: block;\n",
       "}\n",
       "\n",
       "/* \"?\"-specific style due to the `<a>` HTML tag */\n",
       "\n",
       "#sk-container-id-8 a.estimator_doc_link {\n",
       "  float: right;\n",
       "  font-size: 1rem;\n",
       "  line-height: 1em;\n",
       "  font-family: monospace;\n",
       "  background-color: var(--sklearn-color-background);\n",
       "  border-radius: 1rem;\n",
       "  height: 1rem;\n",
       "  width: 1rem;\n",
       "  text-decoration: none;\n",
       "  /* unfitted */\n",
       "  color: var(--sklearn-color-unfitted-level-1);\n",
       "  border: var(--sklearn-color-unfitted-level-1) 1pt solid;\n",
       "}\n",
       "\n",
       "#sk-container-id-8 a.estimator_doc_link.fitted {\n",
       "  /* fitted */\n",
       "  border: var(--sklearn-color-fitted-level-1) 1pt solid;\n",
       "  color: var(--sklearn-color-fitted-level-1);\n",
       "}\n",
       "\n",
       "/* On hover */\n",
       "#sk-container-id-8 a.estimator_doc_link:hover {\n",
       "  /* unfitted */\n",
       "  background-color: var(--sklearn-color-unfitted-level-3);\n",
       "  color: var(--sklearn-color-background);\n",
       "  text-decoration: none;\n",
       "}\n",
       "\n",
       "#sk-container-id-8 a.estimator_doc_link.fitted:hover {\n",
       "  /* fitted */\n",
       "  background-color: var(--sklearn-color-fitted-level-3);\n",
       "}\n",
       "</style><div id=\"sk-container-id-8\" class=\"sk-top-container\"><div class=\"sk-text-repr-fallback\"><pre>LinearRegression()</pre><b>In a Jupyter environment, please rerun this cell to show the HTML representation or trust the notebook. <br />On GitHub, the HTML representation is unable to render, please try loading this page with nbviewer.org.</b></div><div class=\"sk-container\" hidden><div class=\"sk-item\"><div class=\"sk-estimator fitted sk-toggleable\"><input class=\"sk-toggleable__control sk-hidden--visually\" id=\"sk-estimator-id-8\" type=\"checkbox\" checked><label for=\"sk-estimator-id-8\" class=\"sk-toggleable__label fitted sk-toggleable__label-arrow\"><div><div>LinearRegression</div></div><div><a class=\"sk-estimator-doc-link fitted\" rel=\"noreferrer\" target=\"_blank\" href=\"https://scikit-learn.org/1.6/modules/generated/sklearn.linear_model.LinearRegression.html\">?<span>Documentation for LinearRegression</span></a><span class=\"sk-estimator-doc-link fitted\">i<span>Fitted</span></span></div></label><div class=\"sk-toggleable__content fitted\"><pre>LinearRegression()</pre></div> </div></div></div></div>"
      ],
      "text/plain": [
       "LinearRegression()"
      ]
     },
     "execution_count": 175,
     "metadata": {},
     "output_type": "execute_result"
    }
   ],
   "source": [
    "linear = LinearRegression()\n",
    "\n",
    "# train data\n",
    "linear.fit(X_train, Y_train)"
   ]
  },
  {
   "cell_type": "code",
   "execution_count": 176,
   "id": "7150abad-0c4e-4794-8359-d15f0f64cbcc",
   "metadata": {},
   "outputs": [],
   "source": [
    "Y_predicted = linear.predict(X_test)\n",
    "\n"
   ]
  },
  {
   "cell_type": "code",
   "execution_count": 177,
   "id": "03818096-27b7-411e-8666-b7e8e654cf52",
   "metadata": {},
   "outputs": [],
   "source": [
    "# correlation\n",
    "corr_linear = pd.Series(Y_predicted).corr(pd.Series(Y_test))\n",
    "\n",
    "# r2_score\n",
    "rsquared_linear = r2_score(Y_test, Y_predicted)"
   ]
  },
  {
   "cell_type": "code",
   "execution_count": 178,
   "id": "a1ae8598-e533-4180-8c45-c3ce5b7aa95c",
   "metadata": {},
   "outputs": [
    {
     "name": "stdout",
     "output_type": "stream",
     "text": [
      "[ 1.07688855e-01  9.36226449e-01  1.20582970e+00 -6.82825319e-01\n",
      " -1.40582685e+00 -3.83560542e-01  3.74583180e+00 -1.52606810e+00\n",
      " -2.85882297e+00  2.79417508e+00  6.94079422e-01  1.21553310e+00\n",
      "  2.36484321e-01  6.15792352e-03 -9.81609093e-01  8.22194963e-01\n",
      " -7.48234814e-01  4.00318473e-01  1.88815460e+00 -9.82107684e-01\n",
      " -2.21845432e+00  1.29827887e+00 -1.27127808e+00 -2.06269191e-02\n",
      " -1.42254402e-01 -5.00207986e-01 -1.00519013e-01 -1.71608826e+00\n",
      " -2.08872672e+00 -9.41755601e-02  1.23284047e+00 -2.28464648e+00\n",
      "  2.62602202e+00  7.18194126e-01  1.19154421e+00 -3.28842807e+00\n",
      "  1.52642908e+00 -1.87980766e+00 -6.30615750e-01  1.65534256e+00\n",
      " -2.23598283e+00  1.78850932e+00  3.73988375e-02  2.24767546e+00\n",
      " -3.68698505e+00  5.08179794e-01 -7.81620560e-01  2.35213054e+00\n",
      "  9.37334401e-03 -1.37208408e+00  4.39290141e+00 -3.32215738e+00\n",
      " -8.23119113e-01 -1.18821655e+00 -9.93671144e-01 -3.24401024e-01\n",
      " -7.20403664e-01  9.65429805e-01 -7.28921270e-01 -3.24401024e-01\n",
      "  1.10217463e+00  8.46121298e-03 -3.40113703e-01 -1.76552049e+00\n",
      " -6.85211665e-01 -6.54759537e-01  1.23201297e+00 -1.24760407e-01\n",
      "  1.38812091e+00  1.86028061e-01 -3.28383066e-01  8.15065242e+00\n",
      " -2.12429900e-01 -1.55011918e+00  5.41648112e-01 -3.22058086e+00\n",
      " -4.97493919e-01 -1.32264303e+00 -7.25075416e-01 -2.34381670e+00\n",
      "  8.99963428e-02  5.52069885e-01  4.78883044e+00  2.36542596e+00\n",
      "  9.53824129e-01  4.35490962e-01  1.49395407e+00 -1.91962354e+00\n",
      "  2.21857119e+00  1.21417391e-01 -3.63497335e-01  1.78825185e-01\n",
      "  1.55532045e+00  4.99735155e-02  1.20791547e+00  5.96435907e-01\n",
      " -1.40583998e-02  1.59485145e+00  2.72612890e-01  4.15462880e-01\n",
      " -2.51342402e-01  3.20697386e+00 -1.35673848e+00 -9.77460463e-01\n",
      " -3.07186565e+00  4.64539562e-02  2.72904570e+00 -1.97104428e+00\n",
      " -1.97826562e+00  1.83563851e+00 -6.44804669e-01 -4.21596713e-01\n",
      "  1.73983312e+00 -1.83002357e+00 -3.02315797e+00  9.59208087e-01\n",
      " -3.77130884e+00 -1.78317009e+00]\n"
     ]
    }
   ],
   "source": [
    "# Check the coefficients of the models of 10 features by checking the linear coefficients\n",
    "print(linear.coef_)"
   ]
  },
  {
   "cell_type": "code",
   "execution_count": 179,
   "id": "21302b10-1287-4fa8-b251-4202d5568c97",
   "metadata": {},
   "outputs": [
    {
     "data": {
      "image/png": "[encoded data removed]",
      "text/plain": [
       "<Figure size 640x480 with 1 Axes>"
      ]
     },
     "metadata": {},
     "output_type": "display_data"
    }
   ],
   "source": [
    "plt.scatter(Y_predicted, Y_test)\n",
    "\n",
    "plt.title(\"Linear Regression. Correlation=%f  $R^2$ score=%f\" % (corr_linear, rsquared_linear))\n",
    "\n",
    "plt.xlabel(\"Predicted Values\")\n",
    "plt.ylabel(\"Actual Values\")\n",
    "\n",
    "# plot a diagonal line\n",
    "plt.plot(Y_test, Y_test, 'k--') # 'k--' = black dashed lines\n",
    "plt.show()\n",
    "\n",
    "# Graphical representation"
   ]
  },
  {
   "cell_type": "markdown",
   "id": "96e60f11-c226-4858-b3ef-364471b43d36",
   "metadata": {},
   "source": [
    "### SVR\n"
   ]
  },
  {
   "cell_type": "code",
   "execution_count": 182,
   "id": "4e293d5e-faf1-4283-a67b-56beb1d5b0d5",
   "metadata": {},
   "outputs": [
    {
     "data": {
      "text/plain": [
       "(50451, 118)"
      ]
     },
     "execution_count": 182,
     "metadata": {},
     "output_type": "execute_result"
    }
   ],
   "source": [
    "X_train.shape"
   ]
  },
  {
   "cell_type": "code",
   "execution_count": 183,
   "id": "410a1e63-a4c5-4d3d-959c-8802e057d781",
   "metadata": {},
   "outputs": [
    {
     "data": {
      "text/plain": [
       "(50451,)"
      ]
     },
     "execution_count": 183,
     "metadata": {},
     "output_type": "execute_result"
    }
   ],
   "source": [
    "Y_train.shape"
   ]
  },
  {
   "cell_type": "code",
   "execution_count": null,
   "id": "ff495a0b-fcfa-47b1-b757-793a82d67102",
   "metadata": {},
   "outputs": [],
   "source": [
    "# poly takes a long time\n",
    "# other types : ‘linear’, ‘poly’, ‘rbf’, ‘sigmoid’, ‘precomputed’\n",
    "# adding , probability=False to try to improve performance\n",
    "svr = SVR(kernel='linear', C=1.0,   cache_size=7000, )  \n",
    "svr.fit(X_train , Y_train )\n",
    " "
   ]
  },
  {
   "cell_type": "code",
   "execution_count": null,
   "id": "697aca52-44a8-4b2b-986b-3e5ac4084a9d",
   "metadata": {},
   "outputs": [],
   "source": [
    "\n",
    "y_pred = svr.predict(X_test ) \n",
    "\n",
    " "
   ]
  },
  {
   "cell_type": "code",
   "execution_count": null,
   "id": "73bf75a3-90ef-42f0-9361-07d3a3b599cb",
   "metadata": {},
   "outputs": [],
   "source": [
    "y_pred.size"
   ]
  },
  {
   "cell_type": "code",
   "execution_count": null,
   "id": "5e59612a-0812-4903-9578-705a7a6dcfb4",
   "metadata": {},
   "outputs": [],
   "source": [
    "# correlation\n",
    "corr_svr = pd.Series(y_pred).corr(pd.Series(Y_test))\n",
    "\n",
    "# r2_score\n",
    "rsquared_svr = r2_score(Y_test, y_pred)"
   ]
  },
  {
   "cell_type": "code",
   "execution_count": null,
   "id": "7c20362d-fd0f-4b21-a76f-54d3cee4c403",
   "metadata": {},
   "outputs": [],
   "source": [
    "svr.coef_"
   ]
  },
  {
   "cell_type": "code",
   "execution_count": null,
   "id": "902449a9-605b-46c5-8048-9411def18c1e",
   "metadata": {},
   "outputs": [],
   "source": [
    "plt.scatter(y_pred, Y_test)\n",
    "\n",
    "plt.title(\"SVR Regression. Correlation=%f  $R^2$ score=%f\" % (corr_svr, rsquared_svr))\n",
    "\n",
    "plt.xlabel(\"Predicted Values\")\n",
    "plt.ylabel(\"Actual Values\")\n",
    "\n",
    "# plot a diagonal line\n",
    "plt.plot(Y_test, Y_test, 'k--') # 'k--' = black dashed lines\n",
    "plt.show()\n",
    "\n",
    "# Graphical representation"
   ]
  },
  {
   "cell_type": "markdown",
   "id": "0b712fcb-6d44-4936-ae58-239ce6a191e6",
   "metadata": {},
   "source": [
    "## Predict Volume of Encampment Tickets by Zip Code / Location\n",
    "\n",
    "### 1. Linear Regression\n"
   ]
  },
  {
   "cell_type": "code",
   "execution_count": null,
   "id": "eec206ba-94d1-44ff-bf94-64189896a636",
   "metadata": {},
   "outputs": [],
   "source": [
    "#'zipcodefmt',\n",
    "#counts_df = df.groupby(['assignto_EV','assignto_HB','assignto_LSD','assignto_NC','assignto_SLA','assignto_WLA','assignto_WV']).size().reset_index(name='count')\n",
    "counts_df = df.groupby(df[list(numeric_variables.columns)).size().reset_index(name='count')\n"
   ]
  },
  {
   "cell_type": "code",
   "execution_count": null,
   "id": "bb931dac-3c33-446f-be69-9b345f30ae52",
   "metadata": {},
   "outputs": [],
   "source": [
    "counts_df.size"
   ]
  },
  {
   "cell_type": "code",
   "execution_count": null,
   "id": "67cb6b2c-e0b9-441c-8f76-4df05e38e17c",
   "metadata": {},
   "outputs": [],
   "source": [
    "counts_df = counts_df.dropna()\n",
    "counts_df.size"
   ]
  },
  {
   "cell_type": "code",
   "execution_count": null,
   "id": "1e137ddd-c042-4361-99df-0b8dc62cb817",
   "metadata": {},
   "outputs": [],
   "source": [
    "\n",
    "x = counts_df.drop(['count'], axis=1).copy() \n",
    "\n",
    "x.head()"
   ]
  },
  {
   "cell_type": "code",
   "execution_count": null,
   "id": "de2c4461-4a11-428a-98bd-535c33a7e268",
   "metadata": {},
   "outputs": [],
   "source": [
    "y = counts_df['count']\n",
    "y.min(), y.max()"
   ]
  },
  {
   "cell_type": "code",
   "execution_count": null,
   "id": "a39af608-9bb4-41d5-8991-ebd40ed3445a",
   "metadata": {},
   "outputs": [],
   "source": [
    "\n",
    " X_train, X_test, Y_train, Y_test = train_test_split(x, y, test_size=.2) \n"
   ]
  },
  {
   "cell_type": "code",
   "execution_count": null,
   "id": "022792a5-3745-409e-b990-2b9ea760580b",
   "metadata": {},
   "outputs": [],
   "source": [
    "linear = LinearRegression()\n",
    "\n",
    "# train data\n",
    "linear.fit(X_train, Y_train)"
   ]
  },
  {
   "cell_type": "code",
   "execution_count": null,
   "id": "e8439d72-fe3d-4de7-b497-f22038b1d848",
   "metadata": {},
   "outputs": [],
   "source": [
    "Y_predicted = linear.predict(X_test)\n"
   ]
  },
  {
   "cell_type": "code",
   "execution_count": null,
   "id": "74fc81c0-a6de-4365-8fff-82849ec05cb4",
   "metadata": {},
   "outputs": [],
   "source": [
    "# correlation\n",
    "corr_linear = pd.Series(Y_predicted).corr(pd.Series(Y_test))\n",
    "\n",
    "# r2_score\n",
    "rsquared_linear = r2_score(Y_test, Y_predicted)"
   ]
  },
  {
   "cell_type": "code",
   "execution_count": null,
   "id": "1e9111d6-b8ff-4494-bce0-c7211ee8114e",
   "metadata": {},
   "outputs": [],
   "source": [
    "# Check the coefficients of the models of 10 features by checking the linear coefficients\n",
    "print(linear.coef_)"
   ]
  },
  {
   "cell_type": "code",
   "execution_count": null,
   "id": "343ad6ac-fb49-429f-b556-383248fc0691",
   "metadata": {},
   "outputs": [],
   "source": [
    "plt.scatter(Y_predicted, Y_test)\n",
    "\n",
    "plt.title(\"Linear Regression. Correlation=%f  $R^2$ score=%f\" % (corr_linear, rsquared_linear))\n",
    "\n",
    "plt.xlabel(\"Predicted Values\")\n",
    "plt.ylabel(\"Actual Values\")\n",
    "\n",
    "# plot a diagonal line\n",
    "plt.plot(Y_test, Y_test, 'k--') # 'k--' = black dashed lines\n",
    "plt.show()\n",
    "\n",
    "# Graphical representati"
   ]
  },
  {
   "cell_type": "markdown",
   "id": "4a60c31a-0379-488c-8f21-7badb23928ab",
   "metadata": {},
   "source": [
    "\n",
    "## Predict Volume of Encampment Tickets\n",
    "\n",
    "### 2. SVR\n"
   ]
  },
  {
   "cell_type": "code",
   "execution_count": 120,
   "id": "c085d530-c86d-4e11-b241-15cac1e0abc5",
   "metadata": {},
   "outputs": [
    {
     "data": {
      "text/plain": [
       "49"
      ]
     },
     "execution_count": 120,
     "metadata": {},
     "output_type": "execute_result"
    }
   ],
   "source": [
    "x.size"
   ]
  },
  {
   "cell_type": "code",
   "execution_count": 121,
   "id": "a86768d9-6a0d-4e84-90d5-3f37e1fbef3d",
   "metadata": {},
   "outputs": [
    {
     "data": {
      "text/html": [
       "<div>\n",
       "<style scoped>\n",
       "    .dataframe tbody tr th:only-of-type {\n",
       "        vertical-align: middle;\n",
       "    }\n",
       "\n",
       "    .dataframe tbody tr th {\n",
       "        vertical-align: top;\n",
       "    }\n",
       "\n",
       "    .dataframe thead th {\n",
       "        text-align: right;\n",
       "    }\n",
       "</style>\n",
       "<table border=\"1\" class=\"dataframe\">\n",
       "  <thead>\n",
       "    <tr style=\"text-align: right;\">\n",
       "      <th></th>\n",
       "      <th>assignto_EV</th>\n",
       "      <th>assignto_HB</th>\n",
       "      <th>assignto_LSD</th>\n",
       "      <th>assignto_NC</th>\n",
       "      <th>assignto_SLA</th>\n",
       "      <th>assignto_WLA</th>\n",
       "      <th>assignto_WV</th>\n",
       "    </tr>\n",
       "  </thead>\n",
       "  <tbody>\n",
       "    <tr>\n",
       "      <th>0</th>\n",
       "      <td>0</td>\n",
       "      <td>0</td>\n",
       "      <td>0</td>\n",
       "      <td>0</td>\n",
       "      <td>0</td>\n",
       "      <td>0</td>\n",
       "      <td>1</td>\n",
       "    </tr>\n",
       "  </tbody>\n",
       "</table>\n",
       "</div>"
      ],
      "text/plain": [
       "   assignto_EV  assignto_HB  assignto_LSD  assignto_NC  assignto_SLA  \\\n",
       "0            0            0             0            0             0   \n",
       "\n",
       "   assignto_WLA  assignto_WV  \n",
       "0             0            1  "
      ]
     },
     "execution_count": 121,
     "metadata": {},
     "output_type": "execute_result"
    }
   ],
   "source": [
    "x.head(1)"
   ]
  },
  {
   "cell_type": "code",
   "execution_count": 127,
   "id": "92c2ad94-b9ce-4638-8557-6ce9e64502ff",
   "metadata": {},
   "outputs": [
    {
     "data": {
      "text/plain": [
       "0     6785\n",
       "1    10760\n",
       "2     9302\n",
       "3    22578\n",
       "4      391\n",
       "Name: count, dtype: int64"
      ]
     },
     "execution_count": 127,
     "metadata": {},
     "output_type": "execute_result"
    }
   ],
   "source": [
    "y.head()"
   ]
  },
  {
   "cell_type": "code",
   "execution_count": 128,
   "id": "bb56d5a4-f01a-45e6-b717-bef57d92df45",
   "metadata": {},
   "outputs": [
    {
     "data": {
      "text/plain": [
       "7"
      ]
     },
     "execution_count": 128,
     "metadata": {},
     "output_type": "execute_result"
    }
   ],
   "source": [
    "y.size"
   ]
  },
  {
   "cell_type": "code",
   "execution_count": 123,
   "id": "4db0c75d-6772-4ed0-970d-f142aefeca7e",
   "metadata": {},
   "outputs": [],
   "source": [
    "\n",
    " X_train, X_test, Y_train, Y_test = train_test_split(x, y, test_size=.2) \n"
   ]
  },
  {
   "cell_type": "code",
   "execution_count": 124,
   "id": "c2db2890-8b3a-49c6-9e76-743929b0993e",
   "metadata": {},
   "outputs": [],
   "source": [
    "# poly takes a long time\n",
    "# other types : ‘linear’, ‘poly’, ‘rbf’, ‘sigmoid’, ‘precomputed’\n",
    "svm= SVR(kernel='linear', C=1.0 )  \n",
    "svm.fit(X_train , Y_train )\n",
    "y_pred = svm.predict(X_test ) \n",
    " "
   ]
  },
  {
   "cell_type": "code",
   "execution_count": 125,
   "id": "8d37389c-9d2a-4fb8-a59a-0e4b57eef2c0",
   "metadata": {},
   "outputs": [
    {
     "name": "stderr",
     "output_type": "stream",
     "text": [
      "C:\\Users\\amand\\miniforge3\\envs\\usable_ai_project\\lib\\site-packages\\numpy\\lib\\_function_base_impl.py:2914: RuntimeWarning: Degrees of freedom <= 0 for slice\n",
      "  c = cov(x, y, rowvar, dtype=dtype)\n",
      "C:\\Users\\amand\\miniforge3\\envs\\usable_ai_project\\lib\\site-packages\\numpy\\lib\\_function_base_impl.py:2773: RuntimeWarning: divide by zero encountered in divide\n",
      "  c *= np.true_divide(1, fact)\n",
      "C:\\Users\\amand\\miniforge3\\envs\\usable_ai_project\\lib\\site-packages\\numpy\\lib\\_function_base_impl.py:2773: RuntimeWarning: invalid value encountered in multiply\n",
      "  c *= np.true_divide(1, fact)\n"
     ]
    }
   ],
   "source": [
    "# 3 columns SVC\n",
    "# linear and rbf - 0.6319473034170441\n",
    "# correlation\n",
    "corr_svr = pd.Series(y_pred).corr(pd.Series(Y_test))\n",
    "\n",
    "# r2_score\n",
    "rsquared_svr = r2_score(Y_test, y_pred)"
   ]
  },
  {
   "cell_type": "code",
   "execution_count": 126,
   "id": "f4b2bcd4-5d4d-409f-9198-3670a893d991",
   "metadata": {},
   "outputs": [
    {
     "data": {
      "image/png": "[encoded data removed]",
      "text/plain": [
       "<Figure size 640x480 with 1 Axes>"
      ]
     },
     "metadata": {},
     "output_type": "display_data"
    }
   ],
   "source": [
    "plt.scatter(Y_predicted, Y_test)\n",
    "\n",
    "plt.title(\"SVR Regression. Correlation=%f  $R^2$ score=%f\" % (corr_svr, rsquared_svr))\n",
    "\n",
    "plt.xlabel(\"Predicted Values\")\n",
    "plt.ylabel(\"Actual Values\")\n",
    "\n",
    "# plot a diagonal line\n",
    "plt.plot(Y_test, Y_test, 'k--') # 'k--' = black dashed lines\n",
    "plt.show()\n",
    "\n",
    "# Graphical representati"
   ]
  },
  {
   "cell_type": "code",
   "execution_count": 70,
   "id": "b94462df-9308-45b1-8984-ac0a06c5264e",
   "metadata": {},
   "outputs": [],
   "source": [
    "# Save to file for next step ML\n",
    "df.to_csv(generated_data_path +'homeless_camp_closed_2023_parks_simplified.csv', index=False)"
   ]
  },
  {
   "cell_type": "markdown",
   "id": "89a74c8c-d8ad-4f9e-81f6-d68f5590d2b1",
   "metadata": {},
   "source": [
    "## Next: Try clustering - 6_ml_cluster.ipynb"
   ]
  },
  {
   "cell_type": "code",
   "execution_count": null,
   "id": "47bff8ea-a8be-444c-8f44-d5250ad4130e",
   "metadata": {},
   "outputs": [],
   "source": []
  }
 ],
 "metadata": {
  "kernelspec": {
   "display_name": "Python 3 (ipykernel)",
   "language": "python",
   "name": "python3"
  },
  "language_info": {
   "codemirror_mode": {
    "name": "ipython",
    "version": 3
   },
   "file_extension": ".py",
   "mimetype": "text/x-python",
   "name": "python",
   "nbconvert_exporter": "python",
   "pygments_lexer": "ipython3",
   "version": "3.9.21"
  }
 },
 "nbformat": 4,
 "nbformat_minor": 5
}
