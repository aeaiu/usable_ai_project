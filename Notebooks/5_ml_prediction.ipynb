{
 "cells": [
  {
   "cell_type": "markdown",
   "id": "4877b24c-e39d-43d3-b5ad-4da1b6fbc862",
   "metadata": {
    "jp-MarkdownHeadingCollapsed": true
   },
   "source": [
    "## Homeless Encampments in LA\n",
    "\n",
    "##### Spring 2025\n",
    "##### Amanda Alonzo\n",
    "##### I513 Usable AI\n",
    "##### Indiana University, Bloomington\n",
    " \n"
   ]
  },
  {
   "cell_type": "markdown",
   "id": "dd598b13-5173-4cd7-b43e-e46bbadd488e",
   "metadata": {},
   "source": [
    "## Machine Learning Predictions\n",
    "\n",
    "#### Prerequisite: 4_parks_visualization.ipynb"
   ]
  },
  {
   "cell_type": "code",
   "execution_count": 1,
   "id": "c25f6f7c-c299-4861-8bbd-79f4a2c75155",
   "metadata": {},
   "outputs": [],
   "source": [
    "import pandas as pd\n",
    "import matplotlib.pyplot as plt\n",
    "from datetime import datetime\n",
    "import re\n",
    "import numpy as np\n",
    "import seaborn as sns\n",
    "from scipy import stats\n"
   ]
  },
  {
   "cell_type": "code",
   "execution_count": 2,
   "id": "b814cc65-4fbe-48d3-b8ba-b8b4f8a2c860",
   "metadata": {},
   "outputs": [],
   "source": [
    "raw_data_path = \"../Dataraw/\"\n",
    "annual_data_path = \"../Datafiles/\"\n",
    "generated_data_path = \"../Datagen/\""
   ]
  },
  {
   "cell_type": "code",
   "execution_count": null,
   "id": "2906b549-1498-4953-85ce-2ac6caf4f476",
   "metadata": {},
   "outputs": [],
   "source": []
  },
  {
   "cell_type": "code",
   "execution_count": 4,
   "id": "17c19a88-6604-4374-ad99-1c429c620df6",
   "metadata": {
    "scrolled": true
   },
   "outputs": [
    {
     "data": {
      "text/html": [
       "<div>\n",
       "<style scoped>\n",
       "    .dataframe tbody tr th:only-of-type {\n",
       "        vertical-align: middle;\n",
       "    }\n",
       "\n",
       "    .dataframe tbody tr th {\n",
       "        vertical-align: top;\n",
       "    }\n",
       "\n",
       "    .dataframe thead th {\n",
       "        text-align: right;\n",
       "    }\n",
       "</style>\n",
       "<table border=\"1\" class=\"dataframe\">\n",
       "  <thead>\n",
       "    <tr style=\"text-align: right;\">\n",
       "      <th></th>\n",
       "      <th>SRNumber</th>\n",
       "      <th>CreatedDate</th>\n",
       "      <th>UpdatedDate</th>\n",
       "      <th>ActionTaken</th>\n",
       "      <th>Owner</th>\n",
       "      <th>RequestType</th>\n",
       "      <th>Status</th>\n",
       "      <th>RequestSource</th>\n",
       "      <th>CreatedByUserOrganization</th>\n",
       "      <th>MobileOS</th>\n",
       "      <th>...</th>\n",
       "      <th>CENTER_LAT_y</th>\n",
       "      <th>CENTER_LON_y</th>\n",
       "      <th>ZIP_y</th>\n",
       "      <th>Shape__Area_y</th>\n",
       "      <th>Shape__Length_y</th>\n",
       "      <th>close_time_bins</th>\n",
       "      <th>is_county_ind</th>\n",
       "      <th>park_distance_bins</th>\n",
       "      <th>closed_days_scaled</th>\n",
       "      <th>park_distance_scaled</th>\n",
       "    </tr>\n",
       "  </thead>\n",
       "  <tbody>\n",
       "    <tr>\n",
       "      <th>0</th>\n",
       "      <td>1-3202726931</td>\n",
       "      <td>01/01/2023 08:26:17 AM</td>\n",
       "      <td>01/31/2023 01:44:42 PM</td>\n",
       "      <td>SR Created</td>\n",
       "      <td>LASAN</td>\n",
       "      <td>Homeless Encampment</td>\n",
       "      <td>Closed</td>\n",
       "      <td>Self Service</td>\n",
       "      <td>Self Service_SAN</td>\n",
       "      <td>NaN</td>\n",
       "      <td>...</td>\n",
       "      <td>34.037657</td>\n",
       "      <td>-118.178443</td>\n",
       "      <td>90063.0</td>\n",
       "      <td>476404.567383</td>\n",
       "      <td>2824.807047</td>\n",
       "      <td>1.0</td>\n",
       "      <td>0</td>\n",
       "      <td>2</td>\n",
       "      <td>0.039295</td>\n",
       "      <td>0.054729</td>\n",
       "    </tr>\n",
       "  </tbody>\n",
       "</table>\n",
       "<p>1 rows × 151 columns</p>\n",
       "</div>"
      ],
      "text/plain": [
       "       SRNumber             CreatedDate             UpdatedDate ActionTaken  \\\n",
       "0  1-3202726931  01/01/2023 08:26:17 AM  01/31/2023 01:44:42 PM  SR Created   \n",
       "\n",
       "   Owner          RequestType  Status RequestSource CreatedByUserOrganization  \\\n",
       "0  LASAN  Homeless Encampment  Closed  Self Service          Self Service_SAN   \n",
       "\n",
       "  MobileOS  ... CENTER_LAT_y CENTER_LON_y    ZIP_y  Shape__Area_y  \\\n",
       "0      NaN  ...    34.037657  -118.178443  90063.0  476404.567383   \n",
       "\n",
       "  Shape__Length_y close_time_bins is_county_ind  park_distance_bins  \\\n",
       "0     2824.807047             1.0             0                   2   \n",
       "\n",
       "  closed_days_scaled park_distance_scaled  \n",
       "0           0.039295             0.054729  \n",
       "\n",
       "[1 rows x 151 columns]"
      ]
     },
     "execution_count": 4,
     "metadata": {},
     "output_type": "execute_result"
    }
   ],
   "source": [
    "#laod  our data frame from past steps \n",
    "df = pd.read_csv(generated_data_path+'homeless_camp_closed_2023_parks_ftr_eng_3.csv', low_memory=False)\n",
    "df.head(1)"
   ]
  },
  {
   "cell_type": "code",
   "execution_count": 9,
   "id": "dd292bcd-ad6c-43fe-a429-5d2f528b8095",
   "metadata": {},
   "outputs": [
    {
     "data": {
      "text/plain": [
       "(63104, 151)"
      ]
     },
     "execution_count": 9,
     "metadata": {},
     "output_type": "execute_result"
    }
   ],
   "source": [
    "df.shape"
   ]
  },
  {
   "cell_type": "code",
   "execution_count": 11,
   "id": "40ec962b-cce2-437b-ad09-0e54bcf3a9ab",
   "metadata": {},
   "outputs": [],
   "source": [
    "#Clean up our data frame - simplify columns\n",
    "df_source = df.copy()\n",
    "\n",
    "\n"
   ]
  },
  {
   "cell_type": "code",
   "execution_count": 17,
   "id": "38d457b5-549c-4ae1-bf81-a5e7d71ccd78",
   "metadata": {},
   "outputs": [],
   "source": [
    "df = df_source[['RequestSource','ZipCodeFmt','Anonymous','AssignTo','park_distance','close_time_days_x','closed_days_scaled','park_distance_scaled','is_county_ind','NDS_AN_TYP','COGP_TYP','ACCESS_TYP']].copy()\n",
    "\n"
   ]
  },
  {
   "cell_type": "code",
   "execution_count": 18,
   "id": "776be590-7b51-4f9f-9570-30c6b75d7969",
   "metadata": {},
   "outputs": [
    {
     "data": {
      "text/html": [
       "<div>\n",
       "<style scoped>\n",
       "    .dataframe tbody tr th:only-of-type {\n",
       "        vertical-align: middle;\n",
       "    }\n",
       "\n",
       "    .dataframe tbody tr th {\n",
       "        vertical-align: top;\n",
       "    }\n",
       "\n",
       "    .dataframe thead th {\n",
       "        text-align: right;\n",
       "    }\n",
       "</style>\n",
       "<table border=\"1\" class=\"dataframe\">\n",
       "  <thead>\n",
       "    <tr style=\"text-align: right;\">\n",
       "      <th></th>\n",
       "      <th>zipcodefmt</th>\n",
       "      <th>park_distance</th>\n",
       "      <th>close_time_days_x</th>\n",
       "      <th>closed_days_scaled</th>\n",
       "      <th>park_distance_scaled</th>\n",
       "      <th>is_county_ind</th>\n",
       "    </tr>\n",
       "  </thead>\n",
       "  <tbody>\n",
       "    <tr>\n",
       "      <th>count</th>\n",
       "      <td>63090.000000</td>\n",
       "      <td>63104.000000</td>\n",
       "      <td>63079.000000</td>\n",
       "      <td>63079.000000</td>\n",
       "      <td>63104.000000</td>\n",
       "      <td>63104.000000</td>\n",
       "    </tr>\n",
       "    <tr>\n",
       "      <th>mean</th>\n",
       "      <td>90465.801886</td>\n",
       "      <td>0.814033</td>\n",
       "      <td>84.476212</td>\n",
       "      <td>0.114466</td>\n",
       "      <td>0.023340</td>\n",
       "      <td>0.980619</td>\n",
       "    </tr>\n",
       "    <tr>\n",
       "      <th>std</th>\n",
       "      <td>634.715178</td>\n",
       "      <td>0.706546</td>\n",
       "      <td>95.161704</td>\n",
       "      <td>0.128945</td>\n",
       "      <td>0.020366</td>\n",
       "      <td>0.137860</td>\n",
       "    </tr>\n",
       "    <tr>\n",
       "      <th>min</th>\n",
       "      <td>90001.000000</td>\n",
       "      <td>0.004306</td>\n",
       "      <td>0.000000</td>\n",
       "      <td>0.000000</td>\n",
       "      <td>0.000000</td>\n",
       "      <td>0.000000</td>\n",
       "    </tr>\n",
       "    <tr>\n",
       "      <th>25%</th>\n",
       "      <td>90025.000000</td>\n",
       "      <td>0.354433</td>\n",
       "      <td>7.000000</td>\n",
       "      <td>0.009485</td>\n",
       "      <td>0.010092</td>\n",
       "      <td>1.000000</td>\n",
       "    </tr>\n",
       "    <tr>\n",
       "      <th>50%</th>\n",
       "      <td>90048.000000</td>\n",
       "      <td>0.635838</td>\n",
       "      <td>54.000000</td>\n",
       "      <td>0.073171</td>\n",
       "      <td>0.018204</td>\n",
       "      <td>1.000000</td>\n",
       "    </tr>\n",
       "    <tr>\n",
       "      <th>75%</th>\n",
       "      <td>91311.000000</td>\n",
       "      <td>1.055775</td>\n",
       "      <td>125.000000</td>\n",
       "      <td>0.169377</td>\n",
       "      <td>0.030308</td>\n",
       "      <td>1.000000</td>\n",
       "    </tr>\n",
       "    <tr>\n",
       "      <th>max</th>\n",
       "      <td>91607.000000</td>\n",
       "      <td>34.696842</td>\n",
       "      <td>738.000000</td>\n",
       "      <td>1.000000</td>\n",
       "      <td>1.000000</td>\n",
       "      <td>1.000000</td>\n",
       "    </tr>\n",
       "  </tbody>\n",
       "</table>\n",
       "</div>"
      ],
      "text/plain": [
       "         zipcodefmt  park_distance  close_time_days_x  closed_days_scaled  \\\n",
       "count  63090.000000   63104.000000       63079.000000        63079.000000   \n",
       "mean   90465.801886       0.814033          84.476212            0.114466   \n",
       "std      634.715178       0.706546          95.161704            0.128945   \n",
       "min    90001.000000       0.004306           0.000000            0.000000   \n",
       "25%    90025.000000       0.354433           7.000000            0.009485   \n",
       "50%    90048.000000       0.635838          54.000000            0.073171   \n",
       "75%    91311.000000       1.055775         125.000000            0.169377   \n",
       "max    91607.000000      34.696842         738.000000            1.000000   \n",
       "\n",
       "       park_distance_scaled  is_county_ind  \n",
       "count          63104.000000   63104.000000  \n",
       "mean               0.023340       0.980619  \n",
       "std                0.020366       0.137860  \n",
       "min                0.000000       0.000000  \n",
       "25%                0.010092       1.000000  \n",
       "50%                0.018204       1.000000  \n",
       "75%                0.030308       1.000000  \n",
       "max                1.000000       1.000000  "
      ]
     },
     "execution_count": 18,
     "metadata": {},
     "output_type": "execute_result"
    }
   ],
   "source": [
    "df.columns = df.columns.str.lower()\n",
    "df.describe()"
   ]
  },
  {
   "cell_type": "code",
   "execution_count": 19,
   "id": "dab686e3-780d-44e7-8d88-54fd6171d9fe",
   "metadata": {},
   "outputs": [
    {
     "data": {
      "text/plain": [
       "Index(['requestsource', 'zipcodefmt', 'anonymous', 'assignto', 'park_distance',\n",
       "       'close_time_days_x', 'closed_days_scaled', 'park_distance_scaled',\n",
       "       'is_county_ind', 'nds_an_typ', 'cogp_typ', 'access_typ'],\n",
       "      dtype='object')"
      ]
     },
     "execution_count": 19,
     "metadata": {},
     "output_type": "execute_result"
    }
   ],
   "source": [
    "df.columns"
   ]
  },
  {
   "cell_type": "code",
   "execution_count": 20,
   "id": "bc92d7c5-5d19-4a87-850f-86a6f2676502",
   "metadata": {},
   "outputs": [
    {
     "data": {
      "text/plain": [
       "assignto\n",
       "NC     22585\n",
       "EV     12061\n",
       "WLA    10768\n",
       "SLA     9317\n",
       "WV      6791\n",
       "HB      1190\n",
       "LSD      391\n",
       "Name: count, dtype: int64"
      ]
     },
     "execution_count": 20,
     "metadata": {},
     "output_type": "execute_result"
    }
   ],
   "source": [
    "df.assignto.value_counts()"
   ]
  },
  {
   "cell_type": "code",
   "execution_count": 26,
   "id": "b352ff7b-6dab-4535-9063-16d7beffe093",
   "metadata": {},
   "outputs": [
    {
     "data": {
      "text/html": [
       "<div>\n",
       "<style scoped>\n",
       "    .dataframe tbody tr th:only-of-type {\n",
       "        vertical-align: middle;\n",
       "    }\n",
       "\n",
       "    .dataframe tbody tr th {\n",
       "        vertical-align: top;\n",
       "    }\n",
       "\n",
       "    .dataframe thead tr th {\n",
       "        text-align: left;\n",
       "    }\n",
       "\n",
       "    .dataframe thead tr:last-of-type th {\n",
       "        text-align: right;\n",
       "    }\n",
       "</style>\n",
       "<table border=\"1\" class=\"dataframe\">\n",
       "  <thead>\n",
       "    <tr>\n",
       "      <th></th>\n",
       "      <th colspan=\"2\" halign=\"left\">zipcodefmt</th>\n",
       "    </tr>\n",
       "    <tr>\n",
       "      <th></th>\n",
       "      <th>min</th>\n",
       "      <th>max</th>\n",
       "    </tr>\n",
       "    <tr>\n",
       "      <th>assignto</th>\n",
       "      <th></th>\n",
       "      <th></th>\n",
       "    </tr>\n",
       "  </thead>\n",
       "  <tbody>\n",
       "    <tr>\n",
       "      <th>EV</th>\n",
       "      <td>90068.0</td>\n",
       "      <td>91607.0</td>\n",
       "    </tr>\n",
       "    <tr>\n",
       "      <th>HB</th>\n",
       "      <td>90044.0</td>\n",
       "      <td>90744.0</td>\n",
       "    </tr>\n",
       "    <tr>\n",
       "      <th>LSD</th>\n",
       "      <td>90007.0</td>\n",
       "      <td>90021.0</td>\n",
       "    </tr>\n",
       "    <tr>\n",
       "      <th>NC</th>\n",
       "      <td>90004.0</td>\n",
       "      <td>90732.0</td>\n",
       "    </tr>\n",
       "    <tr>\n",
       "      <th>SLA</th>\n",
       "      <td>90001.0</td>\n",
       "      <td>90062.0</td>\n",
       "    </tr>\n",
       "    <tr>\n",
       "      <th>WLA</th>\n",
       "      <td>90008.0</td>\n",
       "      <td>90404.0</td>\n",
       "    </tr>\n",
       "    <tr>\n",
       "      <th>WV</th>\n",
       "      <td>90049.0</td>\n",
       "      <td>91436.0</td>\n",
       "    </tr>\n",
       "  </tbody>\n",
       "</table>\n",
       "</div>"
      ],
      "text/plain": [
       "         zipcodefmt         \n",
       "                min      max\n",
       "assignto                    \n",
       "EV          90068.0  91607.0\n",
       "HB          90044.0  90744.0\n",
       "LSD         90007.0  90021.0\n",
       "NC          90004.0  90732.0\n",
       "SLA         90001.0  90062.0\n",
       "WLA         90008.0  90404.0\n",
       "WV          90049.0  91436.0"
      ]
     },
     "execution_count": 26,
     "metadata": {},
     "output_type": "execute_result"
    }
   ],
   "source": [
    "df.groupby('assignto').agg({'zipcodefmt': ['min', 'max']}   )"
   ]
  },
  {
   "cell_type": "code",
   "execution_count": 28,
   "id": "cb2a0b8d-595d-4022-b619-c6f0f910bc5c",
   "metadata": {},
   "outputs": [
    {
     "data": {
      "text/plain": [
       "zipcodefmt  assignto\n",
       "90001.0     SLA          206\n",
       "90002.0     SLA          286\n",
       "90003.0     SLA         1416\n",
       "90004.0     NC          1216\n",
       "90005.0     NC          1434\n",
       "                        ... \n",
       "91602.0     EV           947\n",
       "91604.0     EV           365\n",
       "91605.0     EV           903\n",
       "91606.0     EV          1568\n",
       "91607.0     EV           219\n",
       "Name: count, Length: 147, dtype: int64"
      ]
     },
     "execution_count": 28,
     "metadata": {},
     "output_type": "execute_result"
    }
   ],
   "source": [
    "df.groupby('zipcodefmt').assignto.value_counts()"
   ]
  },
  {
   "cell_type": "code",
   "execution_count": 30,
   "id": "b3a1e355-322e-463e-a378-5e5dc0790200",
   "metadata": {},
   "outputs": [
    {
     "data": {
      "text/plain": [
       "(63104, 12)"
      ]
     },
     "execution_count": 30,
     "metadata": {},
     "output_type": "execute_result"
    }
   ],
   "source": [
    "df.shape"
   ]
  },
  {
   "cell_type": "code",
   "execution_count": 31,
   "id": "fde8e5b6-b16a-44b2-b72f-85a0dfd21531",
   "metadata": {},
   "outputs": [],
   "source": [
    "\n",
    "df = df.dropna()"
   ]
  },
  {
   "cell_type": "code",
   "execution_count": 32,
   "id": "5a34ddd6-ef45-4f56-84ba-627a7a924047",
   "metadata": {},
   "outputs": [
    {
     "data": {
      "text/plain": [
       "(63064, 12)"
      ]
     },
     "execution_count": 32,
     "metadata": {},
     "output_type": "execute_result"
    }
   ],
   "source": [
    "\n",
    "df.shape"
   ]
  },
  {
   "cell_type": "code",
   "execution_count": 37,
   "id": "76c818b5-8a47-4067-a575-7527b2fe03ec",
   "metadata": {},
   "outputs": [
    {
     "data": {
      "text/html": [
       "<div>\n",
       "<style scoped>\n",
       "    .dataframe tbody tr th:only-of-type {\n",
       "        vertical-align: middle;\n",
       "    }\n",
       "\n",
       "    .dataframe tbody tr th {\n",
       "        vertical-align: top;\n",
       "    }\n",
       "\n",
       "    .dataframe thead th {\n",
       "        text-align: right;\n",
       "    }\n",
       "</style>\n",
       "<table border=\"1\" class=\"dataframe\">\n",
       "  <thead>\n",
       "    <tr style=\"text-align: right;\">\n",
       "      <th></th>\n",
       "      <th>requestsource</th>\n",
       "      <th>zipcodefmt</th>\n",
       "      <th>anonymous</th>\n",
       "      <th>assignto</th>\n",
       "      <th>park_distance</th>\n",
       "      <th>close_time_days_x</th>\n",
       "      <th>closed_days_scaled</th>\n",
       "      <th>park_distance_scaled</th>\n",
       "      <th>is_county_ind</th>\n",
       "      <th>nds_an_typ</th>\n",
       "      <th>cogp_typ</th>\n",
       "      <th>access_typ</th>\n",
       "    </tr>\n",
       "  </thead>\n",
       "  <tbody>\n",
       "    <tr>\n",
       "      <th>0</th>\n",
       "      <td>Self Service</td>\n",
       "      <td>90063.0</td>\n",
       "      <td>Y</td>\n",
       "      <td>NC</td>\n",
       "      <td>1.902999</td>\n",
       "      <td>29.0</td>\n",
       "      <td>0.039295</td>\n",
       "      <td>0.054729</td>\n",
       "      <td>0</td>\n",
       "      <td>Park 5 to 100 Acres</td>\n",
       "      <td>Neighborhood</td>\n",
       "      <td>Open Access</td>\n",
       "    </tr>\n",
       "  </tbody>\n",
       "</table>\n",
       "</div>"
      ],
      "text/plain": [
       "  requestsource  zipcodefmt anonymous assignto  park_distance  \\\n",
       "0  Self Service     90063.0         Y       NC       1.902999   \n",
       "\n",
       "   close_time_days_x  closed_days_scaled  park_distance_scaled  is_county_ind  \\\n",
       "0               29.0            0.039295              0.054729              0   \n",
       "\n",
       "            nds_an_typ      cogp_typ   access_typ  \n",
       "0  Park 5 to 100 Acres  Neighborhood  Open Access  "
      ]
     },
     "execution_count": 37,
     "metadata": {},
     "output_type": "execute_result"
    }
   ],
   "source": [
    "df.rename(columns={'close_time_days_x': 'close_time_days' })\n",
    "df.head(1)"
   ]
  },
  {
   "cell_type": "code",
   "execution_count": 34,
   "id": "0df64aa4-9db6-465c-ad23-035da4ed9aef",
   "metadata": {},
   "outputs": [
    {
     "data": {
      "text/html": [
       "<div>\n",
       "<style scoped>\n",
       "    .dataframe tbody tr th:only-of-type {\n",
       "        vertical-align: middle;\n",
       "    }\n",
       "\n",
       "    .dataframe tbody tr th {\n",
       "        vertical-align: top;\n",
       "    }\n",
       "\n",
       "    .dataframe thead th {\n",
       "        text-align: right;\n",
       "    }\n",
       "</style>\n",
       "<table border=\"1\" class=\"dataframe\">\n",
       "  <thead>\n",
       "    <tr style=\"text-align: right;\">\n",
       "      <th></th>\n",
       "      <th>zipcodefmt</th>\n",
       "      <th>park_distance</th>\n",
       "      <th>close_time_days_x</th>\n",
       "      <th>closed_days_scaled</th>\n",
       "      <th>park_distance_scaled</th>\n",
       "      <th>is_county_ind</th>\n",
       "    </tr>\n",
       "  </thead>\n",
       "  <tbody>\n",
       "    <tr>\n",
       "      <th>count</th>\n",
       "      <td>63064.000000</td>\n",
       "      <td>63064.000000</td>\n",
       "      <td>63064.000000</td>\n",
       "      <td>63064.000000</td>\n",
       "      <td>63064.000000</td>\n",
       "      <td>63064.000000</td>\n",
       "    </tr>\n",
       "    <tr>\n",
       "      <th>mean</th>\n",
       "      <td>90465.838545</td>\n",
       "      <td>0.811804</td>\n",
       "      <td>84.468540</td>\n",
       "      <td>0.114456</td>\n",
       "      <td>0.023276</td>\n",
       "      <td>0.980623</td>\n",
       "    </tr>\n",
       "    <tr>\n",
       "      <th>std</th>\n",
       "      <td>634.749417</td>\n",
       "      <td>0.686861</td>\n",
       "      <td>95.155571</td>\n",
       "      <td>0.128937</td>\n",
       "      <td>0.019799</td>\n",
       "      <td>0.137848</td>\n",
       "    </tr>\n",
       "    <tr>\n",
       "      <th>min</th>\n",
       "      <td>90001.000000</td>\n",
       "      <td>0.004306</td>\n",
       "      <td>0.000000</td>\n",
       "      <td>0.000000</td>\n",
       "      <td>0.000000</td>\n",
       "      <td>0.000000</td>\n",
       "    </tr>\n",
       "    <tr>\n",
       "      <th>25%</th>\n",
       "      <td>90025.000000</td>\n",
       "      <td>0.354433</td>\n",
       "      <td>7.000000</td>\n",
       "      <td>0.009485</td>\n",
       "      <td>0.010092</td>\n",
       "      <td>1.000000</td>\n",
       "    </tr>\n",
       "    <tr>\n",
       "      <th>50%</th>\n",
       "      <td>90048.000000</td>\n",
       "      <td>0.635838</td>\n",
       "      <td>54.000000</td>\n",
       "      <td>0.073171</td>\n",
       "      <td>0.018204</td>\n",
       "      <td>1.000000</td>\n",
       "    </tr>\n",
       "    <tr>\n",
       "      <th>75%</th>\n",
       "      <td>91311.000000</td>\n",
       "      <td>1.055639</td>\n",
       "      <td>125.000000</td>\n",
       "      <td>0.169377</td>\n",
       "      <td>0.030304</td>\n",
       "      <td>1.000000</td>\n",
       "    </tr>\n",
       "    <tr>\n",
       "      <th>max</th>\n",
       "      <td>91607.000000</td>\n",
       "      <td>34.696842</td>\n",
       "      <td>738.000000</td>\n",
       "      <td>1.000000</td>\n",
       "      <td>1.000000</td>\n",
       "      <td>1.000000</td>\n",
       "    </tr>\n",
       "  </tbody>\n",
       "</table>\n",
       "</div>"
      ],
      "text/plain": [
       "         zipcodefmt  park_distance  close_time_days_x  closed_days_scaled  \\\n",
       "count  63064.000000   63064.000000       63064.000000        63064.000000   \n",
       "mean   90465.838545       0.811804          84.468540            0.114456   \n",
       "std      634.749417       0.686861          95.155571            0.128937   \n",
       "min    90001.000000       0.004306           0.000000            0.000000   \n",
       "25%    90025.000000       0.354433           7.000000            0.009485   \n",
       "50%    90048.000000       0.635838          54.000000            0.073171   \n",
       "75%    91311.000000       1.055639         125.000000            0.169377   \n",
       "max    91607.000000      34.696842         738.000000            1.000000   \n",
       "\n",
       "       park_distance_scaled  is_county_ind  \n",
       "count          63064.000000   63064.000000  \n",
       "mean               0.023276       0.980623  \n",
       "std                0.019799       0.137848  \n",
       "min                0.000000       0.000000  \n",
       "25%                0.010092       1.000000  \n",
       "50%                0.018204       1.000000  \n",
       "75%                0.030304       1.000000  \n",
       "max                1.000000       1.000000  "
      ]
     },
     "execution_count": 34,
     "metadata": {},
     "output_type": "execute_result"
    }
   ],
   "source": [
    "df.describe()"
   ]
  },
  {
   "cell_type": "markdown",
   "id": "169fe080-e53c-4c9c-aa79-9af82fb6c917",
   "metadata": {},
   "source": [
    "## Predict Service Ticket Close Time\n",
    "### Linear Regression"
   ]
  },
  {
   "cell_type": "code",
   "execution_count": null,
   "id": "a82689e5-5c03-4d32-b6e6-646437e35d66",
   "metadata": {},
   "outputs": [],
   "source": []
  },
  {
   "cell_type": "code",
   "execution_count": 39,
   "id": "fe75ffc7-9a18-478f-80c7-40f920978666",
   "metadata": {},
   "outputs": [
    {
     "ename": "ModuleNotFoundError",
     "evalue": "No module named 'sklearn'",
     "output_type": "error",
     "traceback": [
      "\u001b[1;31m---------------------------------------------------------------------------\u001b[0m",
      "\u001b[1;31mModuleNotFoundError\u001b[0m                       Traceback (most recent call last)",
      "Cell \u001b[1;32mIn[39], line 2\u001b[0m\n\u001b[0;32m      1\u001b[0m \u001b[38;5;28;01mimport\u001b[39;00m\u001b[38;5;250m \u001b[39m\u001b[38;5;21;01mnumpy\u001b[39;00m\u001b[38;5;250m \u001b[39m\u001b[38;5;28;01mas\u001b[39;00m\u001b[38;5;250m \u001b[39m\u001b[38;5;21;01mnp\u001b[39;00m\n\u001b[1;32m----> 2\u001b[0m \u001b[38;5;28;01mfrom\u001b[39;00m\u001b[38;5;250m \u001b[39m\u001b[38;5;21;01msklearn\u001b[39;00m\u001b[38;5;21;01m.\u001b[39;00m\u001b[38;5;21;01mlinear_model\u001b[39;00m\u001b[38;5;250m \u001b[39m\u001b[38;5;28;01mimport\u001b[39;00m LinearRegression\n",
      "\u001b[1;31mModuleNotFoundError\u001b[0m: No module named 'sklearn'"
     ]
    }
   ],
   "source": [
    "import numpy as np\n",
    "from sklearn.linear_model import LinearRegression\n"
   ]
  },
  {
   "cell_type": "code",
   "execution_count": null,
   "id": "d4c5823e-b4b3-4f30-bb6c-ef818a45967e",
   "metadata": {},
   "outputs": [],
   "source": [
    "\n",
    "x = df['zipcodefmt','park_distance','is_county_ind']\n",
    "y = df['close_time_days']"
   ]
  }
 ],
 "metadata": {
  "kernelspec": {
   "display_name": "Python 3 (ipykernel)",
   "language": "python",
   "name": "python3"
  },
  "language_info": {
   "codemirror_mode": {
    "name": "ipython",
    "version": 3
   },
   "file_extension": ".py",
   "mimetype": "text/x-python",
   "name": "python",
   "nbconvert_exporter": "python",
   "pygments_lexer": "ipython3",
   "version": "3.9.21"
  }
 },
 "nbformat": 4,
 "nbformat_minor": 5
}
