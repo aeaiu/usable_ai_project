{
 "cells": [
  {
   "cell_type": "markdown",
   "id": "82c34bbb-37da-49fc-905e-4c3953df2b3f",
   "metadata": {},
   "source": [
    "## Homeless Encampments in LA\n",
    "\n",
    "##### Spring 2025\n",
    "##### Amanda Alonzo\n",
    "##### I513 Usable AI\n",
    "##### Indiana University, Bloomington\n",
    " \n"
   ]
  },
  {
   "cell_type": "markdown",
   "id": "a59e6302-fbd2-4760-907c-5cc779911404",
   "metadata": {},
   "source": [
    "## Add LA County Parks Data \n",
    "Source: https://geohub.lacity.org/datasets/840b3da17e844486b3bafaae6eda87d4_0/about\n",
    "\n",
    "Feature engineer to add distance from homeless encampments to parks using latitude and longitude"
   ]
  },
  {
   "cell_type": "code",
   "execution_count": 62,
   "id": "24fcecf4-177a-4373-bb34-e7005807e9b9",
   "metadata": {},
   "outputs": [],
   "source": [
    "import pandas as pd\n",
    "import matplotlib.pyplot as plt\n",
    "from datetime import datetime\n",
    "import re\n",
    "import numpy as np\n",
    "import math"
   ]
  },
  {
   "cell_type": "code",
   "execution_count": 63,
   "id": "a0b2031d-0dcc-4c2c-8ebf-83c01bf9001f",
   "metadata": {},
   "outputs": [],
   "source": [
    "park_data_path = \"../Datafiles/\"\n",
    "\n",
    "generated_data_path = \"../Datagen/\""
   ]
  },
  {
   "cell_type": "code",
   "execution_count": 64,
   "id": "a236db5c-461b-4f4f-a23d-93db80c6daf8",
   "metadata": {},
   "outputs": [
    {
     "data": {
      "text/html": [
       "<div>\n",
       "<style scoped>\n",
       "    .dataframe tbody tr th:only-of-type {\n",
       "        vertical-align: middle;\n",
       "    }\n",
       "\n",
       "    .dataframe tbody tr th {\n",
       "        vertical-align: top;\n",
       "    }\n",
       "\n",
       "    .dataframe thead th {\n",
       "        text-align: right;\n",
       "    }\n",
       "</style>\n",
       "<table border=\"1\" class=\"dataframe\">\n",
       "  <thead>\n",
       "    <tr style=\"text-align: right;\">\n",
       "      <th></th>\n",
       "      <th>SRNumber</th>\n",
       "      <th>CreatedDate</th>\n",
       "      <th>UpdatedDate</th>\n",
       "      <th>ActionTaken</th>\n",
       "      <th>Owner</th>\n",
       "      <th>RequestType</th>\n",
       "      <th>Status</th>\n",
       "      <th>RequestSource</th>\n",
       "      <th>CreatedByUserOrganization</th>\n",
       "      <th>MobileOS</th>\n",
       "      <th>...</th>\n",
       "      <th>CD</th>\n",
       "      <th>CDMember</th>\n",
       "      <th>NC</th>\n",
       "      <th>NCName</th>\n",
       "      <th>PolicePrecinct</th>\n",
       "      <th>ClosedDate_DT</th>\n",
       "      <th>CreatedDate_DT</th>\n",
       "      <th>close_time</th>\n",
       "      <th>close_time_days</th>\n",
       "      <th>CreatedDate_YR</th>\n",
       "    </tr>\n",
       "  </thead>\n",
       "  <tbody>\n",
       "    <tr>\n",
       "      <th>0</th>\n",
       "      <td>1-1523590871</td>\n",
       "      <td>12/31/2019 11:26:00 PM</td>\n",
       "      <td>01/14/2020 07:52:00 AM</td>\n",
       "      <td>SR Created</td>\n",
       "      <td>BOS</td>\n",
       "      <td>Homeless Encampment</td>\n",
       "      <td>Closed</td>\n",
       "      <td>Mobile App</td>\n",
       "      <td>Self Service</td>\n",
       "      <td>iOS</td>\n",
       "      <td>...</td>\n",
       "      <td>3.0</td>\n",
       "      <td>Bob Blumenfield</td>\n",
       "      <td>13.0</td>\n",
       "      <td>CANOGA PARK NC</td>\n",
       "      <td>TOPANGA</td>\n",
       "      <td>2020-01-14 07:51:00</td>\n",
       "      <td>2019-12-31 11:26:00</td>\n",
       "      <td>13 days 20:25:00</td>\n",
       "      <td>13.0</td>\n",
       "      <td>2019</td>\n",
       "    </tr>\n",
       "  </tbody>\n",
       "</table>\n",
       "<p>1 rows × 39 columns</p>\n",
       "</div>"
      ],
      "text/plain": [
       "       SRNumber             CreatedDate             UpdatedDate ActionTaken  \\\n",
       "0  1-1523590871  12/31/2019 11:26:00 PM  01/14/2020 07:52:00 AM  SR Created   \n",
       "\n",
       "  Owner          RequestType  Status RequestSource CreatedByUserOrganization  \\\n",
       "0   BOS  Homeless Encampment  Closed    Mobile App              Self Service   \n",
       "\n",
       "  MobileOS  ...   CD         CDMember    NC          NCName PolicePrecinct  \\\n",
       "0      iOS  ...  3.0  Bob Blumenfield  13.0  CANOGA PARK NC        TOPANGA   \n",
       "\n",
       "         ClosedDate_DT       CreatedDate_DT        close_time close_time_days  \\\n",
       "0  2020-01-14 07:51:00  2019-12-31 11:26:00  13 days 20:25:00            13.0   \n",
       "\n",
       "  CreatedDate_YR  \n",
       "0           2019  \n",
       "\n",
       "[1 rows x 39 columns]"
      ]
     },
     "execution_count": 64,
     "metadata": {},
     "output_type": "execute_result"
    }
   ],
   "source": [
    "#this is generated at enf of 1_eda.ipynb\n",
    "# it has some features added for dates and close time in days\n",
    "#write to file with new features added for next notebook: visualization\n",
    "df = pd.read_csv(generated_data_path+'homeless_camp_closed_all_ftr_eng_1.csv', low_memory=False)\n",
    "df.head(1)"
   ]
  },
  {
   "cell_type": "code",
   "execution_count": 65,
   "id": "1e4a58f6-5b69-4d24-b2a2-ec0424ce1dc7",
   "metadata": {},
   "outputs": [],
   "source": [
    "df_parks = pd.read_csv(park_data_path  + \"Countywide_Parks_and_Open_Space_(Public_-_Hosted).csv\")"
   ]
  },
  {
   "cell_type": "code",
   "execution_count": 66,
   "id": "e0d49a47-8df8-4d41-826a-66c0c0fcf16f",
   "metadata": {},
   "outputs": [
    {
     "data": {
      "text/html": [
       "<div>\n",
       "<style scoped>\n",
       "    .dataframe tbody tr th:only-of-type {\n",
       "        vertical-align: middle;\n",
       "    }\n",
       "\n",
       "    .dataframe tbody tr th {\n",
       "        vertical-align: top;\n",
       "    }\n",
       "\n",
       "    .dataframe thead th {\n",
       "        text-align: right;\n",
       "    }\n",
       "</style>\n",
       "<table border=\"1\" class=\"dataframe\">\n",
       "  <thead>\n",
       "    <tr style=\"text-align: right;\">\n",
       "      <th></th>\n",
       "      <th>OBJECTID</th>\n",
       "      <th>UNIT_ID</th>\n",
       "      <th>LMS_ID</th>\n",
       "      <th>PARK_NAME</th>\n",
       "      <th>PARK_LBL</th>\n",
       "      <th>ACCESS_TYP</th>\n",
       "      <th>RPT_ACRES</th>\n",
       "      <th>GIS_ACRES</th>\n",
       "      <th>AGNCY_NAME</th>\n",
       "      <th>AGNCY_LEV</th>\n",
       "      <th>...</th>\n",
       "      <th>CENTER_LAT</th>\n",
       "      <th>CENTER_LON</th>\n",
       "      <th>ADDRESS</th>\n",
       "      <th>CITY</th>\n",
       "      <th>ZIP</th>\n",
       "      <th>HOURS</th>\n",
       "      <th>PHONES</th>\n",
       "      <th>IS_COUNTY</th>\n",
       "      <th>Shape__Area</th>\n",
       "      <th>Shape__Length</th>\n",
       "    </tr>\n",
       "  </thead>\n",
       "  <tbody>\n",
       "    <tr>\n",
       "      <th>0</th>\n",
       "      <td>1</td>\n",
       "      <td>30.0</td>\n",
       "      <td>23603.0</td>\n",
       "      <td>El Barrio Park</td>\n",
       "      <td>El Barrio Park</td>\n",
       "      <td>Open Access</td>\n",
       "      <td>2.093</td>\n",
       "      <td>2.092992</td>\n",
       "      <td>Claremont, City of</td>\n",
       "      <td>City</td>\n",
       "      <td>...</td>\n",
       "      <td>34.097081</td>\n",
       "      <td>-117.704423</td>\n",
       "      <td>400 Claremont Blvd</td>\n",
       "      <td>Claremont</td>\n",
       "      <td>91711.0</td>\n",
       "      <td>NaN</td>\n",
       "      <td>NaN</td>\n",
       "      <td>No</td>\n",
       "      <td>91170.362305</td>\n",
       "      <td>1451.547906</td>\n",
       "    </tr>\n",
       "  </tbody>\n",
       "</table>\n",
       "<p>1 rows × 52 columns</p>\n",
       "</div>"
      ],
      "text/plain": [
       "   OBJECTID  UNIT_ID   LMS_ID       PARK_NAME        PARK_LBL   ACCESS_TYP  \\\n",
       "0         1     30.0  23603.0  El Barrio Park  El Barrio Park  Open Access   \n",
       "\n",
       "   RPT_ACRES  GIS_ACRES          AGNCY_NAME AGNCY_LEV  ... CENTER_LAT  \\\n",
       "0      2.093   2.092992  Claremont, City of      City  ...  34.097081   \n",
       "\n",
       "   CENTER_LON             ADDRESS       CITY      ZIP HOURS PHONES IS_COUNTY  \\\n",
       "0 -117.704423  400 Claremont Blvd  Claremont  91711.0   NaN    NaN        No   \n",
       "\n",
       "    Shape__Area Shape__Length  \n",
       "0  91170.362305   1451.547906  \n",
       "\n",
       "[1 rows x 52 columns]"
      ]
     },
     "execution_count": 66,
     "metadata": {},
     "output_type": "execute_result"
    }
   ],
   "source": [
    "df_parks.head(1)"
   ]
  },
  {
   "cell_type": "code",
   "execution_count": 67,
   "id": "f2e7c1fe-9338-425e-b194-634da6f22e63",
   "metadata": {},
   "outputs": [],
   "source": [
    "# calculate distance between lat and long park and homeless camp\n",
    "# main idea captured from Bing search engine results \n",
    "\n",
    "def calculate_distance (lat1, lon1, lat2, lon2):\n",
    "    # Convert latitude and longitude from degrees to radians\n",
    "    lat1 = math.radians(lat1)\n",
    "    lon1 = math.radians(lon1)\n",
    "    lat2 = math.radians(lat2)\n",
    "    lon2 = math.radians(lon2)\n",
    "\n",
    "    # Haversine formula\n",
    "    dlon = lon2 - lon1\n",
    "    dlat = lat2 - lat1\n",
    "    a = math.sin(dlat / 2)**2 + math.cos(lat1) * math.cos(lat2) * math.sin(dlon / 2)**2\n",
    "    c = 2 * math.atan2(math.sqrt(a), math.sqrt(1 - a))\n",
    "    r = 6371  # Radius of Earth in kilometers. Use 3956 for miles.\n",
    "\n",
    "    # Calculate the distance\n",
    "    distance = r * c\n",
    "\n",
    "    return distance\n",
    "\n"
   ]
  },
  {
   "cell_type": "code",
   "execution_count": 68,
   "id": "03b2599b-0ade-47a0-80bc-78c7976ddadf",
   "metadata": {},
   "outputs": [
    {
     "name": "stdout",
     "output_type": "stream",
     "text": [
      "The distance between the points is 367.61 kilometers.\n"
     ]
    }
   ],
   "source": [
    "\n",
    "# Example usage\n",
    "lat1, lon1 = 34.0522, -118.2437  # Los Angeles, CA\n",
    "lat2, lon2 = 36.1699, -115.1398  # Las Vegas, NV\n",
    "\n",
    "distance = calculate_distance(lat1, lon1, lat2, lon2)\n",
    "print(f\"The distance between the points is {distance:.2f} kilometers.\")\n"
   ]
  },
  {
   "cell_type": "code",
   "execution_count": 69,
   "id": "18150bf4-3d70-4aa8-a22a-bebd20a9c05f",
   "metadata": {},
   "outputs": [
    {
     "data": {
      "text/plain": [
       "(3012, 52)"
      ]
     },
     "execution_count": 69,
     "metadata": {},
     "output_type": "execute_result"
    }
   ],
   "source": [
    "df_parks.shape"
   ]
  },
  {
   "cell_type": "code",
   "execution_count": 70,
   "id": "8c706c4b-bcd6-4f9a-880d-471082206fc5",
   "metadata": {},
   "outputs": [
    {
     "data": {
      "text/plain": [
       "Index(['OBJECTID', 'UNIT_ID', 'LMS_ID', 'PARK_NAME', 'PARK_LBL', 'ACCESS_TYP',\n",
       "       'RPT_ACRES', 'GIS_ACRES', 'AGNCY_NAME', 'AGNCY_LEV', 'AGNCY_TYP',\n",
       "       'AGNCY_WEB', 'MNG_AGENCY', 'COGP_TYP', 'NDS_AN_TYP', 'NEEDS_ANLZ',\n",
       "       'TKIT_SUM', 'AMEN_RPT', 'PRKINF_CND', 'AM_OPNSP', 'AM_TRLS', 'TRLS_MI',\n",
       "       'TENIS', 'BSKTB', 'BASEB', 'SOCCR', 'MPFLD', 'FITZN', 'SK8PK', 'PCNIC',\n",
       "       'PLGND', 'POOLS', 'SPPAD', 'DGPRK', 'GYM', 'COMCT', 'SNRCT', 'RSTRM',\n",
       "       'TOTAL_GOOD', 'TOTAL_FAIR', 'TOTAL_POOR', 'TYPE', 'CENTER_LAT',\n",
       "       'CENTER_LON', 'ADDRESS', 'CITY', 'ZIP', 'HOURS', 'PHONES', 'IS_COUNTY',\n",
       "       'Shape__Area', 'Shape__Length'],\n",
       "      dtype='object')"
      ]
     },
     "execution_count": 70,
     "metadata": {},
     "output_type": "execute_result"
    }
   ],
   "source": [
    "df_parks.columns"
   ]
  },
  {
   "cell_type": "code",
   "execution_count": 71,
   "id": "30c46aa3-cd02-47f3-99ad-2decbe4142c7",
   "metadata": {},
   "outputs": [
    {
     "data": {
      "text/plain": [
       "Index(['SRNumber', 'CreatedDate', 'UpdatedDate', 'ActionTaken', 'Owner',\n",
       "       'RequestType', 'Status', 'RequestSource', 'CreatedByUserOrganization',\n",
       "       'MobileOS', 'Anonymous', 'AssignTo', 'ServiceDate', 'ClosedDate',\n",
       "       'AddressVerified', 'ApproximateAddress', 'Address', 'HouseNumber',\n",
       "       'Direction', 'StreetName', 'Suffix', 'ZipCode', 'Latitude', 'Longitude',\n",
       "       'Location', 'TBMPage', 'TBMColumn', 'TBMRow', 'APC', 'CD', 'CDMember',\n",
       "       'NC', 'NCName', 'PolicePrecinct', 'ClosedDate_DT', 'CreatedDate_DT',\n",
       "       'close_time', 'close_time_days', 'CreatedDate_YR'],\n",
       "      dtype='object')"
      ]
     },
     "execution_count": 71,
     "metadata": {},
     "output_type": "execute_result"
    }
   ],
   "source": [
    "df.columns"
   ]
  },
  {
   "cell_type": "code",
   "execution_count": 72,
   "id": "976abe29-6426-4242-8ca8-f4f5002acb16",
   "metadata": {},
   "outputs": [
    {
     "data": {
      "text/plain": [
       "array(['91303.0', '91307.0', '91367.0', '91364.0', '90004.0', '90007.0',\n",
       "       '91345.0', '91356.0', '90068.0', '91602.0', '91352.0', '90043.0',\n",
       "       '90064.0', '91405.0', '90029.0', '90014.0', '90230.0', '90048.0',\n",
       "       '91403.0', '90025.0', '91604.0', '90047.0', '90033.0', '91316.0',\n",
       "       '91342.0', '90291.0', '91344.0', '91605.0', '91335.0', '90744.0',\n",
       "       '90057.0', '90015.0', '91505.0', '90016.0', '90028.0', '90063.0',\n",
       "       '91411.0', nan, '90036.0', '90038.0', '91402.0', '91331.0',\n",
       "       '90019.0', '90003.0', '90011.0', '90039.0', '90008.0', '90018.0',\n",
       "       '90034.0', '91606.0', '90010.0', '90020.0', '90005.0', '90046.0',\n",
       "       '90032.0', '91601.0', '90710.0', '90021.0', '91040.0', '91607.0',\n",
       "       '90023.0', '90026.0', '91306.0', '91406.0', '90037.0', '90066.0',\n",
       "       '90012.0', '91423.0', '90041.0', '90002.0', '90027.0', '90006.0',\n",
       "       '90059.0', '91343.0', '90044.0', '90062.0', '90058.0', '90035.0',\n",
       "       '90013.0', '90731.0', '92605.0', '91401.0', '90094.0', '90061.0',\n",
       "       '90031.0', '91311.0', '90024.0', '90017.0', '90001.0', '90248.0',\n",
       "       '91304.0', '90045.0', '90042.0', '90292.0', '90065.0', '91436.0',\n",
       "       '91042.0', '90405.0', '90049.0', '90073.0', '91324.0', '91340.0',\n",
       "       '90247.0', '90069.0', '90293.0', '90232.0', '91325.0', '91326.0',\n",
       "       '90404.0', '90077.0', '90302.0', '91504.0', '91204.0', '90732.0',\n",
       "       '91608.0', '90272.0', '90071.0', '0.0', '90501.0', '91201.0',\n",
       "       '90056.0', '90210.0', '90502.0', '90067.0', '91105.0', '90810.0',\n",
       "       '90504.0', '90211.0', '91330.0', '90402.0', '90245.0', '90089.0',\n",
       "       '91214.0', '90717.0', '91352', '90230', '90038', '91344', '90066',\n",
       "       '90011', '91343', '90048', '91311', '90045', '90059', '90065',\n",
       "       '90032', '90028', '91602', '90036', '90003', '90034', '91331',\n",
       "       '90026', '91306', '90025', '90010', '91367', '90001', '91356',\n",
       "       '90031', '90044', '91423', '90016', '90017', '91401', '90047',\n",
       "       '90064', '90029', '91402', '91324', '91606', '91335', '91406',\n",
       "       '90027', '90037', '90020', '91405', '91601', '90068', '91604',\n",
       "       '90710', '90004', '90039', '90005', '90006', '91605', '90021',\n",
       "       '90007', '91342', '91040', '91042', '90057', '90015', '91304',\n",
       "       '91411', '90061', '90291', '90049', '91340', '90043', '90012',\n",
       "       '90019', '90046', '91345', '90248', '90042', '90744', '91403',\n",
       "       '90018', '90041', '91364', '91326', '90232', '91303', '90292',\n",
       "       '90062', '91607', '91325', '90014', '90033', '90069', '90058',\n",
       "       '90247', '90731', '91307', '90035', '90732', '90008', '90013',\n",
       "       '90002', '90024', '90094', '91436', '91316', '90023', '91330',\n",
       "       '90293', '90501', '90063', '90071', '90502', '90405', '90245',\n",
       "       '90272', '91505', '90067', '90077', '0', '90211', '90304', '91803',\n",
       "       '90717', '91504', '90810', 'VE', '90402', 'VE, 0', '90404',\n",
       "       '90089', '90210', '91214', '91302', '90073', '90305'], dtype=object)"
      ]
     },
     "execution_count": 72,
     "metadata": {},
     "output_type": "execute_result"
    }
   ],
   "source": [
    "df.ZipCode.unique()"
   ]
  },
  {
   "cell_type": "code",
   "execution_count": 73,
   "id": "ee3742bb-4340-4e0a-8ebd-03bc86e257f8",
   "metadata": {},
   "outputs": [
    {
     "data": {
      "text/plain": [
       "array([91711., 93535., 90022., 91307., 90230., 90265., 90068., 90032.,\n",
       "       90011., 90065., 90012., 90039., 91750., 91316., 91401., 90026.,\n",
       "       90033., 91042., 91352., 91741., 90255., 91203., 90703., 91604.,\n",
       "       90241., 90016., 91311., 91767., 90042., 91770., 91755., 91506.,\n",
       "       93536., 91702., 91205., 91748., 90242., 91344., 91803., 90640.,\n",
       "       90040., 90210., 91201., 90605., 90631., 91768., 90036., 91040.,\n",
       "       90005., 91405., 90047., 91754., 91706., 90027., 91301., 93551.,\n",
       "       91436., 91722., 90028., 90038., 90024., 90007., 91789., 90405.,\n",
       "       91331., 91321., 91746., 90064., 90232., 93543., 93534., 91406.,\n",
       "       90201., 91303., 90650., 91342., 91724., 91723., 90211., 91744.,\n",
       "       91302., 90057., 91304., 91384., 90670., 91390., 91732., 90041.,\n",
       "       93544., 90272., 91340.,    nan, 90008., 90029., 90018., 91326.,\n",
       "       90031., 91387., 91364., 91773., 90019., 91745., 91740., 90262.,\n",
       "       91766., 93591., 90712., 90066., 90062., 90270., 91504., 90606.,\n",
       "       91107., 91501., 90715., 90713., 91607., 90044., 91792., 91030.,\n",
       "       91011., 90404., 91207., 91204., 91343., 91208., 90006., 90723.,\n",
       "       90275., 90274., 90731., 90732., 91601., 91324., 90744., 90505.,\n",
       "       90277., 90503., 90501., 90504., 90278., 90247., 90249., 90717.,\n",
       "       90254., 90266., 90293., 90245., 90260., 90250., 90304., 90710.,\n",
       "       90248., 90061., 90003., 90002., 90059., 90222., 90746., 90745.,\n",
       "       90810., 90220., 90221., 91381., 90301., 90305., 90045., 90303.,\n",
       "       90302., 90094., 90292., 90291., 90402., 90049., 90077., 91423.,\n",
       "       91356., 90290., 90601., 90602., 90603., 90604., 91733., 90660.,\n",
       "       90807., 90808., 90802., 90815., 90803., 90813., 90805., 90804.,\n",
       "       90814., 90806., 90755., 91361., 93552., 91103., 91105., 91104.,\n",
       "       91106., 91001., 91101., 91775., 90638., 90704., 91214., 90046.,\n",
       "       90069., 91505., 91016., 91206., 91024., 91010., 91780., 91108.,\n",
       "       91801., 91776., 91007., 91006., 91765., 91791., 91362., 91202.,\n",
       "       93243., 91355., 91354., 91350., 91790., 90403., 91402., 90021.,\n",
       "       93553., 90013., 90023., 93510., 91335., 90034., 91345., 90004.,\n",
       "       90035., 90001., 90212., 91306., 90020., 90706., 90280., 90015.,\n",
       "       90037., 90025., 91605., 93550., 91606., 90043., 90071., 91367.,\n",
       "       91602., 90063., 91731., 91325., 91411., 90240., 90701., 90716.,\n",
       "       91126., 91502., 90401., 91403., 91008., 91351., 90623., 90073.,\n",
       "       90010., 90017., 90048., 91020., 93563., 91759., 90056.])"
      ]
     },
     "execution_count": 73,
     "metadata": {},
     "output_type": "execute_result"
    }
   ],
   "source": [
    "df_parks.ZIP.unique()"
   ]
  },
  {
   "cell_type": "code",
   "execution_count": 74,
   "id": "0838e6f5-5c21-4c1c-8525-d76818c9cebf",
   "metadata": {},
   "outputs": [
    {
     "data": {
      "text/html": [
       "<div>\n",
       "<style scoped>\n",
       "    .dataframe tbody tr th:only-of-type {\n",
       "        vertical-align: middle;\n",
       "    }\n",
       "\n",
       "    .dataframe tbody tr th {\n",
       "        vertical-align: top;\n",
       "    }\n",
       "\n",
       "    .dataframe thead th {\n",
       "        text-align: right;\n",
       "    }\n",
       "</style>\n",
       "<table border=\"1\" class=\"dataframe\">\n",
       "  <thead>\n",
       "    <tr style=\"text-align: right;\">\n",
       "      <th></th>\n",
       "      <th>OBJECTID</th>\n",
       "      <th>UNIT_ID</th>\n",
       "      <th>LMS_ID</th>\n",
       "      <th>PARK_NAME</th>\n",
       "      <th>PARK_LBL</th>\n",
       "      <th>ACCESS_TYP</th>\n",
       "      <th>RPT_ACRES</th>\n",
       "      <th>GIS_ACRES</th>\n",
       "      <th>AGNCY_NAME</th>\n",
       "      <th>AGNCY_LEV</th>\n",
       "      <th>...</th>\n",
       "      <th>CENTER_LAT</th>\n",
       "      <th>CENTER_LON</th>\n",
       "      <th>ADDRESS</th>\n",
       "      <th>CITY</th>\n",
       "      <th>ZIP</th>\n",
       "      <th>HOURS</th>\n",
       "      <th>PHONES</th>\n",
       "      <th>IS_COUNTY</th>\n",
       "      <th>Shape__Area</th>\n",
       "      <th>Shape__Length</th>\n",
       "    </tr>\n",
       "  </thead>\n",
       "  <tbody>\n",
       "    <tr>\n",
       "      <th>881</th>\n",
       "      <td>882</td>\n",
       "      <td>6758.0</td>\n",
       "      <td>23302.0</td>\n",
       "      <td>Creek Park</td>\n",
       "      <td>Creek Park</td>\n",
       "      <td>Open Access</td>\n",
       "      <td>15.948</td>\n",
       "      <td>15.949055</td>\n",
       "      <td>La Mirada, City of</td>\n",
       "      <td>City</td>\n",
       "      <td>...</td>\n",
       "      <td>33.920901</td>\n",
       "      <td>-117.998104</td>\n",
       "      <td>15101-</td>\n",
       "      <td>La Mirada</td>\n",
       "      <td>90638.0</td>\n",
       "      <td>NaN</td>\n",
       "      <td>NaN</td>\n",
       "      <td>No</td>\n",
       "      <td>6.947381e+05</td>\n",
       "      <td>6411.736832</td>\n",
       "    </tr>\n",
       "    <tr>\n",
       "      <th>882</th>\n",
       "      <td>883</td>\n",
       "      <td>6759.0</td>\n",
       "      <td>NaN</td>\n",
       "      <td>Frontier Park (City of La Mirada)</td>\n",
       "      <td>Frontier Park</td>\n",
       "      <td>Open Access</td>\n",
       "      <td>4.167</td>\n",
       "      <td>4.167478</td>\n",
       "      <td>La Mirada, City of</td>\n",
       "      <td>City</td>\n",
       "      <td>...</td>\n",
       "      <td>33.910834</td>\n",
       "      <td>-118.037415</td>\n",
       "      <td>13212 Marquardt Ave</td>\n",
       "      <td>La Mirada</td>\n",
       "      <td>90638.0</td>\n",
       "      <td>NaN</td>\n",
       "      <td>NaN</td>\n",
       "      <td>No</td>\n",
       "      <td>1.815346e+05</td>\n",
       "      <td>1972.680031</td>\n",
       "    </tr>\n",
       "    <tr>\n",
       "      <th>883</th>\n",
       "      <td>884</td>\n",
       "      <td>6760.0</td>\n",
       "      <td>23500.0</td>\n",
       "      <td>Neff Park</td>\n",
       "      <td>Neff Park</td>\n",
       "      <td>Open Access</td>\n",
       "      <td>9.263</td>\n",
       "      <td>9.263671</td>\n",
       "      <td>La Mirada, City of</td>\n",
       "      <td>City</td>\n",
       "      <td>...</td>\n",
       "      <td>33.898147</td>\n",
       "      <td>-118.025861</td>\n",
       "      <td>14300 San Cristobal Dr</td>\n",
       "      <td>La Mirada</td>\n",
       "      <td>90638.0</td>\n",
       "      <td>NaN</td>\n",
       "      <td>NaN</td>\n",
       "      <td>No</td>\n",
       "      <td>4.035239e+05</td>\n",
       "      <td>2565.194944</td>\n",
       "    </tr>\n",
       "    <tr>\n",
       "      <th>886</th>\n",
       "      <td>887</td>\n",
       "      <td>6765.0</td>\n",
       "      <td>23286.0</td>\n",
       "      <td>Windermere Park</td>\n",
       "      <td>Windermere Park</td>\n",
       "      <td>Open Access</td>\n",
       "      <td>3.516</td>\n",
       "      <td>3.515921</td>\n",
       "      <td>La Mirada, City of</td>\n",
       "      <td>City</td>\n",
       "      <td>...</td>\n",
       "      <td>33.891153</td>\n",
       "      <td>-118.006551</td>\n",
       "      <td>15261 Cheshire St</td>\n",
       "      <td>La Mirada</td>\n",
       "      <td>90638.0</td>\n",
       "      <td>NaN</td>\n",
       "      <td>NaN</td>\n",
       "      <td>No</td>\n",
       "      <td>1.531529e+05</td>\n",
       "      <td>2138.232883</td>\n",
       "    </tr>\n",
       "    <tr>\n",
       "      <th>889</th>\n",
       "      <td>890</td>\n",
       "      <td>6769.0</td>\n",
       "      <td>23291.0</td>\n",
       "      <td>Behringer Park</td>\n",
       "      <td>Behringer Park</td>\n",
       "      <td>Restricted Access</td>\n",
       "      <td>26.694</td>\n",
       "      <td>26.695708</td>\n",
       "      <td>La Mirada, City of</td>\n",
       "      <td>City</td>\n",
       "      <td>...</td>\n",
       "      <td>33.902452</td>\n",
       "      <td>-117.987304</td>\n",
       "      <td>15900 Alicante Rd</td>\n",
       "      <td>La Mirada</td>\n",
       "      <td>90638.0</td>\n",
       "      <td>NaN</td>\n",
       "      <td>NaN</td>\n",
       "      <td>No</td>\n",
       "      <td>1.162860e+06</td>\n",
       "      <td>6658.234183</td>\n",
       "    </tr>\n",
       "  </tbody>\n",
       "</table>\n",
       "<p>5 rows × 52 columns</p>\n",
       "</div>"
      ],
      "text/plain": [
       "     OBJECTID  UNIT_ID   LMS_ID                          PARK_NAME  \\\n",
       "881       882   6758.0  23302.0                         Creek Park   \n",
       "882       883   6759.0      NaN  Frontier Park (City of La Mirada)   \n",
       "883       884   6760.0  23500.0                          Neff Park   \n",
       "886       887   6765.0  23286.0                    Windermere Park   \n",
       "889       890   6769.0  23291.0                     Behringer Park   \n",
       "\n",
       "            PARK_LBL         ACCESS_TYP  RPT_ACRES  GIS_ACRES  \\\n",
       "881       Creek Park        Open Access     15.948  15.949055   \n",
       "882    Frontier Park        Open Access      4.167   4.167478   \n",
       "883        Neff Park        Open Access      9.263   9.263671   \n",
       "886  Windermere Park        Open Access      3.516   3.515921   \n",
       "889   Behringer Park  Restricted Access     26.694  26.695708   \n",
       "\n",
       "             AGNCY_NAME AGNCY_LEV  ... CENTER_LAT  CENTER_LON  \\\n",
       "881  La Mirada, City of      City  ...  33.920901 -117.998104   \n",
       "882  La Mirada, City of      City  ...  33.910834 -118.037415   \n",
       "883  La Mirada, City of      City  ...  33.898147 -118.025861   \n",
       "886  La Mirada, City of      City  ...  33.891153 -118.006551   \n",
       "889  La Mirada, City of      City  ...  33.902452 -117.987304   \n",
       "\n",
       "                    ADDRESS       CITY      ZIP HOURS PHONES IS_COUNTY  \\\n",
       "881                  15101-  La Mirada  90638.0   NaN    NaN        No   \n",
       "882     13212 Marquardt Ave  La Mirada  90638.0   NaN    NaN        No   \n",
       "883  14300 San Cristobal Dr  La Mirada  90638.0   NaN    NaN        No   \n",
       "886       15261 Cheshire St  La Mirada  90638.0   NaN    NaN        No   \n",
       "889       15900 Alicante Rd  La Mirada  90638.0   NaN    NaN        No   \n",
       "\n",
       "      Shape__Area Shape__Length  \n",
       "881  6.947381e+05   6411.736832  \n",
       "882  1.815346e+05   1972.680031  \n",
       "883  4.035239e+05   2565.194944  \n",
       "886  1.531529e+05   2138.232883  \n",
       "889  1.162860e+06   6658.234183  \n",
       "\n",
       "[5 rows x 52 columns]"
      ]
     },
     "execution_count": 74,
     "metadata": {},
     "output_type": "execute_result"
    }
   ],
   "source": [
    "df_parks[df_parks.ZIP==90638].head(5)"
   ]
  },
  {
   "cell_type": "code",
   "execution_count": 75,
   "id": "f95d0651-191a-41fd-abe0-bd2401b5dbd8",
   "metadata": {},
   "outputs": [
    {
     "data": {
      "text/html": [
       "<div>\n",
       "<style scoped>\n",
       "    .dataframe tbody tr th:only-of-type {\n",
       "        vertical-align: middle;\n",
       "    }\n",
       "\n",
       "    .dataframe tbody tr th {\n",
       "        vertical-align: top;\n",
       "    }\n",
       "\n",
       "    .dataframe thead th {\n",
       "        text-align: right;\n",
       "    }\n",
       "</style>\n",
       "<table border=\"1\" class=\"dataframe\">\n",
       "  <thead>\n",
       "    <tr style=\"text-align: right;\">\n",
       "      <th></th>\n",
       "      <th>SRNumber</th>\n",
       "      <th>CreatedDate</th>\n",
       "      <th>UpdatedDate</th>\n",
       "      <th>ActionTaken</th>\n",
       "      <th>Owner</th>\n",
       "      <th>RequestType</th>\n",
       "      <th>Status</th>\n",
       "      <th>RequestSource</th>\n",
       "      <th>CreatedByUserOrganization</th>\n",
       "      <th>MobileOS</th>\n",
       "      <th>...</th>\n",
       "      <th>CD</th>\n",
       "      <th>CDMember</th>\n",
       "      <th>NC</th>\n",
       "      <th>NCName</th>\n",
       "      <th>PolicePrecinct</th>\n",
       "      <th>ClosedDate_DT</th>\n",
       "      <th>CreatedDate_DT</th>\n",
       "      <th>close_time</th>\n",
       "      <th>close_time_days</th>\n",
       "      <th>CreatedDate_YR</th>\n",
       "    </tr>\n",
       "  </thead>\n",
       "  <tbody>\n",
       "    <tr>\n",
       "      <th>88</th>\n",
       "      <td>1-1523242081</td>\n",
       "      <td>12/31/2019 12:10:00 PM</td>\n",
       "      <td>01/04/2020 08:27:00 AM</td>\n",
       "      <td>SR Created</td>\n",
       "      <td>BOS</td>\n",
       "      <td>Homeless Encampment</td>\n",
       "      <td>Closed</td>\n",
       "      <td>Call</td>\n",
       "      <td>ITA</td>\n",
       "      <td>NaN</td>\n",
       "      <td>...</td>\n",
       "      <td>4.0</td>\n",
       "      <td>David Ryu</td>\n",
       "      <td>119.0</td>\n",
       "      <td>GREATER WILSHIRE NC</td>\n",
       "      <td>WILSHIRE</td>\n",
       "      <td>2020-01-04 08:24:00</td>\n",
       "      <td>2019-12-31 12:10:00</td>\n",
       "      <td>3 days 20:14:00</td>\n",
       "      <td>3.0</td>\n",
       "      <td>2019</td>\n",
       "    </tr>\n",
       "  </tbody>\n",
       "</table>\n",
       "<p>1 rows × 39 columns</p>\n",
       "</div>"
      ],
      "text/plain": [
       "        SRNumber             CreatedDate             UpdatedDate ActionTaken  \\\n",
       "88  1-1523242081  12/31/2019 12:10:00 PM  01/04/2020 08:27:00 AM  SR Created   \n",
       "\n",
       "   Owner          RequestType  Status RequestSource CreatedByUserOrganization  \\\n",
       "88   BOS  Homeless Encampment  Closed          Call                       ITA   \n",
       "\n",
       "   MobileOS  ...   CD   CDMember     NC               NCName PolicePrecinct  \\\n",
       "88      NaN  ...  4.0  David Ryu  119.0  GREATER WILSHIRE NC       WILSHIRE   \n",
       "\n",
       "          ClosedDate_DT       CreatedDate_DT       close_time close_time_days  \\\n",
       "88  2020-01-04 08:24:00  2019-12-31 12:10:00  3 days 20:14:00             3.0   \n",
       "\n",
       "   CreatedDate_YR  \n",
       "88           2019  \n",
       "\n",
       "[1 rows x 39 columns]"
      ]
     },
     "execution_count": 75,
     "metadata": {},
     "output_type": "execute_result"
    }
   ],
   "source": [
    "df[df.ZipCode.isin(['90019.0'])].head(1)"
   ]
  },
  {
   "cell_type": "code",
   "execution_count": 76,
   "id": "705a0305-0b6e-4808-b3ba-3894507e0d6e",
   "metadata": {},
   "outputs": [],
   "source": [
    "df['ZipCodeFmt'] = df['ZipCode'].apply(lambda x: str(x)[:5] )"
   ]
  },
  {
   "cell_type": "code",
   "execution_count": 77,
   "id": "524f369e-27a4-41aa-aecb-ecba857e02ea",
   "metadata": {},
   "outputs": [
    {
     "data": {
      "text/html": [
       "<div>\n",
       "<style scoped>\n",
       "    .dataframe tbody tr th:only-of-type {\n",
       "        vertical-align: middle;\n",
       "    }\n",
       "\n",
       "    .dataframe tbody tr th {\n",
       "        vertical-align: top;\n",
       "    }\n",
       "\n",
       "    .dataframe thead th {\n",
       "        text-align: right;\n",
       "    }\n",
       "</style>\n",
       "<table border=\"1\" class=\"dataframe\">\n",
       "  <thead>\n",
       "    <tr style=\"text-align: right;\">\n",
       "      <th></th>\n",
       "      <th>SRNumber</th>\n",
       "      <th>CreatedDate</th>\n",
       "      <th>UpdatedDate</th>\n",
       "      <th>ActionTaken</th>\n",
       "      <th>Owner</th>\n",
       "      <th>RequestType</th>\n",
       "      <th>Status</th>\n",
       "      <th>RequestSource</th>\n",
       "      <th>CreatedByUserOrganization</th>\n",
       "      <th>MobileOS</th>\n",
       "      <th>...</th>\n",
       "      <th>CDMember</th>\n",
       "      <th>NC</th>\n",
       "      <th>NCName</th>\n",
       "      <th>PolicePrecinct</th>\n",
       "      <th>ClosedDate_DT</th>\n",
       "      <th>CreatedDate_DT</th>\n",
       "      <th>close_time</th>\n",
       "      <th>close_time_days</th>\n",
       "      <th>CreatedDate_YR</th>\n",
       "      <th>ZipCodeFmt</th>\n",
       "    </tr>\n",
       "  </thead>\n",
       "  <tbody>\n",
       "    <tr>\n",
       "      <th>204638</th>\n",
       "      <td>1-2778903201</td>\n",
       "      <td>10/31/2022 10:12:01 AM</td>\n",
       "      <td>01/24/2023 02:45:34 PM</td>\n",
       "      <td>SR Created</td>\n",
       "      <td>LASAN</td>\n",
       "      <td>Homeless Encampment</td>\n",
       "      <td>Closed</td>\n",
       "      <td>Mobile App</td>\n",
       "      <td>Self Service</td>\n",
       "      <td>Android</td>\n",
       "      <td>...</td>\n",
       "      <td>Curren D. Price Jr.</td>\n",
       "      <td>87.0</td>\n",
       "      <td>Empowerment Congress Southeast</td>\n",
       "      <td>SOUTHEAST</td>\n",
       "      <td>2023-01-24 02:44:22</td>\n",
       "      <td>2022-10-31 10:12:01</td>\n",
       "      <td>84 days 16:32:21</td>\n",
       "      <td>84.0</td>\n",
       "      <td>2022</td>\n",
       "      <td>VE</td>\n",
       "    </tr>\n",
       "  </tbody>\n",
       "</table>\n",
       "<p>1 rows × 40 columns</p>\n",
       "</div>"
      ],
      "text/plain": [
       "            SRNumber             CreatedDate             UpdatedDate  \\\n",
       "204638  1-2778903201  10/31/2022 10:12:01 AM  01/24/2023 02:45:34 PM   \n",
       "\n",
       "       ActionTaken  Owner          RequestType  Status RequestSource  \\\n",
       "204638  SR Created  LASAN  Homeless Encampment  Closed    Mobile App   \n",
       "\n",
       "       CreatedByUserOrganization MobileOS  ...             CDMember    NC  \\\n",
       "204638              Self Service  Android  ...  Curren D. Price Jr.  87.0   \n",
       "\n",
       "                                NCName PolicePrecinct        ClosedDate_DT  \\\n",
       "204638  Empowerment Congress Southeast      SOUTHEAST  2023-01-24 02:44:22   \n",
       "\n",
       "             CreatedDate_DT        close_time  close_time_days CreatedDate_YR  \\\n",
       "204638  2022-10-31 10:12:01  84 days 16:32:21             84.0           2022   \n",
       "\n",
       "       ZipCodeFmt  \n",
       "204638         VE  \n",
       "\n",
       "[1 rows x 40 columns]"
      ]
     },
     "execution_count": 77,
     "metadata": {},
     "output_type": "execute_result"
    }
   ],
   "source": [
    "df[df['ZipCodeFmt']=='VE'].head()"
   ]
  },
  {
   "cell_type": "code",
   "execution_count": 78,
   "id": "6b64ebcb-7865-49dd-a55b-786f274d1e8a",
   "metadata": {},
   "outputs": [],
   "source": [
    "df_parks['ZipCodeFmt'] = df_parks['ZIP'].apply(lambda x: str(x)[:5] )"
   ]
  },
  {
   "cell_type": "code",
   "execution_count": 79,
   "id": "5dd4ae11-1212-43a5-869f-8eb0f598c0be",
   "metadata": {},
   "outputs": [
    {
     "data": {
      "text/plain": [
       "ZipCodeFmt\n",
       "90265    120\n",
       "90290     83\n",
       "91302     63\n",
       "91301     54\n",
       "91702     38\n",
       "        ... \n",
       "90071      1\n",
       "90048      1\n",
       "90010      1\n",
       "91759      1\n",
       "90056      1\n",
       "Name: count, Length: 279, dtype: int64"
      ]
     },
     "execution_count": 79,
     "metadata": {},
     "output_type": "execute_result"
    }
   ],
   "source": [
    "df_parks['ZipCodeFmt'].value_counts()"
   ]
  },
  {
   "cell_type": "code",
   "execution_count": 80,
   "id": "2d5685eb-0a71-42c6-9cf3-1cd515d6ecf7",
   "metadata": {},
   "outputs": [],
   "source": [
    "df_merge = pd.merge(df, df_parks, how = \"left\",  on=\"ZipCodeFmt\") "
   ]
  },
  {
   "cell_type": "code",
   "execution_count": 81,
   "id": "2700a8af-8549-4487-b2dc-4f6472d3abc4",
   "metadata": {},
   "outputs": [
    {
     "data": {
      "text/html": [
       "<div>\n",
       "<style scoped>\n",
       "    .dataframe tbody tr th:only-of-type {\n",
       "        vertical-align: middle;\n",
       "    }\n",
       "\n",
       "    .dataframe tbody tr th {\n",
       "        vertical-align: top;\n",
       "    }\n",
       "\n",
       "    .dataframe thead th {\n",
       "        text-align: right;\n",
       "    }\n",
       "</style>\n",
       "<table border=\"1\" class=\"dataframe\">\n",
       "  <thead>\n",
       "    <tr style=\"text-align: right;\">\n",
       "      <th></th>\n",
       "      <th>SRNumber</th>\n",
       "      <th>CreatedDate</th>\n",
       "      <th>UpdatedDate</th>\n",
       "      <th>ActionTaken</th>\n",
       "      <th>Owner</th>\n",
       "      <th>RequestType</th>\n",
       "      <th>Status</th>\n",
       "      <th>RequestSource</th>\n",
       "      <th>CreatedByUserOrganization</th>\n",
       "      <th>MobileOS</th>\n",
       "      <th>...</th>\n",
       "      <th>CENTER_LAT</th>\n",
       "      <th>CENTER_LON</th>\n",
       "      <th>ADDRESS</th>\n",
       "      <th>CITY</th>\n",
       "      <th>ZIP</th>\n",
       "      <th>HOURS</th>\n",
       "      <th>PHONES</th>\n",
       "      <th>IS_COUNTY</th>\n",
       "      <th>Shape__Area</th>\n",
       "      <th>Shape__Length</th>\n",
       "    </tr>\n",
       "  </thead>\n",
       "  <tbody>\n",
       "    <tr>\n",
       "      <th>0</th>\n",
       "      <td>1-1523590871</td>\n",
       "      <td>12/31/2019 11:26:00 PM</td>\n",
       "      <td>01/14/2020 07:52:00 AM</td>\n",
       "      <td>SR Created</td>\n",
       "      <td>BOS</td>\n",
       "      <td>Homeless Encampment</td>\n",
       "      <td>Closed</td>\n",
       "      <td>Mobile App</td>\n",
       "      <td>Self Service</td>\n",
       "      <td>iOS</td>\n",
       "      <td>...</td>\n",
       "      <td>34.19838</td>\n",
       "      <td>-118.587826</td>\n",
       "      <td>7008  De Soto Ave</td>\n",
       "      <td>Canoga Park</td>\n",
       "      <td>91303.0</td>\n",
       "      <td>NaN</td>\n",
       "      <td>(818) 883-6641</td>\n",
       "      <td>No</td>\n",
       "      <td>185566.538086</td>\n",
       "      <td>1858.825878</td>\n",
       "    </tr>\n",
       "  </tbody>\n",
       "</table>\n",
       "<p>1 rows × 92 columns</p>\n",
       "</div>"
      ],
      "text/plain": [
       "       SRNumber             CreatedDate             UpdatedDate ActionTaken  \\\n",
       "0  1-1523590871  12/31/2019 11:26:00 PM  01/14/2020 07:52:00 AM  SR Created   \n",
       "\n",
       "  Owner          RequestType  Status RequestSource CreatedByUserOrganization  \\\n",
       "0   BOS  Homeless Encampment  Closed    Mobile App              Self Service   \n",
       "\n",
       "  MobileOS  ... CENTER_LAT  CENTER_LON            ADDRESS         CITY  \\\n",
       "0      iOS  ...   34.19838 -118.587826  7008  De Soto Ave  Canoga Park   \n",
       "\n",
       "       ZIP HOURS          PHONES  IS_COUNTY    Shape__Area Shape__Length  \n",
       "0  91303.0   NaN  (818) 883-6641         No  185566.538086   1858.825878  \n",
       "\n",
       "[1 rows x 92 columns]"
      ]
     },
     "execution_count": 81,
     "metadata": {},
     "output_type": "execute_result"
    }
   ],
   "source": [
    "df_merge.head(1)"
   ]
  },
  {
   "cell_type": "code",
   "execution_count": 82,
   "id": "1f0b6c6d-57df-4b3e-b751-3ede46d9b0f2",
   "metadata": {},
   "outputs": [
    {
     "data": {
      "text/plain": [
       "0    91303\n",
       "1    91303\n",
       "Name: ZipCodeFmt, dtype: object"
      ]
     },
     "execution_count": 82,
     "metadata": {},
     "output_type": "execute_result"
    }
   ],
   "source": [
    "df_merge [ df_merge[\"SRNumber\"]=='1-1523590871' ]['ZipCodeFmt'].head()"
   ]
  },
  {
   "cell_type": "code",
   "execution_count": 58,
   "id": "d0a8f12b-3a3e-415e-abb8-26202617be50",
   "metadata": {},
   "outputs": [
    {
     "data": {
      "text/plain": [
       "Index(['SRNumber', 'CreatedDate', 'UpdatedDate', 'ActionTaken', 'Owner',\n",
       "       'RequestType', 'Status', 'RequestSource', 'CreatedByUserOrganization',\n",
       "       'MobileOS', 'Anonymous', 'AssignTo', 'ServiceDate', 'ClosedDate',\n",
       "       'AddressVerified', 'ApproximateAddress', 'Address', 'HouseNumber',\n",
       "       'Direction', 'StreetName', 'Suffix', 'ZipCode', 'Latitude', 'Longitude',\n",
       "       'Location', 'TBMPage', 'TBMColumn', 'TBMRow', 'APC', 'CD', 'CDMember',\n",
       "       'NC', 'NCName', 'PolicePrecinct', 'ClosedDate_DT', 'CreatedDate_DT',\n",
       "       'close_time', 'close_time_days', 'CreatedDate_YR', 'ZipCodeFmt',\n",
       "       'OBJECTID', 'UNIT_ID', 'LMS_ID', 'PARK_NAME', 'PARK_LBL', 'ACCESS_TYP',\n",
       "       'RPT_ACRES', 'GIS_ACRES', 'AGNCY_NAME', 'AGNCY_LEV', 'AGNCY_TYP',\n",
       "       'AGNCY_WEB', 'MNG_AGENCY', 'COGP_TYP', 'NDS_AN_TYP', 'NEEDS_ANLZ',\n",
       "       'TKIT_SUM', 'AMEN_RPT', 'PRKINF_CND', 'AM_OPNSP', 'AM_TRLS', 'TRLS_MI',\n",
       "       'TENIS', 'BSKTB', 'BASEB', 'SOCCR', 'MPFLD', 'FITZN', 'SK8PK', 'PCNIC',\n",
       "       'PLGND', 'POOLS', 'SPPAD', 'DGPRK', 'GYM', 'COMCT', 'SNRCT', 'RSTRM',\n",
       "       'TOTAL_GOOD', 'TOTAL_FAIR', 'TOTAL_POOR', 'TYPE', 'CENTER_LAT',\n",
       "       'CENTER_LON', 'ADDRESS', 'CITY', 'ZIP', 'HOURS', 'PHONES', 'IS_COUNTY',\n",
       "       'Shape__Area', 'Shape__Length'],\n",
       "      dtype='object')"
      ]
     },
     "execution_count": 58,
     "metadata": {},
     "output_type": "execute_result"
    }
   ],
   "source": [
    "df_merge.columns"
   ]
  },
  {
   "cell_type": "code",
   "execution_count": 87,
   "id": "d3cbe261-3a87-4c4c-a84f-c7d0fb1ed9ae",
   "metadata": {},
   "outputs": [],
   "source": [
    "# latitude, longitude to CENTER_LAT, CENTER_LON\n",
    "# calculate distance to each park in same zip code\n",
    "# crashed on full data set, so narrow down to year\n",
    "\n",
    "df_merge_yr = df_merge[ df_merge[\"CreatedDate_YR\"]==2023 ].copy()\n",
    "\n",
    "\n"
   ]
  },
  {
   "cell_type": "code",
   "execution_count": 88,
   "id": "e5864105-9892-40c8-a028-ec5d107ed545",
   "metadata": {},
   "outputs": [
    {
     "data": {
      "text/plain": [
       "43316544"
      ]
     },
     "execution_count": 88,
     "metadata": {},
     "output_type": "execute_result"
    }
   ],
   "source": [
    "df_merge_yr.size"
   ]
  },
  {
   "cell_type": "code",
   "execution_count": 90,
   "id": "26f16419-c82b-492f-a679-6c9cbc937b8f",
   "metadata": {},
   "outputs": [
    {
     "name": "stderr",
     "output_type": "stream",
     "text": [
      "C:\\Users\\amand\\AppData\\Local\\Temp\\ipykernel_122608\\1364224071.py:1: SettingWithCopyWarning: \n",
      "A value is trying to be set on a copy of a slice from a DataFrame.\n",
      "Try using .loc[row_indexer,col_indexer] = value instead\n",
      "\n",
      "See the caveats in the documentation: https://pandas.pydata.org/pandas-docs/stable/user_guide/indexing.html#returning-a-view-versus-a-copy\n",
      "  df_merge_yr[\"park_distance\"] = df_merge_yr.apply(lambda row: calculate_distance ( row[\"Latitude\"], row[\"Longitude\"], row[\"CENTER_LAT\"], row[\"CENTER_LON\"] ), axis=1 )\n"
     ]
    }
   ],
   "source": [
    "df_merge_yr[\"park_distance\"] = df_merge_yr.apply(lambda row: calculate_distance ( row[\"Latitude\"], row[\"Longitude\"], row[\"CENTER_LAT\"], row[\"CENTER_LON\"] ), axis=1 )\n"
   ]
  },
  {
   "cell_type": "code",
   "execution_count": 93,
   "id": "5ecc6b54-52f6-4c18-910e-37e4932028f2",
   "metadata": {},
   "outputs": [
    {
     "data": {
      "text/plain": [
       "np.float64(100.11088974523992)"
      ]
     },
     "execution_count": 93,
     "metadata": {},
     "output_type": "execute_result"
    }
   ],
   "source": [
    "df_merge_yr.park_distance.max()"
   ]
  },
  {
   "cell_type": "code",
   "execution_count": 94,
   "id": "46170941-8605-4ee1-8b00-4ac3051ab0df",
   "metadata": {},
   "outputs": [
    {
     "data": {
      "text/html": [
       "<div>\n",
       "<style scoped>\n",
       "    .dataframe tbody tr th:only-of-type {\n",
       "        vertical-align: middle;\n",
       "    }\n",
       "\n",
       "    .dataframe tbody tr th {\n",
       "        vertical-align: top;\n",
       "    }\n",
       "\n",
       "    .dataframe thead th {\n",
       "        text-align: right;\n",
       "    }\n",
       "</style>\n",
       "<table border=\"1\" class=\"dataframe\">\n",
       "  <thead>\n",
       "    <tr style=\"text-align: right;\">\n",
       "      <th></th>\n",
       "      <th>SRNumber</th>\n",
       "      <th>CreatedDate</th>\n",
       "      <th>UpdatedDate</th>\n",
       "      <th>ActionTaken</th>\n",
       "      <th>Owner</th>\n",
       "      <th>RequestType</th>\n",
       "      <th>Status</th>\n",
       "      <th>RequestSource</th>\n",
       "      <th>CreatedByUserOrganization</th>\n",
       "      <th>MobileOS</th>\n",
       "      <th>...</th>\n",
       "      <th>CENTER_LON</th>\n",
       "      <th>ADDRESS</th>\n",
       "      <th>CITY</th>\n",
       "      <th>ZIP</th>\n",
       "      <th>HOURS</th>\n",
       "      <th>PHONES</th>\n",
       "      <th>IS_COUNTY</th>\n",
       "      <th>Shape__Area</th>\n",
       "      <th>Shape__Length</th>\n",
       "      <th>park_distance</th>\n",
       "    </tr>\n",
       "  </thead>\n",
       "  <tbody>\n",
       "    <tr>\n",
       "      <th>1722413</th>\n",
       "      <td>1-3513861371</td>\n",
       "      <td>02/09/2023 10:27:10 AM</td>\n",
       "      <td>10/31/2023 12:20:09 PM</td>\n",
       "      <td>SR Created</td>\n",
       "      <td>LASAN</td>\n",
       "      <td>Homeless Encampment</td>\n",
       "      <td>Closed</td>\n",
       "      <td>Mobile App</td>\n",
       "      <td>Self Service</td>\n",
       "      <td>Android</td>\n",
       "      <td>...</td>\n",
       "      <td>-118.325638</td>\n",
       "      <td>Avalon Ave</td>\n",
       "      <td>NaN</td>\n",
       "      <td>NaN</td>\n",
       "      <td>NaN</td>\n",
       "      <td>NaN</td>\n",
       "      <td>No</td>\n",
       "      <td>49300.750977</td>\n",
       "      <td>3045.071778</td>\n",
       "      <td>100.11089</td>\n",
       "    </tr>\n",
       "  </tbody>\n",
       "</table>\n",
       "<p>1 rows × 93 columns</p>\n",
       "</div>"
      ],
      "text/plain": [
       "             SRNumber             CreatedDate             UpdatedDate  \\\n",
       "1722413  1-3513861371  02/09/2023 10:27:10 AM  10/31/2023 12:20:09 PM   \n",
       "\n",
       "        ActionTaken  Owner          RequestType  Status RequestSource  \\\n",
       "1722413  SR Created  LASAN  Homeless Encampment  Closed    Mobile App   \n",
       "\n",
       "        CreatedByUserOrganization MobileOS  ...  CENTER_LON     ADDRESS CITY  \\\n",
       "1722413              Self Service  Android  ... -118.325638  Avalon Ave  NaN   \n",
       "\n",
       "        ZIP HOURS PHONES IS_COUNTY   Shape__Area Shape__Length park_distance  \n",
       "1722413 NaN   NaN    NaN        No  49300.750977   3045.071778     100.11089  \n",
       "\n",
       "[1 rows x 93 columns]"
      ]
     },
     "execution_count": 94,
     "metadata": {},
     "output_type": "execute_result"
    }
   ],
   "source": [
    "df_merge_yr[ df_merge_yr[\"park_distance\"] == 100.11088974523992 ]\n"
   ]
  },
  {
   "cell_type": "code",
   "execution_count": 96,
   "id": "92bf299e-b695-4897-b4c6-ca56e3b6e7df",
   "metadata": {},
   "outputs": [
    {
     "data": {
      "text/html": [
       "<div>\n",
       "<style scoped>\n",
       "    .dataframe tbody tr th:only-of-type {\n",
       "        vertical-align: middle;\n",
       "    }\n",
       "\n",
       "    .dataframe tbody tr th {\n",
       "        vertical-align: top;\n",
       "    }\n",
       "\n",
       "    .dataframe thead th {\n",
       "        text-align: right;\n",
       "    }\n",
       "</style>\n",
       "<table border=\"1\" class=\"dataframe\">\n",
       "  <thead>\n",
       "    <tr style=\"text-align: right;\">\n",
       "      <th></th>\n",
       "      <th>SRNumber</th>\n",
       "      <th>CreatedDate</th>\n",
       "      <th>UpdatedDate</th>\n",
       "      <th>ActionTaken</th>\n",
       "      <th>Owner</th>\n",
       "      <th>RequestType</th>\n",
       "      <th>Status</th>\n",
       "      <th>RequestSource</th>\n",
       "      <th>CreatedByUserOrganization</th>\n",
       "      <th>MobileOS</th>\n",
       "      <th>...</th>\n",
       "      <th>CENTER_LON</th>\n",
       "      <th>ADDRESS</th>\n",
       "      <th>CITY</th>\n",
       "      <th>ZIP</th>\n",
       "      <th>HOURS</th>\n",
       "      <th>PHONES</th>\n",
       "      <th>IS_COUNTY</th>\n",
       "      <th>Shape__Area</th>\n",
       "      <th>Shape__Length</th>\n",
       "      <th>park_distance</th>\n",
       "    </tr>\n",
       "  </thead>\n",
       "  <tbody>\n",
       "    <tr>\n",
       "      <th>1978662</th>\n",
       "      <td>1-4449339521</td>\n",
       "      <td>08/30/2023 11:06:32 AM</td>\n",
       "      <td>09/09/2023 08:56:01 AM</td>\n",
       "      <td>SR Created</td>\n",
       "      <td>LASAN</td>\n",
       "      <td>Homeless Encampment</td>\n",
       "      <td>Closed</td>\n",
       "      <td>Self Service</td>\n",
       "      <td>Self Service</td>\n",
       "      <td>NaN</td>\n",
       "      <td>...</td>\n",
       "      <td>-118.229515</td>\n",
       "      <td>Los Angeles</td>\n",
       "      <td>Los Angeles</td>\n",
       "      <td>90031.0</td>\n",
       "      <td>NaN</td>\n",
       "      <td>NaN</td>\n",
       "      <td>No</td>\n",
       "      <td>9163.552734</td>\n",
       "      <td>580.48664</td>\n",
       "      <td>0.004306</td>\n",
       "    </tr>\n",
       "  </tbody>\n",
       "</table>\n",
       "<p>1 rows × 93 columns</p>\n",
       "</div>"
      ],
      "text/plain": [
       "             SRNumber             CreatedDate             UpdatedDate  \\\n",
       "1978662  1-4449339521  08/30/2023 11:06:32 AM  09/09/2023 08:56:01 AM   \n",
       "\n",
       "        ActionTaken  Owner          RequestType  Status RequestSource  \\\n",
       "1978662  SR Created  LASAN  Homeless Encampment  Closed  Self Service   \n",
       "\n",
       "        CreatedByUserOrganization MobileOS  ...  CENTER_LON      ADDRESS  \\\n",
       "1978662              Self Service      NaN  ... -118.229515  Los Angeles   \n",
       "\n",
       "                CITY      ZIP HOURS PHONES IS_COUNTY  Shape__Area  \\\n",
       "1978662  Los Angeles  90031.0   NaN    NaN        No  9163.552734   \n",
       "\n",
       "        Shape__Length park_distance  \n",
       "1978662     580.48664      0.004306  \n",
       "\n",
       "[1 rows x 93 columns]"
      ]
     },
     "execution_count": 96,
     "metadata": {},
     "output_type": "execute_result"
    }
   ],
   "source": [
    "df_merge_yr[ df_merge_yr[\"park_distance\"] == df_merge_yr.park_distance.min() ]\n"
   ]
  },
  {
   "cell_type": "code",
   "execution_count": null,
   "id": "85f1716f-0b83-4d80-b279-9ca5ebe78387",
   "metadata": {},
   "outputs": [],
   "source": []
  }
 ],
 "metadata": {
  "kernelspec": {
   "display_name": "Python 3 (ipykernel)",
   "language": "python",
   "name": "python3"
  },
  "language_info": {
   "codemirror_mode": {
    "name": "ipython",
    "version": 3
   },
   "file_extension": ".py",
   "mimetype": "text/x-python",
   "name": "python",
   "nbconvert_exporter": "python",
   "pygments_lexer": "ipython3",
   "version": "3.9.21"
  }
 },
 "nbformat": 4,
 "nbformat_minor": 5
}
